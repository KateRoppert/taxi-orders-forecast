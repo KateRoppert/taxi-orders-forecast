{
 "cells": [
  {
   "cell_type": "markdown",
   "metadata": {
    "toc": true
   },
   "source": [
    "<h1>Содержание<span class=\"tocSkip\"></span></h1>\n",
    "<div class=\"toc\"><ul class=\"toc-item\"><li><span><a href=\"#Подготовка\" data-toc-modified-id=\"Подготовка-1\"><span class=\"toc-item-num\">1&nbsp;&nbsp;</span>Подготовка</a></span></li><li><span><a href=\"#Анализ\" data-toc-modified-id=\"Анализ-2\"><span class=\"toc-item-num\">2&nbsp;&nbsp;</span>Анализ</a></span></li><li><span><a href=\"#Обучение\" data-toc-modified-id=\"Обучение-3\"><span class=\"toc-item-num\">3&nbsp;&nbsp;</span>Обучение</a></span><ul class=\"toc-item\"><li><span><a href=\"#Линейная-регрессия\" data-toc-modified-id=\"Линейная-регрессия-3.1\"><span class=\"toc-item-num\">3.1&nbsp;&nbsp;</span>Линейная регрессия</a></span></li><li><span><a href=\"#CatBoost\" data-toc-modified-id=\"CatBoost-3.2\"><span class=\"toc-item-num\">3.2&nbsp;&nbsp;</span>CatBoost</a></span></li><li><span><a href=\"#Нейросеть\" data-toc-modified-id=\"Нейросеть-3.3\"><span class=\"toc-item-num\">3.3&nbsp;&nbsp;</span>Нейросеть</a></span></li></ul></li><li><span><a href=\"#Тестирование\" data-toc-modified-id=\"Тестирование-4\"><span class=\"toc-item-num\">4&nbsp;&nbsp;</span>Тестирование</a></span></li><li><span><a href=\"#Общий-вывод\" data-toc-modified-id=\"Общий-вывод-5\"><span class=\"toc-item-num\">5&nbsp;&nbsp;</span>Общий вывод</a></span></li><li><span><a href=\"#Чек-лист-проверки\" data-toc-modified-id=\"Чек-лист-проверки-6\"><span class=\"toc-item-num\">6&nbsp;&nbsp;</span>Чек-лист проверки</a></span></li></ul></div>"
   ]
  },
  {
   "cell_type": "markdown",
   "metadata": {},
   "source": [
    "#  Прогнозирование заказов такси"
   ]
  },
  {
   "cell_type": "markdown",
   "metadata": {},
   "source": [
    "Компания «Чётенькое такси» собрала исторические данные о заказах такси в аэропортах. Чтобы привлекать больше водителей в период пиковой нагрузки, нужно спрогнозировать количество заказов такси на следующий час. \n",
    "\n",
    "**Задача:** Построить модель для предсказания количества заказов на следующий час.\n",
    "\n",
    "**Метрика:** Значение метрики *RMSE* на тестовой выборке должно быть не больше 48.\n",
    "\n",
    "**Шаги выполнения**:\n",
    "\n",
    "1. Загрузить данные и выполнить их ресемплирование по одному часу.\n",
    "2. Проанализировать данные.\n",
    "3. Обучить разные модели с различными гиперпараметрами. Сделать тестовую выборку размером 10% от исходных данных.\n",
    "4. Проверить данные на тестовой выборке и сделать выводы.\n",
    "\n",
    "\n",
    "Данные лежат в файле `taxi.csv`. Количество заказов находится в столбце `num_orders` (от англ. *number of orders*, «число заказов»)."
   ]
  },
  {
   "cell_type": "markdown",
   "metadata": {},
   "source": [
    "## Подготовка"
   ]
  },
  {
   "cell_type": "code",
   "execution_count": 1,
   "metadata": {},
   "outputs": [
    {
     "name": "stdout",
     "output_type": "stream",
     "text": [
      "Collecting skorch\n",
      "  Downloading skorch-0.12.1-py3-none-any.whl (193 kB)\n",
      "\u001b[K     |████████████████████████████████| 193 kB 1.3 MB/s eta 0:00:01\n",
      "\u001b[?25hRequirement already satisfied: tqdm>=4.14.0 in /opt/conda/lib/python3.9/site-packages (from skorch) (4.61.2)\n",
      "Requirement already satisfied: numpy>=1.13.3 in /opt/conda/lib/python3.9/site-packages (from skorch) (1.21.1)\n",
      "Collecting tabulate>=0.7.7\n",
      "  Downloading tabulate-0.9.0-py3-none-any.whl (35 kB)\n",
      "Requirement already satisfied: scikit-learn>=0.22.0 in /opt/conda/lib/python3.9/site-packages (from skorch) (0.24.1)\n",
      "Requirement already satisfied: scipy>=1.1.0 in /opt/conda/lib/python3.9/site-packages (from skorch) (1.9.1)\n",
      "Requirement already satisfied: threadpoolctl>=2.0.0 in /opt/conda/lib/python3.9/site-packages (from scikit-learn>=0.22.0->skorch) (3.1.0)\n",
      "Requirement already satisfied: joblib>=0.11 in /opt/conda/lib/python3.9/site-packages (from scikit-learn>=0.22.0->skorch) (1.1.0)\n",
      "Installing collected packages: tabulate, skorch\n",
      "Successfully installed skorch-0.12.1 tabulate-0.9.0\n"
     ]
    }
   ],
   "source": [
    "!pip install skorch "
   ]
  },
  {
   "cell_type": "code",
   "execution_count": 2,
   "metadata": {},
   "outputs": [],
   "source": [
    "import pandas as pd \n",
    "import numpy as np\n",
    "import torch \n",
    "import torch.nn as nn \n",
    "from torch.utils.data import Dataset, DataLoader\n",
    "from statsmodels.tsa.seasonal import seasonal_decompose\n",
    "import matplotlib.pyplot as plt \n",
    "from sklearn.model_selection import train_test_split, GridSearchCV, cross_val_score, RandomizedSearchCV, TimeSeriesSplit \n",
    "from sklearn.linear_model import LinearRegression\n",
    "from sklearn.metrics import mean_squared_error\n",
    "from sklearn.compose import ColumnTransformer\n",
    "from sklearn.preprocessing import StandardScaler\n",
    "from catboost import CatBoostRegressor\n",
    "from skorch.callbacks import EpochScoring, EarlyStopping\n",
    "from skorch import NeuralNetRegressor\n",
    "from skorch.dataset import ValidSplit\n",
    "pd.options.display.float_format = '{:20,.2f}'.format "
   ]
  },
  {
   "cell_type": "code",
   "execution_count": 3,
   "metadata": {},
   "outputs": [],
   "source": [
    "data = pd.read_csv('/datasets/taxi.csv', index_col=[0], parse_dates=[0]) "
   ]
  },
  {
   "cell_type": "code",
   "execution_count": 4,
   "metadata": {},
   "outputs": [
    {
     "data": {
      "text/html": [
       "<div>\n",
       "<style scoped>\n",
       "    .dataframe tbody tr th:only-of-type {\n",
       "        vertical-align: middle;\n",
       "    }\n",
       "\n",
       "    .dataframe tbody tr th {\n",
       "        vertical-align: top;\n",
       "    }\n",
       "\n",
       "    .dataframe thead th {\n",
       "        text-align: right;\n",
       "    }\n",
       "</style>\n",
       "<table border=\"1\" class=\"dataframe\">\n",
       "  <thead>\n",
       "    <tr style=\"text-align: right;\">\n",
       "      <th></th>\n",
       "      <th>num_orders</th>\n",
       "    </tr>\n",
       "    <tr>\n",
       "      <th>datetime</th>\n",
       "      <th></th>\n",
       "    </tr>\n",
       "  </thead>\n",
       "  <tbody>\n",
       "    <tr>\n",
       "      <th>2018-03-01 00:00:00</th>\n",
       "      <td>9</td>\n",
       "    </tr>\n",
       "    <tr>\n",
       "      <th>2018-03-01 00:10:00</th>\n",
       "      <td>14</td>\n",
       "    </tr>\n",
       "    <tr>\n",
       "      <th>2018-03-01 00:20:00</th>\n",
       "      <td>28</td>\n",
       "    </tr>\n",
       "    <tr>\n",
       "      <th>2018-03-01 00:30:00</th>\n",
       "      <td>20</td>\n",
       "    </tr>\n",
       "    <tr>\n",
       "      <th>2018-03-01 00:40:00</th>\n",
       "      <td>32</td>\n",
       "    </tr>\n",
       "  </tbody>\n",
       "</table>\n",
       "</div>"
      ],
      "text/plain": [
       "                     num_orders\n",
       "datetime                       \n",
       "2018-03-01 00:00:00           9\n",
       "2018-03-01 00:10:00          14\n",
       "2018-03-01 00:20:00          28\n",
       "2018-03-01 00:30:00          20\n",
       "2018-03-01 00:40:00          32"
      ]
     },
     "execution_count": 4,
     "metadata": {},
     "output_type": "execute_result"
    }
   ],
   "source": [
    "data.head()"
   ]
  },
  {
   "cell_type": "code",
   "execution_count": 5,
   "metadata": {},
   "outputs": [],
   "source": [
    "data = data.sort_index() "
   ]
  },
  {
   "cell_type": "code",
   "execution_count": 6,
   "metadata": {},
   "outputs": [
    {
     "data": {
      "text/plain": [
       "True"
      ]
     },
     "execution_count": 6,
     "metadata": {},
     "output_type": "execute_result"
    }
   ],
   "source": [
    "# проверяем хронлогический порядок\n",
    "data.index.is_monotonic "
   ]
  },
  {
   "cell_type": "code",
   "execution_count": 7,
   "metadata": {},
   "outputs": [
    {
     "name": "stdout",
     "output_type": "stream",
     "text": [
      "<class 'pandas.core.frame.DataFrame'>\n",
      "DatetimeIndex: 26496 entries, 2018-03-01 00:00:00 to 2018-08-31 23:50:00\n",
      "Data columns (total 1 columns):\n",
      " #   Column      Non-Null Count  Dtype\n",
      "---  ------      --------------  -----\n",
      " 0   num_orders  26496 non-null  int64\n",
      "dtypes: int64(1)\n",
      "memory usage: 414.0 KB\n"
     ]
    }
   ],
   "source": [
    "data.info()"
   ]
  },
  {
   "cell_type": "code",
   "execution_count": 8,
   "metadata": {},
   "outputs": [],
   "source": [
    "# сделаем ресемплирование к одному часу\n",
    "data = data.resample('1H').sum() "
   ]
  },
  {
   "cell_type": "code",
   "execution_count": 9,
   "metadata": {},
   "outputs": [
    {
     "data": {
      "text/plain": [
       "<AxesSubplot:xlabel='datetime'>"
      ]
     },
     "execution_count": 9,
     "metadata": {},
     "output_type": "execute_result"
    },
    {
     "data": {
      "image/png": "[encoded data removed]",
      "text/plain": [
       "<Figure size 432x288 with 1 Axes>"
      ]
     },
     "metadata": {
      "needs_background": "light"
     },
     "output_type": "display_data"
    }
   ],
   "source": [
    "data.plot()"
   ]
  },
  {
   "cell_type": "markdown",
   "metadata": {},
   "source": [
    "По временному ряду сразу очевиден тренд на увеличение количества заказов со временем."
   ]
  },
  {
   "cell_type": "markdown",
   "metadata": {},
   "source": [
    "## Анализ"
   ]
  },
  {
   "cell_type": "markdown",
   "metadata": {},
   "source": [
    "Чтобы выявить закономерности временного ряда, разложим его на тренды и сезонность."
   ]
  },
  {
   "cell_type": "code",
   "execution_count": 10,
   "metadata": {},
   "outputs": [],
   "source": [
    "# раскладываем ряд на тренды и сезонность\n",
    "decomposed = seasonal_decompose(data) "
   ]
  },
  {
   "cell_type": "code",
   "execution_count": 11,
   "metadata": {},
   "outputs": [
    {
     "data": {
      "image/png": "[encoded data removed]",
      "text/plain": [
       "<Figure size 432x576 with 3 Axes>"
      ]
     },
     "metadata": {
      "needs_background": "light"
     },
     "output_type": "display_data"
    }
   ],
   "source": [
    "plt.figure(figsize=(6, 8))\n",
    "plt.subplot(311)\n",
    "\n",
    "decomposed.trend.plot(ax=plt.gca())\n",
    "plt.title('Trend')\n",
    "plt.subplot(312)\n",
    "\n",
    "decomposed.seasonal.plot(ax=plt.gca())\n",
    "plt.title('Seasonality')\n",
    "plt.subplot(313)\n",
    "\n",
    "decomposed.resid.plot(ax=plt.gca())\n",
    "plt.title('Residuals')\n",
    "plt.tight_layout()"
   ]
  },
  {
   "cell_type": "markdown",
   "metadata": {},
   "source": [
    "В принципе ничего нового не появилось - всё тот же тренд увеличения."
   ]
  },
  {
   "cell_type": "markdown",
   "metadata": {},
   "source": [
    "Посмотрим сезонность на более коротком промежутке времени в один день."
   ]
  },
  {
   "cell_type": "code",
   "execution_count": 12,
   "metadata": {},
   "outputs": [
    {
     "data": {
      "text/plain": [
       "<AxesSubplot:xlabel='datetime'>"
      ]
     },
     "execution_count": 12,
     "metadata": {},
     "output_type": "execute_result"
    },
    {
     "data": {
      "image/png": "[encoded data removed]",
      "text/plain": [
       "<Figure size 432x288 with 1 Axes>"
      ]
     },
     "metadata": {
      "needs_background": "light"
     },
     "output_type": "display_data"
    }
   ],
   "source": [
    "# график сезонной составляющей за один день\n",
    "decomposed.seasonal['2018-03-01'].plot()"
   ]
  },
  {
   "cell_type": "markdown",
   "metadata": {},
   "source": [
    "Для дополнительного анализа используем сглаживание ряда скользящим средним."
   ]
  },
  {
   "cell_type": "code",
   "execution_count": 13,
   "metadata": {},
   "outputs": [],
   "source": [
    "def plotMovingAverage(series, n):\n",
    "\n",
    "    rolling_mean = series.rolling(window=n).mean()\n",
    "\n",
    "    plt.figure(figsize=(15,5))\n",
    "\n",
    "    plt.plot(data[n:], label=\"Actual values\")\n",
    "    \n",
    "    plt.title(\"Moving average\\n window size = {}\".format(n))\n",
    "    plt.plot(rolling_mean, \"r\", label=\"Rolling mean trend\")\n",
    "    \n",
    "    plt.legend(loc=\"upper left\")\n",
    "    plt.grid(True)"
   ]
  },
  {
   "cell_type": "code",
   "execution_count": 14,
   "metadata": {},
   "outputs": [
    {
     "data": {
      "image/png": "[encoded data removed]",
      "text/plain": [
       "<Figure size 1080x360 with 1 Axes>"
      ]
     },
     "metadata": {
      "needs_background": "light"
     },
     "output_type": "display_data"
    },
    {
     "data": {
      "image/png": "[encoded data removed]",
      "text/plain": [
       "<Figure size 1080x360 with 1 Axes>"
      ]
     },
     "metadata": {
      "needs_background": "light"
     },
     "output_type": "display_data"
    }
   ],
   "source": [
    "plotMovingAverage(data, 24*7) # сглаживаем по дням\n",
    "plotMovingAverage(data, 24*28) # сглаживаем по месяцам"
   ]
  },
  {
   "cell_type": "markdown",
   "metadata": {},
   "source": [
    "По полученному графику можно заметить, что в начале месяца иногда наблюдается спад."
   ]
  },
  {
   "cell_type": "markdown",
   "metadata": {},
   "source": [
    "## Обучение"
   ]
  },
  {
   "cell_type": "code",
   "execution_count": 16,
   "metadata": {},
   "outputs": [],
   "source": [
    "# функция для генерации новых признаков: месяц, день, день недели, скользящее среднее, отстающие значения\n",
    "def make_features(data, max_lag, rolling_mean_size):\n",
    "    \n",
    "    df = data.copy()\n",
    "    df['month'] = df.index.month\n",
    "    df['day'] = df.index.day\n",
    "    df['dayofweek'] = df.index.dayofweek\n",
    "    \n",
    "    for lag in range(1, max_lag + 1):\n",
    "        df['lag_{}'.format(lag)] = df['num_orders'].shift(lag)\n",
    "    \n",
    "    df['rolling_mean'] = df['num_orders'].shift().rolling(rolling_mean_size).mean()\n",
    "    \n",
    "    return df "
   ]
  },
  {
   "cell_type": "code",
   "execution_count": 17,
   "metadata": {},
   "outputs": [
    {
     "name": "stdout",
     "output_type": "stream",
     "text": [
      "2018-03-02 00:00:00 2018-08-13 13:00:00\n",
      "2018-08-13 14:00:00 2018-08-31 23:00:00\n",
      "(3950, 29)\n",
      "(442, 29)\n"
     ]
    }
   ],
   "source": [
    "# # разбиваем данные на тестовую и обучающую выборки\n",
    "data = make_features(data, 24, 10)\n",
    "\n",
    "train, test = train_test_split(data, shuffle=False, test_size=0.1)\n",
    "train = train.dropna()\n",
    "\n",
    "print(train.index.min(), train.index.max())\n",
    "print(test.index.min(), test.index.max())\n",
    "\n",
    "print(train.shape)\n",
    "print(test.shape)\n",
    "\n",
    "train_features = train.drop('num_orders', axis=1)\n",
    "train_target = train['num_orders']\n",
    "\n",
    "test_features = test.drop('num_orders', axis=1)\n",
    "test_target = test['num_orders']"
   ]
  },
  {
   "cell_type": "code",
   "execution_count": 18,
   "metadata": {},
   "outputs": [],
   "source": [
    "# применим масштабирование, чтобы потом использовать с нейросетью\n",
    "scaler = StandardScaler()\n",
    "train_features_scaled = scaler.fit_transform(train_features)\n",
    "test_features_scaled = scaler.transform(test_features)"
   ]
  },
  {
   "cell_type": "markdown",
   "metadata": {},
   "source": [
    "### Линейная регрессия"
   ]
  },
  {
   "cell_type": "code",
   "execution_count": 19,
   "metadata": {},
   "outputs": [],
   "source": [
    "# настройка кросс-валидатора\n",
    "tss = TimeSeriesSplit(n_splits=5)"
   ]
  },
  {
   "cell_type": "code",
   "execution_count": 20,
   "metadata": {},
   "outputs": [
    {
     "data": {
      "text/plain": [
       "'-27.02027797882152526654'"
      ]
     },
     "execution_count": 20,
     "metadata": {},
     "output_type": "execute_result"
    }
   ],
   "source": [
    "# получаем метрику на обучающей выборке\n",
    "lr = LinearRegression()\n",
    "'{:.20f}'.format(cross_val_score(lr, train_features, train_target, scoring='neg_root_mean_squared_error', cv=tss).mean())"
   ]
  },
  {
   "cell_type": "markdown",
   "metadata": {},
   "source": [
    "### CatBoost"
   ]
  },
  {
   "cell_type": "code",
   "execution_count": 21,
   "metadata": {},
   "outputs": [],
   "source": [
    "# базовая модель catboost\n",
    "catb = CatBoostRegressor(random_state=42,  \n",
    "                         iterations=100,\n",
    "                         early_stopping_rounds=10,\n",
    "                         learning_rate=0.1)"
   ]
  },
  {
   "cell_type": "code",
   "execution_count": 22,
   "metadata": {},
   "outputs": [
    {
     "name": "stdout",
     "output_type": "stream",
     "text": [
      "0:\tlearn: 28.3422530\ttotal: 51.5ms\tremaining: 5.1s\n",
      "3:\tlearn: 25.2944473\ttotal: 60.5ms\tremaining: 1.45s\n",
      "6:\tlearn: 22.8852162\ttotal: 69.4ms\tremaining: 922ms\n",
      "9:\tlearn: 21.1328490\ttotal: 77.9ms\tremaining: 701ms\n",
      "12:\tlearn: 19.8093399\ttotal: 86.5ms\tremaining: 579ms\n",
      "15:\tlearn: 18.8192028\ttotal: 95.2ms\tremaining: 500ms\n",
      "18:\tlearn: 18.0467777\ttotal: 104ms\tremaining: 443ms\n",
      "21:\tlearn: 17.4272608\ttotal: 112ms\tremaining: 399ms\n",
      "24:\tlearn: 16.7875958\ttotal: 121ms\tremaining: 363ms\n",
      "27:\tlearn: 16.2317358\ttotal: 130ms\tremaining: 334ms\n",
      "30:\tlearn: 15.8120386\ttotal: 139ms\tremaining: 309ms\n",
      "33:\tlearn: 15.3516546\ttotal: 148ms\tremaining: 287ms\n",
      "36:\tlearn: 14.9991957\ttotal: 156ms\tremaining: 266ms\n",
      "39:\tlearn: 14.7537856\ttotal: 164ms\tremaining: 247ms\n",
      "42:\tlearn: 14.5589072\ttotal: 173ms\tremaining: 229ms\n",
      "45:\tlearn: 14.3127322\ttotal: 181ms\tremaining: 213ms\n",
      "48:\tlearn: 14.0608203\ttotal: 190ms\tremaining: 198ms\n",
      "51:\tlearn: 13.8001578\ttotal: 199ms\tremaining: 183ms\n",
      "54:\tlearn: 13.5709265\ttotal: 207ms\tremaining: 169ms\n",
      "57:\tlearn: 13.3469604\ttotal: 216ms\tremaining: 156ms\n",
      "60:\tlearn: 13.1215044\ttotal: 224ms\tremaining: 143ms\n",
      "63:\tlearn: 12.9312429\ttotal: 233ms\tremaining: 131ms\n",
      "66:\tlearn: 12.6544404\ttotal: 242ms\tremaining: 119ms\n",
      "69:\tlearn: 12.5030046\ttotal: 251ms\tremaining: 108ms\n",
      "72:\tlearn: 12.2790706\ttotal: 260ms\tremaining: 96.2ms\n",
      "75:\tlearn: 12.1062931\ttotal: 269ms\tremaining: 84.9ms\n",
      "78:\tlearn: 11.9334697\ttotal: 277ms\tremaining: 73.8ms\n",
      "81:\tlearn: 11.7980309\ttotal: 286ms\tremaining: 62.8ms\n",
      "84:\tlearn: 11.6461490\ttotal: 294ms\tremaining: 51.9ms\n",
      "87:\tlearn: 11.4484044\ttotal: 303ms\tremaining: 41.3ms\n",
      "90:\tlearn: 11.2423176\ttotal: 312ms\tremaining: 30.9ms\n",
      "93:\tlearn: 11.0066094\ttotal: 321ms\tremaining: 20.5ms\n",
      "96:\tlearn: 10.8532648\ttotal: 330ms\tremaining: 10.2ms\n",
      "99:\tlearn: 10.6816512\ttotal: 338ms\tremaining: 0us\n",
      "0:\tlearn: 29.1785786\ttotal: 4.9ms\tremaining: 485ms\n",
      "3:\tlearn: 26.0397398\ttotal: 15.2ms\tremaining: 366ms\n",
      "6:\tlearn: 23.8053151\ttotal: 25.6ms\tremaining: 340ms\n",
      "9:\tlearn: 22.2253048\ttotal: 36.2ms\tremaining: 325ms\n",
      "12:\tlearn: 21.0138861\ttotal: 46.6ms\tremaining: 312ms\n",
      "15:\tlearn: 20.1732534\ttotal: 57ms\tremaining: 299ms\n",
      "18:\tlearn: 19.5533146\ttotal: 67.5ms\tremaining: 288ms\n",
      "21:\tlearn: 18.9673254\ttotal: 77.8ms\tremaining: 276ms\n",
      "24:\tlearn: 18.5404032\ttotal: 88.2ms\tremaining: 265ms\n",
      "27:\tlearn: 18.1108238\ttotal: 98.1ms\tremaining: 252ms\n",
      "30:\tlearn: 17.7284679\ttotal: 108ms\tremaining: 241ms\n",
      "33:\tlearn: 17.4217101\ttotal: 119ms\tremaining: 231ms\n",
      "36:\tlearn: 17.1737665\ttotal: 129ms\tremaining: 220ms\n",
      "39:\tlearn: 16.9285259\ttotal: 139ms\tremaining: 209ms\n",
      "42:\tlearn: 16.6553076\ttotal: 149ms\tremaining: 198ms\n",
      "45:\tlearn: 16.4086592\ttotal: 159ms\tremaining: 187ms\n",
      "48:\tlearn: 16.1609828\ttotal: 169ms\tremaining: 176ms\n",
      "51:\tlearn: 15.9766877\ttotal: 179ms\tremaining: 165ms\n",
      "54:\tlearn: 15.7384117\ttotal: 189ms\tremaining: 154ms\n",
      "57:\tlearn: 15.4993849\ttotal: 198ms\tremaining: 144ms\n",
      "60:\tlearn: 15.3060129\ttotal: 208ms\tremaining: 133ms\n",
      "63:\tlearn: 15.1668445\ttotal: 219ms\tremaining: 123ms\n",
      "66:\tlearn: 15.0218793\ttotal: 229ms\tremaining: 113ms\n",
      "69:\tlearn: 14.8607185\ttotal: 239ms\tremaining: 102ms\n",
      "72:\tlearn: 14.7573526\ttotal: 249ms\tremaining: 92ms\n",
      "75:\tlearn: 14.5842583\ttotal: 259ms\tremaining: 81.7ms\n",
      "78:\tlearn: 14.4300977\ttotal: 269ms\tremaining: 71.4ms\n",
      "81:\tlearn: 14.1806374\ttotal: 279ms\tremaining: 61.2ms\n",
      "84:\tlearn: 14.0614967\ttotal: 289ms\tremaining: 51ms\n",
      "87:\tlearn: 13.8896219\ttotal: 299ms\tremaining: 40.8ms\n",
      "90:\tlearn: 13.7861193\ttotal: 310ms\tremaining: 30.7ms\n",
      "93:\tlearn: 13.6175882\ttotal: 323ms\tremaining: 20.6ms\n",
      "96:\tlearn: 13.4351839\ttotal: 334ms\tremaining: 10.3ms\n",
      "99:\tlearn: 13.2675626\ttotal: 347ms\tremaining: 0us\n",
      "0:\tlearn: 30.5719522\ttotal: 5.41ms\tremaining: 536ms\n",
      "3:\tlearn: 27.2369518\ttotal: 18ms\tremaining: 433ms\n",
      "6:\tlearn: 24.9666177\ttotal: 29.7ms\tremaining: 394ms\n",
      "9:\tlearn: 23.4295415\ttotal: 41.8ms\tremaining: 376ms\n",
      "12:\tlearn: 22.1637584\ttotal: 53.4ms\tremaining: 357ms\n",
      "15:\tlearn: 21.2627083\ttotal: 64.8ms\tremaining: 340ms\n",
      "18:\tlearn: 20.5968703\ttotal: 76.3ms\tremaining: 325ms\n",
      "21:\tlearn: 20.0668289\ttotal: 87.9ms\tremaining: 312ms\n",
      "24:\tlearn: 19.5569908\ttotal: 99.3ms\tremaining: 298ms\n",
      "27:\tlearn: 19.2363304\ttotal: 111ms\tremaining: 285ms\n",
      "30:\tlearn: 18.9075853\ttotal: 122ms\tremaining: 273ms\n",
      "33:\tlearn: 18.5505539\ttotal: 135ms\tremaining: 261ms\n",
      "36:\tlearn: 18.2932759\ttotal: 146ms\tremaining: 249ms\n",
      "39:\tlearn: 18.0837476\ttotal: 158ms\tremaining: 236ms\n",
      "42:\tlearn: 17.9351902\ttotal: 169ms\tremaining: 224ms\n",
      "45:\tlearn: 17.6975458\ttotal: 180ms\tremaining: 212ms\n",
      "48:\tlearn: 17.4981635\ttotal: 192ms\tremaining: 200ms\n",
      "51:\tlearn: 17.3010839\ttotal: 204ms\tremaining: 188ms\n",
      "54:\tlearn: 17.1296041\ttotal: 215ms\tremaining: 176ms\n",
      "57:\tlearn: 16.9791990\ttotal: 226ms\tremaining: 164ms\n",
      "60:\tlearn: 16.8139229\ttotal: 237ms\tremaining: 152ms\n",
      "63:\tlearn: 16.6565020\ttotal: 248ms\tremaining: 140ms\n",
      "66:\tlearn: 16.5577578\ttotal: 259ms\tremaining: 128ms\n",
      "69:\tlearn: 16.4298921\ttotal: 271ms\tremaining: 116ms\n",
      "72:\tlearn: 16.2836653\ttotal: 283ms\tremaining: 105ms\n",
      "75:\tlearn: 16.0888842\ttotal: 295ms\tremaining: 93.2ms\n",
      "78:\tlearn: 15.8937538\ttotal: 306ms\tremaining: 81.4ms\n",
      "81:\tlearn: 15.7699213\ttotal: 318ms\tremaining: 69.8ms\n",
      "84:\tlearn: 15.6163537\ttotal: 330ms\tremaining: 58.2ms\n",
      "87:\tlearn: 15.4670632\ttotal: 341ms\tremaining: 46.5ms\n",
      "90:\tlearn: 15.3549846\ttotal: 352ms\tremaining: 34.9ms\n",
      "93:\tlearn: 15.2837265\ttotal: 363ms\tremaining: 23.2ms\n",
      "96:\tlearn: 15.1484137\ttotal: 374ms\tremaining: 11.6ms\n",
      "99:\tlearn: 15.0848711\ttotal: 386ms\tremaining: 0us\n",
      "0:\tlearn: 32.0733951\ttotal: 5.56ms\tremaining: 550ms\n",
      "3:\tlearn: 28.4987629\ttotal: 18.6ms\tremaining: 446ms\n",
      "6:\tlearn: 26.0377656\ttotal: 31.2ms\tremaining: 414ms\n",
      "9:\tlearn: 24.4060528\ttotal: 43.9ms\tremaining: 395ms\n",
      "12:\tlearn: 23.2544237\ttotal: 56.5ms\tremaining: 378ms\n",
      "15:\tlearn: 22.3527225\ttotal: 69ms\tremaining: 362ms\n",
      "18:\tlearn: 21.7400350\ttotal: 81.4ms\tremaining: 347ms\n",
      "21:\tlearn: 21.2268586\ttotal: 93.7ms\tremaining: 332ms\n",
      "24:\tlearn: 20.7681619\ttotal: 106ms\tremaining: 318ms\n",
      "27:\tlearn: 20.4853443\ttotal: 118ms\tremaining: 304ms\n",
      "30:\tlearn: 20.2211558\ttotal: 131ms\tremaining: 290ms\n",
      "33:\tlearn: 19.9296608\ttotal: 143ms\tremaining: 277ms\n",
      "36:\tlearn: 19.6892146\ttotal: 155ms\tremaining: 263ms\n",
      "39:\tlearn: 19.4884463\ttotal: 166ms\tremaining: 250ms\n",
      "42:\tlearn: 19.2750274\ttotal: 179ms\tremaining: 237ms\n",
      "45:\tlearn: 19.0911376\ttotal: 191ms\tremaining: 224ms\n",
      "48:\tlearn: 18.8884177\ttotal: 204ms\tremaining: 212ms\n",
      "51:\tlearn: 18.7211783\ttotal: 216ms\tremaining: 199ms\n",
      "54:\tlearn: 18.5753688\ttotal: 228ms\tremaining: 187ms\n",
      "57:\tlearn: 18.4639229\ttotal: 241ms\tremaining: 174ms\n",
      "60:\tlearn: 18.3364994\ttotal: 253ms\tremaining: 162ms\n",
      "63:\tlearn: 18.2429500\ttotal: 265ms\tremaining: 149ms\n",
      "66:\tlearn: 18.0769580\ttotal: 278ms\tremaining: 137ms\n",
      "69:\tlearn: 17.9138557\ttotal: 290ms\tremaining: 124ms\n",
      "72:\tlearn: 17.7971441\ttotal: 302ms\tremaining: 112ms\n",
      "75:\tlearn: 17.6531657\ttotal: 315ms\tremaining: 99.5ms\n",
      "78:\tlearn: 17.5256423\ttotal: 327ms\tremaining: 86.9ms\n",
      "81:\tlearn: 17.4175522\ttotal: 339ms\tremaining: 74.5ms\n",
      "84:\tlearn: 17.3048525\ttotal: 351ms\tremaining: 62ms\n",
      "87:\tlearn: 17.1883932\ttotal: 364ms\tremaining: 49.6ms\n",
      "90:\tlearn: 17.0629273\ttotal: 375ms\tremaining: 37.1ms\n",
      "93:\tlearn: 16.9282667\ttotal: 388ms\tremaining: 24.7ms\n",
      "96:\tlearn: 16.8610591\ttotal: 400ms\tremaining: 12.4ms\n",
      "99:\tlearn: 16.7101457\ttotal: 412ms\tremaining: 0us\n",
      "0:\tlearn: 33.3825511\ttotal: 5.92ms\tremaining: 587ms\n",
      "3:\tlearn: 29.6602883\ttotal: 20.6ms\tremaining: 493ms\n",
      "6:\tlearn: 27.2303488\ttotal: 34.3ms\tremaining: 456ms\n",
      "9:\tlearn: 25.5808785\ttotal: 47.7ms\tremaining: 430ms\n",
      "12:\tlearn: 24.4828425\ttotal: 60.9ms\tremaining: 407ms\n",
      "15:\tlearn: 23.6301203\ttotal: 73.9ms\tremaining: 388ms\n",
      "18:\tlearn: 22.9890541\ttotal: 87.5ms\tremaining: 373ms\n",
      "21:\tlearn: 22.4645174\ttotal: 101ms\tremaining: 357ms\n",
      "24:\tlearn: 22.0543723\ttotal: 114ms\tremaining: 341ms\n",
      "27:\tlearn: 21.7638146\ttotal: 127ms\tremaining: 327ms\n",
      "30:\tlearn: 21.4488610\ttotal: 141ms\tremaining: 313ms\n",
      "33:\tlearn: 21.1865807\ttotal: 154ms\tremaining: 299ms\n",
      "36:\tlearn: 20.9759636\ttotal: 168ms\tremaining: 285ms\n",
      "39:\tlearn: 20.8009896\ttotal: 181ms\tremaining: 271ms\n",
      "42:\tlearn: 20.6479507\ttotal: 194ms\tremaining: 257ms\n",
      "45:\tlearn: 20.4626623\ttotal: 207ms\tremaining: 243ms\n",
      "48:\tlearn: 20.2446970\ttotal: 221ms\tremaining: 230ms\n",
      "51:\tlearn: 20.0787370\ttotal: 235ms\tremaining: 216ms\n",
      "54:\tlearn: 19.9181227\ttotal: 248ms\tremaining: 203ms\n",
      "57:\tlearn: 19.7704710\ttotal: 261ms\tremaining: 189ms\n",
      "60:\tlearn: 19.6671295\ttotal: 274ms\tremaining: 175ms\n",
      "63:\tlearn: 19.5483067\ttotal: 287ms\tremaining: 161ms\n",
      "66:\tlearn: 19.4538995\ttotal: 300ms\tremaining: 148ms\n",
      "69:\tlearn: 19.3126861\ttotal: 314ms\tremaining: 135ms\n",
      "72:\tlearn: 19.2002221\ttotal: 328ms\tremaining: 121ms\n",
      "75:\tlearn: 19.0999301\ttotal: 341ms\tremaining: 108ms\n",
      "78:\tlearn: 18.9889288\ttotal: 354ms\tremaining: 94.2ms\n",
      "81:\tlearn: 18.8752736\ttotal: 368ms\tremaining: 80.7ms\n",
      "84:\tlearn: 18.7656124\ttotal: 381ms\tremaining: 67.2ms\n",
      "87:\tlearn: 18.6526437\ttotal: 393ms\tremaining: 53.6ms\n",
      "90:\tlearn: 18.5374012\ttotal: 407ms\tremaining: 40.2ms\n",
      "93:\tlearn: 18.4168844\ttotal: 420ms\tremaining: 26.8ms\n",
      "96:\tlearn: 18.3407267\ttotal: 432ms\tremaining: 13.4ms\n",
      "99:\tlearn: 18.2282224\ttotal: 446ms\tremaining: 0us\n",
      "0:\tlearn: 28.3422530\ttotal: 3.61ms\tremaining: 358ms\n",
      "3:\tlearn: 25.2944473\ttotal: 12.7ms\tremaining: 305ms\n",
      "6:\tlearn: 22.8852162\ttotal: 24ms\tremaining: 318ms\n",
      "9:\tlearn: 21.1328490\ttotal: 33.4ms\tremaining: 300ms\n",
      "12:\tlearn: 19.8093399\ttotal: 42.3ms\tremaining: 283ms\n",
      "15:\tlearn: 18.8192028\ttotal: 51.2ms\tremaining: 269ms\n",
      "18:\tlearn: 18.0467777\ttotal: 59.8ms\tremaining: 255ms\n",
      "21:\tlearn: 17.4272608\ttotal: 68.3ms\tremaining: 242ms\n",
      "24:\tlearn: 16.7875958\ttotal: 77ms\tremaining: 231ms\n",
      "27:\tlearn: 16.2317358\ttotal: 85.8ms\tremaining: 221ms\n",
      "30:\tlearn: 15.8120386\ttotal: 94ms\tremaining: 209ms\n",
      "33:\tlearn: 15.3516546\ttotal: 103ms\tremaining: 199ms\n",
      "36:\tlearn: 14.9991957\ttotal: 111ms\tremaining: 189ms\n",
      "39:\tlearn: 14.7537856\ttotal: 120ms\tremaining: 180ms\n",
      "42:\tlearn: 14.5589072\ttotal: 128ms\tremaining: 170ms\n",
      "45:\tlearn: 14.3127322\ttotal: 137ms\tremaining: 161ms\n",
      "48:\tlearn: 14.0608203\ttotal: 146ms\tremaining: 152ms\n",
      "51:\tlearn: 13.8001578\ttotal: 154ms\tremaining: 142ms\n",
      "54:\tlearn: 13.5709265\ttotal: 163ms\tremaining: 133ms\n",
      "57:\tlearn: 13.3469604\ttotal: 171ms\tremaining: 124ms\n",
      "60:\tlearn: 13.1215044\ttotal: 180ms\tremaining: 115ms\n",
      "63:\tlearn: 12.9312429\ttotal: 189ms\tremaining: 106ms\n",
      "66:\tlearn: 12.6544404\ttotal: 199ms\tremaining: 97.8ms\n",
      "69:\tlearn: 12.5030046\ttotal: 207ms\tremaining: 88.9ms\n",
      "72:\tlearn: 12.2790706\ttotal: 216ms\tremaining: 79.9ms\n",
      "75:\tlearn: 12.1062931\ttotal: 225ms\tremaining: 71ms\n",
      "78:\tlearn: 11.9334697\ttotal: 233ms\tremaining: 62ms\n",
      "81:\tlearn: 11.7980309\ttotal: 242ms\tremaining: 53.2ms\n",
      "84:\tlearn: 11.6461490\ttotal: 251ms\tremaining: 44.2ms\n",
      "87:\tlearn: 11.4484044\ttotal: 259ms\tremaining: 35.3ms\n",
      "90:\tlearn: 11.2423176\ttotal: 268ms\tremaining: 26.5ms\n",
      "93:\tlearn: 11.0066094\ttotal: 276ms\tremaining: 17.6ms\n",
      "96:\tlearn: 10.8532648\ttotal: 284ms\tremaining: 8.8ms\n",
      "99:\tlearn: 10.6816512\ttotal: 293ms\tremaining: 0us\n",
      "0:\tlearn: 29.1785786\ttotal: 3.8ms\tremaining: 377ms\n",
      "3:\tlearn: 26.0397398\ttotal: 14.3ms\tremaining: 343ms\n",
      "6:\tlearn: 23.8053151\ttotal: 25.5ms\tremaining: 338ms\n",
      "9:\tlearn: 22.2253048\ttotal: 36.7ms\tremaining: 330ms\n",
      "12:\tlearn: 21.0138861\ttotal: 46.8ms\tremaining: 313ms\n",
      "15:\tlearn: 20.1732534\ttotal: 57.3ms\tremaining: 301ms\n",
      "18:\tlearn: 19.5533146\ttotal: 67.7ms\tremaining: 289ms\n",
      "21:\tlearn: 18.9673254\ttotal: 77.8ms\tremaining: 276ms\n",
      "24:\tlearn: 18.5404032\ttotal: 88.5ms\tremaining: 266ms\n",
      "27:\tlearn: 18.1108238\ttotal: 98.3ms\tremaining: 253ms\n",
      "30:\tlearn: 17.7284679\ttotal: 108ms\tremaining: 241ms\n",
      "33:\tlearn: 17.4217101\ttotal: 119ms\tremaining: 230ms\n",
      "36:\tlearn: 17.1737665\ttotal: 129ms\tremaining: 220ms\n",
      "39:\tlearn: 16.9285259\ttotal: 139ms\tremaining: 209ms\n",
      "42:\tlearn: 16.6553076\ttotal: 150ms\tremaining: 199ms\n",
      "45:\tlearn: 16.4086592\ttotal: 160ms\tremaining: 188ms\n",
      "48:\tlearn: 16.1609828\ttotal: 170ms\tremaining: 177ms\n",
      "51:\tlearn: 15.9766877\ttotal: 180ms\tremaining: 166ms\n",
      "54:\tlearn: 15.7384117\ttotal: 190ms\tremaining: 156ms\n",
      "57:\tlearn: 15.4993849\ttotal: 201ms\tremaining: 145ms\n",
      "60:\tlearn: 15.3060129\ttotal: 211ms\tremaining: 135ms\n",
      "63:\tlearn: 15.1668445\ttotal: 222ms\tremaining: 125ms\n",
      "66:\tlearn: 15.0218793\ttotal: 232ms\tremaining: 114ms\n",
      "69:\tlearn: 14.8607185\ttotal: 243ms\tremaining: 104ms\n",
      "72:\tlearn: 14.7573526\ttotal: 253ms\tremaining: 93.7ms\n",
      "75:\tlearn: 14.5842583\ttotal: 264ms\tremaining: 83.2ms\n",
      "78:\tlearn: 14.4300977\ttotal: 274ms\tremaining: 72.9ms\n",
      "81:\tlearn: 14.1806374\ttotal: 284ms\tremaining: 62.4ms\n",
      "84:\tlearn: 14.0614967\ttotal: 295ms\tremaining: 52.1ms\n",
      "87:\tlearn: 13.8896219\ttotal: 305ms\tremaining: 41.6ms\n",
      "90:\tlearn: 13.7861193\ttotal: 315ms\tremaining: 31.1ms\n",
      "93:\tlearn: 13.6175882\ttotal: 325ms\tremaining: 20.7ms\n",
      "96:\tlearn: 13.4351839\ttotal: 335ms\tremaining: 10.4ms\n",
      "99:\tlearn: 13.2675626\ttotal: 345ms\tremaining: 0us\n",
      "0:\tlearn: 30.5719522\ttotal: 4.75ms\tremaining: 470ms\n",
      "3:\tlearn: 27.2369518\ttotal: 18.1ms\tremaining: 433ms\n",
      "6:\tlearn: 24.9666177\ttotal: 30.6ms\tremaining: 406ms\n",
      "9:\tlearn: 23.4295415\ttotal: 43ms\tremaining: 387ms\n",
      "12:\tlearn: 22.1637584\ttotal: 55.4ms\tremaining: 370ms\n",
      "15:\tlearn: 21.2627083\ttotal: 67.1ms\tremaining: 352ms\n",
      "18:\tlearn: 20.5968703\ttotal: 78.7ms\tremaining: 336ms\n",
      "21:\tlearn: 20.0668289\ttotal: 90.8ms\tremaining: 322ms\n",
      "24:\tlearn: 19.5569908\ttotal: 103ms\tremaining: 309ms\n",
      "27:\tlearn: 19.2363304\ttotal: 115ms\tremaining: 295ms\n",
      "30:\tlearn: 18.9075853\ttotal: 126ms\tremaining: 281ms\n",
      "33:\tlearn: 18.5505539\ttotal: 138ms\tremaining: 268ms\n",
      "36:\tlearn: 18.2932759\ttotal: 150ms\tremaining: 255ms\n",
      "39:\tlearn: 18.0837476\ttotal: 161ms\tremaining: 242ms\n",
      "42:\tlearn: 17.9351902\ttotal: 174ms\tremaining: 230ms\n",
      "45:\tlearn: 17.6975458\ttotal: 186ms\tremaining: 218ms\n",
      "48:\tlearn: 17.4981635\ttotal: 198ms\tremaining: 206ms\n",
      "51:\tlearn: 17.3010839\ttotal: 209ms\tremaining: 193ms\n",
      "54:\tlearn: 17.1296041\ttotal: 221ms\tremaining: 181ms\n",
      "57:\tlearn: 16.9791990\ttotal: 232ms\tremaining: 168ms\n",
      "60:\tlearn: 16.8139229\ttotal: 244ms\tremaining: 156ms\n",
      "63:\tlearn: 16.6565020\ttotal: 255ms\tremaining: 144ms\n",
      "66:\tlearn: 16.5577578\ttotal: 267ms\tremaining: 131ms\n",
      "69:\tlearn: 16.4298921\ttotal: 278ms\tremaining: 119ms\n",
      "72:\tlearn: 16.2836653\ttotal: 290ms\tremaining: 107ms\n",
      "75:\tlearn: 16.0888842\ttotal: 301ms\tremaining: 95.1ms\n",
      "78:\tlearn: 15.8937538\ttotal: 312ms\tremaining: 83ms\n",
      "81:\tlearn: 15.7699213\ttotal: 324ms\tremaining: 71.1ms\n",
      "84:\tlearn: 15.6163537\ttotal: 335ms\tremaining: 59.1ms\n",
      "87:\tlearn: 15.4670632\ttotal: 351ms\tremaining: 47.9ms\n",
      "90:\tlearn: 15.3549846\ttotal: 363ms\tremaining: 35.9ms\n",
      "93:\tlearn: 15.2837265\ttotal: 374ms\tremaining: 23.9ms\n",
      "96:\tlearn: 15.1484137\ttotal: 385ms\tremaining: 11.9ms\n",
      "99:\tlearn: 15.0848711\ttotal: 396ms\tremaining: 0us\n",
      "0:\tlearn: 32.0733951\ttotal: 5.08ms\tremaining: 503ms\n",
      "3:\tlearn: 28.4987629\ttotal: 18ms\tremaining: 431ms\n",
      "6:\tlearn: 26.0377656\ttotal: 30.6ms\tremaining: 406ms\n",
      "9:\tlearn: 24.4060528\ttotal: 43.2ms\tremaining: 389ms\n",
      "12:\tlearn: 23.2544237\ttotal: 55.4ms\tremaining: 371ms\n",
      "15:\tlearn: 22.3527225\ttotal: 67.8ms\tremaining: 356ms\n",
      "18:\tlearn: 21.7400350\ttotal: 80ms\tremaining: 341ms\n",
      "21:\tlearn: 21.2268586\ttotal: 92.4ms\tremaining: 328ms\n",
      "24:\tlearn: 20.7681619\ttotal: 105ms\tremaining: 315ms\n",
      "27:\tlearn: 20.4853443\ttotal: 118ms\tremaining: 302ms\n",
      "30:\tlearn: 20.2211558\ttotal: 130ms\tremaining: 289ms\n",
      "33:\tlearn: 19.9296608\ttotal: 142ms\tremaining: 276ms\n",
      "36:\tlearn: 19.6892146\ttotal: 154ms\tremaining: 263ms\n",
      "39:\tlearn: 19.4884463\ttotal: 166ms\tremaining: 249ms\n",
      "42:\tlearn: 19.2750274\ttotal: 178ms\tremaining: 236ms\n",
      "45:\tlearn: 19.0911376\ttotal: 194ms\tremaining: 228ms\n",
      "48:\tlearn: 18.8884177\ttotal: 213ms\tremaining: 222ms\n",
      "51:\tlearn: 18.7211783\ttotal: 227ms\tremaining: 210ms\n",
      "54:\tlearn: 18.5753688\ttotal: 239ms\tremaining: 196ms\n",
      "57:\tlearn: 18.4639229\ttotal: 252ms\tremaining: 182ms\n",
      "60:\tlearn: 18.3364994\ttotal: 264ms\tremaining: 169ms\n",
      "63:\tlearn: 18.2429500\ttotal: 276ms\tremaining: 155ms\n",
      "66:\tlearn: 18.0769580\ttotal: 289ms\tremaining: 142ms\n",
      "69:\tlearn: 17.9138557\ttotal: 301ms\tremaining: 129ms\n",
      "72:\tlearn: 17.7971441\ttotal: 314ms\tremaining: 116ms\n",
      "75:\tlearn: 17.6531657\ttotal: 326ms\tremaining: 103ms\n",
      "78:\tlearn: 17.5256423\ttotal: 339ms\tremaining: 90ms\n",
      "81:\tlearn: 17.4175522\ttotal: 351ms\tremaining: 77.1ms\n",
      "84:\tlearn: 17.3048525\ttotal: 364ms\tremaining: 64.2ms\n",
      "87:\tlearn: 17.1883932\ttotal: 376ms\tremaining: 51.3ms\n",
      "90:\tlearn: 17.0629273\ttotal: 389ms\tremaining: 38.5ms\n",
      "93:\tlearn: 16.9282667\ttotal: 402ms\tremaining: 25.6ms\n",
      "96:\tlearn: 16.8610591\ttotal: 414ms\tremaining: 12.8ms\n",
      "99:\tlearn: 16.7101457\ttotal: 427ms\tremaining: 0us\n",
      "0:\tlearn: 33.3825511\ttotal: 5ms\tremaining: 495ms\n",
      "3:\tlearn: 29.6602883\ttotal: 18.8ms\tremaining: 451ms\n",
      "6:\tlearn: 27.2303488\ttotal: 32.5ms\tremaining: 431ms\n",
      "9:\tlearn: 25.5808785\ttotal: 45.8ms\tremaining: 412ms\n",
      "12:\tlearn: 24.4828425\ttotal: 59.1ms\tremaining: 396ms\n",
      "15:\tlearn: 23.6301203\ttotal: 72.2ms\tremaining: 379ms\n",
      "18:\tlearn: 22.9890541\ttotal: 85.7ms\tremaining: 365ms\n",
      "21:\tlearn: 22.4645174\ttotal: 99ms\tremaining: 351ms\n",
      "24:\tlearn: 22.0543723\ttotal: 112ms\tremaining: 335ms\n",
      "27:\tlearn: 21.7638146\ttotal: 125ms\tremaining: 322ms\n",
      "30:\tlearn: 21.4488610\ttotal: 138ms\tremaining: 308ms\n",
      "33:\tlearn: 21.1865807\ttotal: 152ms\tremaining: 294ms\n",
      "36:\tlearn: 20.9759636\ttotal: 165ms\tremaining: 281ms\n",
      "39:\tlearn: 20.8009896\ttotal: 177ms\tremaining: 266ms\n",
      "42:\tlearn: 20.6479507\ttotal: 191ms\tremaining: 253ms\n",
      "45:\tlearn: 20.4626623\ttotal: 204ms\tremaining: 240ms\n",
      "48:\tlearn: 20.2446970\ttotal: 218ms\tremaining: 227ms\n",
      "51:\tlearn: 20.0787370\ttotal: 232ms\tremaining: 214ms\n",
      "54:\tlearn: 19.9181227\ttotal: 246ms\tremaining: 201ms\n",
      "57:\tlearn: 19.7704710\ttotal: 262ms\tremaining: 190ms\n",
      "60:\tlearn: 19.6671295\ttotal: 276ms\tremaining: 176ms\n",
      "63:\tlearn: 19.5483067\ttotal: 289ms\tremaining: 163ms\n",
      "66:\tlearn: 19.4538995\ttotal: 303ms\tremaining: 149ms\n",
      "69:\tlearn: 19.3126861\ttotal: 317ms\tremaining: 136ms\n",
      "72:\tlearn: 19.2002221\ttotal: 331ms\tremaining: 122ms\n",
      "75:\tlearn: 19.0999301\ttotal: 344ms\tremaining: 109ms\n",
      "78:\tlearn: 18.9889288\ttotal: 358ms\tremaining: 95.1ms\n",
      "81:\tlearn: 18.8752736\ttotal: 372ms\tremaining: 81.7ms\n",
      "84:\tlearn: 18.7656124\ttotal: 387ms\tremaining: 68.2ms\n",
      "87:\tlearn: 18.6526437\ttotal: 400ms\tremaining: 54.6ms\n",
      "90:\tlearn: 18.5374012\ttotal: 413ms\tremaining: 40.9ms\n",
      "93:\tlearn: 18.4168844\ttotal: 427ms\tremaining: 27.2ms\n",
      "96:\tlearn: 18.3407267\ttotal: 440ms\tremaining: 13.6ms\n",
      "99:\tlearn: 18.2282224\ttotal: 453ms\tremaining: 0us\n",
      "0:\tlearn: 28.3422530\ttotal: 3.23ms\tremaining: 320ms\n",
      "3:\tlearn: 25.2944473\ttotal: 12.3ms\tremaining: 295ms\n",
      "6:\tlearn: 22.8852162\ttotal: 21.2ms\tremaining: 282ms\n",
      "9:\tlearn: 21.1328490\ttotal: 29.7ms\tremaining: 267ms\n",
      "12:\tlearn: 19.8093399\ttotal: 38ms\tremaining: 254ms\n",
      "15:\tlearn: 18.8192028\ttotal: 46.2ms\tremaining: 243ms\n",
      "18:\tlearn: 18.0467777\ttotal: 54.8ms\tremaining: 234ms\n",
      "21:\tlearn: 17.4272608\ttotal: 63.4ms\tremaining: 225ms\n",
      "24:\tlearn: 16.7875958\ttotal: 72.5ms\tremaining: 217ms\n",
      "27:\tlearn: 16.2317358\ttotal: 81.3ms\tremaining: 209ms\n",
      "30:\tlearn: 15.8120386\ttotal: 90.6ms\tremaining: 202ms\n",
      "33:\tlearn: 15.3516546\ttotal: 99.3ms\tremaining: 193ms\n",
      "36:\tlearn: 14.9991957\ttotal: 108ms\tremaining: 184ms\n",
      "39:\tlearn: 14.7537856\ttotal: 117ms\tremaining: 175ms\n",
      "42:\tlearn: 14.5589072\ttotal: 125ms\tremaining: 166ms\n",
      "45:\tlearn: 14.3127322\ttotal: 134ms\tremaining: 157ms\n",
      "48:\tlearn: 14.0608203\ttotal: 142ms\tremaining: 148ms\n",
      "51:\tlearn: 13.8001578\ttotal: 151ms\tremaining: 139ms\n",
      "54:\tlearn: 13.5709265\ttotal: 159ms\tremaining: 130ms\n",
      "57:\tlearn: 13.3469604\ttotal: 168ms\tremaining: 121ms\n",
      "60:\tlearn: 13.1215044\ttotal: 176ms\tremaining: 113ms\n",
      "63:\tlearn: 12.9312429\ttotal: 185ms\tremaining: 104ms\n",
      "66:\tlearn: 12.6544404\ttotal: 193ms\tremaining: 95.3ms\n",
      "69:\tlearn: 12.5030046\ttotal: 203ms\tremaining: 86.8ms\n",
      "72:\tlearn: 12.2790706\ttotal: 211ms\tremaining: 78.1ms\n",
      "75:\tlearn: 12.1062931\ttotal: 219ms\tremaining: 69.3ms\n",
      "78:\tlearn: 11.9334697\ttotal: 228ms\tremaining: 60.6ms\n",
      "81:\tlearn: 11.7980309\ttotal: 236ms\tremaining: 51.9ms\n",
      "84:\tlearn: 11.6461490\ttotal: 246ms\tremaining: 43.3ms\n",
      "87:\tlearn: 11.4484044\ttotal: 255ms\tremaining: 34.8ms\n",
      "90:\tlearn: 11.2423176\ttotal: 266ms\tremaining: 26.3ms\n",
      "93:\tlearn: 11.0066094\ttotal: 274ms\tremaining: 17.5ms\n",
      "96:\tlearn: 10.8532648\ttotal: 283ms\tremaining: 8.74ms\n",
      "99:\tlearn: 10.6816512\ttotal: 291ms\tremaining: 0us\n",
      "0:\tlearn: 29.1785786\ttotal: 3.87ms\tremaining: 383ms\n",
      "3:\tlearn: 26.0397398\ttotal: 14.3ms\tremaining: 342ms\n",
      "6:\tlearn: 23.8053151\ttotal: 25.5ms\tremaining: 339ms\n",
      "9:\tlearn: 22.2253048\ttotal: 37.4ms\tremaining: 337ms\n",
      "12:\tlearn: 21.0138861\ttotal: 49.3ms\tremaining: 330ms\n",
      "15:\tlearn: 20.1732534\ttotal: 61.3ms\tremaining: 322ms\n",
      "18:\tlearn: 19.5533146\ttotal: 72.8ms\tremaining: 310ms\n",
      "21:\tlearn: 18.9673254\ttotal: 84.3ms\tremaining: 299ms\n",
      "24:\tlearn: 18.5404032\ttotal: 96.2ms\tremaining: 289ms\n",
      "27:\tlearn: 18.1108238\ttotal: 108ms\tremaining: 277ms\n",
      "30:\tlearn: 17.7284679\ttotal: 119ms\tremaining: 266ms\n",
      "33:\tlearn: 17.4217101\ttotal: 131ms\tremaining: 254ms\n",
      "36:\tlearn: 17.1737665\ttotal: 142ms\tremaining: 242ms\n",
      "39:\tlearn: 16.9285259\ttotal: 154ms\tremaining: 231ms\n",
      "42:\tlearn: 16.6553076\ttotal: 165ms\tremaining: 219ms\n",
      "45:\tlearn: 16.4086592\ttotal: 178ms\tremaining: 210ms\n",
      "48:\tlearn: 16.1609828\ttotal: 190ms\tremaining: 198ms\n",
      "51:\tlearn: 15.9766877\ttotal: 202ms\tremaining: 187ms\n",
      "54:\tlearn: 15.7384117\ttotal: 214ms\tremaining: 175ms\n",
      "57:\tlearn: 15.4993849\ttotal: 226ms\tremaining: 164ms\n",
      "60:\tlearn: 15.3060129\ttotal: 238ms\tremaining: 152ms\n",
      "63:\tlearn: 15.1668445\ttotal: 249ms\tremaining: 140ms\n",
      "66:\tlearn: 15.0218793\ttotal: 261ms\tremaining: 128ms\n",
      "69:\tlearn: 14.8607185\ttotal: 272ms\tremaining: 117ms\n",
      "72:\tlearn: 14.7573526\ttotal: 284ms\tremaining: 105ms\n",
      "75:\tlearn: 14.5842583\ttotal: 296ms\tremaining: 93.3ms\n",
      "78:\tlearn: 14.4300977\ttotal: 307ms\tremaining: 81.6ms\n",
      "81:\tlearn: 14.1806374\ttotal: 318ms\tremaining: 69.9ms\n",
      "84:\tlearn: 14.0614967\ttotal: 330ms\tremaining: 58.2ms\n",
      "87:\tlearn: 13.8896219\ttotal: 341ms\tremaining: 46.5ms\n",
      "90:\tlearn: 13.7861193\ttotal: 353ms\tremaining: 34.9ms\n",
      "93:\tlearn: 13.6175882\ttotal: 369ms\tremaining: 23.5ms\n",
      "96:\tlearn: 13.4351839\ttotal: 384ms\tremaining: 11.9ms\n",
      "99:\tlearn: 13.2675626\ttotal: 399ms\tremaining: 0us\n",
      "0:\tlearn: 30.5719522\ttotal: 5.09ms\tremaining: 504ms\n",
      "3:\tlearn: 27.2369518\ttotal: 18.3ms\tremaining: 440ms\n",
      "6:\tlearn: 24.9666177\ttotal: 31.1ms\tremaining: 413ms\n",
      "9:\tlearn: 23.4295415\ttotal: 44.4ms\tremaining: 399ms\n",
      "12:\tlearn: 22.1637584\ttotal: 57.3ms\tremaining: 383ms\n",
      "15:\tlearn: 21.2627083\ttotal: 70.2ms\tremaining: 369ms\n",
      "18:\tlearn: 20.5968703\ttotal: 83.3ms\tremaining: 355ms\n",
      "21:\tlearn: 20.0668289\ttotal: 96.8ms\tremaining: 343ms\n",
      "24:\tlearn: 19.5569908\ttotal: 110ms\tremaining: 330ms\n",
      "27:\tlearn: 19.2363304\ttotal: 123ms\tremaining: 318ms\n",
      "30:\tlearn: 18.9075853\ttotal: 140ms\tremaining: 311ms\n",
      "33:\tlearn: 18.5505539\ttotal: 160ms\tremaining: 311ms\n",
      "36:\tlearn: 18.2932759\ttotal: 176ms\tremaining: 300ms\n",
      "39:\tlearn: 18.0837476\ttotal: 191ms\tremaining: 286ms\n",
      "42:\tlearn: 17.9351902\ttotal: 204ms\tremaining: 270ms\n",
      "45:\tlearn: 17.6975458\ttotal: 219ms\tremaining: 257ms\n",
      "48:\tlearn: 17.4981635\ttotal: 232ms\tremaining: 242ms\n",
      "51:\tlearn: 17.3010839\ttotal: 245ms\tremaining: 227ms\n",
      "54:\tlearn: 17.1296041\ttotal: 259ms\tremaining: 212ms\n",
      "57:\tlearn: 16.9791990\ttotal: 273ms\tremaining: 197ms\n",
      "60:\tlearn: 16.8139229\ttotal: 288ms\tremaining: 184ms\n",
      "63:\tlearn: 16.6565020\ttotal: 302ms\tremaining: 170ms\n",
      "66:\tlearn: 16.5577578\ttotal: 315ms\tremaining: 155ms\n",
      "69:\tlearn: 16.4298921\ttotal: 329ms\tremaining: 141ms\n",
      "72:\tlearn: 16.2836653\ttotal: 342ms\tremaining: 127ms\n",
      "75:\tlearn: 16.0888842\ttotal: 355ms\tremaining: 112ms\n",
      "78:\tlearn: 15.8937538\ttotal: 369ms\tremaining: 98ms\n",
      "81:\tlearn: 15.7699213\ttotal: 382ms\tremaining: 83.9ms\n",
      "84:\tlearn: 15.6163537\ttotal: 395ms\tremaining: 69.7ms\n",
      "87:\tlearn: 15.4670632\ttotal: 408ms\tremaining: 55.6ms\n",
      "90:\tlearn: 15.3549846\ttotal: 421ms\tremaining: 41.6ms\n",
      "93:\tlearn: 15.2837265\ttotal: 433ms\tremaining: 27.7ms\n",
      "96:\tlearn: 15.1484137\ttotal: 446ms\tremaining: 13.8ms\n",
      "99:\tlearn: 15.0848711\ttotal: 459ms\tremaining: 0us\n",
      "0:\tlearn: 32.0733951\ttotal: 5.25ms\tremaining: 520ms\n",
      "3:\tlearn: 28.4987629\ttotal: 18.6ms\tremaining: 447ms\n",
      "6:\tlearn: 26.0377656\ttotal: 32.3ms\tremaining: 429ms\n",
      "9:\tlearn: 24.4060528\ttotal: 45.5ms\tremaining: 409ms\n",
      "12:\tlearn: 23.2544237\ttotal: 58.8ms\tremaining: 394ms\n",
      "15:\tlearn: 22.3527225\ttotal: 72.1ms\tremaining: 378ms\n",
      "18:\tlearn: 21.7400350\ttotal: 85.2ms\tremaining: 363ms\n",
      "21:\tlearn: 21.2268586\ttotal: 98.6ms\tremaining: 350ms\n",
      "24:\tlearn: 20.7681619\ttotal: 112ms\tremaining: 336ms\n",
      "27:\tlearn: 20.4853443\ttotal: 125ms\tremaining: 321ms\n",
      "30:\tlearn: 20.2211558\ttotal: 137ms\tremaining: 306ms\n",
      "33:\tlearn: 19.9296608\ttotal: 150ms\tremaining: 291ms\n",
      "36:\tlearn: 19.6892146\ttotal: 163ms\tremaining: 278ms\n",
      "39:\tlearn: 19.4884463\ttotal: 177ms\tremaining: 265ms\n",
      "42:\tlearn: 19.2750274\ttotal: 191ms\tremaining: 253ms\n",
      "45:\tlearn: 19.0911376\ttotal: 205ms\tremaining: 241ms\n",
      "48:\tlearn: 18.8884177\ttotal: 219ms\tremaining: 228ms\n",
      "51:\tlearn: 18.7211783\ttotal: 232ms\tremaining: 214ms\n",
      "54:\tlearn: 18.5753688\ttotal: 245ms\tremaining: 200ms\n",
      "57:\tlearn: 18.4639229\ttotal: 258ms\tremaining: 187ms\n",
      "60:\tlearn: 18.3364994\ttotal: 272ms\tremaining: 174ms\n",
      "63:\tlearn: 18.2429500\ttotal: 284ms\tremaining: 160ms\n",
      "66:\tlearn: 18.0769580\ttotal: 297ms\tremaining: 146ms\n",
      "69:\tlearn: 17.9138557\ttotal: 310ms\tremaining: 133ms\n",
      "72:\tlearn: 17.7971441\ttotal: 324ms\tremaining: 120ms\n",
      "75:\tlearn: 17.6531657\ttotal: 337ms\tremaining: 106ms\n",
      "78:\tlearn: 17.5256423\ttotal: 350ms\tremaining: 93.1ms\n",
      "81:\tlearn: 17.4175522\ttotal: 363ms\tremaining: 79.8ms\n",
      "84:\tlearn: 17.3048525\ttotal: 378ms\tremaining: 66.7ms\n",
      "87:\tlearn: 17.1883932\ttotal: 392ms\tremaining: 53.4ms\n",
      "90:\tlearn: 17.0629273\ttotal: 405ms\tremaining: 40ms\n",
      "93:\tlearn: 16.9282667\ttotal: 417ms\tremaining: 26.6ms\n",
      "96:\tlearn: 16.8610591\ttotal: 430ms\tremaining: 13.3ms\n",
      "99:\tlearn: 16.7101457\ttotal: 443ms\tremaining: 0us\n",
      "0:\tlearn: 33.3825511\ttotal: 5.32ms\tremaining: 526ms\n",
      "3:\tlearn: 29.6602883\ttotal: 20ms\tremaining: 479ms\n",
      "6:\tlearn: 27.2303488\ttotal: 34.3ms\tremaining: 455ms\n",
      "9:\tlearn: 25.5808785\ttotal: 48.9ms\tremaining: 440ms\n",
      "12:\tlearn: 24.4828425\ttotal: 64ms\tremaining: 428ms\n",
      "15:\tlearn: 23.6301203\ttotal: 80ms\tremaining: 420ms\n",
      "18:\tlearn: 22.9890541\ttotal: 95.5ms\tremaining: 407ms\n",
      "21:\tlearn: 22.4645174\ttotal: 109ms\tremaining: 388ms\n",
      "24:\tlearn: 22.0543723\ttotal: 123ms\tremaining: 369ms\n",
      "27:\tlearn: 21.7638146\ttotal: 137ms\tremaining: 352ms\n",
      "30:\tlearn: 21.4488610\ttotal: 151ms\tremaining: 335ms\n",
      "33:\tlearn: 21.1865807\ttotal: 165ms\tremaining: 320ms\n",
      "36:\tlearn: 20.9759636\ttotal: 179ms\tremaining: 305ms\n",
      "39:\tlearn: 20.8009896\ttotal: 193ms\tremaining: 290ms\n",
      "42:\tlearn: 20.6479507\ttotal: 207ms\tremaining: 275ms\n",
      "45:\tlearn: 20.4626623\ttotal: 221ms\tremaining: 259ms\n",
      "48:\tlearn: 20.2446970\ttotal: 236ms\tremaining: 245ms\n",
      "51:\tlearn: 20.0787370\ttotal: 249ms\tremaining: 230ms\n",
      "54:\tlearn: 19.9181227\ttotal: 263ms\tremaining: 215ms\n",
      "57:\tlearn: 19.7704710\ttotal: 276ms\tremaining: 200ms\n",
      "60:\tlearn: 19.6671295\ttotal: 290ms\tremaining: 185ms\n",
      "63:\tlearn: 19.5483067\ttotal: 303ms\tremaining: 171ms\n",
      "66:\tlearn: 19.4538995\ttotal: 317ms\tremaining: 156ms\n",
      "69:\tlearn: 19.3126861\ttotal: 330ms\tremaining: 142ms\n",
      "72:\tlearn: 19.2002221\ttotal: 344ms\tremaining: 127ms\n",
      "75:\tlearn: 19.0999301\ttotal: 357ms\tremaining: 113ms\n",
      "78:\tlearn: 18.9889288\ttotal: 372ms\tremaining: 98.9ms\n",
      "81:\tlearn: 18.8752736\ttotal: 387ms\tremaining: 84.9ms\n",
      "84:\tlearn: 18.7656124\ttotal: 400ms\tremaining: 70.6ms\n",
      "87:\tlearn: 18.6526437\ttotal: 414ms\tremaining: 56.5ms\n",
      "90:\tlearn: 18.5374012\ttotal: 427ms\tremaining: 42.2ms\n",
      "93:\tlearn: 18.4168844\ttotal: 440ms\tremaining: 28.1ms\n",
      "96:\tlearn: 18.3407267\ttotal: 454ms\tremaining: 14ms\n",
      "99:\tlearn: 18.2282224\ttotal: 468ms\tremaining: 0us\n",
      "0:\tlearn: 28.3422530\ttotal: 3.64ms\tremaining: 360ms\n",
      "3:\tlearn: 25.2944473\ttotal: 13ms\tremaining: 313ms\n",
      "6:\tlearn: 22.8852162\ttotal: 22ms\tremaining: 292ms\n",
      "9:\tlearn: 21.1328490\ttotal: 31ms\tremaining: 279ms\n",
      "12:\tlearn: 19.8093399\ttotal: 40.4ms\tremaining: 271ms\n",
      "15:\tlearn: 18.8192028\ttotal: 49.9ms\tremaining: 262ms\n",
      "18:\tlearn: 18.0467777\ttotal: 59ms\tremaining: 252ms\n",
      "21:\tlearn: 17.4272608\ttotal: 68.1ms\tremaining: 241ms\n",
      "24:\tlearn: 16.7875958\ttotal: 77.3ms\tremaining: 232ms\n",
      "27:\tlearn: 16.2317358\ttotal: 86.3ms\tremaining: 222ms\n",
      "30:\tlearn: 15.8120386\ttotal: 95.3ms\tremaining: 212ms\n",
      "33:\tlearn: 15.3516546\ttotal: 104ms\tremaining: 203ms\n",
      "36:\tlearn: 14.9991957\ttotal: 113ms\tremaining: 193ms\n",
      "39:\tlearn: 14.7537856\ttotal: 122ms\tremaining: 183ms\n",
      "42:\tlearn: 14.5589072\ttotal: 131ms\tremaining: 174ms\n",
      "45:\tlearn: 14.3127322\ttotal: 141ms\tremaining: 165ms\n",
      "48:\tlearn: 14.0608203\ttotal: 150ms\tremaining: 156ms\n",
      "51:\tlearn: 13.8001578\ttotal: 159ms\tremaining: 147ms\n",
      "54:\tlearn: 13.5709265\ttotal: 168ms\tremaining: 137ms\n",
      "57:\tlearn: 13.3469604\ttotal: 177ms\tremaining: 128ms\n",
      "60:\tlearn: 13.1215044\ttotal: 187ms\tremaining: 119ms\n",
      "63:\tlearn: 12.9312429\ttotal: 195ms\tremaining: 110ms\n",
      "66:\tlearn: 12.6544404\ttotal: 204ms\tremaining: 100ms\n",
      "69:\tlearn: 12.5030046\ttotal: 213ms\tremaining: 91.1ms\n",
      "72:\tlearn: 12.2790706\ttotal: 223ms\tremaining: 82.4ms\n",
      "75:\tlearn: 12.1062931\ttotal: 232ms\tremaining: 73.1ms\n",
      "78:\tlearn: 11.9334697\ttotal: 240ms\tremaining: 63.8ms\n",
      "81:\tlearn: 11.7980309\ttotal: 249ms\tremaining: 54.6ms\n",
      "84:\tlearn: 11.6461490\ttotal: 258ms\tremaining: 45.5ms\n",
      "87:\tlearn: 11.4484044\ttotal: 267ms\tremaining: 36.3ms\n",
      "90:\tlearn: 11.2423176\ttotal: 275ms\tremaining: 27.2ms\n",
      "93:\tlearn: 11.0066094\ttotal: 284ms\tremaining: 18.1ms\n",
      "96:\tlearn: 10.8532648\ttotal: 292ms\tremaining: 9.03ms\n",
      "99:\tlearn: 10.6816512\ttotal: 301ms\tremaining: 0us\n",
      "0:\tlearn: 29.1785786\ttotal: 3.87ms\tremaining: 383ms\n",
      "3:\tlearn: 26.0397398\ttotal: 14.8ms\tremaining: 355ms\n",
      "6:\tlearn: 23.8053151\ttotal: 25.3ms\tremaining: 337ms\n",
      "9:\tlearn: 22.2253048\ttotal: 35.9ms\tremaining: 323ms\n",
      "12:\tlearn: 21.0138861\ttotal: 46.5ms\tremaining: 311ms\n",
      "15:\tlearn: 20.1732534\ttotal: 57ms\tremaining: 299ms\n",
      "18:\tlearn: 19.5533146\ttotal: 67.7ms\tremaining: 289ms\n",
      "21:\tlearn: 18.9673254\ttotal: 78.3ms\tremaining: 278ms\n",
      "24:\tlearn: 18.5404032\ttotal: 88.5ms\tremaining: 265ms\n",
      "27:\tlearn: 18.1108238\ttotal: 99.1ms\tremaining: 255ms\n",
      "30:\tlearn: 17.7284679\ttotal: 113ms\tremaining: 251ms\n",
      "33:\tlearn: 17.4217101\ttotal: 126ms\tremaining: 245ms\n",
      "36:\tlearn: 17.1737665\ttotal: 137ms\tremaining: 234ms\n",
      "39:\tlearn: 16.9285259\ttotal: 150ms\tremaining: 225ms\n",
      "42:\tlearn: 16.6553076\ttotal: 161ms\tremaining: 214ms\n",
      "45:\tlearn: 16.4086592\ttotal: 172ms\tremaining: 202ms\n",
      "48:\tlearn: 16.1609828\ttotal: 183ms\tremaining: 190ms\n",
      "51:\tlearn: 15.9766877\ttotal: 194ms\tremaining: 179ms\n",
      "54:\tlearn: 15.7384117\ttotal: 204ms\tremaining: 167ms\n",
      "57:\tlearn: 15.4993849\ttotal: 214ms\tremaining: 155ms\n",
      "60:\tlearn: 15.3060129\ttotal: 225ms\tremaining: 144ms\n",
      "63:\tlearn: 15.1668445\ttotal: 235ms\tremaining: 132ms\n",
      "66:\tlearn: 15.0218793\ttotal: 245ms\tremaining: 121ms\n",
      "69:\tlearn: 14.8607185\ttotal: 256ms\tremaining: 110ms\n",
      "72:\tlearn: 14.7573526\ttotal: 266ms\tremaining: 98.4ms\n",
      "75:\tlearn: 14.5842583\ttotal: 276ms\tremaining: 87.1ms\n",
      "78:\tlearn: 14.4300977\ttotal: 286ms\tremaining: 76ms\n",
      "81:\tlearn: 14.1806374\ttotal: 296ms\tremaining: 65ms\n",
      "84:\tlearn: 14.0614967\ttotal: 306ms\tremaining: 54.1ms\n",
      "87:\tlearn: 13.8896219\ttotal: 316ms\tremaining: 43.1ms\n",
      "90:\tlearn: 13.7861193\ttotal: 327ms\tremaining: 32.3ms\n",
      "93:\tlearn: 13.6175882\ttotal: 337ms\tremaining: 21.5ms\n",
      "96:\tlearn: 13.4351839\ttotal: 348ms\tremaining: 10.8ms\n",
      "99:\tlearn: 13.2675626\ttotal: 358ms\tremaining: 0us\n",
      "0:\tlearn: 30.5719522\ttotal: 4.2ms\tremaining: 416ms\n",
      "3:\tlearn: 27.2369518\ttotal: 16.7ms\tremaining: 400ms\n",
      "6:\tlearn: 24.9666177\ttotal: 29.1ms\tremaining: 387ms\n",
      "9:\tlearn: 23.4295415\ttotal: 40.7ms\tremaining: 366ms\n",
      "12:\tlearn: 22.1637584\ttotal: 52.3ms\tremaining: 350ms\n",
      "15:\tlearn: 21.2627083\ttotal: 63.5ms\tremaining: 333ms\n",
      "18:\tlearn: 20.5968703\ttotal: 75ms\tremaining: 320ms\n",
      "21:\tlearn: 20.0668289\ttotal: 86.5ms\tremaining: 307ms\n",
      "24:\tlearn: 19.5569908\ttotal: 98ms\tremaining: 294ms\n",
      "27:\tlearn: 19.2363304\ttotal: 109ms\tremaining: 281ms\n",
      "30:\tlearn: 18.9075853\ttotal: 121ms\tremaining: 270ms\n",
      "33:\tlearn: 18.5505539\ttotal: 133ms\tremaining: 258ms\n",
      "36:\tlearn: 18.2932759\ttotal: 144ms\tremaining: 246ms\n",
      "39:\tlearn: 18.0837476\ttotal: 156ms\tremaining: 234ms\n",
      "42:\tlearn: 17.9351902\ttotal: 169ms\tremaining: 223ms\n",
      "45:\tlearn: 17.6975458\ttotal: 181ms\tremaining: 212ms\n",
      "48:\tlearn: 17.4981635\ttotal: 193ms\tremaining: 201ms\n",
      "51:\tlearn: 17.3010839\ttotal: 205ms\tremaining: 189ms\n",
      "54:\tlearn: 17.1296041\ttotal: 216ms\tremaining: 177ms\n",
      "57:\tlearn: 16.9791990\ttotal: 228ms\tremaining: 165ms\n",
      "60:\tlearn: 16.8139229\ttotal: 239ms\tremaining: 153ms\n",
      "63:\tlearn: 16.6565020\ttotal: 250ms\tremaining: 141ms\n",
      "66:\tlearn: 16.5577578\ttotal: 261ms\tremaining: 129ms\n",
      "69:\tlearn: 16.4298921\ttotal: 273ms\tremaining: 117ms\n",
      "72:\tlearn: 16.2836653\ttotal: 284ms\tremaining: 105ms\n",
      "75:\tlearn: 16.0888842\ttotal: 297ms\tremaining: 93.8ms\n",
      "78:\tlearn: 15.8937538\ttotal: 309ms\tremaining: 82.1ms\n",
      "81:\tlearn: 15.7699213\ttotal: 321ms\tremaining: 70.5ms\n",
      "84:\tlearn: 15.6163537\ttotal: 333ms\tremaining: 58.8ms\n",
      "87:\tlearn: 15.4670632\ttotal: 345ms\tremaining: 47.1ms\n",
      "90:\tlearn: 15.3549846\ttotal: 358ms\tremaining: 35.4ms\n",
      "93:\tlearn: 15.2837265\ttotal: 370ms\tremaining: 23.6ms\n",
      "96:\tlearn: 15.1484137\ttotal: 382ms\tremaining: 11.8ms\n",
      "99:\tlearn: 15.0848711\ttotal: 395ms\tremaining: 0us\n",
      "0:\tlearn: 32.0733951\ttotal: 4.87ms\tremaining: 482ms\n",
      "3:\tlearn: 28.4987629\ttotal: 18ms\tremaining: 433ms\n",
      "6:\tlearn: 26.0377656\ttotal: 30.7ms\tremaining: 408ms\n",
      "9:\tlearn: 24.4060528\ttotal: 43.9ms\tremaining: 395ms\n",
      "12:\tlearn: 23.2544237\ttotal: 56.9ms\tremaining: 381ms\n",
      "15:\tlearn: 22.3527225\ttotal: 69.5ms\tremaining: 365ms\n",
      "18:\tlearn: 21.7400350\ttotal: 82.4ms\tremaining: 351ms\n",
      "21:\tlearn: 21.2268586\ttotal: 95.4ms\tremaining: 338ms\n",
      "24:\tlearn: 20.7681619\ttotal: 109ms\tremaining: 326ms\n",
      "27:\tlearn: 20.4853443\ttotal: 125ms\tremaining: 322ms\n",
      "30:\tlearn: 20.2211558\ttotal: 140ms\tremaining: 313ms\n",
      "33:\tlearn: 19.9296608\ttotal: 154ms\tremaining: 298ms\n",
      "36:\tlearn: 19.6892146\ttotal: 166ms\tremaining: 283ms\n",
      "39:\tlearn: 19.4884463\ttotal: 178ms\tremaining: 268ms\n",
      "42:\tlearn: 19.2750274\ttotal: 193ms\tremaining: 255ms\n",
      "45:\tlearn: 19.0911376\ttotal: 206ms\tremaining: 242ms\n",
      "48:\tlearn: 18.8884177\ttotal: 219ms\tremaining: 228ms\n",
      "51:\tlearn: 18.7211783\ttotal: 233ms\tremaining: 215ms\n",
      "54:\tlearn: 18.5753688\ttotal: 245ms\tremaining: 201ms\n",
      "57:\tlearn: 18.4639229\ttotal: 258ms\tremaining: 187ms\n",
      "60:\tlearn: 18.3364994\ttotal: 271ms\tremaining: 173ms\n",
      "63:\tlearn: 18.2429500\ttotal: 283ms\tremaining: 159ms\n",
      "66:\tlearn: 18.0769580\ttotal: 296ms\tremaining: 146ms\n",
      "69:\tlearn: 17.9138557\ttotal: 308ms\tremaining: 132ms\n",
      "72:\tlearn: 17.7971441\ttotal: 320ms\tremaining: 119ms\n",
      "75:\tlearn: 17.6531657\ttotal: 333ms\tremaining: 105ms\n",
      "78:\tlearn: 17.5256423\ttotal: 346ms\tremaining: 92ms\n",
      "81:\tlearn: 17.4175522\ttotal: 358ms\tremaining: 78.7ms\n",
      "84:\tlearn: 17.3048525\ttotal: 371ms\tremaining: 65.4ms\n",
      "87:\tlearn: 17.1883932\ttotal: 384ms\tremaining: 52.3ms\n",
      "90:\tlearn: 17.0629273\ttotal: 396ms\tremaining: 39.2ms\n",
      "93:\tlearn: 16.9282667\ttotal: 409ms\tremaining: 26.1ms\n",
      "96:\tlearn: 16.8610591\ttotal: 422ms\tremaining: 13.1ms\n",
      "99:\tlearn: 16.7101457\ttotal: 435ms\tremaining: 0us\n",
      "0:\tlearn: 33.3825511\ttotal: 5.25ms\tremaining: 519ms\n",
      "3:\tlearn: 29.6602883\ttotal: 19.8ms\tremaining: 475ms\n",
      "6:\tlearn: 27.2303488\ttotal: 33.7ms\tremaining: 448ms\n",
      "9:\tlearn: 25.5808785\ttotal: 49.4ms\tremaining: 445ms\n",
      "12:\tlearn: 24.4828425\ttotal: 63.5ms\tremaining: 425ms\n",
      "15:\tlearn: 23.6301203\ttotal: 78.3ms\tremaining: 411ms\n",
      "18:\tlearn: 22.9890541\ttotal: 93.2ms\tremaining: 397ms\n",
      "21:\tlearn: 22.4645174\ttotal: 107ms\tremaining: 379ms\n",
      "24:\tlearn: 22.0543723\ttotal: 121ms\tremaining: 362ms\n",
      "27:\tlearn: 21.7638146\ttotal: 135ms\tremaining: 348ms\n",
      "30:\tlearn: 21.4488610\ttotal: 149ms\tremaining: 332ms\n",
      "33:\tlearn: 21.1865807\ttotal: 164ms\tremaining: 318ms\n",
      "36:\tlearn: 20.9759636\ttotal: 179ms\tremaining: 304ms\n",
      "39:\tlearn: 20.8009896\ttotal: 193ms\tremaining: 290ms\n",
      "42:\tlearn: 20.6479507\ttotal: 207ms\tremaining: 274ms\n",
      "45:\tlearn: 20.4626623\ttotal: 221ms\tremaining: 259ms\n",
      "48:\tlearn: 20.2446970\ttotal: 234ms\tremaining: 244ms\n",
      "51:\tlearn: 20.0787370\ttotal: 248ms\tremaining: 229ms\n",
      "54:\tlearn: 19.9181227\ttotal: 261ms\tremaining: 214ms\n",
      "57:\tlearn: 19.7704710\ttotal: 274ms\tremaining: 199ms\n",
      "60:\tlearn: 19.6671295\ttotal: 287ms\tremaining: 184ms\n",
      "63:\tlearn: 19.5483067\ttotal: 301ms\tremaining: 169ms\n",
      "66:\tlearn: 19.4538995\ttotal: 314ms\tremaining: 155ms\n",
      "69:\tlearn: 19.3126861\ttotal: 328ms\tremaining: 140ms\n",
      "72:\tlearn: 19.2002221\ttotal: 341ms\tremaining: 126ms\n",
      "75:\tlearn: 19.0999301\ttotal: 355ms\tremaining: 112ms\n",
      "78:\tlearn: 18.9889288\ttotal: 368ms\tremaining: 97.9ms\n",
      "81:\tlearn: 18.8752736\ttotal: 383ms\tremaining: 84ms\n",
      "84:\tlearn: 18.7656124\ttotal: 397ms\tremaining: 70.1ms\n",
      "87:\tlearn: 18.6526437\ttotal: 411ms\tremaining: 56ms\n",
      "90:\tlearn: 18.5374012\ttotal: 425ms\tremaining: 42ms\n",
      "93:\tlearn: 18.4168844\ttotal: 438ms\tremaining: 28ms\n",
      "96:\tlearn: 18.3407267\ttotal: 451ms\tremaining: 13.9ms\n",
      "99:\tlearn: 18.2282224\ttotal: 465ms\tremaining: 0us\n",
      "0:\tlearn: 28.3514819\ttotal: 7ms\tremaining: 693ms\n",
      "3:\tlearn: 25.1570737\ttotal: 21.9ms\tremaining: 526ms\n",
      "6:\tlearn: 22.9186122\ttotal: 36.4ms\tremaining: 484ms\n",
      "9:\tlearn: 21.0094324\ttotal: 51.8ms\tremaining: 466ms\n",
      "12:\tlearn: 19.5940197\ttotal: 66.4ms\tremaining: 444ms\n",
      "15:\tlearn: 18.5408337\ttotal: 83.7ms\tremaining: 439ms\n",
      "18:\tlearn: 17.6313022\ttotal: 102ms\tremaining: 435ms\n",
      "21:\tlearn: 16.8719704\ttotal: 118ms\tremaining: 418ms\n",
      "24:\tlearn: 16.2842553\ttotal: 133ms\tremaining: 399ms\n",
      "27:\tlearn: 15.7572294\ttotal: 148ms\tremaining: 380ms\n",
      "30:\tlearn: 15.3961375\ttotal: 162ms\tremaining: 362ms\n",
      "33:\tlearn: 14.9845229\ttotal: 179ms\tremaining: 347ms\n",
      "36:\tlearn: 14.5956251\ttotal: 195ms\tremaining: 332ms\n",
      "39:\tlearn: 14.2174067\ttotal: 211ms\tremaining: 316ms\n",
      "42:\tlearn: 13.8502676\ttotal: 226ms\tremaining: 299ms\n",
      "45:\tlearn: 13.4727989\ttotal: 241ms\tremaining: 282ms\n",
      "48:\tlearn: 13.1564500\ttotal: 255ms\tremaining: 265ms\n",
      "51:\tlearn: 12.9048175\ttotal: 269ms\tremaining: 248ms\n",
      "54:\tlearn: 12.6443002\ttotal: 283ms\tremaining: 231ms\n",
      "57:\tlearn: 12.3601838\ttotal: 297ms\tremaining: 215ms\n",
      "60:\tlearn: 12.0395715\ttotal: 312ms\tremaining: 199ms\n",
      "63:\tlearn: 11.7910160\ttotal: 326ms\tremaining: 183ms\n",
      "66:\tlearn: 11.5511491\ttotal: 340ms\tremaining: 168ms\n",
      "69:\tlearn: 11.3343802\ttotal: 355ms\tremaining: 152ms\n",
      "72:\tlearn: 11.1437292\ttotal: 369ms\tremaining: 137ms\n",
      "75:\tlearn: 11.0214297\ttotal: 383ms\tremaining: 121ms\n",
      "78:\tlearn: 10.7659613\ttotal: 398ms\tremaining: 106ms\n",
      "81:\tlearn: 10.5757130\ttotal: 412ms\tremaining: 90.5ms\n",
      "84:\tlearn: 10.4159872\ttotal: 427ms\tremaining: 75.3ms\n",
      "87:\tlearn: 10.2019786\ttotal: 441ms\tremaining: 60.2ms\n",
      "90:\tlearn: 10.0702863\ttotal: 456ms\tremaining: 45.1ms\n",
      "93:\tlearn: 9.9702958\ttotal: 471ms\tremaining: 30.1ms\n",
      "96:\tlearn: 9.7325307\ttotal: 486ms\tremaining: 15ms\n",
      "99:\tlearn: 9.6482588\ttotal: 501ms\tremaining: 0us\n",
      "0:\tlearn: 29.1205812\ttotal: 7.63ms\tremaining: 756ms\n",
      "3:\tlearn: 25.9727731\ttotal: 25.2ms\tremaining: 606ms\n",
      "6:\tlearn: 23.7677116\ttotal: 43.5ms\tremaining: 577ms\n",
      "9:\tlearn: 22.1313503\ttotal: 61.5ms\tremaining: 553ms\n",
      "12:\tlearn: 20.8912172\ttotal: 79.2ms\tremaining: 530ms\n",
      "15:\tlearn: 19.9139022\ttotal: 96.5ms\tremaining: 507ms\n",
      "18:\tlearn: 19.1117107\ttotal: 114ms\tremaining: 484ms\n",
      "21:\tlearn: 18.4422863\ttotal: 131ms\tremaining: 463ms\n",
      "24:\tlearn: 17.9903191\ttotal: 147ms\tremaining: 442ms\n",
      "27:\tlearn: 17.6211502\ttotal: 165ms\tremaining: 424ms\n",
      "30:\tlearn: 17.1870986\ttotal: 182ms\tremaining: 405ms\n",
      "33:\tlearn: 16.8128339\ttotal: 199ms\tremaining: 386ms\n",
      "36:\tlearn: 16.4756991\ttotal: 216ms\tremaining: 367ms\n",
      "39:\tlearn: 16.1301921\ttotal: 232ms\tremaining: 348ms\n",
      "42:\tlearn: 15.8432892\ttotal: 249ms\tremaining: 331ms\n",
      "45:\tlearn: 15.6202305\ttotal: 266ms\tremaining: 312ms\n",
      "48:\tlearn: 15.3939054\ttotal: 282ms\tremaining: 294ms\n",
      "51:\tlearn: 15.1611347\ttotal: 299ms\tremaining: 276ms\n",
      "54:\tlearn: 14.9310769\ttotal: 317ms\tremaining: 259ms\n",
      "57:\tlearn: 14.7431234\ttotal: 341ms\tremaining: 247ms\n",
      "60:\tlearn: 14.4640417\ttotal: 367ms\tremaining: 234ms\n",
      "63:\tlearn: 14.2357798\ttotal: 388ms\tremaining: 218ms\n",
      "66:\tlearn: 13.9922292\ttotal: 411ms\tremaining: 202ms\n",
      "69:\tlearn: 13.8384437\ttotal: 432ms\tremaining: 185ms\n",
      "72:\tlearn: 13.6215322\ttotal: 453ms\tremaining: 168ms\n",
      "75:\tlearn: 13.4538750\ttotal: 475ms\tremaining: 150ms\n",
      "78:\tlearn: 13.4264150\ttotal: 498ms\tremaining: 132ms\n",
      "81:\tlearn: 13.2529590\ttotal: 523ms\tremaining: 115ms\n",
      "84:\tlearn: 13.1315545\ttotal: 542ms\tremaining: 95.7ms\n",
      "87:\tlearn: 12.9294829\ttotal: 560ms\tremaining: 76.3ms\n",
      "90:\tlearn: 12.7411730\ttotal: 577ms\tremaining: 57ms\n",
      "93:\tlearn: 12.6025645\ttotal: 594ms\tremaining: 37.9ms\n",
      "96:\tlearn: 12.4332368\ttotal: 611ms\tremaining: 18.9ms\n",
      "99:\tlearn: 12.4177740\ttotal: 628ms\tremaining: 0us\n",
      "0:\tlearn: 30.5837762\ttotal: 8.32ms\tremaining: 823ms\n",
      "3:\tlearn: 27.3238790\ttotal: 27.8ms\tremaining: 668ms\n",
      "6:\tlearn: 24.7084968\ttotal: 47.1ms\tremaining: 626ms\n",
      "9:\tlearn: 23.1185481\ttotal: 66.5ms\tremaining: 599ms\n",
      "12:\tlearn: 21.8071699\ttotal: 85.9ms\tremaining: 575ms\n",
      "15:\tlearn: 20.9188213\ttotal: 105ms\tremaining: 552ms\n",
      "18:\tlearn: 20.1607702\ttotal: 124ms\tremaining: 531ms\n",
      "21:\tlearn: 19.6209339\ttotal: 144ms\tremaining: 509ms\n",
      "24:\tlearn: 19.1632681\ttotal: 163ms\tremaining: 489ms\n",
      "27:\tlearn: 18.6998901\ttotal: 183ms\tremaining: 470ms\n",
      "30:\tlearn: 18.3195094\ttotal: 203ms\tremaining: 452ms\n",
      "33:\tlearn: 17.9626509\ttotal: 222ms\tremaining: 432ms\n",
      "36:\tlearn: 17.6305618\ttotal: 241ms\tremaining: 411ms\n",
      "39:\tlearn: 17.3320143\ttotal: 261ms\tremaining: 391ms\n",
      "42:\tlearn: 17.0996305\ttotal: 281ms\tremaining: 372ms\n",
      "45:\tlearn: 16.8703449\ttotal: 300ms\tremaining: 352ms\n",
      "48:\tlearn: 16.6017671\ttotal: 320ms\tremaining: 333ms\n",
      "51:\tlearn: 16.3712893\ttotal: 341ms\tremaining: 315ms\n",
      "54:\tlearn: 16.1713880\ttotal: 359ms\tremaining: 294ms\n",
      "57:\tlearn: 15.9950917\ttotal: 379ms\tremaining: 274ms\n",
      "60:\tlearn: 15.8004968\ttotal: 397ms\tremaining: 254ms\n",
      "63:\tlearn: 15.6279450\ttotal: 416ms\tremaining: 234ms\n",
      "66:\tlearn: 15.4781143\ttotal: 434ms\tremaining: 214ms\n",
      "69:\tlearn: 15.3144510\ttotal: 453ms\tremaining: 194ms\n",
      "72:\tlearn: 15.1510740\ttotal: 473ms\tremaining: 175ms\n",
      "75:\tlearn: 15.0269339\ttotal: 492ms\tremaining: 155ms\n",
      "78:\tlearn: 14.9019432\ttotal: 512ms\tremaining: 136ms\n",
      "81:\tlearn: 14.7801274\ttotal: 531ms\tremaining: 117ms\n",
      "84:\tlearn: 14.5947111\ttotal: 550ms\tremaining: 97.1ms\n",
      "87:\tlearn: 14.3881600\ttotal: 569ms\tremaining: 77.6ms\n",
      "90:\tlearn: 14.1963872\ttotal: 589ms\tremaining: 58.2ms\n",
      "93:\tlearn: 14.0128727\ttotal: 608ms\tremaining: 38.8ms\n",
      "96:\tlearn: 13.8554254\ttotal: 628ms\tremaining: 19.4ms\n",
      "99:\tlearn: 13.7158193\ttotal: 647ms\tremaining: 0us\n",
      "0:\tlearn: 32.0490658\ttotal: 8.8ms\tremaining: 871ms\n",
      "3:\tlearn: 28.5463195\ttotal: 30.3ms\tremaining: 728ms\n",
      "6:\tlearn: 25.9576890\ttotal: 51.2ms\tremaining: 680ms\n",
      "9:\tlearn: 24.2190963\ttotal: 71.7ms\tremaining: 645ms\n",
      "12:\tlearn: 22.9942723\ttotal: 92.8ms\tremaining: 621ms\n",
      "15:\tlearn: 22.1158640\ttotal: 114ms\tremaining: 598ms\n",
      "18:\tlearn: 21.4679278\ttotal: 136ms\tremaining: 580ms\n",
      "21:\tlearn: 20.9369951\ttotal: 157ms\tremaining: 557ms\n",
      "24:\tlearn: 20.4821498\ttotal: 180ms\tremaining: 540ms\n",
      "27:\tlearn: 20.0791071\ttotal: 205ms\tremaining: 527ms\n",
      "30:\tlearn: 19.6581480\ttotal: 231ms\tremaining: 514ms\n",
      "33:\tlearn: 19.3857397\ttotal: 254ms\tremaining: 493ms\n",
      "36:\tlearn: 19.1380878\ttotal: 276ms\tremaining: 470ms\n",
      "39:\tlearn: 18.8488297\ttotal: 301ms\tremaining: 451ms\n",
      "42:\tlearn: 18.6358247\ttotal: 323ms\tremaining: 428ms\n",
      "45:\tlearn: 18.4378466\ttotal: 343ms\tremaining: 402ms\n",
      "48:\tlearn: 18.2710950\ttotal: 363ms\tremaining: 378ms\n",
      "51:\tlearn: 18.0985003\ttotal: 383ms\tremaining: 354ms\n",
      "54:\tlearn: 17.9465936\ttotal: 404ms\tremaining: 331ms\n",
      "57:\tlearn: 17.7519336\ttotal: 425ms\tremaining: 307ms\n",
      "60:\tlearn: 17.5756894\ttotal: 445ms\tremaining: 285ms\n",
      "63:\tlearn: 17.3832770\ttotal: 466ms\tremaining: 262ms\n",
      "66:\tlearn: 17.2102351\ttotal: 490ms\tremaining: 241ms\n",
      "69:\tlearn: 17.0042772\ttotal: 515ms\tremaining: 221ms\n",
      "72:\tlearn: 16.8156544\ttotal: 536ms\tremaining: 198ms\n",
      "75:\tlearn: 16.6206432\ttotal: 557ms\tremaining: 176ms\n",
      "78:\tlearn: 16.4728895\ttotal: 577ms\tremaining: 153ms\n",
      "81:\tlearn: 16.3259537\ttotal: 598ms\tremaining: 131ms\n",
      "84:\tlearn: 16.1573600\ttotal: 619ms\tremaining: 109ms\n",
      "87:\tlearn: 16.0476056\ttotal: 641ms\tremaining: 87.4ms\n",
      "90:\tlearn: 15.8921709\ttotal: 661ms\tremaining: 65.4ms\n",
      "93:\tlearn: 15.7508533\ttotal: 682ms\tremaining: 43.5ms\n",
      "96:\tlearn: 15.5831043\ttotal: 704ms\tremaining: 21.8ms\n",
      "99:\tlearn: 15.4416861\ttotal: 726ms\tremaining: 0us\n",
      "0:\tlearn: 33.3582487\ttotal: 9ms\tremaining: 891ms\n",
      "3:\tlearn: 29.7275015\ttotal: 31.8ms\tremaining: 763ms\n",
      "6:\tlearn: 27.0927647\ttotal: 54.4ms\tremaining: 723ms\n",
      "9:\tlearn: 25.2759207\ttotal: 76.1ms\tremaining: 685ms\n",
      "12:\tlearn: 24.0628249\ttotal: 98.4ms\tremaining: 659ms\n",
      "15:\tlearn: 23.1058480\ttotal: 121ms\tremaining: 634ms\n",
      "18:\tlearn: 22.3538207\ttotal: 143ms\tremaining: 611ms\n",
      "21:\tlearn: 21.8224924\ttotal: 166ms\tremaining: 588ms\n",
      "24:\tlearn: 21.3470364\ttotal: 189ms\tremaining: 568ms\n",
      "27:\tlearn: 20.9877368\ttotal: 212ms\tremaining: 546ms\n",
      "30:\tlearn: 20.6666163\ttotal: 235ms\tremaining: 523ms\n",
      "33:\tlearn: 20.4242316\ttotal: 258ms\tremaining: 501ms\n",
      "36:\tlearn: 20.1812073\ttotal: 280ms\tremaining: 477ms\n",
      "39:\tlearn: 19.9308035\ttotal: 302ms\tremaining: 454ms\n",
      "42:\tlearn: 19.7271058\ttotal: 324ms\tremaining: 429ms\n",
      "45:\tlearn: 19.5197937\ttotal: 346ms\tremaining: 406ms\n",
      "48:\tlearn: 19.2871038\ttotal: 367ms\tremaining: 382ms\n",
      "51:\tlearn: 19.0868292\ttotal: 390ms\tremaining: 360ms\n",
      "54:\tlearn: 18.9599316\ttotal: 412ms\tremaining: 337ms\n",
      "57:\tlearn: 18.7827254\ttotal: 438ms\tremaining: 317ms\n",
      "60:\tlearn: 18.5818002\ttotal: 461ms\tremaining: 295ms\n",
      "63:\tlearn: 18.4600699\ttotal: 483ms\tremaining: 272ms\n",
      "66:\tlearn: 18.3071312\ttotal: 505ms\tremaining: 249ms\n",
      "69:\tlearn: 18.1525121\ttotal: 528ms\tremaining: 226ms\n",
      "72:\tlearn: 17.9617538\ttotal: 550ms\tremaining: 204ms\n",
      "75:\tlearn: 17.8276156\ttotal: 573ms\tremaining: 181ms\n",
      "78:\tlearn: 17.6836263\ttotal: 597ms\tremaining: 159ms\n",
      "81:\tlearn: 17.5461672\ttotal: 621ms\tremaining: 136ms\n",
      "84:\tlearn: 17.4225751\ttotal: 644ms\tremaining: 114ms\n",
      "87:\tlearn: 17.2794746\ttotal: 669ms\tremaining: 91.2ms\n",
      "90:\tlearn: 17.1540798\ttotal: 693ms\tremaining: 68.5ms\n",
      "93:\tlearn: 17.0382417\ttotal: 715ms\tremaining: 45.6ms\n",
      "96:\tlearn: 16.8819173\ttotal: 738ms\tremaining: 22.8ms\n",
      "99:\tlearn: 16.7410305\ttotal: 762ms\tremaining: 0us\n",
      "0:\tlearn: 28.3514819\ttotal: 5.77ms\tremaining: 572ms\n",
      "3:\tlearn: 25.1570737\ttotal: 21.3ms\tremaining: 512ms\n",
      "6:\tlearn: 22.9186122\ttotal: 36.7ms\tremaining: 488ms\n",
      "9:\tlearn: 21.0094324\ttotal: 51.7ms\tremaining: 465ms\n",
      "12:\tlearn: 19.5940197\ttotal: 66.5ms\tremaining: 445ms\n",
      "15:\tlearn: 18.5408337\ttotal: 81.3ms\tremaining: 427ms\n",
      "18:\tlearn: 17.6313022\ttotal: 96.5ms\tremaining: 411ms\n",
      "21:\tlearn: 16.8719704\ttotal: 111ms\tremaining: 394ms\n",
      "24:\tlearn: 16.2842553\ttotal: 126ms\tremaining: 377ms\n",
      "27:\tlearn: 15.7572294\ttotal: 140ms\tremaining: 361ms\n",
      "30:\tlearn: 15.3961375\ttotal: 155ms\tremaining: 345ms\n",
      "33:\tlearn: 14.9845229\ttotal: 169ms\tremaining: 329ms\n",
      "36:\tlearn: 14.5956251\ttotal: 184ms\tremaining: 313ms\n",
      "39:\tlearn: 14.2174067\ttotal: 199ms\tremaining: 298ms\n",
      "42:\tlearn: 13.8502676\ttotal: 214ms\tremaining: 283ms\n",
      "45:\tlearn: 13.4727989\ttotal: 228ms\tremaining: 267ms\n",
      "48:\tlearn: 13.1564500\ttotal: 242ms\tremaining: 252ms\n",
      "51:\tlearn: 12.9048175\ttotal: 256ms\tremaining: 236ms\n",
      "54:\tlearn: 12.6443002\ttotal: 271ms\tremaining: 222ms\n",
      "57:\tlearn: 12.3601838\ttotal: 286ms\tremaining: 207ms\n",
      "60:\tlearn: 12.0395715\ttotal: 301ms\tremaining: 192ms\n",
      "63:\tlearn: 11.7910160\ttotal: 316ms\tremaining: 178ms\n",
      "66:\tlearn: 11.5511491\ttotal: 331ms\tremaining: 163ms\n",
      "69:\tlearn: 11.3343802\ttotal: 346ms\tremaining: 148ms\n",
      "72:\tlearn: 11.1437292\ttotal: 360ms\tremaining: 133ms\n",
      "75:\tlearn: 11.0214297\ttotal: 375ms\tremaining: 118ms\n",
      "78:\tlearn: 10.7659613\ttotal: 390ms\tremaining: 104ms\n",
      "81:\tlearn: 10.5757130\ttotal: 404ms\tremaining: 88.7ms\n",
      "84:\tlearn: 10.4159872\ttotal: 418ms\tremaining: 73.8ms\n",
      "87:\tlearn: 10.2019786\ttotal: 433ms\tremaining: 59.1ms\n",
      "90:\tlearn: 10.0702863\ttotal: 448ms\tremaining: 44.3ms\n",
      "93:\tlearn: 9.9702958\ttotal: 462ms\tremaining: 29.5ms\n",
      "96:\tlearn: 9.7325307\ttotal: 477ms\tremaining: 14.7ms\n",
      "99:\tlearn: 9.6482588\ttotal: 491ms\tremaining: 0us\n",
      "0:\tlearn: 29.1205812\ttotal: 6.68ms\tremaining: 662ms\n",
      "3:\tlearn: 25.9727731\ttotal: 24.9ms\tremaining: 597ms\n",
      "6:\tlearn: 23.7677116\ttotal: 45.2ms\tremaining: 601ms\n",
      "9:\tlearn: 22.1313503\ttotal: 65.3ms\tremaining: 588ms\n",
      "12:\tlearn: 20.8912172\ttotal: 85.9ms\tremaining: 575ms\n",
      "15:\tlearn: 19.9139022\ttotal: 144ms\tremaining: 756ms\n",
      "18:\tlearn: 19.1117107\ttotal: 173ms\tremaining: 740ms\n",
      "21:\tlearn: 18.4422863\ttotal: 251ms\tremaining: 890ms\n",
      "24:\tlearn: 17.9903191\ttotal: 274ms\tremaining: 823ms\n",
      "27:\tlearn: 17.6211502\ttotal: 345ms\tremaining: 887ms\n",
      "30:\tlearn: 17.1870986\ttotal: 366ms\tremaining: 816ms\n",
      "33:\tlearn: 16.8128339\ttotal: 439ms\tremaining: 853ms\n",
      "36:\tlearn: 16.4756991\ttotal: 458ms\tremaining: 780ms\n",
      "39:\tlearn: 16.1301921\ttotal: 477ms\tremaining: 715ms\n",
      "42:\tlearn: 15.8432892\ttotal: 544ms\tremaining: 721ms\n",
      "45:\tlearn: 15.6202305\ttotal: 562ms\tremaining: 659ms\n",
      "48:\tlearn: 15.3939054\ttotal: 629ms\tremaining: 654ms\n",
      "51:\tlearn: 15.1611347\ttotal: 648ms\tremaining: 598ms\n",
      "54:\tlearn: 14.9310769\ttotal: 723ms\tremaining: 592ms\n",
      "57:\tlearn: 14.7431234\ttotal: 743ms\tremaining: 538ms\n",
      "60:\tlearn: 14.4640417\ttotal: 761ms\tremaining: 486ms\n",
      "63:\tlearn: 14.2357798\ttotal: 831ms\tremaining: 467ms\n",
      "66:\tlearn: 13.9922292\ttotal: 848ms\tremaining: 418ms\n",
      "69:\tlearn: 13.8384437\ttotal: 866ms\tremaining: 371ms\n",
      "72:\tlearn: 13.6215322\ttotal: 933ms\tremaining: 345ms\n",
      "75:\tlearn: 13.4538750\ttotal: 950ms\tremaining: 300ms\n",
      "78:\tlearn: 13.4264150\ttotal: 970ms\tremaining: 258ms\n",
      "81:\tlearn: 13.2529590\ttotal: 988ms\tremaining: 217ms\n",
      "84:\tlearn: 13.1315545\ttotal: 1.01s\tremaining: 178ms\n",
      "87:\tlearn: 12.9294829\ttotal: 1.07s\tremaining: 146ms\n",
      "90:\tlearn: 12.7411730\ttotal: 1.09s\tremaining: 108ms\n",
      "93:\tlearn: 12.6025645\ttotal: 1.16s\tremaining: 73.8ms\n",
      "96:\tlearn: 12.4332368\ttotal: 1.17s\tremaining: 36.3ms\n",
      "99:\tlearn: 12.4177740\ttotal: 1.19s\tremaining: 0us\n",
      "0:\tlearn: 30.5837762\ttotal: 7.32ms\tremaining: 725ms\n",
      "3:\tlearn: 27.3238790\ttotal: 28.1ms\tremaining: 675ms\n",
      "6:\tlearn: 24.7084968\ttotal: 48.3ms\tremaining: 641ms\n",
      "9:\tlearn: 23.1185481\ttotal: 68ms\tremaining: 612ms\n",
      "12:\tlearn: 21.8071699\ttotal: 88ms\tremaining: 589ms\n",
      "15:\tlearn: 20.9188213\ttotal: 108ms\tremaining: 567ms\n",
      "18:\tlearn: 20.1607702\ttotal: 128ms\tremaining: 546ms\n",
      "21:\tlearn: 19.6209339\ttotal: 147ms\tremaining: 522ms\n",
      "24:\tlearn: 19.1632681\ttotal: 167ms\tremaining: 500ms\n",
      "27:\tlearn: 18.6998901\ttotal: 186ms\tremaining: 478ms\n",
      "30:\tlearn: 18.3195094\ttotal: 207ms\tremaining: 460ms\n",
      "33:\tlearn: 17.9626509\ttotal: 227ms\tremaining: 441ms\n",
      "36:\tlearn: 17.6305618\ttotal: 247ms\tremaining: 421ms\n",
      "39:\tlearn: 17.3320143\ttotal: 267ms\tremaining: 400ms\n",
      "42:\tlearn: 17.0996305\ttotal: 287ms\tremaining: 380ms\n",
      "45:\tlearn: 16.8703449\ttotal: 307ms\tremaining: 360ms\n",
      "48:\tlearn: 16.6017671\ttotal: 327ms\tremaining: 340ms\n",
      "51:\tlearn: 16.3712893\ttotal: 347ms\tremaining: 321ms\n",
      "54:\tlearn: 16.1713880\ttotal: 367ms\tremaining: 301ms\n",
      "57:\tlearn: 15.9950917\ttotal: 387ms\tremaining: 280ms\n",
      "60:\tlearn: 15.8004968\ttotal: 407ms\tremaining: 260ms\n",
      "63:\tlearn: 15.6279450\ttotal: 426ms\tremaining: 240ms\n",
      "66:\tlearn: 15.4781143\ttotal: 445ms\tremaining: 219ms\n",
      "69:\tlearn: 15.3144510\ttotal: 464ms\tremaining: 199ms\n",
      "72:\tlearn: 15.1510740\ttotal: 484ms\tremaining: 179ms\n",
      "75:\tlearn: 15.0269339\ttotal: 503ms\tremaining: 159ms\n",
      "78:\tlearn: 14.9019432\ttotal: 526ms\tremaining: 140ms\n",
      "81:\tlearn: 14.7801274\ttotal: 547ms\tremaining: 120ms\n",
      "84:\tlearn: 14.5947111\ttotal: 566ms\tremaining: 99.9ms\n",
      "87:\tlearn: 14.3881600\ttotal: 599ms\tremaining: 81.7ms\n",
      "90:\tlearn: 14.1963872\ttotal: 619ms\tremaining: 61.2ms\n",
      "93:\tlearn: 14.0128727\ttotal: 638ms\tremaining: 40.7ms\n",
      "96:\tlearn: 13.8554254\ttotal: 660ms\tremaining: 20.4ms\n",
      "99:\tlearn: 13.7158193\ttotal: 684ms\tremaining: 0us\n",
      "0:\tlearn: 32.0490658\ttotal: 7.89ms\tremaining: 781ms\n",
      "3:\tlearn: 28.5463195\ttotal: 46.8ms\tremaining: 1.12s\n",
      "6:\tlearn: 25.9576890\ttotal: 69ms\tremaining: 917ms\n",
      "9:\tlearn: 24.2190963\ttotal: 90.9ms\tremaining: 818ms\n",
      "12:\tlearn: 22.9942723\ttotal: 112ms\tremaining: 751ms\n",
      "15:\tlearn: 22.1158640\ttotal: 185ms\tremaining: 973ms\n",
      "18:\tlearn: 21.4679278\ttotal: 207ms\tremaining: 881ms\n",
      "21:\tlearn: 20.9369951\ttotal: 228ms\tremaining: 809ms\n",
      "24:\tlearn: 20.4821498\ttotal: 250ms\tremaining: 750ms\n",
      "27:\tlearn: 20.0791071\ttotal: 273ms\tremaining: 701ms\n",
      "30:\tlearn: 19.6581480\ttotal: 296ms\tremaining: 660ms\n",
      "33:\tlearn: 19.3857397\ttotal: 317ms\tremaining: 616ms\n",
      "36:\tlearn: 19.1380878\ttotal: 338ms\tremaining: 576ms\n",
      "39:\tlearn: 18.8488297\ttotal: 359ms\tremaining: 538ms\n",
      "42:\tlearn: 18.6358247\ttotal: 380ms\tremaining: 503ms\n",
      "45:\tlearn: 18.4378466\ttotal: 400ms\tremaining: 469ms\n",
      "48:\tlearn: 18.2710950\ttotal: 420ms\tremaining: 437ms\n",
      "51:\tlearn: 18.0985003\ttotal: 441ms\tremaining: 407ms\n",
      "54:\tlearn: 17.9465936\ttotal: 461ms\tremaining: 377ms\n",
      "57:\tlearn: 17.7519336\ttotal: 482ms\tremaining: 349ms\n",
      "60:\tlearn: 17.5756894\ttotal: 504ms\tremaining: 322ms\n",
      "63:\tlearn: 17.3832770\ttotal: 525ms\tremaining: 295ms\n",
      "66:\tlearn: 17.2102351\ttotal: 546ms\tremaining: 269ms\n",
      "69:\tlearn: 17.0042772\ttotal: 573ms\tremaining: 246ms\n",
      "72:\tlearn: 16.8156544\ttotal: 602ms\tremaining: 223ms\n",
      "75:\tlearn: 16.6206432\ttotal: 628ms\tremaining: 198ms\n",
      "78:\tlearn: 16.4728895\ttotal: 656ms\tremaining: 174ms\n",
      "81:\tlearn: 16.3259537\ttotal: 683ms\tremaining: 150ms\n",
      "84:\tlearn: 16.1573600\ttotal: 711ms\tremaining: 125ms\n",
      "87:\tlearn: 16.0476056\ttotal: 731ms\tremaining: 99.7ms\n",
      "90:\tlearn: 15.8921709\ttotal: 752ms\tremaining: 74.4ms\n",
      "93:\tlearn: 15.7508533\ttotal: 773ms\tremaining: 49.3ms\n",
      "96:\tlearn: 15.5831043\ttotal: 793ms\tremaining: 24.5ms\n",
      "99:\tlearn: 15.4416861\ttotal: 815ms\tremaining: 0us\n",
      "0:\tlearn: 33.3582487\ttotal: 8.92ms\tremaining: 883ms\n",
      "3:\tlearn: 29.7275015\ttotal: 33.3ms\tremaining: 798ms\n",
      "6:\tlearn: 27.0927647\ttotal: 57.8ms\tremaining: 769ms\n",
      "9:\tlearn: 25.2759207\ttotal: 86.9ms\tremaining: 782ms\n",
      "12:\tlearn: 24.0628249\ttotal: 110ms\tremaining: 738ms\n",
      "15:\tlearn: 23.1058480\ttotal: 134ms\tremaining: 701ms\n",
      "18:\tlearn: 22.3538207\ttotal: 156ms\tremaining: 666ms\n",
      "21:\tlearn: 21.8224924\ttotal: 179ms\tremaining: 636ms\n",
      "24:\tlearn: 21.3470364\ttotal: 202ms\tremaining: 607ms\n",
      "27:\tlearn: 20.9877368\ttotal: 225ms\tremaining: 580ms\n",
      "30:\tlearn: 20.6666163\ttotal: 248ms\tremaining: 551ms\n",
      "33:\tlearn: 20.4242316\ttotal: 270ms\tremaining: 524ms\n",
      "36:\tlearn: 20.1812073\ttotal: 292ms\tremaining: 497ms\n",
      "39:\tlearn: 19.9308035\ttotal: 315ms\tremaining: 472ms\n",
      "42:\tlearn: 19.7271058\ttotal: 338ms\tremaining: 448ms\n",
      "45:\tlearn: 19.5197937\ttotal: 361ms\tremaining: 423ms\n",
      "48:\tlearn: 19.2871038\ttotal: 385ms\tremaining: 400ms\n",
      "51:\tlearn: 19.0868292\ttotal: 407ms\tremaining: 375ms\n",
      "54:\tlearn: 18.9599316\ttotal: 428ms\tremaining: 351ms\n",
      "57:\tlearn: 18.7827254\ttotal: 451ms\tremaining: 326ms\n",
      "60:\tlearn: 18.5818002\ttotal: 473ms\tremaining: 302ms\n",
      "63:\tlearn: 18.4600699\ttotal: 495ms\tremaining: 278ms\n",
      "66:\tlearn: 18.3071312\ttotal: 518ms\tremaining: 255ms\n",
      "69:\tlearn: 18.1525121\ttotal: 540ms\tremaining: 231ms\n",
      "72:\tlearn: 17.9617538\ttotal: 562ms\tremaining: 208ms\n",
      "75:\tlearn: 17.8276156\ttotal: 583ms\tremaining: 184ms\n",
      "78:\tlearn: 17.6836263\ttotal: 605ms\tremaining: 161ms\n",
      "81:\tlearn: 17.5461672\ttotal: 626ms\tremaining: 138ms\n",
      "84:\tlearn: 17.4225751\ttotal: 648ms\tremaining: 114ms\n",
      "87:\tlearn: 17.2794746\ttotal: 670ms\tremaining: 91.3ms\n",
      "90:\tlearn: 17.1540798\ttotal: 691ms\tremaining: 68.4ms\n",
      "93:\tlearn: 17.0382417\ttotal: 714ms\tremaining: 45.6ms\n",
      "96:\tlearn: 16.8819173\ttotal: 738ms\tremaining: 22.8ms\n",
      "99:\tlearn: 16.7410305\ttotal: 761ms\tremaining: 0us\n",
      "0:\tlearn: 28.3514819\ttotal: 5.91ms\tremaining: 586ms\n",
      "3:\tlearn: 25.1570737\ttotal: 21.4ms\tremaining: 513ms\n",
      "6:\tlearn: 22.9186122\ttotal: 36.3ms\tremaining: 483ms\n",
      "9:\tlearn: 21.0094324\ttotal: 51.1ms\tremaining: 460ms\n",
      "12:\tlearn: 19.5940197\ttotal: 65.8ms\tremaining: 440ms\n",
      "15:\tlearn: 18.5408337\ttotal: 80.5ms\tremaining: 422ms\n",
      "18:\tlearn: 17.6313022\ttotal: 95.3ms\tremaining: 406ms\n",
      "21:\tlearn: 16.8719704\ttotal: 111ms\tremaining: 392ms\n",
      "24:\tlearn: 16.2842553\ttotal: 126ms\tremaining: 379ms\n",
      "27:\tlearn: 15.7572294\ttotal: 141ms\tremaining: 364ms\n",
      "30:\tlearn: 15.3961375\ttotal: 157ms\tremaining: 349ms\n",
      "33:\tlearn: 14.9845229\ttotal: 173ms\tremaining: 335ms\n",
      "36:\tlearn: 14.5956251\ttotal: 187ms\tremaining: 319ms\n",
      "39:\tlearn: 14.2174067\ttotal: 203ms\tremaining: 305ms\n",
      "42:\tlearn: 13.8502676\ttotal: 218ms\tremaining: 289ms\n",
      "45:\tlearn: 13.4727989\ttotal: 232ms\tremaining: 273ms\n",
      "48:\tlearn: 13.1564500\ttotal: 247ms\tremaining: 257ms\n",
      "51:\tlearn: 12.9048175\ttotal: 261ms\tremaining: 241ms\n",
      "54:\tlearn: 12.6443002\ttotal: 275ms\tremaining: 225ms\n",
      "57:\tlearn: 12.3601838\ttotal: 290ms\tremaining: 210ms\n",
      "60:\tlearn: 12.0395715\ttotal: 304ms\tremaining: 194ms\n",
      "63:\tlearn: 11.7910160\ttotal: 319ms\tremaining: 179ms\n",
      "66:\tlearn: 11.5511491\ttotal: 333ms\tremaining: 164ms\n",
      "69:\tlearn: 11.3343802\ttotal: 348ms\tremaining: 149ms\n",
      "72:\tlearn: 11.1437292\ttotal: 362ms\tremaining: 134ms\n",
      "75:\tlearn: 11.0214297\ttotal: 377ms\tremaining: 119ms\n",
      "78:\tlearn: 10.7659613\ttotal: 395ms\tremaining: 105ms\n",
      "81:\tlearn: 10.5757130\ttotal: 410ms\tremaining: 89.9ms\n",
      "84:\tlearn: 10.4159872\ttotal: 425ms\tremaining: 75.1ms\n",
      "87:\tlearn: 10.2019786\ttotal: 441ms\tremaining: 60.1ms\n",
      "90:\tlearn: 10.0702863\ttotal: 456ms\tremaining: 45.1ms\n",
      "93:\tlearn: 9.9702958\ttotal: 474ms\tremaining: 30.2ms\n",
      "96:\tlearn: 9.7325307\ttotal: 490ms\tremaining: 15.1ms\n",
      "99:\tlearn: 9.6482588\ttotal: 508ms\tremaining: 0us\n",
      "0:\tlearn: 29.1205812\ttotal: 6.81ms\tremaining: 674ms\n",
      "3:\tlearn: 25.9727731\ttotal: 25.2ms\tremaining: 604ms\n",
      "6:\tlearn: 23.7677116\ttotal: 42.9ms\tremaining: 569ms\n",
      "9:\tlearn: 22.1313503\ttotal: 60.3ms\tremaining: 543ms\n",
      "12:\tlearn: 20.8912172\ttotal: 77.9ms\tremaining: 521ms\n",
      "15:\tlearn: 19.9139022\ttotal: 95.1ms\tremaining: 499ms\n",
      "18:\tlearn: 19.1117107\ttotal: 112ms\tremaining: 477ms\n",
      "21:\tlearn: 18.4422863\ttotal: 130ms\tremaining: 461ms\n",
      "24:\tlearn: 17.9903191\ttotal: 147ms\tremaining: 442ms\n",
      "27:\tlearn: 17.6211502\ttotal: 165ms\tremaining: 425ms\n",
      "30:\tlearn: 17.1870986\ttotal: 183ms\tremaining: 406ms\n",
      "33:\tlearn: 16.8128339\ttotal: 200ms\tremaining: 388ms\n",
      "36:\tlearn: 16.4756991\ttotal: 218ms\tremaining: 371ms\n",
      "39:\tlearn: 16.1301921\ttotal: 235ms\tremaining: 353ms\n",
      "42:\tlearn: 15.8432892\ttotal: 252ms\tremaining: 334ms\n",
      "45:\tlearn: 15.6202305\ttotal: 269ms\tremaining: 315ms\n",
      "48:\tlearn: 15.3939054\ttotal: 286ms\tremaining: 297ms\n",
      "51:\tlearn: 15.1611347\ttotal: 303ms\tremaining: 280ms\n",
      "54:\tlearn: 14.9310769\ttotal: 320ms\tremaining: 262ms\n",
      "57:\tlearn: 14.7431234\ttotal: 338ms\tremaining: 245ms\n",
      "60:\tlearn: 14.4640417\ttotal: 355ms\tremaining: 227ms\n",
      "63:\tlearn: 14.2357798\ttotal: 372ms\tremaining: 209ms\n",
      "66:\tlearn: 13.9922292\ttotal: 389ms\tremaining: 192ms\n",
      "69:\tlearn: 13.8384437\ttotal: 407ms\tremaining: 174ms\n",
      "72:\tlearn: 13.6215322\ttotal: 424ms\tremaining: 157ms\n",
      "75:\tlearn: 13.4538750\ttotal: 441ms\tremaining: 139ms\n",
      "78:\tlearn: 13.4264150\ttotal: 457ms\tremaining: 122ms\n",
      "81:\tlearn: 13.2529590\ttotal: 476ms\tremaining: 104ms\n",
      "84:\tlearn: 13.1315545\ttotal: 493ms\tremaining: 87.1ms\n",
      "87:\tlearn: 12.9294829\ttotal: 510ms\tremaining: 69.6ms\n",
      "90:\tlearn: 12.7411730\ttotal: 527ms\tremaining: 52.1ms\n",
      "93:\tlearn: 12.6025645\ttotal: 543ms\tremaining: 34.7ms\n",
      "96:\tlearn: 12.4332368\ttotal: 560ms\tremaining: 17.3ms\n",
      "99:\tlearn: 12.4177740\ttotal: 577ms\tremaining: 0us\n",
      "0:\tlearn: 30.5837762\ttotal: 7.62ms\tremaining: 754ms\n",
      "3:\tlearn: 27.3238790\ttotal: 27.6ms\tremaining: 663ms\n",
      "6:\tlearn: 24.7084968\ttotal: 47.6ms\tremaining: 633ms\n",
      "9:\tlearn: 23.1185481\ttotal: 66.7ms\tremaining: 601ms\n",
      "12:\tlearn: 21.8071699\ttotal: 86.9ms\tremaining: 581ms\n",
      "15:\tlearn: 20.9188213\ttotal: 107ms\tremaining: 563ms\n",
      "18:\tlearn: 20.1607702\ttotal: 127ms\tremaining: 541ms\n",
      "21:\tlearn: 19.6209339\ttotal: 147ms\tremaining: 520ms\n",
      "24:\tlearn: 19.1632681\ttotal: 168ms\tremaining: 504ms\n",
      "27:\tlearn: 18.6998901\ttotal: 190ms\tremaining: 488ms\n",
      "30:\tlearn: 18.3195094\ttotal: 210ms\tremaining: 468ms\n",
      "33:\tlearn: 17.9626509\ttotal: 230ms\tremaining: 447ms\n",
      "36:\tlearn: 17.6305618\ttotal: 254ms\tremaining: 433ms\n",
      "39:\tlearn: 17.3320143\ttotal: 277ms\tremaining: 416ms\n",
      "42:\tlearn: 17.0996305\ttotal: 298ms\tremaining: 396ms\n",
      "45:\tlearn: 16.8703449\ttotal: 318ms\tremaining: 374ms\n",
      "48:\tlearn: 16.6017671\ttotal: 338ms\tremaining: 352ms\n",
      "51:\tlearn: 16.3712893\ttotal: 358ms\tremaining: 331ms\n",
      "54:\tlearn: 16.1713880\ttotal: 378ms\tremaining: 309ms\n",
      "57:\tlearn: 15.9950917\ttotal: 397ms\tremaining: 288ms\n",
      "60:\tlearn: 15.8004968\ttotal: 423ms\tremaining: 271ms\n",
      "63:\tlearn: 15.6279450\ttotal: 443ms\tremaining: 249ms\n",
      "66:\tlearn: 15.4781143\ttotal: 461ms\tremaining: 227ms\n",
      "69:\tlearn: 15.3144510\ttotal: 480ms\tremaining: 206ms\n",
      "72:\tlearn: 15.1510740\ttotal: 500ms\tremaining: 185ms\n",
      "75:\tlearn: 15.0269339\ttotal: 520ms\tremaining: 164ms\n",
      "78:\tlearn: 14.9019432\ttotal: 540ms\tremaining: 143ms\n",
      "81:\tlearn: 14.7801274\ttotal: 558ms\tremaining: 123ms\n",
      "84:\tlearn: 14.5947111\ttotal: 578ms\tremaining: 102ms\n",
      "87:\tlearn: 14.3881600\ttotal: 598ms\tremaining: 81.5ms\n",
      "90:\tlearn: 14.1963872\ttotal: 619ms\tremaining: 61.2ms\n",
      "93:\tlearn: 14.0128727\ttotal: 638ms\tremaining: 40.7ms\n",
      "96:\tlearn: 13.8554254\ttotal: 658ms\tremaining: 20.4ms\n",
      "99:\tlearn: 13.7158193\ttotal: 677ms\tremaining: 0us\n",
      "0:\tlearn: 32.0490658\ttotal: 8.19ms\tremaining: 810ms\n",
      "3:\tlearn: 28.5463195\ttotal: 32.4ms\tremaining: 778ms\n",
      "6:\tlearn: 25.9576890\ttotal: 53.9ms\tremaining: 717ms\n",
      "9:\tlearn: 24.2190963\ttotal: 77ms\tremaining: 693ms\n",
      "12:\tlearn: 22.9942723\ttotal: 99.2ms\tremaining: 664ms\n",
      "15:\tlearn: 22.1158640\ttotal: 120ms\tremaining: 631ms\n",
      "18:\tlearn: 21.4679278\ttotal: 142ms\tremaining: 605ms\n",
      "21:\tlearn: 20.9369951\ttotal: 165ms\tremaining: 586ms\n",
      "24:\tlearn: 20.4821498\ttotal: 187ms\tremaining: 562ms\n",
      "27:\tlearn: 20.0791071\ttotal: 209ms\tremaining: 539ms\n",
      "30:\tlearn: 19.6581480\ttotal: 232ms\tremaining: 516ms\n",
      "33:\tlearn: 19.3857397\ttotal: 254ms\tremaining: 492ms\n",
      "36:\tlearn: 19.1380878\ttotal: 275ms\tremaining: 469ms\n",
      "39:\tlearn: 18.8488297\ttotal: 297ms\tremaining: 445ms\n",
      "42:\tlearn: 18.6358247\ttotal: 318ms\tremaining: 422ms\n",
      "45:\tlearn: 18.4378466\ttotal: 340ms\tremaining: 399ms\n",
      "48:\tlearn: 18.2710950\ttotal: 362ms\tremaining: 377ms\n",
      "51:\tlearn: 18.0985003\ttotal: 383ms\tremaining: 354ms\n",
      "54:\tlearn: 17.9465936\ttotal: 405ms\tremaining: 332ms\n",
      "57:\tlearn: 17.7519336\ttotal: 429ms\tremaining: 310ms\n",
      "60:\tlearn: 17.5756894\ttotal: 450ms\tremaining: 288ms\n",
      "63:\tlearn: 17.3832770\ttotal: 472ms\tremaining: 265ms\n",
      "66:\tlearn: 17.2102351\ttotal: 493ms\tremaining: 243ms\n",
      "69:\tlearn: 17.0042772\ttotal: 515ms\tremaining: 221ms\n",
      "72:\tlearn: 16.8156544\ttotal: 539ms\tremaining: 199ms\n",
      "75:\tlearn: 16.6206432\ttotal: 562ms\tremaining: 177ms\n",
      "78:\tlearn: 16.4728895\ttotal: 584ms\tremaining: 155ms\n",
      "81:\tlearn: 16.3259537\ttotal: 609ms\tremaining: 134ms\n",
      "84:\tlearn: 16.1573600\ttotal: 631ms\tremaining: 111ms\n",
      "87:\tlearn: 16.0476056\ttotal: 655ms\tremaining: 89.3ms\n",
      "90:\tlearn: 15.8921709\ttotal: 677ms\tremaining: 66.9ms\n",
      "93:\tlearn: 15.7508533\ttotal: 698ms\tremaining: 44.5ms\n",
      "96:\tlearn: 15.5831043\ttotal: 718ms\tremaining: 22.2ms\n",
      "99:\tlearn: 15.4416861\ttotal: 739ms\tremaining: 0us\n",
      "0:\tlearn: 33.3582487\ttotal: 8.23ms\tremaining: 815ms\n",
      "3:\tlearn: 29.7275015\ttotal: 30.9ms\tremaining: 742ms\n",
      "6:\tlearn: 27.0927647\ttotal: 53.1ms\tremaining: 706ms\n",
      "9:\tlearn: 25.2759207\ttotal: 75.8ms\tremaining: 682ms\n",
      "12:\tlearn: 24.0628249\ttotal: 98.4ms\tremaining: 659ms\n",
      "15:\tlearn: 23.1058480\ttotal: 125ms\tremaining: 656ms\n",
      "18:\tlearn: 22.3538207\ttotal: 149ms\tremaining: 634ms\n",
      "21:\tlearn: 21.8224924\ttotal: 172ms\tremaining: 610ms\n",
      "24:\tlearn: 21.3470364\ttotal: 195ms\tremaining: 584ms\n",
      "27:\tlearn: 20.9877368\ttotal: 218ms\tremaining: 559ms\n",
      "30:\tlearn: 20.6666163\ttotal: 241ms\tremaining: 537ms\n",
      "33:\tlearn: 20.4242316\ttotal: 265ms\tremaining: 514ms\n",
      "36:\tlearn: 20.1812073\ttotal: 287ms\tremaining: 489ms\n",
      "39:\tlearn: 19.9308035\ttotal: 310ms\tremaining: 465ms\n",
      "42:\tlearn: 19.7271058\ttotal: 332ms\tremaining: 441ms\n",
      "45:\tlearn: 19.5197937\ttotal: 355ms\tremaining: 417ms\n",
      "48:\tlearn: 19.2871038\ttotal: 378ms\tremaining: 393ms\n",
      "51:\tlearn: 19.0868292\ttotal: 401ms\tremaining: 370ms\n",
      "54:\tlearn: 18.9599316\ttotal: 424ms\tremaining: 347ms\n",
      "57:\tlearn: 18.7827254\ttotal: 446ms\tremaining: 323ms\n",
      "60:\tlearn: 18.5818002\ttotal: 469ms\tremaining: 300ms\n",
      "63:\tlearn: 18.4600699\ttotal: 491ms\tremaining: 276ms\n",
      "66:\tlearn: 18.3071312\ttotal: 513ms\tremaining: 253ms\n",
      "69:\tlearn: 18.1525121\ttotal: 535ms\tremaining: 229ms\n",
      "72:\tlearn: 17.9617538\ttotal: 558ms\tremaining: 206ms\n",
      "75:\tlearn: 17.8276156\ttotal: 580ms\tremaining: 183ms\n",
      "78:\tlearn: 17.6836263\ttotal: 603ms\tremaining: 160ms\n",
      "81:\tlearn: 17.5461672\ttotal: 625ms\tremaining: 137ms\n",
      "84:\tlearn: 17.4225751\ttotal: 647ms\tremaining: 114ms\n",
      "87:\tlearn: 17.2794746\ttotal: 669ms\tremaining: 91.3ms\n",
      "90:\tlearn: 17.1540798\ttotal: 692ms\tremaining: 68.4ms\n",
      "93:\tlearn: 17.0382417\ttotal: 714ms\tremaining: 45.6ms\n",
      "96:\tlearn: 16.8819173\ttotal: 737ms\tremaining: 22.8ms\n",
      "99:\tlearn: 16.7410305\ttotal: 761ms\tremaining: 0us\n",
      "0:\tlearn: 28.3514819\ttotal: 5.49ms\tremaining: 543ms\n",
      "3:\tlearn: 25.1570737\ttotal: 20.3ms\tremaining: 488ms\n",
      "6:\tlearn: 22.9186122\ttotal: 34.8ms\tremaining: 462ms\n",
      "9:\tlearn: 21.0094324\ttotal: 49.5ms\tremaining: 445ms\n",
      "12:\tlearn: 19.5940197\ttotal: 65ms\tremaining: 435ms\n",
      "15:\tlearn: 18.5408337\ttotal: 81ms\tremaining: 425ms\n",
      "18:\tlearn: 17.6313022\ttotal: 98.8ms\tremaining: 421ms\n",
      "21:\tlearn: 16.8719704\ttotal: 120ms\tremaining: 426ms\n",
      "24:\tlearn: 16.2842553\ttotal: 141ms\tremaining: 422ms\n",
      "27:\tlearn: 15.7572294\ttotal: 157ms\tremaining: 404ms\n",
      "30:\tlearn: 15.3961375\ttotal: 173ms\tremaining: 385ms\n",
      "33:\tlearn: 14.9845229\ttotal: 189ms\tremaining: 367ms\n",
      "36:\tlearn: 14.5956251\ttotal: 205ms\tremaining: 349ms\n",
      "39:\tlearn: 14.2174067\ttotal: 220ms\tremaining: 331ms\n",
      "42:\tlearn: 13.8502676\ttotal: 236ms\tremaining: 313ms\n",
      "45:\tlearn: 13.4727989\ttotal: 251ms\tremaining: 294ms\n",
      "48:\tlearn: 13.1564500\ttotal: 266ms\tremaining: 277ms\n",
      "51:\tlearn: 12.9048175\ttotal: 282ms\tremaining: 260ms\n",
      "54:\tlearn: 12.6443002\ttotal: 299ms\tremaining: 245ms\n",
      "57:\tlearn: 12.3601838\ttotal: 315ms\tremaining: 228ms\n",
      "60:\tlearn: 12.0395715\ttotal: 329ms\tremaining: 211ms\n",
      "63:\tlearn: 11.7910160\ttotal: 345ms\tremaining: 194ms\n",
      "66:\tlearn: 11.5511491\ttotal: 359ms\tremaining: 177ms\n",
      "69:\tlearn: 11.3343802\ttotal: 374ms\tremaining: 160ms\n",
      "72:\tlearn: 11.1437292\ttotal: 388ms\tremaining: 144ms\n",
      "75:\tlearn: 11.0214297\ttotal: 404ms\tremaining: 127ms\n",
      "78:\tlearn: 10.7659613\ttotal: 420ms\tremaining: 112ms\n",
      "81:\tlearn: 10.5757130\ttotal: 436ms\tremaining: 95.7ms\n",
      "84:\tlearn: 10.4159872\ttotal: 452ms\tremaining: 79.8ms\n",
      "87:\tlearn: 10.2019786\ttotal: 468ms\tremaining: 63.8ms\n",
      "90:\tlearn: 10.0702863\ttotal: 484ms\tremaining: 47.9ms\n",
      "93:\tlearn: 9.9702958\ttotal: 500ms\tremaining: 31.9ms\n",
      "96:\tlearn: 9.7325307\ttotal: 517ms\tremaining: 16ms\n",
      "99:\tlearn: 9.6482588\ttotal: 533ms\tremaining: 0us\n",
      "0:\tlearn: 29.1205812\ttotal: 6.63ms\tremaining: 657ms\n",
      "3:\tlearn: 25.9727731\ttotal: 24.8ms\tremaining: 596ms\n",
      "6:\tlearn: 23.7677116\ttotal: 42.9ms\tremaining: 570ms\n",
      "9:\tlearn: 22.1313503\ttotal: 61.3ms\tremaining: 551ms\n",
      "12:\tlearn: 20.8912172\ttotal: 78.9ms\tremaining: 528ms\n",
      "15:\tlearn: 19.9139022\ttotal: 98.2ms\tremaining: 515ms\n",
      "18:\tlearn: 19.1117107\ttotal: 117ms\tremaining: 497ms\n",
      "21:\tlearn: 18.4422863\ttotal: 135ms\tremaining: 477ms\n",
      "24:\tlearn: 17.9903191\ttotal: 156ms\tremaining: 469ms\n",
      "27:\tlearn: 17.6211502\ttotal: 185ms\tremaining: 477ms\n",
      "30:\tlearn: 17.1870986\ttotal: 206ms\tremaining: 459ms\n",
      "33:\tlearn: 16.8128339\ttotal: 228ms\tremaining: 443ms\n",
      "36:\tlearn: 16.4756991\ttotal: 252ms\tremaining: 428ms\n",
      "39:\tlearn: 16.1301921\ttotal: 275ms\tremaining: 413ms\n",
      "42:\tlearn: 15.8432892\ttotal: 301ms\tremaining: 399ms\n",
      "45:\tlearn: 15.6202305\ttotal: 324ms\tremaining: 380ms\n",
      "48:\tlearn: 15.3939054\ttotal: 344ms\tremaining: 358ms\n",
      "51:\tlearn: 15.1611347\ttotal: 364ms\tremaining: 336ms\n",
      "54:\tlearn: 14.9310769\ttotal: 384ms\tremaining: 314ms\n",
      "57:\tlearn: 14.7431234\ttotal: 404ms\tremaining: 292ms\n",
      "60:\tlearn: 14.4640417\ttotal: 424ms\tremaining: 271ms\n",
      "63:\tlearn: 14.2357798\ttotal: 444ms\tremaining: 250ms\n",
      "66:\tlearn: 13.9922292\ttotal: 463ms\tremaining: 228ms\n",
      "69:\tlearn: 13.8384437\ttotal: 483ms\tremaining: 207ms\n",
      "72:\tlearn: 13.6215322\ttotal: 502ms\tremaining: 186ms\n",
      "75:\tlearn: 13.4538750\ttotal: 521ms\tremaining: 165ms\n",
      "78:\tlearn: 13.4264150\ttotal: 540ms\tremaining: 143ms\n",
      "81:\tlearn: 13.2529590\ttotal: 559ms\tremaining: 123ms\n",
      "84:\tlearn: 13.1315545\ttotal: 577ms\tremaining: 102ms\n",
      "87:\tlearn: 12.9294829\ttotal: 597ms\tremaining: 81.4ms\n",
      "90:\tlearn: 12.7411730\ttotal: 616ms\tremaining: 60.9ms\n",
      "93:\tlearn: 12.6025645\ttotal: 635ms\tremaining: 40.5ms\n",
      "96:\tlearn: 12.4332368\ttotal: 654ms\tremaining: 20.2ms\n",
      "99:\tlearn: 12.4177740\ttotal: 673ms\tremaining: 0us\n",
      "0:\tlearn: 30.5837762\ttotal: 10.6ms\tremaining: 1.05s\n",
      "3:\tlearn: 27.3238790\ttotal: 40.6ms\tremaining: 976ms\n",
      "6:\tlearn: 24.7084968\ttotal: 66ms\tremaining: 876ms\n",
      "9:\tlearn: 23.1185481\ttotal: 86.7ms\tremaining: 780ms\n",
      "12:\tlearn: 21.8071699\ttotal: 107ms\tremaining: 715ms\n",
      "15:\tlearn: 20.9188213\ttotal: 130ms\tremaining: 680ms\n",
      "18:\tlearn: 20.1607702\ttotal: 152ms\tremaining: 648ms\n",
      "21:\tlearn: 19.6209339\ttotal: 173ms\tremaining: 615ms\n",
      "24:\tlearn: 19.1632681\ttotal: 193ms\tremaining: 578ms\n",
      "27:\tlearn: 18.6998901\ttotal: 213ms\tremaining: 548ms\n",
      "30:\tlearn: 18.3195094\ttotal: 234ms\tremaining: 520ms\n",
      "33:\tlearn: 17.9626509\ttotal: 254ms\tremaining: 492ms\n",
      "36:\tlearn: 17.6305618\ttotal: 273ms\tremaining: 465ms\n",
      "39:\tlearn: 17.3320143\ttotal: 293ms\tremaining: 439ms\n",
      "42:\tlearn: 17.0996305\ttotal: 313ms\tremaining: 415ms\n",
      "45:\tlearn: 16.8703449\ttotal: 333ms\tremaining: 391ms\n",
      "48:\tlearn: 16.6017671\ttotal: 354ms\tremaining: 368ms\n",
      "51:\tlearn: 16.3712893\ttotal: 374ms\tremaining: 345ms\n",
      "54:\tlearn: 16.1713880\ttotal: 393ms\tremaining: 322ms\n",
      "57:\tlearn: 15.9950917\ttotal: 414ms\tremaining: 299ms\n",
      "60:\tlearn: 15.8004968\ttotal: 434ms\tremaining: 277ms\n",
      "63:\tlearn: 15.6279450\ttotal: 453ms\tremaining: 255ms\n",
      "66:\tlearn: 15.4781143\ttotal: 473ms\tremaining: 233ms\n",
      "69:\tlearn: 15.3144510\ttotal: 492ms\tremaining: 211ms\n",
      "72:\tlearn: 15.1510740\ttotal: 513ms\tremaining: 190ms\n",
      "75:\tlearn: 15.0269339\ttotal: 536ms\tremaining: 169ms\n",
      "78:\tlearn: 14.9019432\ttotal: 558ms\tremaining: 148ms\n",
      "81:\tlearn: 14.7801274\ttotal: 580ms\tremaining: 127ms\n",
      "84:\tlearn: 14.5947111\ttotal: 603ms\tremaining: 106ms\n",
      "87:\tlearn: 14.3881600\ttotal: 626ms\tremaining: 85.3ms\n",
      "90:\tlearn: 14.1963872\ttotal: 647ms\tremaining: 64ms\n",
      "93:\tlearn: 14.0128727\ttotal: 671ms\tremaining: 42.8ms\n",
      "96:\tlearn: 13.8554254\ttotal: 698ms\tremaining: 21.6ms\n",
      "99:\tlearn: 13.7158193\ttotal: 720ms\tremaining: 0us\n",
      "0:\tlearn: 32.0490658\ttotal: 7.61ms\tremaining: 753ms\n",
      "3:\tlearn: 28.5463195\ttotal: 29.2ms\tremaining: 701ms\n",
      "6:\tlearn: 25.9576890\ttotal: 51ms\tremaining: 678ms\n",
      "9:\tlearn: 24.2190963\ttotal: 72.2ms\tremaining: 650ms\n",
      "12:\tlearn: 22.9942723\ttotal: 94.9ms\tremaining: 635ms\n",
      "15:\tlearn: 22.1158640\ttotal: 115ms\tremaining: 606ms\n",
      "18:\tlearn: 21.4679278\ttotal: 137ms\tremaining: 582ms\n",
      "21:\tlearn: 20.9369951\ttotal: 157ms\tremaining: 558ms\n",
      "24:\tlearn: 20.4821498\ttotal: 178ms\tremaining: 535ms\n",
      "27:\tlearn: 20.0791071\ttotal: 200ms\tremaining: 514ms\n",
      "30:\tlearn: 19.6581480\ttotal: 221ms\tremaining: 493ms\n",
      "33:\tlearn: 19.3857397\ttotal: 242ms\tremaining: 469ms\n",
      "36:\tlearn: 19.1380878\ttotal: 262ms\tremaining: 447ms\n",
      "39:\tlearn: 18.8488297\ttotal: 284ms\tremaining: 426ms\n",
      "42:\tlearn: 18.6358247\ttotal: 305ms\tremaining: 404ms\n",
      "45:\tlearn: 18.4378466\ttotal: 332ms\tremaining: 390ms\n",
      "48:\tlearn: 18.2710950\ttotal: 360ms\tremaining: 375ms\n",
      "51:\tlearn: 18.0985003\ttotal: 383ms\tremaining: 353ms\n",
      "54:\tlearn: 17.9465936\ttotal: 404ms\tremaining: 331ms\n",
      "57:\tlearn: 17.7519336\ttotal: 429ms\tremaining: 311ms\n",
      "60:\tlearn: 17.5756894\ttotal: 450ms\tremaining: 288ms\n",
      "63:\tlearn: 17.3832770\ttotal: 470ms\tremaining: 265ms\n",
      "66:\tlearn: 17.2102351\ttotal: 492ms\tremaining: 242ms\n",
      "69:\tlearn: 17.0042772\ttotal: 514ms\tremaining: 220ms\n",
      "72:\tlearn: 16.8156544\ttotal: 536ms\tremaining: 198ms\n",
      "75:\tlearn: 16.6206432\ttotal: 560ms\tremaining: 177ms\n",
      "78:\tlearn: 16.4728895\ttotal: 585ms\tremaining: 155ms\n",
      "81:\tlearn: 16.3259537\ttotal: 611ms\tremaining: 134ms\n",
      "84:\tlearn: 16.1573600\ttotal: 638ms\tremaining: 113ms\n",
      "87:\tlearn: 16.0476056\ttotal: 663ms\tremaining: 90.4ms\n",
      "90:\tlearn: 15.8921709\ttotal: 686ms\tremaining: 67.8ms\n",
      "93:\tlearn: 15.7508533\ttotal: 707ms\tremaining: 45.1ms\n",
      "96:\tlearn: 15.5831043\ttotal: 728ms\tremaining: 22.5ms\n",
      "99:\tlearn: 15.4416861\ttotal: 748ms\tremaining: 0us\n",
      "0:\tlearn: 33.3582487\ttotal: 8.62ms\tremaining: 853ms\n",
      "3:\tlearn: 29.7275015\ttotal: 32.5ms\tremaining: 780ms\n",
      "6:\tlearn: 27.0927647\ttotal: 58.9ms\tremaining: 783ms\n",
      "9:\tlearn: 25.2759207\ttotal: 89.7ms\tremaining: 808ms\n",
      "12:\tlearn: 24.0628249\ttotal: 113ms\tremaining: 757ms\n",
      "15:\tlearn: 23.1058480\ttotal: 136ms\tremaining: 712ms\n",
      "18:\tlearn: 22.3538207\ttotal: 159ms\tremaining: 678ms\n",
      "21:\tlearn: 21.8224924\ttotal: 182ms\tremaining: 644ms\n",
      "24:\tlearn: 21.3470364\ttotal: 205ms\tremaining: 615ms\n",
      "27:\tlearn: 20.9877368\ttotal: 229ms\tremaining: 588ms\n",
      "30:\tlearn: 20.6666163\ttotal: 252ms\tremaining: 562ms\n",
      "33:\tlearn: 20.4242316\ttotal: 277ms\tremaining: 537ms\n",
      "36:\tlearn: 20.1812073\ttotal: 301ms\tremaining: 512ms\n",
      "39:\tlearn: 19.9308035\ttotal: 324ms\tremaining: 487ms\n",
      "42:\tlearn: 19.7271058\ttotal: 350ms\tremaining: 463ms\n",
      "45:\tlearn: 19.5197937\ttotal: 374ms\tremaining: 439ms\n",
      "48:\tlearn: 19.2871038\ttotal: 400ms\tremaining: 416ms\n",
      "51:\tlearn: 19.0868292\ttotal: 428ms\tremaining: 395ms\n",
      "54:\tlearn: 18.9599316\ttotal: 455ms\tremaining: 372ms\n",
      "57:\tlearn: 18.7827254\ttotal: 481ms\tremaining: 348ms\n",
      "60:\tlearn: 18.5818002\ttotal: 508ms\tremaining: 325ms\n",
      "63:\tlearn: 18.4600699\ttotal: 533ms\tremaining: 300ms\n",
      "66:\tlearn: 18.3071312\ttotal: 559ms\tremaining: 276ms\n",
      "69:\tlearn: 18.1525121\ttotal: 586ms\tremaining: 251ms\n",
      "72:\tlearn: 17.9617538\ttotal: 613ms\tremaining: 227ms\n",
      "75:\tlearn: 17.8276156\ttotal: 639ms\tremaining: 202ms\n",
      "78:\tlearn: 17.6836263\ttotal: 664ms\tremaining: 176ms\n",
      "81:\tlearn: 17.5461672\ttotal: 686ms\tremaining: 151ms\n",
      "84:\tlearn: 17.4225751\ttotal: 708ms\tremaining: 125ms\n",
      "87:\tlearn: 17.2794746\ttotal: 731ms\tremaining: 99.7ms\n",
      "90:\tlearn: 17.1540798\ttotal: 758ms\tremaining: 74.9ms\n",
      "93:\tlearn: 17.0382417\ttotal: 783ms\tremaining: 50ms\n",
      "96:\tlearn: 16.8819173\ttotal: 809ms\tremaining: 25ms\n",
      "99:\tlearn: 16.7410305\ttotal: 836ms\tremaining: 0us\n",
      "0:\tlearn: 28.4143138\ttotal: 13.9ms\tremaining: 1.38s\n",
      "3:\tlearn: 25.1976936\ttotal: 46.7ms\tremaining: 1.12s\n",
      "6:\tlearn: 22.8017860\ttotal: 78.1ms\tremaining: 1.04s\n",
      "9:\tlearn: 20.6904411\ttotal: 108ms\tremaining: 975ms\n",
      "12:\tlearn: 19.2035764\ttotal: 141ms\tremaining: 941ms\n",
      "15:\tlearn: 18.1539818\ttotal: 173ms\tremaining: 906ms\n",
      "18:\tlearn: 17.1357102\ttotal: 205ms\tremaining: 872ms\n",
      "21:\tlearn: 16.2904317\ttotal: 238ms\tremaining: 842ms\n",
      "24:\tlearn: 15.6029361\ttotal: 270ms\tremaining: 810ms\n",
      "27:\tlearn: 15.0190780\ttotal: 302ms\tremaining: 776ms\n",
      "30:\tlearn: 14.4851264\ttotal: 330ms\tremaining: 734ms\n",
      "33:\tlearn: 14.0035248\ttotal: 359ms\tremaining: 696ms\n",
      "36:\tlearn: 13.5890794\ttotal: 385ms\tremaining: 655ms\n",
      "39:\tlearn: 13.1145230\ttotal: 412ms\tremaining: 618ms\n",
      "42:\tlearn: 12.7226304\ttotal: 439ms\tremaining: 583ms\n",
      "45:\tlearn: 12.2464296\ttotal: 467ms\tremaining: 548ms\n",
      "48:\tlearn: 11.8145056\ttotal: 495ms\tremaining: 515ms\n",
      "51:\tlearn: 11.5632287\ttotal: 522ms\tremaining: 482ms\n",
      "54:\tlearn: 11.2632454\ttotal: 550ms\tremaining: 450ms\n",
      "57:\tlearn: 10.9495673\ttotal: 580ms\tremaining: 420ms\n",
      "60:\tlearn: 10.6944268\ttotal: 607ms\tremaining: 388ms\n",
      "63:\tlearn: 10.4433128\ttotal: 635ms\tremaining: 357ms\n",
      "66:\tlearn: 10.1506157\ttotal: 665ms\tremaining: 327ms\n",
      "69:\tlearn: 9.8304429\ttotal: 698ms\tremaining: 299ms\n",
      "72:\tlearn: 9.6215649\ttotal: 727ms\tremaining: 269ms\n",
      "75:\tlearn: 9.3465009\ttotal: 755ms\tremaining: 238ms\n",
      "78:\tlearn: 9.2024171\ttotal: 782ms\tremaining: 208ms\n",
      "81:\tlearn: 9.0202101\ttotal: 809ms\tremaining: 178ms\n",
      "84:\tlearn: 8.7923387\ttotal: 837ms\tremaining: 148ms\n",
      "87:\tlearn: 8.6514788\ttotal: 865ms\tremaining: 118ms\n",
      "90:\tlearn: 8.4824181\ttotal: 894ms\tremaining: 88.4ms\n",
      "93:\tlearn: 8.2467921\ttotal: 921ms\tremaining: 58.8ms\n",
      "96:\tlearn: 8.0539494\ttotal: 947ms\tremaining: 29.3ms\n",
      "99:\tlearn: 7.8917295\ttotal: 975ms\tremaining: 0us\n",
      "0:\tlearn: 29.1432319\ttotal: 13.6ms\tremaining: 1.34s\n",
      "3:\tlearn: 26.0226200\ttotal: 45.6ms\tremaining: 1.09s\n",
      "6:\tlearn: 23.6324216\ttotal: 76.6ms\tremaining: 1.02s\n",
      "9:\tlearn: 21.6803634\ttotal: 108ms\tremaining: 971ms\n",
      "12:\tlearn: 20.2556815\ttotal: 141ms\tremaining: 941ms\n",
      "15:\tlearn: 19.2337094\ttotal: 174ms\tremaining: 915ms\n",
      "18:\tlearn: 18.4383383\ttotal: 206ms\tremaining: 878ms\n",
      "21:\tlearn: 17.7267166\ttotal: 238ms\tremaining: 843ms\n",
      "24:\tlearn: 17.2223547\ttotal: 269ms\tremaining: 808ms\n",
      "27:\tlearn: 16.6094948\ttotal: 299ms\tremaining: 770ms\n",
      "30:\tlearn: 16.1514841\ttotal: 330ms\tremaining: 735ms\n",
      "33:\tlearn: 15.7223074\ttotal: 362ms\tremaining: 702ms\n",
      "36:\tlearn: 15.3278405\ttotal: 392ms\tremaining: 668ms\n",
      "39:\tlearn: 15.0023694\ttotal: 423ms\tremaining: 635ms\n",
      "42:\tlearn: 14.6819460\ttotal: 454ms\tremaining: 602ms\n",
      "45:\tlearn: 14.3781533\ttotal: 485ms\tremaining: 569ms\n",
      "48:\tlearn: 14.1239678\ttotal: 515ms\tremaining: 536ms\n",
      "51:\tlearn: 13.8309633\ttotal: 547ms\tremaining: 505ms\n",
      "54:\tlearn: 13.6515282\ttotal: 578ms\tremaining: 473ms\n",
      "57:\tlearn: 13.5169826\ttotal: 609ms\tremaining: 441ms\n",
      "60:\tlearn: 13.2522041\ttotal: 641ms\tremaining: 410ms\n",
      "63:\tlearn: 13.0794872\ttotal: 672ms\tremaining: 378ms\n",
      "66:\tlearn: 12.9019421\ttotal: 703ms\tremaining: 346ms\n",
      "69:\tlearn: 12.6884743\ttotal: 735ms\tremaining: 315ms\n",
      "72:\tlearn: 12.5458294\ttotal: 766ms\tremaining: 283ms\n",
      "75:\tlearn: 12.4113028\ttotal: 797ms\tremaining: 252ms\n",
      "78:\tlearn: 12.2553213\ttotal: 829ms\tremaining: 220ms\n",
      "81:\tlearn: 12.0417472\ttotal: 860ms\tremaining: 189ms\n",
      "84:\tlearn: 11.9191311\ttotal: 894ms\tremaining: 158ms\n",
      "87:\tlearn: 11.7579973\ttotal: 926ms\tremaining: 126ms\n",
      "90:\tlearn: 11.6004729\ttotal: 959ms\tremaining: 94.8ms\n",
      "93:\tlearn: 11.4270408\ttotal: 990ms\tremaining: 63.2ms\n",
      "96:\tlearn: 11.2258513\ttotal: 1.02s\tremaining: 31.6ms\n",
      "99:\tlearn: 11.1288437\ttotal: 1.05s\tremaining: 0us\n",
      "0:\tlearn: 30.6132311\ttotal: 22.7ms\tremaining: 2.25s\n",
      "3:\tlearn: 27.1626944\ttotal: 59.1ms\tremaining: 1.42s\n",
      "6:\tlearn: 24.6684949\ttotal: 94.8ms\tremaining: 1.26s\n",
      "9:\tlearn: 22.7301652\ttotal: 131ms\tremaining: 1.18s\n",
      "12:\tlearn: 21.3954346\ttotal: 168ms\tremaining: 1.12s\n",
      "15:\tlearn: 20.4048735\ttotal: 202ms\tremaining: 1.06s\n",
      "18:\tlearn: 19.4978771\ttotal: 237ms\tremaining: 1.01s\n",
      "21:\tlearn: 18.9188799\ttotal: 272ms\tremaining: 964ms\n",
      "24:\tlearn: 18.3151685\ttotal: 307ms\tremaining: 922ms\n",
      "27:\tlearn: 17.8376931\ttotal: 351ms\tremaining: 902ms\n",
      "30:\tlearn: 17.3132197\ttotal: 392ms\tremaining: 872ms\n",
      "33:\tlearn: 16.9074047\ttotal: 428ms\tremaining: 830ms\n",
      "36:\tlearn: 16.5148272\ttotal: 463ms\tremaining: 789ms\n",
      "39:\tlearn: 16.2034244\ttotal: 498ms\tremaining: 748ms\n",
      "42:\tlearn: 15.8944178\ttotal: 535ms\tremaining: 710ms\n",
      "45:\tlearn: 15.6718086\ttotal: 574ms\tremaining: 674ms\n",
      "48:\tlearn: 15.4067235\ttotal: 611ms\tremaining: 636ms\n",
      "51:\tlearn: 15.1513617\ttotal: 647ms\tremaining: 597ms\n",
      "54:\tlearn: 14.8675785\ttotal: 684ms\tremaining: 560ms\n",
      "57:\tlearn: 14.6720005\ttotal: 724ms\tremaining: 524ms\n",
      "60:\tlearn: 14.5248397\ttotal: 762ms\tremaining: 487ms\n",
      "63:\tlearn: 14.2651421\ttotal: 800ms\tremaining: 450ms\n",
      "66:\tlearn: 14.0180892\ttotal: 838ms\tremaining: 413ms\n",
      "69:\tlearn: 13.7608703\ttotal: 876ms\tremaining: 375ms\n",
      "72:\tlearn: 13.5712827\ttotal: 912ms\tremaining: 337ms\n",
      "75:\tlearn: 13.3967806\ttotal: 950ms\tremaining: 300ms\n",
      "78:\tlearn: 13.1612365\ttotal: 987ms\tremaining: 262ms\n",
      "81:\tlearn: 12.9465092\ttotal: 1.02s\tremaining: 225ms\n",
      "84:\tlearn: 12.7482559\ttotal: 1.06s\tremaining: 187ms\n",
      "87:\tlearn: 12.5700571\ttotal: 1.1s\tremaining: 150ms\n",
      "90:\tlearn: 12.4529431\ttotal: 1.13s\tremaining: 112ms\n",
      "93:\tlearn: 12.3411927\ttotal: 1.17s\tremaining: 74.7ms\n",
      "96:\tlearn: 12.1747318\ttotal: 1.21s\tremaining: 37.3ms\n",
      "99:\tlearn: 12.0191197\ttotal: 1.24s\tremaining: 0us\n",
      "0:\tlearn: 32.0115241\ttotal: 24ms\tremaining: 2.38s\n",
      "3:\tlearn: 28.4958977\ttotal: 65.8ms\tremaining: 1.58s\n",
      "6:\tlearn: 25.8864753\ttotal: 107ms\tremaining: 1.42s\n",
      "9:\tlearn: 23.9683410\ttotal: 147ms\tremaining: 1.32s\n",
      "12:\tlearn: 22.5931658\ttotal: 185ms\tremaining: 1.24s\n",
      "15:\tlearn: 21.6216572\ttotal: 227ms\tremaining: 1.19s\n",
      "18:\tlearn: 20.8487360\ttotal: 269ms\tremaining: 1.15s\n",
      "21:\tlearn: 20.1737450\ttotal: 308ms\tremaining: 1.09s\n",
      "24:\tlearn: 19.6709580\ttotal: 346ms\tremaining: 1.04s\n",
      "27:\tlearn: 19.2663722\ttotal: 385ms\tremaining: 991ms\n",
      "30:\tlearn: 18.8860725\ttotal: 431ms\tremaining: 959ms\n",
      "33:\tlearn: 18.5893336\ttotal: 471ms\tremaining: 915ms\n",
      "36:\tlearn: 18.2742352\ttotal: 514ms\tremaining: 875ms\n",
      "39:\tlearn: 17.9985821\ttotal: 555ms\tremaining: 832ms\n",
      "42:\tlearn: 17.6892467\ttotal: 600ms\tremaining: 796ms\n",
      "45:\tlearn: 17.4967848\ttotal: 641ms\tremaining: 753ms\n",
      "48:\tlearn: 17.2221280\ttotal: 681ms\tremaining: 709ms\n",
      "51:\tlearn: 17.0181653\ttotal: 721ms\tremaining: 666ms\n",
      "54:\tlearn: 16.7943741\ttotal: 763ms\tremaining: 624ms\n",
      "57:\tlearn: 16.5926718\ttotal: 800ms\tremaining: 580ms\n",
      "60:\tlearn: 16.3944732\ttotal: 841ms\tremaining: 537ms\n",
      "63:\tlearn: 16.1987465\ttotal: 880ms\tremaining: 495ms\n",
      "66:\tlearn: 15.9621206\ttotal: 917ms\tremaining: 452ms\n",
      "69:\tlearn: 15.8118429\ttotal: 956ms\tremaining: 410ms\n",
      "72:\tlearn: 15.6110588\ttotal: 995ms\tremaining: 368ms\n",
      "75:\tlearn: 15.4598422\ttotal: 1.03s\tremaining: 326ms\n",
      "78:\tlearn: 15.2655654\ttotal: 1.07s\tremaining: 285ms\n",
      "81:\tlearn: 15.1142502\ttotal: 1.11s\tremaining: 244ms\n",
      "84:\tlearn: 14.9285380\ttotal: 1.15s\tremaining: 203ms\n",
      "87:\tlearn: 14.7276910\ttotal: 1.19s\tremaining: 162ms\n",
      "90:\tlearn: 14.5840098\ttotal: 1.22s\tremaining: 121ms\n",
      "93:\tlearn: 14.3806713\ttotal: 1.26s\tremaining: 80.6ms\n",
      "96:\tlearn: 14.2146549\ttotal: 1.3s\tremaining: 40.2ms\n",
      "99:\tlearn: 14.0568725\ttotal: 1.34s\tremaining: 0us\n",
      "0:\tlearn: 33.3396922\ttotal: 25.8ms\tremaining: 2.55s\n",
      "3:\tlearn: 29.5920182\ttotal: 69ms\tremaining: 1.66s\n",
      "6:\tlearn: 27.0218253\ttotal: 110ms\tremaining: 1.46s\n",
      "9:\tlearn: 25.0981195\ttotal: 151ms\tremaining: 1.36s\n",
      "12:\tlearn: 23.7530910\ttotal: 193ms\tremaining: 1.29s\n",
      "15:\tlearn: 22.7434300\ttotal: 235ms\tremaining: 1.23s\n",
      "18:\tlearn: 21.9464828\ttotal: 276ms\tremaining: 1.18s\n",
      "21:\tlearn: 21.3084002\ttotal: 318ms\tremaining: 1.13s\n",
      "24:\tlearn: 20.7379236\ttotal: 359ms\tremaining: 1.08s\n",
      "27:\tlearn: 20.3590478\ttotal: 400ms\tremaining: 1.03s\n",
      "30:\tlearn: 20.0325884\ttotal: 441ms\tremaining: 982ms\n",
      "33:\tlearn: 19.7104128\ttotal: 483ms\tremaining: 938ms\n",
      "36:\tlearn: 19.4082759\ttotal: 524ms\tremaining: 893ms\n",
      "39:\tlearn: 19.1011157\ttotal: 568ms\tremaining: 852ms\n",
      "42:\tlearn: 18.8275804\ttotal: 611ms\tremaining: 810ms\n",
      "45:\tlearn: 18.6121360\ttotal: 650ms\tremaining: 763ms\n",
      "48:\tlearn: 18.3991218\ttotal: 694ms\tremaining: 722ms\n",
      "51:\tlearn: 18.2503591\ttotal: 735ms\tremaining: 679ms\n",
      "54:\tlearn: 18.0776764\ttotal: 778ms\tremaining: 637ms\n",
      "57:\tlearn: 17.9079005\ttotal: 819ms\tremaining: 593ms\n",
      "60:\tlearn: 17.7299911\ttotal: 860ms\tremaining: 550ms\n",
      "63:\tlearn: 17.5723951\ttotal: 904ms\tremaining: 509ms\n",
      "66:\tlearn: 17.2976348\ttotal: 944ms\tremaining: 465ms\n",
      "69:\tlearn: 17.1142909\ttotal: 985ms\tremaining: 422ms\n",
      "72:\tlearn: 16.9293140\ttotal: 1.04s\tremaining: 384ms\n",
      "75:\tlearn: 16.7775860\ttotal: 1.09s\tremaining: 344ms\n",
      "78:\tlearn: 16.6362675\ttotal: 1.13s\tremaining: 302ms\n",
      "81:\tlearn: 16.4666917\ttotal: 1.18s\tremaining: 258ms\n",
      "84:\tlearn: 16.2996197\ttotal: 1.22s\tremaining: 215ms\n",
      "87:\tlearn: 16.1516317\ttotal: 1.26s\tremaining: 172ms\n",
      "90:\tlearn: 16.0320093\ttotal: 1.31s\tremaining: 129ms\n",
      "93:\tlearn: 15.8900621\ttotal: 1.35s\tremaining: 86.1ms\n",
      "96:\tlearn: 15.7521492\ttotal: 1.39s\tremaining: 43ms\n",
      "99:\tlearn: 15.6335052\ttotal: 1.43s\tremaining: 0us\n",
      "0:\tlearn: 28.4143138\ttotal: 10.1ms\tremaining: 1s\n",
      "3:\tlearn: 25.1976936\ttotal: 37.1ms\tremaining: 890ms\n",
      "6:\tlearn: 22.8017860\ttotal: 63.5ms\tremaining: 844ms\n",
      "9:\tlearn: 20.6904411\ttotal: 90.4ms\tremaining: 813ms\n",
      "12:\tlearn: 19.2035764\ttotal: 119ms\tremaining: 799ms\n",
      "15:\tlearn: 18.1539818\ttotal: 147ms\tremaining: 772ms\n",
      "18:\tlearn: 17.1357102\ttotal: 174ms\tremaining: 744ms\n",
      "21:\tlearn: 16.2904317\ttotal: 202ms\tremaining: 716ms\n",
      "24:\tlearn: 15.6029361\ttotal: 229ms\tremaining: 687ms\n",
      "27:\tlearn: 15.0190780\ttotal: 256ms\tremaining: 657ms\n",
      "30:\tlearn: 14.4851264\ttotal: 282ms\tremaining: 628ms\n",
      "33:\tlearn: 14.0035248\ttotal: 309ms\tremaining: 599ms\n",
      "36:\tlearn: 13.5890794\ttotal: 335ms\tremaining: 570ms\n",
      "39:\tlearn: 13.1145230\ttotal: 364ms\tremaining: 546ms\n",
      "42:\tlearn: 12.7226304\ttotal: 390ms\tremaining: 517ms\n",
      "45:\tlearn: 12.2464296\ttotal: 417ms\tremaining: 490ms\n",
      "48:\tlearn: 11.8145056\ttotal: 444ms\tremaining: 462ms\n",
      "51:\tlearn: 11.5632287\ttotal: 470ms\tremaining: 434ms\n",
      "54:\tlearn: 11.2632454\ttotal: 496ms\tremaining: 406ms\n",
      "57:\tlearn: 10.9495673\ttotal: 524ms\tremaining: 379ms\n",
      "60:\tlearn: 10.6944268\ttotal: 550ms\tremaining: 352ms\n",
      "63:\tlearn: 10.4433128\ttotal: 578ms\tremaining: 325ms\n",
      "66:\tlearn: 10.1506157\ttotal: 619ms\tremaining: 305ms\n",
      "69:\tlearn: 9.8304429\ttotal: 648ms\tremaining: 278ms\n",
      "72:\tlearn: 9.6215649\ttotal: 674ms\tremaining: 249ms\n",
      "75:\tlearn: 9.3465009\ttotal: 701ms\tremaining: 221ms\n",
      "78:\tlearn: 9.2024171\ttotal: 727ms\tremaining: 193ms\n",
      "81:\tlearn: 9.0202101\ttotal: 754ms\tremaining: 165ms\n",
      "84:\tlearn: 8.7923387\ttotal: 780ms\tremaining: 138ms\n",
      "87:\tlearn: 8.6514788\ttotal: 806ms\tremaining: 110ms\n",
      "90:\tlearn: 8.4824181\ttotal: 833ms\tremaining: 82.4ms\n",
      "93:\tlearn: 8.2467921\ttotal: 859ms\tremaining: 54.9ms\n",
      "96:\tlearn: 8.0539494\ttotal: 885ms\tremaining: 27.4ms\n",
      "99:\tlearn: 7.8917295\ttotal: 911ms\tremaining: 0us\n",
      "0:\tlearn: 29.1432319\ttotal: 11.3ms\tremaining: 1.12s\n",
      "3:\tlearn: 26.0226200\ttotal: 44.6ms\tremaining: 1.07s\n",
      "6:\tlearn: 23.6324216\ttotal: 78ms\tremaining: 1.04s\n",
      "9:\tlearn: 21.6803634\ttotal: 112ms\tremaining: 1.01s\n",
      "12:\tlearn: 20.2556815\ttotal: 146ms\tremaining: 977ms\n",
      "15:\tlearn: 19.2337094\ttotal: 180ms\tremaining: 944ms\n",
      "18:\tlearn: 18.4383383\ttotal: 214ms\tremaining: 913ms\n",
      "21:\tlearn: 17.7267166\ttotal: 249ms\tremaining: 882ms\n",
      "24:\tlearn: 17.2223547\ttotal: 283ms\tremaining: 849ms\n",
      "27:\tlearn: 16.6094948\ttotal: 318ms\tremaining: 818ms\n",
      "30:\tlearn: 16.1514841\ttotal: 353ms\tremaining: 785ms\n",
      "33:\tlearn: 15.7223074\ttotal: 388ms\tremaining: 753ms\n",
      "36:\tlearn: 15.3278405\ttotal: 423ms\tremaining: 720ms\n",
      "39:\tlearn: 15.0023694\ttotal: 457ms\tremaining: 685ms\n",
      "42:\tlearn: 14.6819460\ttotal: 492ms\tremaining: 652ms\n",
      "45:\tlearn: 14.3781533\ttotal: 526ms\tremaining: 617ms\n",
      "48:\tlearn: 14.1239678\ttotal: 559ms\tremaining: 582ms\n",
      "51:\tlearn: 13.8309633\ttotal: 595ms\tremaining: 550ms\n",
      "54:\tlearn: 13.6515282\ttotal: 633ms\tremaining: 518ms\n",
      "57:\tlearn: 13.5169826\ttotal: 670ms\tremaining: 485ms\n",
      "60:\tlearn: 13.2522041\ttotal: 704ms\tremaining: 450ms\n",
      "63:\tlearn: 13.0794872\ttotal: 735ms\tremaining: 414ms\n",
      "66:\tlearn: 12.9019421\ttotal: 767ms\tremaining: 378ms\n",
      "69:\tlearn: 12.6884743\ttotal: 805ms\tremaining: 345ms\n",
      "72:\tlearn: 12.5458294\ttotal: 842ms\tremaining: 311ms\n",
      "75:\tlearn: 12.4113028\ttotal: 878ms\tremaining: 277ms\n",
      "78:\tlearn: 12.2553213\ttotal: 910ms\tremaining: 242ms\n",
      "81:\tlearn: 12.0417472\ttotal: 944ms\tremaining: 207ms\n",
      "84:\tlearn: 11.9191311\ttotal: 977ms\tremaining: 172ms\n",
      "87:\tlearn: 11.7579973\ttotal: 1.01s\tremaining: 138ms\n",
      "90:\tlearn: 11.6004729\ttotal: 1.04s\tremaining: 103ms\n",
      "93:\tlearn: 11.4270408\ttotal: 1.08s\tremaining: 69.1ms\n",
      "96:\tlearn: 11.2258513\ttotal: 1.12s\tremaining: 34.7ms\n",
      "99:\tlearn: 11.1288437\ttotal: 1.16s\tremaining: 0us\n",
      "0:\tlearn: 30.6132311\ttotal: 22.9ms\tremaining: 2.27s\n",
      "3:\tlearn: 27.1626944\ttotal: 60.2ms\tremaining: 1.45s\n",
      "6:\tlearn: 24.6684949\ttotal: 98.1ms\tremaining: 1.3s\n",
      "9:\tlearn: 22.7301652\ttotal: 138ms\tremaining: 1.24s\n",
      "12:\tlearn: 21.3954346\ttotal: 175ms\tremaining: 1.17s\n",
      "15:\tlearn: 20.4048735\ttotal: 213ms\tremaining: 1.11s\n",
      "18:\tlearn: 19.4978771\ttotal: 250ms\tremaining: 1.06s\n",
      "21:\tlearn: 18.9188799\ttotal: 286ms\tremaining: 1.01s\n",
      "24:\tlearn: 18.3151685\ttotal: 324ms\tremaining: 973ms\n",
      "27:\tlearn: 17.8376931\ttotal: 360ms\tremaining: 925ms\n",
      "30:\tlearn: 17.3132197\ttotal: 396ms\tremaining: 882ms\n",
      "33:\tlearn: 16.9074047\ttotal: 432ms\tremaining: 839ms\n",
      "36:\tlearn: 16.5148272\ttotal: 468ms\tremaining: 796ms\n",
      "39:\tlearn: 16.2034244\ttotal: 503ms\tremaining: 755ms\n",
      "42:\tlearn: 15.8944178\ttotal: 541ms\tremaining: 717ms\n",
      "45:\tlearn: 15.6718086\ttotal: 578ms\tremaining: 678ms\n",
      "48:\tlearn: 15.4067235\ttotal: 615ms\tremaining: 640ms\n",
      "51:\tlearn: 15.1513617\ttotal: 651ms\tremaining: 601ms\n",
      "54:\tlearn: 14.8675785\ttotal: 686ms\tremaining: 561ms\n",
      "57:\tlearn: 14.6720005\ttotal: 724ms\tremaining: 525ms\n",
      "60:\tlearn: 14.5248397\ttotal: 762ms\tremaining: 487ms\n",
      "63:\tlearn: 14.2651421\ttotal: 798ms\tremaining: 449ms\n",
      "66:\tlearn: 14.0180892\ttotal: 833ms\tremaining: 410ms\n",
      "69:\tlearn: 13.7608703\ttotal: 871ms\tremaining: 373ms\n",
      "72:\tlearn: 13.5712827\ttotal: 908ms\tremaining: 336ms\n",
      "75:\tlearn: 13.3967806\ttotal: 945ms\tremaining: 298ms\n",
      "78:\tlearn: 13.1612365\ttotal: 980ms\tremaining: 260ms\n",
      "81:\tlearn: 12.9465092\ttotal: 1.01s\tremaining: 223ms\n",
      "84:\tlearn: 12.7482559\ttotal: 1.05s\tremaining: 186ms\n",
      "87:\tlearn: 12.5700571\ttotal: 1.09s\tremaining: 148ms\n",
      "90:\tlearn: 12.4529431\ttotal: 1.12s\tremaining: 111ms\n",
      "93:\tlearn: 12.3411927\ttotal: 1.16s\tremaining: 74.3ms\n",
      "96:\tlearn: 12.1747318\ttotal: 1.2s\tremaining: 37.1ms\n",
      "99:\tlearn: 12.0191197\ttotal: 1.24s\tremaining: 0us\n",
      "0:\tlearn: 32.0115241\ttotal: 23.6ms\tremaining: 2.34s\n",
      "3:\tlearn: 28.4958977\ttotal: 62.1ms\tremaining: 1.49s\n",
      "6:\tlearn: 25.8864753\ttotal: 101ms\tremaining: 1.34s\n",
      "9:\tlearn: 23.9683410\ttotal: 141ms\tremaining: 1.27s\n",
      "12:\tlearn: 22.5931658\ttotal: 180ms\tremaining: 1.21s\n",
      "15:\tlearn: 21.6216572\ttotal: 221ms\tremaining: 1.16s\n",
      "18:\tlearn: 20.8487360\ttotal: 260ms\tremaining: 1.11s\n",
      "21:\tlearn: 20.1737450\ttotal: 297ms\tremaining: 1.05s\n",
      "24:\tlearn: 19.6709580\ttotal: 335ms\tremaining: 1s\n",
      "27:\tlearn: 19.2663722\ttotal: 374ms\tremaining: 961ms\n",
      "30:\tlearn: 18.8860725\ttotal: 414ms\tremaining: 921ms\n",
      "33:\tlearn: 18.5893336\ttotal: 453ms\tremaining: 879ms\n",
      "36:\tlearn: 18.2742352\ttotal: 493ms\tremaining: 840ms\n",
      "39:\tlearn: 17.9985821\ttotal: 532ms\tremaining: 798ms\n",
      "42:\tlearn: 17.6892467\ttotal: 571ms\tremaining: 756ms\n",
      "45:\tlearn: 17.4967848\ttotal: 610ms\tremaining: 716ms\n",
      "48:\tlearn: 17.2221280\ttotal: 649ms\tremaining: 675ms\n",
      "51:\tlearn: 17.0181653\ttotal: 697ms\tremaining: 643ms\n",
      "54:\tlearn: 16.7943741\ttotal: 746ms\tremaining: 610ms\n",
      "57:\tlearn: 16.5926718\ttotal: 796ms\tremaining: 576ms\n",
      "60:\tlearn: 16.3944732\ttotal: 839ms\tremaining: 537ms\n",
      "63:\tlearn: 16.1987465\ttotal: 879ms\tremaining: 494ms\n",
      "66:\tlearn: 15.9621206\ttotal: 923ms\tremaining: 455ms\n",
      "69:\tlearn: 15.8118429\ttotal: 965ms\tremaining: 414ms\n",
      "72:\tlearn: 15.6110588\ttotal: 1s\tremaining: 372ms\n",
      "75:\tlearn: 15.4598422\ttotal: 1.05s\tremaining: 331ms\n",
      "78:\tlearn: 15.2655654\ttotal: 1.09s\tremaining: 290ms\n",
      "81:\tlearn: 15.1142502\ttotal: 1.13s\tremaining: 249ms\n",
      "84:\tlearn: 14.9285380\ttotal: 1.17s\tremaining: 207ms\n",
      "87:\tlearn: 14.7276910\ttotal: 1.21s\tremaining: 165ms\n",
      "90:\tlearn: 14.5840098\ttotal: 1.25s\tremaining: 124ms\n",
      "93:\tlearn: 14.3806713\ttotal: 1.29s\tremaining: 82.2ms\n",
      "96:\tlearn: 14.2146549\ttotal: 1.33s\tremaining: 41ms\n",
      "99:\tlearn: 14.0568725\ttotal: 1.37s\tremaining: 0us\n",
      "0:\tlearn: 33.3396922\ttotal: 25.9ms\tremaining: 2.56s\n",
      "3:\tlearn: 29.5920182\ttotal: 70.5ms\tremaining: 1.69s\n",
      "6:\tlearn: 27.0218253\ttotal: 113ms\tremaining: 1.5s\n",
      "9:\tlearn: 25.0981195\ttotal: 155ms\tremaining: 1.4s\n",
      "12:\tlearn: 23.7530910\ttotal: 196ms\tremaining: 1.31s\n",
      "15:\tlearn: 22.7434300\ttotal: 238ms\tremaining: 1.25s\n",
      "18:\tlearn: 21.9464828\ttotal: 280ms\tremaining: 1.19s\n",
      "21:\tlearn: 21.3084002\ttotal: 321ms\tremaining: 1.14s\n",
      "24:\tlearn: 20.7379236\ttotal: 363ms\tremaining: 1.09s\n",
      "27:\tlearn: 20.3590478\ttotal: 404ms\tremaining: 1.04s\n",
      "30:\tlearn: 20.0325884\ttotal: 445ms\tremaining: 990ms\n",
      "33:\tlearn: 19.7104128\ttotal: 487ms\tremaining: 946ms\n",
      "36:\tlearn: 19.4082759\ttotal: 530ms\tremaining: 903ms\n",
      "39:\tlearn: 19.1011157\ttotal: 573ms\tremaining: 860ms\n",
      "42:\tlearn: 18.8275804\ttotal: 617ms\tremaining: 817ms\n",
      "45:\tlearn: 18.6121360\ttotal: 656ms\tremaining: 770ms\n",
      "48:\tlearn: 18.3991218\ttotal: 700ms\tremaining: 728ms\n",
      "51:\tlearn: 18.2503591\ttotal: 742ms\tremaining: 684ms\n",
      "54:\tlearn: 18.0776764\ttotal: 784ms\tremaining: 641ms\n",
      "57:\tlearn: 17.9079005\ttotal: 826ms\tremaining: 598ms\n",
      "60:\tlearn: 17.7299911\ttotal: 868ms\tremaining: 555ms\n",
      "63:\tlearn: 17.5723951\ttotal: 910ms\tremaining: 512ms\n",
      "66:\tlearn: 17.2976348\ttotal: 952ms\tremaining: 469ms\n",
      "69:\tlearn: 17.1142909\ttotal: 999ms\tremaining: 428ms\n",
      "72:\tlearn: 16.9293140\ttotal: 1.04s\tremaining: 385ms\n",
      "75:\tlearn: 16.7775860\ttotal: 1.08s\tremaining: 341ms\n",
      "78:\tlearn: 16.6362675\ttotal: 1.12s\tremaining: 298ms\n",
      "81:\tlearn: 16.4666917\ttotal: 1.16s\tremaining: 255ms\n",
      "84:\tlearn: 16.2996197\ttotal: 1.2s\tremaining: 212ms\n",
      "87:\tlearn: 16.1516317\ttotal: 1.24s\tremaining: 170ms\n",
      "90:\tlearn: 16.0320093\ttotal: 1.28s\tremaining: 127ms\n",
      "93:\tlearn: 15.8900621\ttotal: 1.32s\tremaining: 84.6ms\n",
      "96:\tlearn: 15.7521492\ttotal: 1.37s\tremaining: 42.3ms\n",
      "99:\tlearn: 15.6335052\ttotal: 1.41s\tremaining: 0us\n",
      "0:\tlearn: 28.4143138\ttotal: 10.2ms\tremaining: 1.01s\n",
      "3:\tlearn: 25.1976936\ttotal: 41.2ms\tremaining: 989ms\n",
      "6:\tlearn: 22.8017860\ttotal: 69ms\tremaining: 916ms\n",
      "9:\tlearn: 20.6904411\ttotal: 96.7ms\tremaining: 870ms\n",
      "12:\tlearn: 19.2035764\ttotal: 124ms\tremaining: 831ms\n",
      "15:\tlearn: 18.1539818\ttotal: 153ms\tremaining: 803ms\n",
      "18:\tlearn: 17.1357102\ttotal: 182ms\tremaining: 777ms\n",
      "21:\tlearn: 16.2904317\ttotal: 212ms\tremaining: 751ms\n",
      "24:\tlearn: 15.6029361\ttotal: 242ms\tremaining: 725ms\n",
      "27:\tlearn: 15.0190780\ttotal: 274ms\tremaining: 704ms\n",
      "30:\tlearn: 14.4851264\ttotal: 303ms\tremaining: 675ms\n",
      "33:\tlearn: 14.0035248\ttotal: 332ms\tremaining: 645ms\n",
      "36:\tlearn: 13.5890794\ttotal: 359ms\tremaining: 611ms\n",
      "39:\tlearn: 13.1145230\ttotal: 387ms\tremaining: 580ms\n",
      "42:\tlearn: 12.7226304\ttotal: 415ms\tremaining: 550ms\n",
      "45:\tlearn: 12.2464296\ttotal: 443ms\tremaining: 520ms\n",
      "48:\tlearn: 11.8145056\ttotal: 470ms\tremaining: 490ms\n",
      "51:\tlearn: 11.5632287\ttotal: 497ms\tremaining: 459ms\n",
      "54:\tlearn: 11.2632454\ttotal: 524ms\tremaining: 429ms\n",
      "57:\tlearn: 10.9495673\ttotal: 551ms\tremaining: 399ms\n",
      "60:\tlearn: 10.6944268\ttotal: 578ms\tremaining: 370ms\n",
      "63:\tlearn: 10.4433128\ttotal: 605ms\tremaining: 340ms\n",
      "66:\tlearn: 10.1506157\ttotal: 634ms\tremaining: 312ms\n",
      "69:\tlearn: 9.8304429\ttotal: 662ms\tremaining: 284ms\n",
      "72:\tlearn: 9.6215649\ttotal: 689ms\tremaining: 255ms\n",
      "75:\tlearn: 9.3465009\ttotal: 717ms\tremaining: 227ms\n",
      "78:\tlearn: 9.2024171\ttotal: 743ms\tremaining: 198ms\n",
      "81:\tlearn: 9.0202101\ttotal: 770ms\tremaining: 169ms\n",
      "84:\tlearn: 8.7923387\ttotal: 797ms\tremaining: 141ms\n",
      "87:\tlearn: 8.6514788\ttotal: 824ms\tremaining: 112ms\n",
      "90:\tlearn: 8.4824181\ttotal: 851ms\tremaining: 84.2ms\n",
      "93:\tlearn: 8.2467921\ttotal: 879ms\tremaining: 56.1ms\n",
      "96:\tlearn: 8.0539494\ttotal: 907ms\tremaining: 28ms\n",
      "99:\tlearn: 7.8917295\ttotal: 936ms\tremaining: 0us\n",
      "0:\tlearn: 29.1432319\ttotal: 11ms\tremaining: 1.09s\n",
      "3:\tlearn: 26.0226200\ttotal: 41.9ms\tremaining: 1s\n",
      "6:\tlearn: 23.6324216\ttotal: 72.6ms\tremaining: 965ms\n",
      "9:\tlearn: 21.6803634\ttotal: 103ms\tremaining: 931ms\n",
      "12:\tlearn: 20.2556815\ttotal: 134ms\tremaining: 894ms\n",
      "15:\tlearn: 19.2337094\ttotal: 165ms\tremaining: 864ms\n",
      "18:\tlearn: 18.4383383\ttotal: 196ms\tremaining: 835ms\n",
      "21:\tlearn: 17.7267166\ttotal: 228ms\tremaining: 807ms\n",
      "24:\tlearn: 17.2223547\ttotal: 260ms\tremaining: 779ms\n",
      "27:\tlearn: 16.6094948\ttotal: 291ms\tremaining: 748ms\n",
      "30:\tlearn: 16.1514841\ttotal: 322ms\tremaining: 717ms\n",
      "33:\tlearn: 15.7223074\ttotal: 354ms\tremaining: 687ms\n",
      "36:\tlearn: 15.3278405\ttotal: 386ms\tremaining: 657ms\n",
      "39:\tlearn: 15.0023694\ttotal: 416ms\tremaining: 625ms\n",
      "42:\tlearn: 14.6819460\ttotal: 447ms\tremaining: 593ms\n",
      "45:\tlearn: 14.3781533\ttotal: 487ms\tremaining: 572ms\n",
      "48:\tlearn: 14.1239678\ttotal: 522ms\tremaining: 543ms\n",
      "51:\tlearn: 13.8309633\ttotal: 554ms\tremaining: 511ms\n",
      "54:\tlearn: 13.6515282\ttotal: 585ms\tremaining: 478ms\n",
      "57:\tlearn: 13.5169826\ttotal: 617ms\tremaining: 447ms\n",
      "60:\tlearn: 13.2522041\ttotal: 649ms\tremaining: 415ms\n",
      "63:\tlearn: 13.0794872\ttotal: 680ms\tremaining: 382ms\n",
      "66:\tlearn: 12.9019421\ttotal: 709ms\tremaining: 349ms\n",
      "69:\tlearn: 12.6884743\ttotal: 741ms\tremaining: 318ms\n",
      "72:\tlearn: 12.5458294\ttotal: 771ms\tremaining: 285ms\n",
      "75:\tlearn: 12.4113028\ttotal: 802ms\tremaining: 253ms\n",
      "78:\tlearn: 12.2553213\ttotal: 832ms\tremaining: 221ms\n",
      "81:\tlearn: 12.0417472\ttotal: 865ms\tremaining: 190ms\n",
      "84:\tlearn: 11.9191311\ttotal: 897ms\tremaining: 158ms\n",
      "87:\tlearn: 11.7579973\ttotal: 932ms\tremaining: 127ms\n",
      "90:\tlearn: 11.6004729\ttotal: 962ms\tremaining: 95.1ms\n",
      "93:\tlearn: 11.4270408\ttotal: 996ms\tremaining: 63.6ms\n",
      "96:\tlearn: 11.2258513\ttotal: 1.03s\tremaining: 31.9ms\n",
      "99:\tlearn: 11.1288437\ttotal: 1.06s\tremaining: 0us\n",
      "0:\tlearn: 30.6132311\ttotal: 24.1ms\tremaining: 2.38s\n",
      "3:\tlearn: 27.1626944\ttotal: 61.1ms\tremaining: 1.47s\n",
      "6:\tlearn: 24.6684949\ttotal: 98.3ms\tremaining: 1.31s\n",
      "9:\tlearn: 22.7301652\ttotal: 135ms\tremaining: 1.21s\n",
      "12:\tlearn: 21.3954346\ttotal: 170ms\tremaining: 1.13s\n",
      "15:\tlearn: 20.4048735\ttotal: 204ms\tremaining: 1.07s\n",
      "18:\tlearn: 19.4978771\ttotal: 239ms\tremaining: 1.02s\n",
      "21:\tlearn: 18.9188799\ttotal: 284ms\tremaining: 1.01s\n",
      "24:\tlearn: 18.3151685\ttotal: 321ms\tremaining: 964ms\n",
      "27:\tlearn: 17.8376931\ttotal: 358ms\tremaining: 920ms\n",
      "30:\tlearn: 17.3132197\ttotal: 393ms\tremaining: 876ms\n",
      "33:\tlearn: 16.9074047\ttotal: 429ms\tremaining: 833ms\n",
      "36:\tlearn: 16.5148272\ttotal: 464ms\tremaining: 790ms\n",
      "39:\tlearn: 16.2034244\ttotal: 502ms\tremaining: 753ms\n",
      "42:\tlearn: 15.8944178\ttotal: 544ms\tremaining: 721ms\n",
      "45:\tlearn: 15.6718086\ttotal: 585ms\tremaining: 686ms\n",
      "48:\tlearn: 15.4067235\ttotal: 625ms\tremaining: 651ms\n",
      "51:\tlearn: 15.1513617\ttotal: 666ms\tremaining: 614ms\n",
      "54:\tlearn: 14.8675785\ttotal: 707ms\tremaining: 578ms\n",
      "57:\tlearn: 14.6720005\ttotal: 746ms\tremaining: 540ms\n",
      "60:\tlearn: 14.5248397\ttotal: 786ms\tremaining: 503ms\n",
      "63:\tlearn: 14.2651421\ttotal: 824ms\tremaining: 464ms\n",
      "66:\tlearn: 14.0180892\ttotal: 863ms\tremaining: 425ms\n",
      "69:\tlearn: 13.7608703\ttotal: 902ms\tremaining: 387ms\n",
      "72:\tlearn: 13.5712827\ttotal: 942ms\tremaining: 348ms\n",
      "75:\tlearn: 13.3967806\ttotal: 981ms\tremaining: 310ms\n",
      "78:\tlearn: 13.1612365\ttotal: 1.02s\tremaining: 271ms\n",
      "81:\tlearn: 12.9465092\ttotal: 1.06s\tremaining: 233ms\n",
      "84:\tlearn: 12.7482559\ttotal: 1.1s\tremaining: 194ms\n",
      "87:\tlearn: 12.5700571\ttotal: 1.14s\tremaining: 155ms\n",
      "90:\tlearn: 12.4529431\ttotal: 1.18s\tremaining: 117ms\n",
      "93:\tlearn: 12.3411927\ttotal: 1.22s\tremaining: 78ms\n",
      "96:\tlearn: 12.1747318\ttotal: 1.26s\tremaining: 39ms\n",
      "99:\tlearn: 12.0191197\ttotal: 1.3s\tremaining: 0us\n",
      "0:\tlearn: 32.0115241\ttotal: 26.1ms\tremaining: 2.58s\n",
      "3:\tlearn: 28.4958977\ttotal: 70.9ms\tremaining: 1.7s\n",
      "6:\tlearn: 25.8864753\ttotal: 117ms\tremaining: 1.55s\n",
      "9:\tlearn: 23.9683410\ttotal: 159ms\tremaining: 1.43s\n",
      "12:\tlearn: 22.5931658\ttotal: 199ms\tremaining: 1.33s\n",
      "15:\tlearn: 21.6216572\ttotal: 241ms\tremaining: 1.27s\n",
      "18:\tlearn: 20.8487360\ttotal: 282ms\tremaining: 1.2s\n",
      "21:\tlearn: 20.1737450\ttotal: 324ms\tremaining: 1.15s\n",
      "24:\tlearn: 19.6709580\ttotal: 368ms\tremaining: 1.1s\n",
      "27:\tlearn: 19.2663722\ttotal: 417ms\tremaining: 1.07s\n",
      "30:\tlearn: 18.8860725\ttotal: 463ms\tremaining: 1.03s\n",
      "33:\tlearn: 18.5893336\ttotal: 506ms\tremaining: 982ms\n",
      "36:\tlearn: 18.2742352\ttotal: 550ms\tremaining: 937ms\n",
      "39:\tlearn: 17.9985821\ttotal: 594ms\tremaining: 891ms\n",
      "42:\tlearn: 17.6892467\ttotal: 638ms\tremaining: 846ms\n",
      "45:\tlearn: 17.4967848\ttotal: 684ms\tremaining: 802ms\n",
      "48:\tlearn: 17.2221280\ttotal: 729ms\tremaining: 759ms\n",
      "51:\tlearn: 17.0181653\ttotal: 773ms\tremaining: 714ms\n",
      "54:\tlearn: 16.7943741\ttotal: 821ms\tremaining: 672ms\n",
      "57:\tlearn: 16.5926718\ttotal: 864ms\tremaining: 626ms\n",
      "60:\tlearn: 16.3944732\ttotal: 910ms\tremaining: 582ms\n",
      "63:\tlearn: 16.1987465\ttotal: 954ms\tremaining: 537ms\n",
      "66:\tlearn: 15.9621206\ttotal: 996ms\tremaining: 491ms\n",
      "69:\tlearn: 15.8118429\ttotal: 1.04s\tremaining: 446ms\n",
      "72:\tlearn: 15.6110588\ttotal: 1.09s\tremaining: 402ms\n",
      "75:\tlearn: 15.4598422\ttotal: 1.13s\tremaining: 357ms\n",
      "78:\tlearn: 15.2655654\ttotal: 1.17s\tremaining: 311ms\n",
      "81:\tlearn: 15.1142502\ttotal: 1.21s\tremaining: 266ms\n",
      "84:\tlearn: 14.9285380\ttotal: 1.25s\tremaining: 222ms\n",
      "87:\tlearn: 14.7276910\ttotal: 1.3s\tremaining: 177ms\n",
      "90:\tlearn: 14.5840098\ttotal: 1.34s\tremaining: 133ms\n",
      "93:\tlearn: 14.3806713\ttotal: 1.38s\tremaining: 88.3ms\n",
      "96:\tlearn: 14.2146549\ttotal: 1.43s\tremaining: 44.1ms\n",
      "99:\tlearn: 14.0568725\ttotal: 1.47s\tremaining: 0us\n",
      "0:\tlearn: 33.3396922\ttotal: 28.7ms\tremaining: 2.84s\n",
      "3:\tlearn: 29.5920182\ttotal: 77.8ms\tremaining: 1.87s\n",
      "6:\tlearn: 27.0218253\ttotal: 131ms\tremaining: 1.73s\n",
      "9:\tlearn: 25.0981195\ttotal: 180ms\tremaining: 1.62s\n",
      "12:\tlearn: 23.7530910\ttotal: 230ms\tremaining: 1.54s\n",
      "15:\tlearn: 22.7434300\ttotal: 277ms\tremaining: 1.46s\n",
      "18:\tlearn: 21.9464828\ttotal: 326ms\tremaining: 1.39s\n",
      "21:\tlearn: 21.3084002\ttotal: 376ms\tremaining: 1.33s\n",
      "24:\tlearn: 20.7379236\ttotal: 427ms\tremaining: 1.28s\n",
      "27:\tlearn: 20.3590478\ttotal: 481ms\tremaining: 1.24s\n",
      "30:\tlearn: 20.0325884\ttotal: 536ms\tremaining: 1.19s\n",
      "33:\tlearn: 19.7104128\ttotal: 583ms\tremaining: 1.13s\n",
      "36:\tlearn: 19.4082759\ttotal: 630ms\tremaining: 1.07s\n",
      "39:\tlearn: 19.1011157\ttotal: 677ms\tremaining: 1.01s\n",
      "42:\tlearn: 18.8275804\ttotal: 727ms\tremaining: 963ms\n",
      "45:\tlearn: 18.6121360\ttotal: 775ms\tremaining: 910ms\n",
      "48:\tlearn: 18.3991218\ttotal: 824ms\tremaining: 858ms\n",
      "51:\tlearn: 18.2503591\ttotal: 871ms\tremaining: 804ms\n",
      "54:\tlearn: 18.0776764\ttotal: 915ms\tremaining: 749ms\n",
      "57:\tlearn: 17.9079005\ttotal: 960ms\tremaining: 695ms\n",
      "60:\tlearn: 17.7299911\ttotal: 1s\tremaining: 641ms\n",
      "63:\tlearn: 17.5723951\ttotal: 1.05s\tremaining: 589ms\n",
      "66:\tlearn: 17.2976348\ttotal: 1.09s\tremaining: 540ms\n",
      "69:\tlearn: 17.1142909\ttotal: 1.14s\tremaining: 489ms\n",
      "72:\tlearn: 16.9293140\ttotal: 1.18s\tremaining: 437ms\n",
      "75:\tlearn: 16.7775860\ttotal: 1.22s\tremaining: 387ms\n",
      "78:\tlearn: 16.6362675\ttotal: 1.27s\tremaining: 337ms\n",
      "81:\tlearn: 16.4666917\ttotal: 1.31s\tremaining: 287ms\n",
      "84:\tlearn: 16.2996197\ttotal: 1.35s\tremaining: 239ms\n",
      "87:\tlearn: 16.1516317\ttotal: 1.4s\tremaining: 191ms\n",
      "90:\tlearn: 16.0320093\ttotal: 1.44s\tremaining: 143ms\n",
      "93:\tlearn: 15.8900621\ttotal: 1.49s\tremaining: 94.8ms\n",
      "96:\tlearn: 15.7521492\ttotal: 1.53s\tremaining: 47.2ms\n",
      "99:\tlearn: 15.6335052\ttotal: 1.57s\tremaining: 0us\n",
      "0:\tlearn: 28.4143138\ttotal: 10.2ms\tremaining: 1.01s\n",
      "3:\tlearn: 25.1976936\ttotal: 38.8ms\tremaining: 931ms\n",
      "6:\tlearn: 22.8017860\ttotal: 65.8ms\tremaining: 875ms\n",
      "9:\tlearn: 20.6904411\ttotal: 92.4ms\tremaining: 832ms\n",
      "12:\tlearn: 19.2035764\ttotal: 119ms\tremaining: 799ms\n",
      "15:\tlearn: 18.1539818\ttotal: 147ms\tremaining: 771ms\n",
      "18:\tlearn: 17.1357102\ttotal: 174ms\tremaining: 741ms\n",
      "21:\tlearn: 16.2904317\ttotal: 201ms\tremaining: 713ms\n",
      "24:\tlearn: 15.6029361\ttotal: 230ms\tremaining: 690ms\n",
      "27:\tlearn: 15.0190780\ttotal: 261ms\tremaining: 672ms\n",
      "30:\tlearn: 14.4851264\ttotal: 290ms\tremaining: 645ms\n",
      "33:\tlearn: 14.0035248\ttotal: 317ms\tremaining: 616ms\n",
      "36:\tlearn: 13.5890794\ttotal: 345ms\tremaining: 588ms\n",
      "39:\tlearn: 13.1145230\ttotal: 373ms\tremaining: 560ms\n",
      "42:\tlearn: 12.7226304\ttotal: 401ms\tremaining: 532ms\n",
      "45:\tlearn: 12.2464296\ttotal: 429ms\tremaining: 504ms\n",
      "48:\tlearn: 11.8145056\ttotal: 457ms\tremaining: 476ms\n",
      "51:\tlearn: 11.5632287\ttotal: 484ms\tremaining: 447ms\n",
      "54:\tlearn: 11.2632454\ttotal: 511ms\tremaining: 418ms\n",
      "57:\tlearn: 10.9495673\ttotal: 539ms\tremaining: 390ms\n",
      "60:\tlearn: 10.6944268\ttotal: 567ms\tremaining: 362ms\n",
      "63:\tlearn: 10.4433128\ttotal: 594ms\tremaining: 334ms\n",
      "66:\tlearn: 10.1506157\ttotal: 628ms\tremaining: 309ms\n",
      "69:\tlearn: 9.8304429\ttotal: 660ms\tremaining: 283ms\n",
      "72:\tlearn: 9.6215649\ttotal: 691ms\tremaining: 255ms\n",
      "75:\tlearn: 9.3465009\ttotal: 722ms\tremaining: 228ms\n",
      "78:\tlearn: 9.2024171\ttotal: 753ms\tremaining: 200ms\n",
      "81:\tlearn: 9.0202101\ttotal: 784ms\tremaining: 172ms\n",
      "84:\tlearn: 8.7923387\ttotal: 814ms\tremaining: 144ms\n",
      "87:\tlearn: 8.6514788\ttotal: 844ms\tremaining: 115ms\n",
      "90:\tlearn: 8.4824181\ttotal: 873ms\tremaining: 86.3ms\n",
      "93:\tlearn: 8.2467921\ttotal: 902ms\tremaining: 57.6ms\n",
      "96:\tlearn: 8.0539494\ttotal: 931ms\tremaining: 28.8ms\n",
      "99:\tlearn: 7.8917295\ttotal: 960ms\tremaining: 0us\n",
      "0:\tlearn: 29.1432319\ttotal: 13.1ms\tremaining: 1.3s\n",
      "3:\tlearn: 26.0226200\ttotal: 46.8ms\tremaining: 1.12s\n",
      "6:\tlearn: 23.6324216\ttotal: 80.4ms\tremaining: 1.07s\n",
      "9:\tlearn: 21.6803634\ttotal: 114ms\tremaining: 1.02s\n",
      "12:\tlearn: 20.2556815\ttotal: 147ms\tremaining: 984ms\n",
      "15:\tlearn: 19.2337094\ttotal: 181ms\tremaining: 948ms\n",
      "18:\tlearn: 18.4383383\ttotal: 214ms\tremaining: 910ms\n",
      "21:\tlearn: 17.7267166\ttotal: 250ms\tremaining: 886ms\n",
      "24:\tlearn: 17.2223547\ttotal: 284ms\tremaining: 852ms\n",
      "27:\tlearn: 16.6094948\ttotal: 319ms\tremaining: 820ms\n",
      "30:\tlearn: 16.1514841\ttotal: 353ms\tremaining: 786ms\n",
      "33:\tlearn: 15.7223074\ttotal: 387ms\tremaining: 751ms\n",
      "36:\tlearn: 15.3278405\ttotal: 419ms\tremaining: 714ms\n",
      "39:\tlearn: 15.0023694\ttotal: 453ms\tremaining: 680ms\n",
      "42:\tlearn: 14.6819460\ttotal: 487ms\tremaining: 646ms\n",
      "45:\tlearn: 14.3781533\ttotal: 519ms\tremaining: 610ms\n",
      "48:\tlearn: 14.1239678\ttotal: 556ms\tremaining: 578ms\n",
      "51:\tlearn: 13.8309633\ttotal: 588ms\tremaining: 543ms\n",
      "54:\tlearn: 13.6515282\ttotal: 622ms\tremaining: 509ms\n",
      "57:\tlearn: 13.5169826\ttotal: 656ms\tremaining: 475ms\n",
      "60:\tlearn: 13.2522041\ttotal: 693ms\tremaining: 443ms\n",
      "63:\tlearn: 13.0794872\ttotal: 729ms\tremaining: 410ms\n",
      "66:\tlearn: 12.9019421\ttotal: 764ms\tremaining: 376ms\n",
      "69:\tlearn: 12.6884743\ttotal: 797ms\tremaining: 342ms\n",
      "72:\tlearn: 12.5458294\ttotal: 831ms\tremaining: 307ms\n",
      "75:\tlearn: 12.4113028\ttotal: 864ms\tremaining: 273ms\n",
      "78:\tlearn: 12.2553213\ttotal: 897ms\tremaining: 238ms\n",
      "81:\tlearn: 12.0417472\ttotal: 930ms\tremaining: 204ms\n",
      "84:\tlearn: 11.9191311\ttotal: 964ms\tremaining: 170ms\n",
      "87:\tlearn: 11.7579973\ttotal: 996ms\tremaining: 136ms\n",
      "90:\tlearn: 11.6004729\ttotal: 1.03s\tremaining: 102ms\n",
      "93:\tlearn: 11.4270408\ttotal: 1.06s\tremaining: 67.8ms\n",
      "96:\tlearn: 11.2258513\ttotal: 1.1s\tremaining: 33.9ms\n",
      "99:\tlearn: 11.1288437\ttotal: 1.13s\tremaining: 0us\n",
      "0:\tlearn: 30.6132311\ttotal: 24.1ms\tremaining: 2.38s\n",
      "3:\tlearn: 27.1626944\ttotal: 62.7ms\tremaining: 1.5s\n",
      "6:\tlearn: 24.6684949\ttotal: 102ms\tremaining: 1.35s\n",
      "9:\tlearn: 22.7301652\ttotal: 144ms\tremaining: 1.29s\n",
      "12:\tlearn: 21.3954346\ttotal: 186ms\tremaining: 1.25s\n",
      "15:\tlearn: 20.4048735\ttotal: 225ms\tremaining: 1.18s\n",
      "18:\tlearn: 19.4978771\ttotal: 266ms\tremaining: 1.13s\n",
      "21:\tlearn: 18.9188799\ttotal: 307ms\tremaining: 1.09s\n",
      "24:\tlearn: 18.3151685\ttotal: 344ms\tremaining: 1.03s\n",
      "27:\tlearn: 17.8376931\ttotal: 382ms\tremaining: 982ms\n",
      "30:\tlearn: 17.3132197\ttotal: 420ms\tremaining: 934ms\n",
      "33:\tlearn: 16.9074047\ttotal: 460ms\tremaining: 894ms\n",
      "36:\tlearn: 16.5148272\ttotal: 499ms\tremaining: 850ms\n",
      "39:\tlearn: 16.2034244\ttotal: 538ms\tremaining: 807ms\n",
      "42:\tlearn: 15.8944178\ttotal: 580ms\tremaining: 768ms\n",
      "45:\tlearn: 15.6718086\ttotal: 618ms\tremaining: 726ms\n",
      "48:\tlearn: 15.4067235\ttotal: 658ms\tremaining: 685ms\n",
      "51:\tlearn: 15.1513617\ttotal: 701ms\tremaining: 647ms\n",
      "54:\tlearn: 14.8675785\ttotal: 747ms\tremaining: 611ms\n",
      "57:\tlearn: 14.6720005\ttotal: 786ms\tremaining: 569ms\n",
      "60:\tlearn: 14.5248397\ttotal: 828ms\tremaining: 529ms\n",
      "63:\tlearn: 14.2651421\ttotal: 868ms\tremaining: 488ms\n",
      "66:\tlearn: 14.0180892\ttotal: 907ms\tremaining: 447ms\n",
      "69:\tlearn: 13.7608703\ttotal: 947ms\tremaining: 406ms\n",
      "72:\tlearn: 13.5712827\ttotal: 988ms\tremaining: 365ms\n",
      "75:\tlearn: 13.3967806\ttotal: 1.03s\tremaining: 324ms\n",
      "78:\tlearn: 13.1612365\ttotal: 1.06s\tremaining: 283ms\n",
      "81:\tlearn: 12.9465092\ttotal: 1.1s\tremaining: 242ms\n",
      "84:\tlearn: 12.7482559\ttotal: 1.14s\tremaining: 202ms\n",
      "87:\tlearn: 12.5700571\ttotal: 1.18s\tremaining: 161ms\n",
      "90:\tlearn: 12.4529431\ttotal: 1.22s\tremaining: 121ms\n",
      "93:\tlearn: 12.3411927\ttotal: 1.26s\tremaining: 80.4ms\n",
      "96:\tlearn: 12.1747318\ttotal: 1.3s\tremaining: 40.1ms\n",
      "99:\tlearn: 12.0191197\ttotal: 1.33s\tremaining: 0us\n",
      "0:\tlearn: 32.0115241\ttotal: 25.8ms\tremaining: 2.56s\n",
      "3:\tlearn: 28.4958977\ttotal: 68.7ms\tremaining: 1.65s\n",
      "6:\tlearn: 25.8864753\ttotal: 111ms\tremaining: 1.47s\n",
      "9:\tlearn: 23.9683410\ttotal: 155ms\tremaining: 1.39s\n",
      "12:\tlearn: 22.5931658\ttotal: 197ms\tremaining: 1.32s\n",
      "15:\tlearn: 21.6216572\ttotal: 252ms\tremaining: 1.32s\n",
      "18:\tlearn: 20.8487360\ttotal: 295ms\tremaining: 1.26s\n",
      "21:\tlearn: 20.1737450\ttotal: 339ms\tremaining: 1.2s\n",
      "24:\tlearn: 19.6709580\ttotal: 382ms\tremaining: 1.14s\n",
      "27:\tlearn: 19.2663722\ttotal: 424ms\tremaining: 1.09s\n",
      "30:\tlearn: 18.8860725\ttotal: 467ms\tremaining: 1.04s\n",
      "33:\tlearn: 18.5893336\ttotal: 508ms\tremaining: 986ms\n",
      "36:\tlearn: 18.2742352\ttotal: 550ms\tremaining: 936ms\n",
      "39:\tlearn: 17.9985821\ttotal: 591ms\tremaining: 887ms\n",
      "42:\tlearn: 17.6892467\ttotal: 633ms\tremaining: 840ms\n",
      "45:\tlearn: 17.4967848\ttotal: 674ms\tremaining: 791ms\n",
      "48:\tlearn: 17.2221280\ttotal: 736ms\tremaining: 766ms\n",
      "51:\tlearn: 17.0181653\ttotal: 776ms\tremaining: 716ms\n",
      "54:\tlearn: 16.7943741\ttotal: 835ms\tremaining: 683ms\n",
      "57:\tlearn: 16.5926718\ttotal: 897ms\tremaining: 650ms\n",
      "60:\tlearn: 16.3944732\ttotal: 939ms\tremaining: 600ms\n",
      "63:\tlearn: 16.1987465\ttotal: 984ms\tremaining: 553ms\n",
      "66:\tlearn: 15.9621206\ttotal: 1.02s\tremaining: 505ms\n",
      "69:\tlearn: 15.8118429\ttotal: 1.07s\tremaining: 459ms\n",
      "72:\tlearn: 15.6110588\ttotal: 1.11s\tremaining: 412ms\n",
      "75:\tlearn: 15.4598422\ttotal: 1.15s\tremaining: 365ms\n",
      "78:\tlearn: 15.2655654\ttotal: 1.2s\tremaining: 319ms\n",
      "81:\tlearn: 15.1142502\ttotal: 1.24s\tremaining: 273ms\n",
      "84:\tlearn: 14.9285380\ttotal: 1.28s\tremaining: 226ms\n",
      "87:\tlearn: 14.7276910\ttotal: 1.32s\tremaining: 180ms\n",
      "90:\tlearn: 14.5840098\ttotal: 1.36s\tremaining: 135ms\n",
      "93:\tlearn: 14.3806713\ttotal: 1.4s\tremaining: 89.3ms\n",
      "96:\tlearn: 14.2146549\ttotal: 1.44s\tremaining: 44.5ms\n",
      "99:\tlearn: 14.0568725\ttotal: 1.48s\tremaining: 0us\n",
      "0:\tlearn: 33.3396922\ttotal: 25.6ms\tremaining: 2.54s\n",
      "3:\tlearn: 29.5920182\ttotal: 68.9ms\tremaining: 1.65s\n",
      "6:\tlearn: 27.0218253\ttotal: 114ms\tremaining: 1.51s\n",
      "9:\tlearn: 25.0981195\ttotal: 158ms\tremaining: 1.42s\n",
      "12:\tlearn: 23.7530910\ttotal: 203ms\tremaining: 1.36s\n",
      "15:\tlearn: 22.7434300\ttotal: 248ms\tremaining: 1.3s\n",
      "18:\tlearn: 21.9464828\ttotal: 292ms\tremaining: 1.25s\n",
      "21:\tlearn: 21.3084002\ttotal: 336ms\tremaining: 1.19s\n",
      "24:\tlearn: 20.7379236\ttotal: 394ms\tremaining: 1.18s\n",
      "27:\tlearn: 20.3590478\ttotal: 455ms\tremaining: 1.17s\n",
      "30:\tlearn: 20.0325884\ttotal: 518ms\tremaining: 1.15s\n",
      "33:\tlearn: 19.7104128\ttotal: 570ms\tremaining: 1.11s\n",
      "36:\tlearn: 19.4082759\ttotal: 615ms\tremaining: 1.05s\n",
      "39:\tlearn: 19.1011157\ttotal: 658ms\tremaining: 987ms\n",
      "42:\tlearn: 18.8275804\ttotal: 701ms\tremaining: 930ms\n",
      "45:\tlearn: 18.6121360\ttotal: 743ms\tremaining: 872ms\n",
      "48:\tlearn: 18.3991218\ttotal: 788ms\tremaining: 820ms\n",
      "51:\tlearn: 18.2503591\ttotal: 830ms\tremaining: 766ms\n",
      "54:\tlearn: 18.0776764\ttotal: 875ms\tremaining: 716ms\n",
      "57:\tlearn: 17.9079005\ttotal: 926ms\tremaining: 671ms\n",
      "60:\tlearn: 17.7299911\ttotal: 972ms\tremaining: 621ms\n",
      "63:\tlearn: 17.5723951\ttotal: 1.02s\tremaining: 573ms\n",
      "66:\tlearn: 17.2976348\ttotal: 1.07s\tremaining: 528ms\n",
      "69:\tlearn: 17.1142909\ttotal: 1.13s\tremaining: 484ms\n",
      "72:\tlearn: 16.9293140\ttotal: 1.17s\tremaining: 433ms\n",
      "75:\tlearn: 16.7775860\ttotal: 1.22s\tremaining: 385ms\n",
      "78:\tlearn: 16.6362675\ttotal: 1.26s\tremaining: 335ms\n",
      "81:\tlearn: 16.4666917\ttotal: 1.3s\tremaining: 286ms\n",
      "84:\tlearn: 16.2996197\ttotal: 1.35s\tremaining: 238ms\n",
      "87:\tlearn: 16.1516317\ttotal: 1.39s\tremaining: 190ms\n",
      "90:\tlearn: 16.0320093\ttotal: 1.44s\tremaining: 142ms\n",
      "93:\tlearn: 15.8900621\ttotal: 1.48s\tremaining: 94.5ms\n",
      "96:\tlearn: 15.7521492\ttotal: 1.52s\tremaining: 47.2ms\n",
      "99:\tlearn: 15.6335052\ttotal: 1.57s\tremaining: 0us\n",
      "0:\tlearn: 36.9051167\ttotal: 28.7ms\tremaining: 2.84s\n",
      "3:\tlearn: 32.6891135\ttotal: 75.7ms\tremaining: 1.82s\n",
      "6:\tlearn: 29.8065571\ttotal: 122ms\tremaining: 1.62s\n",
      "9:\tlearn: 27.7296584\ttotal: 169ms\tremaining: 1.52s\n",
      "12:\tlearn: 26.2032926\ttotal: 216ms\tremaining: 1.45s\n",
      "15:\tlearn: 25.0438543\ttotal: 266ms\tremaining: 1.4s\n",
      "18:\tlearn: 24.2192070\ttotal: 314ms\tremaining: 1.34s\n",
      "21:\tlearn: 23.4924888\ttotal: 362ms\tremaining: 1.28s\n",
      "24:\tlearn: 22.8789816\ttotal: 412ms\tremaining: 1.24s\n",
      "27:\tlearn: 22.4582083\ttotal: 459ms\tremaining: 1.18s\n",
      "30:\tlearn: 22.1292464\ttotal: 506ms\tremaining: 1.13s\n",
      "33:\tlearn: 21.8187675\ttotal: 555ms\tremaining: 1.08s\n",
      "36:\tlearn: 21.5444012\ttotal: 601ms\tremaining: 1.02s\n",
      "39:\tlearn: 21.3509513\ttotal: 648ms\tremaining: 972ms\n",
      "42:\tlearn: 21.1002415\ttotal: 702ms\tremaining: 930ms\n",
      "45:\tlearn: 20.9567196\ttotal: 753ms\tremaining: 884ms\n",
      "48:\tlearn: 20.7847778\ttotal: 803ms\tremaining: 836ms\n",
      "51:\tlearn: 20.4858901\ttotal: 851ms\tremaining: 785ms\n",
      "54:\tlearn: 20.3130706\ttotal: 898ms\tremaining: 735ms\n",
      "57:\tlearn: 20.1169856\ttotal: 948ms\tremaining: 687ms\n",
      "60:\tlearn: 19.8988698\ttotal: 996ms\tremaining: 637ms\n",
      "63:\tlearn: 19.7170614\ttotal: 1.04s\tremaining: 586ms\n",
      "66:\tlearn: 19.4938853\ttotal: 1.09s\tremaining: 536ms\n",
      "69:\tlearn: 19.3226873\ttotal: 1.13s\tremaining: 486ms\n",
      "72:\tlearn: 19.2505399\ttotal: 1.18s\tremaining: 437ms\n",
      "75:\tlearn: 19.1462393\ttotal: 1.22s\tremaining: 385ms\n",
      "78:\tlearn: 18.9522358\ttotal: 1.27s\tremaining: 337ms\n",
      "81:\tlearn: 18.7593779\ttotal: 1.31s\tremaining: 288ms\n",
      "84:\tlearn: 18.6683301\ttotal: 1.36s\tremaining: 240ms\n",
      "87:\tlearn: 18.5518659\ttotal: 1.41s\tremaining: 193ms\n",
      "90:\tlearn: 18.3893419\ttotal: 1.46s\tremaining: 145ms\n",
      "93:\tlearn: 18.2428041\ttotal: 1.51s\tremaining: 96.5ms\n",
      "96:\tlearn: 18.0211485\ttotal: 1.56s\tremaining: 48.2ms\n",
      "99:\tlearn: 17.7972979\ttotal: 1.61s\tremaining: 0us\n",
      "CPU times: user 49.1 s, sys: 1.05 s, total: 50.1 s\n",
      "Wall time: 1min 24s\n"
     ]
    }
   ],
   "source": [
    "%%time\n",
    "params_catb = {\n",
    "    'depth': [6, 7, 8],\n",
    "    'min_data_in_leaf': [1, 2, 3, 4]\n",
    "}\n",
    "\n",
    "grid_catb = GridSearchCV(catb, param_grid=params_catb, cv=tss,\n",
    "                        scoring='neg_root_mean_squared_error').fit(train_features, train_target, verbose=3) "
   ]
  },
  {
   "cell_type": "code",
   "execution_count": 23,
   "metadata": {},
   "outputs": [
    {
     "name": "stdout",
     "output_type": "stream",
     "text": [
      "Fit time: 1.3727472027142842\n",
      "Predict time: 0.0025759180386861163\n",
      "Best RMSE: -25.276851624973176\n"
     ]
    }
   ],
   "source": [
    "results = grid_catb.cv_results_\n",
    "best_index = grid_catb.best_index_\n",
    "\n",
    "fit_time = results['mean_fit_time'].mean()\n",
    "score_time = results['mean_score_time'].mean()\n",
    "RMSE = results['mean_test_score'].max()\n",
    "\n",
    "print(f\"Fit time: {fit_time}\\nPredict time: {score_time}\\nBest RMSE: {RMSE}\") "
   ]
  },
  {
   "cell_type": "code",
   "execution_count": 24,
   "metadata": {},
   "outputs": [
    {
     "data": {
      "text/plain": [
       "{'depth': 8, 'min_data_in_leaf': 1}"
      ]
     },
     "execution_count": 24,
     "metadata": {},
     "output_type": "execute_result"
    }
   ],
   "source": [
    "grid_catb.best_params_"
   ]
  },
  {
   "cell_type": "markdown",
   "metadata": {},
   "source": [
    "### Нейросеть"
   ]
  },
  {
   "cell_type": "code",
   "execution_count": 25,
   "metadata": {},
   "outputs": [],
   "source": [
    "class EarlyStopping_1():\n",
    "    \"\"\"\n",
    "    Early stopping to stop the training when the loss does not improve after\n",
    "    certain epochs.\n",
    "    \"\"\"\n",
    "    def __init__(self, patience=5, min_delta=0):\n",
    "        \"\"\"\n",
    "        :param patience: how many epochs to wait before stopping when loss is\n",
    "               not improving\n",
    "        :param min_delta: minimum difference between new loss and old loss for\n",
    "               new loss to be considered as an improvement\n",
    "        \"\"\"\n",
    "        self.patience = patience\n",
    "        self.min_delta = min_delta\n",
    "        self.counter = 0\n",
    "        self.best_loss = None\n",
    "        self.early_stop = False\n",
    "    def __call__(self, val_loss):\n",
    "        if self.best_loss == None:\n",
    "            self.best_loss = val_loss\n",
    "        elif self.best_loss - val_loss > self.min_delta:\n",
    "            self.best_loss = val_loss\n",
    "            # reset counter if validation loss improves\n",
    "            self.counter = 0\n",
    "        elif self.best_loss - val_loss < self.min_delta:\n",
    "            self.counter += 1\n",
    "            print(f\"INFO: Early stopping counter {self.counter} of {self.patience}\")\n",
    "            if self.counter >= self.patience:\n",
    "                print('INFO: Early stopping')\n",
    "                self.early_stop = True "
   ]
  },
  {
   "cell_type": "code",
   "execution_count": 26,
   "metadata": {},
   "outputs": [],
   "source": [
    "# гиперпараметры нейросети\n",
    "num_epochs = 200\n",
    "batch_size = 1000\n",
    "loss = nn.MSELoss() \n",
    "learning_rate = 0.01\n",
    "early_stopping = EarlyStopping_1() "
   ]
  },
  {
   "cell_type": "code",
   "execution_count": 27,
   "metadata": {},
   "outputs": [],
   "source": [
    "X_train_tensor = torch.from_numpy(train_features_scaled).float()\n",
    "X_test_tensor = torch.from_numpy(test_features_scaled).float()\n",
    "\n",
    "y_train_tensor = torch.from_numpy(np.array(train_target)).float() \n",
    "y_test_tensor = torch.from_numpy(np.array(test_target)).float() \n",
    "\n",
    "dataset_train = torch.utils.data.TensorDataset(X_train_tensor, y_train_tensor) \n",
    "dataset_test = torch.utils.data.TensorDataset(X_test_tensor, y_test_tensor)  \n",
    "\n",
    "\n",
    "train_dataloader = DataLoader(dataset_train, batch_size=batch_size, shuffle=True,\n",
    "                              num_workers=0)\n",
    "test_dataloader = DataLoader(dataset_test, batch_size=batch_size, num_workers=0) "
   ]
  },
  {
   "cell_type": "code",
   "execution_count": 28,
   "metadata": {},
   "outputs": [],
   "source": [
    "class Basic_Net(nn.Module):\n",
    "    def __init__(self, n_in_neurons, n_hidden_neurons_1, n_hidden_neurons_2, n_out_neurons):\n",
    "        super(Basic_Net, self).__init__()\n",
    "        self.layer1 = nn.Linear(n_in_neurons, n_hidden_neurons_1)\n",
    "        self.layer2 = nn.Linear(n_hidden_neurons_1, n_hidden_neurons_2)\n",
    "        self.layer3 = nn.Linear(n_hidden_neurons_2, n_out_neurons)\n",
    "        \n",
    "    def forward(self, x):\n",
    "        x = self.layer1(x)\n",
    "        x = torch.relu(x) \n",
    "        x = self.layer2(x)\n",
    "        x = torch.relu(x) \n",
    "        x = self.layer3(x)\n",
    "        x = torch.relu(x)\n",
    "        \n",
    "        return x"
   ]
  },
  {
   "cell_type": "code",
   "execution_count": 29,
   "metadata": {},
   "outputs": [],
   "source": [
    "# инициализация весов\n",
    "def init_weights(layer):\n",
    "    if type(layer) == nn.Linear:\n",
    "        nn.init.xavier_uniform_(layer.weight)"
   ]
  },
  {
   "cell_type": "code",
   "execution_count": 30,
   "metadata": {},
   "outputs": [],
   "source": [
    "n_in_neurons = X_train_tensor.size(dim=1)\n",
    "n_out_neurons = 1\n",
    "n_hidden_neurons_1 = 20\n",
    "n_hidden_neurons_2 = 10"
   ]
  },
  {
   "cell_type": "code",
   "execution_count": 31,
   "metadata": {},
   "outputs": [],
   "source": [
    "basic_net = Basic_Net(n_in_neurons, n_hidden_neurons_1, n_hidden_neurons_2, n_out_neurons)\n",
    "basic_net.apply(init_weights)\n",
    "optimizer = torch.optim.Adam(basic_net.parameters(), lr=learning_rate)"
   ]
  },
  {
   "cell_type": "code",
   "execution_count": 32,
   "metadata": {},
   "outputs": [],
   "source": [
    "skorch_regressor = NeuralNetRegressor(module=basic_net, \n",
    "                                      device='cpu',  \n",
    "                                      verbose=3,\n",
    "                                      batch_size=batch_size,\n",
    "                                      optimizer=torch.optim.Adam, \n",
    "                                      max_epochs=20, \n",
    "                                      lr=learning_rate,\n",
    "                                      #train_split=ValidSplit(cv=5),\n",
    "                                      callbacks=[\n",
    "                ('rmse', EpochScoring(scoring='neg_root_mean_squared_error', lower_is_better=False)),\n",
    "                ('estoper', EarlyStopping(lower_is_better=False, monitor='neg_root_mean_squared_error')),\n",
    "            ],\n",
    "                                     ) "
   ]
  },
  {
   "cell_type": "code",
   "execution_count": 33,
   "metadata": {},
   "outputs": [],
   "source": [
    "params = {\n",
    "    'module__n_in_neurons': [n_in_neurons],\n",
    "    'module__n_hidden_neurons_1': range(10, 30, 5),\n",
    "    'module__n_hidden_neurons_2': range(10, 30, 5),\n",
    "    'module__n_out_neurons': [n_out_neurons],\n",
    "    #'lr': [1e-3, 1e-4]\n",
    "}"
   ]
  },
  {
   "cell_type": "code",
   "execution_count": 34,
   "metadata": {
    "scrolled": true
   },
   "outputs": [
    {
     "name": "stdout",
     "output_type": "stream",
     "text": [
      "Fitting 5 folds for each of 10 candidates, totalling 50 fits\n",
      "  epoch    neg_root_mean_squared_error    train_loss    valid_loss     dur\n",
      "-------  -----------------------------  ------------  ------------  ------\n",
      "      1                       \u001b[36m-59.7861\u001b[0m     \u001b[32m4265.3828\u001b[0m     \u001b[35m3574.3767\u001b[0m  0.0137\n",
      "      2                       \u001b[36m-59.6299\u001b[0m     \u001b[32m4249.9131\u001b[0m     \u001b[35m3555.7297\u001b[0m  0.0069\n",
      "      3                       \u001b[36m-59.4006\u001b[0m     \u001b[32m4229.5439\u001b[0m     \u001b[35m3528.4331\u001b[0m  0.0077\n",
      "      4                       \u001b[36m-59.0885\u001b[0m     \u001b[32m4201.0078\u001b[0m     \u001b[35m3491.4521\u001b[0m  0.0087\n",
      "      5                       \u001b[36m-58.6816\u001b[0m     \u001b[32m4162.9492\u001b[0m     \u001b[35m3443.5278\u001b[0m  0.0081\n",
      "      6                       \u001b[36m-58.1615\u001b[0m     \u001b[32m4113.7739\u001b[0m     \u001b[35m3382.7551\u001b[0m  0.0067\n",
      "      7                       \u001b[36m-57.5108\u001b[0m     \u001b[32m4051.3020\u001b[0m     \u001b[35m3307.4961\u001b[0m  0.0064\n",
      "      8                       \u001b[36m-56.7117\u001b[0m     \u001b[32m3973.8433\u001b[0m     \u001b[35m3216.2119\u001b[0m  0.0581\n",
      "      9                       \u001b[36m-55.7458\u001b[0m     \u001b[32m3879.8628\u001b[0m     \u001b[35m3107.5999\u001b[0m  0.0062\n",
      "     10                       \u001b[36m-54.5957\u001b[0m     \u001b[32m3767.8933\u001b[0m     \u001b[35m2980.6907\u001b[0m  0.0057\n",
      "     11                       \u001b[36m-53.2441\u001b[0m     \u001b[32m3636.5935\u001b[0m     \u001b[35m2834.9290\u001b[0m  0.0056\n",
      "     12                       \u001b[36m-51.6726\u001b[0m     \u001b[32m3484.9446\u001b[0m     \u001b[35m2670.0588\u001b[0m  0.0056\n",
      "     13                       \u001b[36m-49.8714\u001b[0m     \u001b[32m3312.4241\u001b[0m     \u001b[35m2487.1602\u001b[0m  0.0061\n",
      "     14                       \u001b[36m-47.8404\u001b[0m     \u001b[32m3119.4309\u001b[0m     \u001b[35m2288.7034\u001b[0m  0.0063\n",
      "     15                       \u001b[36m-45.5930\u001b[0m     \u001b[32m2907.4685\u001b[0m     \u001b[35m2078.7180\u001b[0m  0.0059\n",
      "     16                       \u001b[36m-43.1689\u001b[0m     \u001b[32m2679.4768\u001b[0m     \u001b[35m1863.5535\u001b[0m  0.0058\n",
      "     17                       \u001b[36m-40.6460\u001b[0m     \u001b[32m2440.1448\u001b[0m     \u001b[35m1652.0945\u001b[0m  0.0074\n",
      "     18                       \u001b[36m-38.1561\u001b[0m     \u001b[32m2196.2593\u001b[0m     \u001b[35m1455.8857\u001b[0m  0.0060\n",
      "     19                       \u001b[36m-35.9167\u001b[0m     \u001b[32m1957.3604\u001b[0m     \u001b[35m1290.0089\u001b[0m  0.0059\n",
      "     20                       \u001b[36m-34.2390\u001b[0m     \u001b[32m1735.7979\u001b[0m     \u001b[35m1172.3108\u001b[0m  0.0548\n",
      "[CV 1/5] END module__n_hidden_neurons_1=25, module__n_hidden_neurons_2=15, module__n_in_neurons=28, module__n_out_neurons=1; total time=   0.4s\n",
      "  epoch    neg_root_mean_squared_error    train_loss    valid_loss     dur\n",
      "-------  -----------------------------  ------------  ------------  ------\n",
      "      1                       \u001b[36m-63.8204\u001b[0m     \u001b[32m4504.4919\u001b[0m     \u001b[35m4073.0430\u001b[0m  0.0120\n",
      "      2                       \u001b[36m-63.6097\u001b[0m     \u001b[32m4484.9573\u001b[0m     \u001b[35m4046.1890\u001b[0m  0.0682\n",
      "      3                       \u001b[36m-63.2267\u001b[0m     \u001b[32m4458.1366\u001b[0m     \u001b[35m3997.6118\u001b[0m  0.0114\n",
      "      4                       \u001b[36m-62.6179\u001b[0m     \u001b[32m4411.0633\u001b[0m     \u001b[35m3921.0039\u001b[0m  0.0117\n",
      "      5                       \u001b[36m-61.6995\u001b[0m     \u001b[32m4336.0286\u001b[0m     \u001b[35m3806.8281\u001b[0m  0.0108\n",
      "      6                       \u001b[36m-60.3665\u001b[0m     \u001b[32m4224.0050\u001b[0m     \u001b[35m3644.1108\u001b[0m  0.0546\n",
      "      7                       \u001b[36m-58.4971\u001b[0m     \u001b[32m4063.6209\u001b[0m     \u001b[35m3421.9121\u001b[0m  0.0111\n",
      "      8                       \u001b[36m-55.9660\u001b[0m     \u001b[32m3843.3075\u001b[0m     \u001b[35m3132.1965\u001b[0m  0.0109\n",
      "      9                       \u001b[36m-52.6763\u001b[0m     \u001b[32m3553.7190\u001b[0m     \u001b[35m2774.7979\u001b[0m  0.0112\n",
      "     10                       \u001b[36m-48.6034\u001b[0m     \u001b[32m3191.3006\u001b[0m     \u001b[35m2362.2883\u001b[0m  0.0675\n",
      "     11                       \u001b[36m-43.9302\u001b[0m     \u001b[32m2762.2511\u001b[0m     \u001b[35m1929.8588\u001b[0m  0.0109\n",
      "     12                       \u001b[36m-39.3159\u001b[0m     \u001b[32m2290.9324\u001b[0m     \u001b[35m1545.7434\u001b[0m  0.0109\n",
      "     13                       \u001b[36m-36.3613\u001b[0m     \u001b[32m1829.2294\u001b[0m     \u001b[35m1322.1478\u001b[0m  0.0105\n",
      "     14                       -37.3853     \u001b[32m1466.3300\u001b[0m     1397.6613  0.0638\n",
      "     15                       -42.7673     \u001b[32m1320.5403\u001b[0m     1829.0452  0.0113\n",
      "     16                       -48.7052     1465.0570     2372.2002  0.0116\n",
      "     17                       -50.9656     1759.6499     2597.4961  0.0624\n",
      "Stopping since neg_root_mean_squared_error has not improved in the last 5 epochs.\n",
      "[CV 2/5] END module__n_hidden_neurons_1=25, module__n_hidden_neurons_2=15, module__n_in_neurons=28, module__n_out_neurons=1; total time=   0.6s\n",
      "  epoch    neg_root_mean_squared_error    train_loss    valid_loss     dur\n",
      "-------  -----------------------------  ------------  ------------  ------\n",
      "      1                       \u001b[36m-63.2039\u001b[0m     \u001b[32m5254.1755\u001b[0m     \u001b[35m3994.7314\u001b[0m  0.0164\n",
      "      2                       \u001b[36m-62.7325\u001b[0m     \u001b[32m5217.1090\u001b[0m     \u001b[35m3935.3665\u001b[0m  0.0568\n",
      "      3                       \u001b[36m-61.9556\u001b[0m     \u001b[32m5159.9564\u001b[0m     \u001b[35m3838.4937\u001b[0m  0.0160\n",
      "      4                       \u001b[36m-60.7383\u001b[0m     \u001b[32m5071.1309\u001b[0m     \u001b[35m3689.1370\u001b[0m  0.0681\n",
      "      5                       \u001b[36m-58.9496\u001b[0m     \u001b[32m4936.8887\u001b[0m     \u001b[35m3475.0564\u001b[0m  0.0170\n",
      "      6                       \u001b[36m-56.4413\u001b[0m     \u001b[32m4745.1209\u001b[0m     \u001b[35m3185.6252\u001b[0m  0.0150\n",
      "      7                       \u001b[36m-53.0526\u001b[0m     \u001b[32m4485.0270\u001b[0m     \u001b[35m2814.5776\u001b[0m  0.0721\n",
      "      8                       \u001b[36m-48.6660\u001b[0m     \u001b[32m4147.6842\u001b[0m     \u001b[35m2368.3752\u001b[0m  0.0152\n",
      "      9                       \u001b[36m-43.3536\u001b[0m     \u001b[32m3730.6784\u001b[0m     \u001b[35m1879.5372\u001b[0m  0.0735\n",
      "     10                       \u001b[36m-37.7164\u001b[0m     \u001b[32m3245.3418\u001b[0m     \u001b[35m1422.5253\u001b[0m  0.0152\n",
      "     11                       \u001b[36m-33.5969\u001b[0m     \u001b[32m2725.7382\u001b[0m     \u001b[35m1128.7494\u001b[0m  0.0150\n",
      "     12                       -34.3688     \u001b[32m2240.8958\u001b[0m     1181.2148  0.0768\n",
      "     13                       -41.3669     \u001b[32m1898.7083\u001b[0m     1711.2220  0.0172\n",
      "     14                       -50.0528     \u001b[32m1804.1427\u001b[0m     2505.2852  0.0644\n",
      "     15                       -54.7243     1913.8518     2994.7476  0.0177\n",
      "Stopping since neg_root_mean_squared_error has not improved in the last 5 epochs.\n",
      "[CV 3/5] END module__n_hidden_neurons_1=25, module__n_hidden_neurons_2=15, module__n_in_neurons=28, module__n_out_neurons=1; total time=   0.7s\n",
      "  epoch    neg_root_mean_squared_error    train_loss    valid_loss     dur\n",
      "-------  -----------------------------  ------------  ------------  ------\n",
      "      1                       \u001b[36m-63.5586\u001b[0m     \u001b[32m6090.3632\u001b[0m     \u001b[35m4039.6973\u001b[0m  0.0217\n",
      "      2                       \u001b[36m-63.1900\u001b[0m     \u001b[32m6055.1239\u001b[0m     \u001b[35m3992.9768\u001b[0m  0.0702\n",
      "      3                       \u001b[36m-62.5880\u001b[0m     \u001b[32m6003.2439\u001b[0m     \u001b[35m3917.2578\u001b[0m  0.0225\n",
      "      4                       \u001b[36m-61.6287\u001b[0m     \u001b[32m5922.7615\u001b[0m     \u001b[35m3798.1001\u001b[0m  0.0740\n",
      "      5                       \u001b[36m-60.1720\u001b[0m     \u001b[32m5800.7501\u001b[0m     \u001b[35m3620.6646\u001b[0m  0.0257\n",
      "      6                       \u001b[36m-58.0569\u001b[0m     \u001b[32m5621.1385\u001b[0m     \u001b[35m3370.6011\u001b[0m  0.0698\n",
      "      7                       \u001b[36m-55.0953\u001b[0m     \u001b[32m5367.9448\u001b[0m     \u001b[35m3035.4880\u001b[0m  0.0209\n",
      "      8                       \u001b[36m-51.0950\u001b[0m     \u001b[32m5025.4877\u001b[0m     \u001b[35m2610.6975\u001b[0m  0.0206\n",
      "      9                       \u001b[36m-45.9190\u001b[0m     \u001b[32m4581.3950\u001b[0m     \u001b[35m2108.5576\u001b[0m  0.0734\n",
      "     10                       \u001b[36m-39.6242\u001b[0m     \u001b[32m4032.0237\u001b[0m     \u001b[35m1570.0782\u001b[0m  0.0210\n",
      "     11                       \u001b[36m-32.8579\u001b[0m     \u001b[32m3390.7706\u001b[0m     \u001b[35m1079.6400\u001b[0m  0.0712\n",
      "     12                       \u001b[36m-27.7932\u001b[0m     \u001b[32m2698.5844\u001b[0m      \u001b[35m772.4633\u001b[0m  0.0229\n",
      "     13                       -28.3880     \u001b[32m2033.4185\u001b[0m      805.8783  0.0713\n",
      "     14                       -35.0799     \u001b[32m1508.0358\u001b[0m     1230.5979  0.0251\n",
      "     15                       -42.0838     \u001b[32m1223.4592\u001b[0m     1771.0491  0.0701\n",
      "     16                       -44.4391     \u001b[32m1160.1538\u001b[0m     1974.8312  0.0224\n",
      "Stopping since neg_root_mean_squared_error has not improved in the last 5 epochs.\n",
      "[CV 4/5] END module__n_hidden_neurons_1=25, module__n_hidden_neurons_2=15, module__n_in_neurons=28, module__n_out_neurons=1; total time=   0.9s\n",
      "  epoch    neg_root_mean_squared_error    train_loss    valid_loss     dur\n",
      "-------  -----------------------------  ------------  ------------  ------\n",
      "      1                       \u001b[36m-64.1807\u001b[0m     \u001b[32m7059.8084\u001b[0m     \u001b[35m4119.1592\u001b[0m  0.0572\n",
      "      2                       \u001b[36m-63.9227\u001b[0m     \u001b[32m7025.8574\u001b[0m     \u001b[35m4086.1082\u001b[0m  0.0255\n",
      "      3                       \u001b[36m-63.5573\u001b[0m     \u001b[32m6971.9104\u001b[0m     \u001b[35m4039.5308\u001b[0m  0.0783\n",
      "      4                       \u001b[36m-63.0248\u001b[0m     \u001b[32m6890.4846\u001b[0m     \u001b[35m3972.1282\u001b[0m  0.0256\n",
      "      5                       \u001b[36m-62.2735\u001b[0m     \u001b[32m6766.5695\u001b[0m     \u001b[35m3877.9863\u001b[0m  0.0266\n",
      "      6                       \u001b[36m-61.2481\u001b[0m     \u001b[32m6585.0872\u001b[0m     \u001b[35m3751.3286\u001b[0m  0.0770\n",
      "      7                       \u001b[36m-59.8807\u001b[0m     \u001b[32m6330.6501\u001b[0m     \u001b[35m3585.7012\u001b[0m  0.0252\n",
      "      8                       \u001b[36m-58.0977\u001b[0m     \u001b[32m5987.6687\u001b[0m     \u001b[35m3375.3479\u001b[0m  0.0793\n",
      "      9                       \u001b[36m-55.8155\u001b[0m     \u001b[32m5543.0131\u001b[0m     \u001b[35m3115.3694\u001b[0m  0.0260\n",
      "     10                       \u001b[36m-52.9437\u001b[0m     \u001b[32m4990.4383\u001b[0m     \u001b[35m2803.0349\u001b[0m  0.0271\n",
      "     11                       \u001b[36m-49.3893\u001b[0m     \u001b[32m4335.7044\u001b[0m     \u001b[35m2439.3047\u001b[0m  0.0791\n",
      "     12                       \u001b[36m-45.0850\u001b[0m     \u001b[32m3604.4283\u001b[0m     \u001b[35m2032.6616\u001b[0m  0.0272\n",
      "     13                       \u001b[36m-40.0419\u001b[0m     \u001b[32m2849.9752\u001b[0m     \u001b[35m1603.3506\u001b[0m  0.0749\n",
      "     14                       \u001b[36m-34.4875\u001b[0m     \u001b[32m2159.4059\u001b[0m     \u001b[35m1189.3861\u001b[0m  0.0259\n",
      "     15                       \u001b[36m-29.2833\u001b[0m     \u001b[32m1637.9539\u001b[0m      \u001b[35m857.5114\u001b[0m  0.0281\n",
      "     16                       \u001b[36m-26.5136\u001b[0m     \u001b[32m1343.8163\u001b[0m      \u001b[35m702.9706\u001b[0m  0.0780\n",
      "     17                       -28.3372     \u001b[32m1203.1617\u001b[0m      802.9988  0.0260\n",
      "     18                       -33.3481     \u001b[32m1099.8837\u001b[0m     1112.0945  0.0789\n",
      "     19                       -37.7785     \u001b[32m1013.1134\u001b[0m     1427.2174  0.0257\n",
      "     20                       -39.3842      \u001b[32m956.6901\u001b[0m     1551.1178  0.0790\n",
      "[CV 5/5] END module__n_hidden_neurons_1=25, module__n_hidden_neurons_2=15, module__n_in_neurons=28, module__n_out_neurons=1; total time=   1.2s\n",
      "  epoch    neg_root_mean_squared_error    train_loss    valid_loss     dur\n",
      "-------  -----------------------------  ------------  ------------  ------\n",
      "      1                       \u001b[36m-59.7755\u001b[0m     \u001b[32m4266.7881\u001b[0m     \u001b[35m3573.1055\u001b[0m  0.0066\n",
      "      2                       \u001b[36m-59.5724\u001b[0m     \u001b[32m4247.5493\u001b[0m     \u001b[35m3548.8740\u001b[0m  0.0071\n",
      "      3                       \u001b[36m-59.2891\u001b[0m     \u001b[32m4221.9771\u001b[0m     \u001b[35m3515.1936\u001b[0m  0.0065\n",
      "      4                       \u001b[36m-58.8997\u001b[0m     \u001b[32m4187.2007\u001b[0m     \u001b[35m3469.1787\u001b[0m  0.0067\n",
      "      5                       \u001b[36m-58.3865\u001b[0m     \u001b[32m4139.8296\u001b[0m     \u001b[35m3408.9861\u001b[0m  0.0067\n",
      "      6                       \u001b[36m-57.7238\u001b[0m     \u001b[32m4077.1685\u001b[0m     \u001b[35m3332.0337\u001b[0m  0.0068\n",
      "      7                       \u001b[36m-56.8920\u001b[0m     \u001b[32m3997.0510\u001b[0m     \u001b[35m3236.7021\u001b[0m  0.0072\n",
      "      8                       \u001b[36m-55.8687\u001b[0m     \u001b[32m3897.8743\u001b[0m     \u001b[35m3121.3169\u001b[0m  0.0515\n",
      "      9                       \u001b[36m-54.6344\u001b[0m     \u001b[32m3777.9224\u001b[0m     \u001b[35m2984.9211\u001b[0m  0.0062\n",
      "     10                       \u001b[36m-53.1668\u001b[0m     \u001b[32m3635.6655\u001b[0m     \u001b[35m2826.7136\u001b[0m  0.0065\n",
      "     11                       \u001b[36m-51.4482\u001b[0m     \u001b[32m3469.9944\u001b[0m     \u001b[35m2646.9207\u001b[0m  0.0066\n",
      "     12                       \u001b[36m-49.4660\u001b[0m     \u001b[32m3280.2930\u001b[0m     \u001b[35m2446.8870\u001b[0m  0.0066\n",
      "     13                       \u001b[36m-47.2211\u001b[0m     \u001b[32m3067.1135\u001b[0m     \u001b[35m2229.8311\u001b[0m  0.0633\n",
      "     14                       \u001b[36m-44.7330\u001b[0m     \u001b[32m2832.4885\u001b[0m     \u001b[35m2001.0405\u001b[0m  0.0124\n",
      "     15                       \u001b[36m-42.0556\u001b[0m     \u001b[32m2580.4038\u001b[0m     \u001b[35m1768.6708\u001b[0m  0.0061\n",
      "     16                       \u001b[36m-39.2980\u001b[0m     \u001b[32m2317.3193\u001b[0m     \u001b[35m1544.3347\u001b[0m  0.0061\n",
      "     17                       \u001b[36m-36.6667\u001b[0m     \u001b[32m2052.7080\u001b[0m     \u001b[35m1344.4467\u001b[0m  0.0058\n",
      "     18                       \u001b[36m-34.4863\u001b[0m     \u001b[32m1799.5674\u001b[0m     \u001b[35m1189.3052\u001b[0m  0.0058\n",
      "     19                       \u001b[36m-33.1913\u001b[0m     \u001b[32m1574.9413\u001b[0m     \u001b[35m1101.6622\u001b[0m  0.0544\n",
      "     20                       -33.2014     \u001b[32m1398.9840\u001b[0m     1102.3347  0.0060\n",
      "[CV 1/5] END module__n_hidden_neurons_1=20, module__n_hidden_neurons_2=20, module__n_in_neurons=28, module__n_out_neurons=1; total time=   0.4s\n",
      "  epoch    neg_root_mean_squared_error    train_loss    valid_loss     dur\n",
      "-------  -----------------------------  ------------  ------------  ------\n",
      "      1                       \u001b[36m-63.6637\u001b[0m     \u001b[32m4498.0409\u001b[0m     \u001b[35m4053.0645\u001b[0m  0.0114\n",
      "      2                       \u001b[36m-63.2751\u001b[0m     \u001b[32m4464.0307\u001b[0m     \u001b[35m4003.7363\u001b[0m  0.0675\n",
      "      3                       \u001b[36m-62.6553\u001b[0m     \u001b[32m4415.2960\u001b[0m     \u001b[35m3925.6904\u001b[0m  0.0126\n",
      "      4                       \u001b[36m-61.6924\u001b[0m     \u001b[32m4336.9976\u001b[0m     \u001b[35m3805.9546\u001b[0m  0.0116\n",
      "      5                       \u001b[36m-60.2519\u001b[0m     \u001b[32m4216.9145\u001b[0m     \u001b[35m3630.2864\u001b[0m  0.0120\n",
      "      6                       \u001b[36m-58.1917\u001b[0m     \u001b[32m4041.3516\u001b[0m     \u001b[35m3386.2756\u001b[0m  0.0650\n",
      "      7                       \u001b[36m-55.3709\u001b[0m     \u001b[32m3796.7263\u001b[0m     \u001b[35m3065.9355\u001b[0m  0.0119\n",
      "      8                       \u001b[36m-51.7013\u001b[0m     \u001b[32m3473.2882\u001b[0m     \u001b[35m2673.0261\u001b[0m  0.0152\n",
      "      9                       \u001b[36m-47.2172\u001b[0m     \u001b[32m3070.3159\u001b[0m     \u001b[35m2229.4612\u001b[0m  0.0201\n",
      "     10                       \u001b[36m-42.2966\u001b[0m     \u001b[32m2601.8238\u001b[0m     \u001b[35m1789.0028\u001b[0m  0.0112\n",
      "     11                       \u001b[36m-38.0681\u001b[0m     \u001b[32m2107.3076\u001b[0m     \u001b[35m1449.1804\u001b[0m  0.0107\n",
      "     12                       \u001b[36m-36.7543\u001b[0m     \u001b[32m1662.6445\u001b[0m     \u001b[35m1350.8755\u001b[0m  0.0567\n",
      "     13                       -40.2630     \u001b[32m1384.2578\u001b[0m     1621.1058  0.0116\n",
      "     14                       -46.6210     1392.1805     2173.5215  0.0114\n",
      "     15                       -50.6757     1664.3174     2568.0305  0.0690\n",
      "     16                       -50.1142     1902.5371     2511.4353  0.0117\n",
      "Stopping since neg_root_mean_squared_error has not improved in the last 5 epochs.\n",
      "[CV 2/5] END module__n_hidden_neurons_1=20, module__n_hidden_neurons_2=20, module__n_in_neurons=28, module__n_out_neurons=1; total time=   0.5s\n",
      "  epoch    neg_root_mean_squared_error    train_loss    valid_loss     dur\n",
      "-------  -----------------------------  ------------  ------------  ------\n",
      "      1                       \u001b[36m-63.4718\u001b[0m     \u001b[32m5278.2692\u001b[0m     \u001b[35m4028.6648\u001b[0m  0.0676\n",
      "      2                       \u001b[36m-63.1712\u001b[0m     \u001b[32m5251.6057\u001b[0m     \u001b[35m3990.5940\u001b[0m  0.0169\n",
      "      3                       \u001b[36m-62.6471\u001b[0m     \u001b[32m5213.0058\u001b[0m     \u001b[35m3924.6648\u001b[0m  0.0736\n",
      "      4                       \u001b[36m-61.7684\u001b[0m     \u001b[32m5150.6942\u001b[0m     \u001b[35m3815.3354\u001b[0m  0.0170\n",
      "      5                       \u001b[36m-60.3927\u001b[0m     \u001b[32m5051.9615\u001b[0m     \u001b[35m3647.2759\u001b[0m  0.0150\n",
      "      6                       \u001b[36m-58.3693\u001b[0m     \u001b[32m4904.1776\u001b[0m     \u001b[35m3406.9761\u001b[0m  0.0778\n",
      "      7                       \u001b[36m-55.5355\u001b[0m     \u001b[32m4695.0262\u001b[0m     \u001b[35m3084.1904\u001b[0m  0.0163\n",
      "      8                       \u001b[36m-51.7489\u001b[0m     \u001b[32m4413.1765\u001b[0m     \u001b[35m2677.9514\u001b[0m  0.0719\n",
      "      9                       \u001b[36m-46.9714\u001b[0m     \u001b[32m4051.3632\u001b[0m     \u001b[35m2206.3159\u001b[0m  0.0259\n",
      "     10                       \u001b[36m-41.5379\u001b[0m     \u001b[32m3612.7986\u001b[0m     \u001b[35m1725.3983\u001b[0m  0.0669\n",
      "     11                       \u001b[36m-36.6749\u001b[0m     \u001b[32m3120.9139\u001b[0m     \u001b[35m1345.0503\u001b[0m  0.0158\n",
      "     12                       \u001b[36m-35.2626\u001b[0m     \u001b[32m2630.7551\u001b[0m     \u001b[35m1243.4473\u001b[0m  0.0151\n",
      "     13                       -40.2006     \u001b[32m2241.3565\u001b[0m     1616.0900  0.0728\n",
      "     14                       -49.1717     \u001b[32m2080.4151\u001b[0m     2417.8516  0.1355\n",
      "     15                       -55.5435     2182.4975     3085.0776  0.0475\n",
      "     16                       -56.3103     2329.7534     3170.8447  0.0158\n",
      "Stopping since neg_root_mean_squared_error has not improved in the last 5 epochs.\n",
      "[CV 3/5] END module__n_hidden_neurons_1=20, module__n_hidden_neurons_2=20, module__n_in_neurons=28, module__n_out_neurons=1; total time=   0.8s\n",
      "  epoch    neg_root_mean_squared_error    train_loss    valid_loss     dur\n",
      "-------  -----------------------------  ------------  ------------  ------\n",
      "      1                       \u001b[36m-63.6908\u001b[0m     \u001b[32m6107.2873\u001b[0m     \u001b[35m4056.5166\u001b[0m  0.0208\n",
      "      2                       \u001b[36m-63.3250\u001b[0m     \u001b[32m6072.7522\u001b[0m     \u001b[35m4010.0554\u001b[0m  0.0214\n",
      "      3                       \u001b[36m-62.6661\u001b[0m     \u001b[32m6013.1526\u001b[0m     \u001b[35m3927.0376\u001b[0m  0.0228\n",
      "      4                       \u001b[36m-61.4990\u001b[0m     \u001b[32m5913.6122\u001b[0m     \u001b[35m3782.1240\u001b[0m  0.0209\n",
      "      5                       \u001b[36m-59.5625\u001b[0m     \u001b[32m5750.9374\u001b[0m     \u001b[35m3547.6919\u001b[0m  0.0704\n",
      "      6                       \u001b[36m-56.5802\u001b[0m     \u001b[32m5501.6761\u001b[0m     \u001b[35m3201.3210\u001b[0m  0.0202\n",
      "      7                       \u001b[36m-52.2926\u001b[0m     \u001b[32m5144.8171\u001b[0m     \u001b[35m2734.5178\u001b[0m  0.0697\n",
      "      8                       \u001b[36m-46.5306\u001b[0m     \u001b[32m4663.7215\u001b[0m     \u001b[35m2165.1013\u001b[0m  0.0195\n",
      "      9                       \u001b[36m-39.5538\u001b[0m     \u001b[32m4053.8764\u001b[0m     \u001b[35m1564.5051\u001b[0m  0.0745\n",
      "     10                       \u001b[36m-32.9269\u001b[0m     \u001b[32m3337.5628\u001b[0m     \u001b[35m1084.1786\u001b[0m  0.0203\n",
      "     11                       \u001b[36m-30.8939\u001b[0m     \u001b[32m2581.9416\u001b[0m      \u001b[35m954.4323\u001b[0m  0.0689\n",
      "     12                       -36.7388     \u001b[32m1911.1949\u001b[0m     1349.7356  0.0249\n",
      "     13                       -44.7243     \u001b[32m1474.8237\u001b[0m     2000.2646  0.0738\n",
      "     14                       -47.3513     \u001b[32m1299.3975\u001b[0m     2242.1426  0.0241\n",
      "     15                       -43.6750     \u001b[32m1218.1537\u001b[0m     1907.5024  0.0710\n",
      "Stopping since neg_root_mean_squared_error has not improved in the last 5 epochs.\n",
      "[CV 4/5] END module__n_hidden_neurons_1=20, module__n_hidden_neurons_2=20, module__n_in_neurons=28, module__n_out_neurons=1; total time=   0.7s\n",
      "  epoch    neg_root_mean_squared_error    train_loss    valid_loss     dur\n",
      "-------  -----------------------------  ------------  ------------  ------\n",
      "      1                       \u001b[36m-64.1186\u001b[0m     \u001b[32m7051.7935\u001b[0m     \u001b[35m4111.1899\u001b[0m  0.0778\n",
      "      2                       \u001b[36m-63.8488\u001b[0m     \u001b[32m7008.4371\u001b[0m     \u001b[35m4076.6663\u001b[0m  0.0238\n",
      "      3                       \u001b[36m-63.4313\u001b[0m     \u001b[32m6942.5472\u001b[0m     \u001b[35m4023.5266\u001b[0m  0.0776\n",
      "      4                       \u001b[36m-62.8060\u001b[0m     \u001b[32m6835.3127\u001b[0m     \u001b[35m3944.5945\u001b[0m  0.0770\n",
      "      5                       \u001b[36m-61.9070\u001b[0m     \u001b[32m6670.6728\u001b[0m     \u001b[35m3832.4719\u001b[0m  0.0245\n",
      "      6                       \u001b[36m-60.6677\u001b[0m     \u001b[32m6432.3839\u001b[0m     \u001b[35m3680.5752\u001b[0m  0.1565\n",
      "      7                       \u001b[36m-59.0115\u001b[0m     \u001b[32m6104.1294\u001b[0m     \u001b[35m3482.3577\u001b[0m  0.0257\n",
      "      8                       \u001b[36m-56.8493\u001b[0m     \u001b[32m5672.2599\u001b[0m     \u001b[35m3231.8398\u001b[0m  0.0812\n",
      "      9                       \u001b[36m-54.0819\u001b[0m     \u001b[32m5130.5286\u001b[0m     \u001b[35m2924.8508\u001b[0m  0.0267\n",
      "     10                       \u001b[36m-50.6093\u001b[0m     \u001b[32m4487.7125\u001b[0m     \u001b[35m2561.2993\u001b[0m  0.0795\n",
      "     11                       \u001b[36m-46.3631\u001b[0m     \u001b[32m3777.0170\u001b[0m     \u001b[35m2149.5361\u001b[0m  0.0275\n",
      "     12                       \u001b[36m-41.3641\u001b[0m     \u001b[32m3066.5040\u001b[0m     \u001b[35m1710.9880\u001b[0m  0.0243\n",
      "     13                       \u001b[36m-35.8931\u001b[0m     \u001b[32m2457.5236\u001b[0m     \u001b[35m1288.3158\u001b[0m  0.0765\n",
      "     14                       \u001b[36m-30.8966\u001b[0m     \u001b[32m2035.3252\u001b[0m      \u001b[35m954.5988\u001b[0m  0.0270\n",
      "     15                       \u001b[36m-28.3246\u001b[0m     \u001b[32m1756.3883\u001b[0m      \u001b[35m802.2841\u001b[0m  0.0835\n",
      "     16                       -29.9642     \u001b[32m1495.3913\u001b[0m      897.8538  0.0268\n",
      "     17                       -34.7628     \u001b[32m1248.4857\u001b[0m     1208.4501  0.0757\n",
      "     18                       -39.6216     \u001b[32m1086.7325\u001b[0m     1569.8735  0.0826\n",
      "     19                       -42.2387     \u001b[32m1025.3270\u001b[0m     1784.1073  0.0269\n",
      "Stopping since neg_root_mean_squared_error has not improved in the last 5 epochs.\n",
      "[CV 5/5] END module__n_hidden_neurons_1=20, module__n_hidden_neurons_2=20, module__n_in_neurons=28, module__n_out_neurons=1; total time=   1.3s\n",
      "  epoch    neg_root_mean_squared_error    train_loss    valid_loss     dur\n",
      "-------  -----------------------------  ------------  ------------  ------\n",
      "      1                       \u001b[36m-59.9835\u001b[0m     \u001b[32m4277.5898\u001b[0m     \u001b[35m3598.0215\u001b[0m  0.0064\n",
      "      2                       \u001b[36m-59.9568\u001b[0m     \u001b[32m4276.2241\u001b[0m     \u001b[35m3594.8140\u001b[0m  0.0058\n",
      "      3                       \u001b[36m-59.9014\u001b[0m     \u001b[32m4272.5083\u001b[0m     \u001b[35m3588.1816\u001b[0m  0.0618\n",
      "      4                       \u001b[36m-59.8195\u001b[0m     \u001b[32m4265.2695\u001b[0m     \u001b[35m3578.3689\u001b[0m  0.0061\n",
      "      5                       \u001b[36m-59.7060\u001b[0m     \u001b[32m4254.7495\u001b[0m     \u001b[35m3564.8076\u001b[0m  0.0058\n",
      "      6                       \u001b[36m-59.5548\u001b[0m     \u001b[32m4240.5322\u001b[0m     \u001b[35m3546.7693\u001b[0m  0.0056\n",
      "      7                       \u001b[36m-59.3594\u001b[0m     \u001b[32m4222.1274\u001b[0m     \u001b[35m3523.5381\u001b[0m  0.0061\n",
      "      8                       \u001b[36m-59.1153\u001b[0m     \u001b[32m4198.8193\u001b[0m     \u001b[35m3494.6174\u001b[0m  0.0063\n",
      "      9                       \u001b[36m-58.8155\u001b[0m     \u001b[32m4169.7974\u001b[0m     \u001b[35m3459.2617\u001b[0m  0.0061\n",
      "     10                       \u001b[36m-58.4547\u001b[0m     \u001b[32m4134.5093\u001b[0m     \u001b[35m3416.9460\u001b[0m  0.0554\n",
      "     11                       \u001b[36m-58.0278\u001b[0m     \u001b[32m4092.2485\u001b[0m     \u001b[35m3367.2234\u001b[0m  0.0069\n",
      "     12                       \u001b[36m-57.5289\u001b[0m     \u001b[32m4042.3967\u001b[0m     \u001b[35m3309.5754\u001b[0m  0.0065\n",
      "     13                       \u001b[36m-56.9528\u001b[0m     \u001b[32m3984.4158\u001b[0m     \u001b[35m3243.6262\u001b[0m  0.0064\n",
      "     14                       \u001b[36m-56.2912\u001b[0m     \u001b[32m3917.7832\u001b[0m     \u001b[35m3168.6992\u001b[0m  0.1350\n",
      "     15                       \u001b[36m-55.5361\u001b[0m     \u001b[32m3841.8372\u001b[0m     \u001b[35m3084.2588\u001b[0m  0.0067\n",
      "     16                       \u001b[36m-54.6798\u001b[0m     \u001b[32m3756.0708\u001b[0m     \u001b[35m2989.8828\u001b[0m  0.0267\n",
      "     17                       \u001b[36m-53.7172\u001b[0m     \u001b[32m3660.0181\u001b[0m     \u001b[35m2885.5420\u001b[0m  0.0072\n",
      "     18                       \u001b[36m-52.6427\u001b[0m     \u001b[32m3553.3918\u001b[0m     \u001b[35m2771.2539\u001b[0m  0.0066\n",
      "     19                       \u001b[36m-51.4522\u001b[0m     \u001b[32m3436.0515\u001b[0m     \u001b[35m2647.3276\u001b[0m  0.0065\n",
      "     20                       \u001b[36m-50.1430\u001b[0m     \u001b[32m3308.0002\u001b[0m     \u001b[35m2514.3162\u001b[0m  0.0066\n",
      "[CV 1/5] END module__n_hidden_neurons_1=10, module__n_hidden_neurons_2=10, module__n_in_neurons=28, module__n_out_neurons=1; total time=   0.4s\n",
      "  epoch    neg_root_mean_squared_error    train_loss    valid_loss     dur\n",
      "-------  -----------------------------  ------------  ------------  ------\n",
      "      1                       \u001b[36m-63.9813\u001b[0m     \u001b[32m4521.6561\u001b[0m     \u001b[35m4093.6113\u001b[0m  0.0603\n",
      "      2                       \u001b[36m-63.7382\u001b[0m     \u001b[32m4509.2668\u001b[0m     \u001b[35m4062.5635\u001b[0m  0.0132\n",
      "      3                       \u001b[36m-63.3723\u001b[0m     \u001b[32m4479.1902\u001b[0m     \u001b[35m4016.0515\u001b[0m  0.0105\n",
      "      4                       \u001b[36m-62.8667\u001b[0m     \u001b[32m4433.4191\u001b[0m     \u001b[35m3952.2273\u001b[0m  0.0137\n",
      "      5                       \u001b[36m-62.1767\u001b[0m     \u001b[32m4370.0147\u001b[0m     \u001b[35m3865.9424\u001b[0m  0.0553\n",
      "      6                       \u001b[36m-61.2569\u001b[0m     \u001b[32m4284.4974\u001b[0m     \u001b[35m3752.4133\u001b[0m  0.0104\n",
      "      7                       \u001b[36m-60.0685\u001b[0m     \u001b[32m4172.0556\u001b[0m     \u001b[35m3608.2246\u001b[0m  0.0110\n",
      "      8                       \u001b[36m-58.5665\u001b[0m     \u001b[32m4028.9977\u001b[0m     \u001b[35m3430.0352\u001b[0m  0.0104\n",
      "      9                       \u001b[36m-56.7098\u001b[0m     \u001b[32m3851.7502\u001b[0m     \u001b[35m3215.9968\u001b[0m  0.0106\n",
      "     10                       \u001b[36m-54.4567\u001b[0m     \u001b[32m3637.2086\u001b[0m     \u001b[35m2965.5374\u001b[0m  0.0468\n",
      "     11                       \u001b[36m-51.7657\u001b[0m     \u001b[32m3383.1093\u001b[0m     \u001b[35m2679.6902\u001b[0m  0.0112\n",
      "     12                       \u001b[36m-48.6150\u001b[0m     \u001b[32m3087.9972\u001b[0m     \u001b[35m2363.4158\u001b[0m  0.0104\n",
      "     13                       \u001b[36m-45.0926\u001b[0m     \u001b[32m2753.4651\u001b[0m     \u001b[35m2033.3445\u001b[0m  0.0107\n",
      "     14                       \u001b[36m-41.4701\u001b[0m     \u001b[32m2392.7544\u001b[0m     \u001b[35m1719.7706\u001b[0m  0.0107\n",
      "     15                       \u001b[36m-38.2882\u001b[0m     \u001b[32m2029.0743\u001b[0m     \u001b[35m1465.9863\u001b[0m  0.0118\n",
      "     16                       \u001b[36m-36.4596\u001b[0m     \u001b[32m1697.5038\u001b[0m     \u001b[35m1329.3059\u001b[0m  0.0109\n",
      "     17                       -36.9713     \u001b[32m1446.0765\u001b[0m     1366.8801  0.0108\n",
      "     18                       -39.9477     \u001b[32m1327.7889\u001b[0m     1595.8163  0.0106\n",
      "     19                       -43.9365     1371.2056     1930.4160  0.0508\n",
      "     20                       -46.7466     1529.8374     2185.2444  0.0112\n",
      "[CV 2/5] END module__n_hidden_neurons_1=10, module__n_hidden_neurons_2=10, module__n_in_neurons=28, module__n_out_neurons=1; total time=   0.5s\n",
      "  epoch    neg_root_mean_squared_error    train_loss    valid_loss     dur\n",
      "-------  -----------------------------  ------------  ------------  ------\n",
      "      1                       \u001b[36m-63.6975\u001b[0m     \u001b[32m5287.8615\u001b[0m     \u001b[35m4057.3662\u001b[0m  0.0144\n",
      "      2                       -63.6975     5287.8615     4057.3662  0.0630\n",
      "      3                       -63.6975     5287.8615     4057.3662  0.0144\n",
      "      4                       -63.6975     5287.8615     4057.3662  0.0145\n",
      "      5                       -63.6975     5287.8615     4057.3662  0.0664\n",
      "      6                       -63.6975     5287.8615     4057.3662  0.0144\n",
      "      7                       -63.6975     5287.8615     4057.3662  0.0142\n",
      "      8                       -63.6975     5287.8615     4057.3662  0.0666\n",
      "      9                       -63.6975     5287.8615     4057.3662  0.0152\n",
      "     10                       -63.6975     5287.8615     4057.3662  0.0185\n",
      "     11                       -63.6975     5287.8615     4057.3662  0.0659\n",
      "     12                       -63.6975     5287.8615     4057.3662  0.0156\n",
      "     13                       -63.6975     5287.8615     4057.3662  0.0157\n",
      "     14                       -63.6975     5287.8615     4057.3662  0.0602\n",
      "     15                       -63.6975     5287.8615     4057.3662  0.0155\n",
      "     16                       -63.6975     5287.8615     4057.3662  0.0155\n",
      "     17                       -63.6975     5287.8615     4057.3662  0.0645\n",
      "     18                       -63.6975     5287.8615     4057.3662  0.0163\n",
      "     19                       -63.6975     5287.8615     4057.3662  0.0154\n",
      "     20                       -63.6975     5287.8615     4057.3662  0.0635\n",
      "[CV 3/5] END module__n_hidden_neurons_1=10, module__n_hidden_neurons_2=10, module__n_in_neurons=28, module__n_out_neurons=1; total time=   0.7s\n",
      "  epoch    neg_root_mean_squared_error    train_loss    valid_loss     dur\n",
      "-------  -----------------------------  ------------  ------------  ------\n",
      "      1                       \u001b[36m-63.5327\u001b[0m     \u001b[32m6079.0498\u001b[0m     \u001b[35m4036.3979\u001b[0m  0.0212\n",
      "      2                       \u001b[36m-63.3695\u001b[0m     \u001b[32m6057.6778\u001b[0m     \u001b[35m4015.6882\u001b[0m  0.0744\n",
      "      3                       \u001b[36m-63.1415\u001b[0m     \u001b[32m6035.4372\u001b[0m     \u001b[35m3986.8506\u001b[0m  0.0211\n",
      "      4                       \u001b[36m-62.8199\u001b[0m     \u001b[32m6006.8672\u001b[0m     \u001b[35m3946.3398\u001b[0m  0.0649\n",
      "      5                       \u001b[36m-62.3597\u001b[0m     \u001b[32m5968.3217\u001b[0m     \u001b[35m3888.7297\u001b[0m  0.0208\n",
      "      6                       \u001b[36m-61.7074\u001b[0m     \u001b[32m5915.3734\u001b[0m     \u001b[35m3807.8032\u001b[0m  0.0204\n",
      "      7                       \u001b[36m-60.8135\u001b[0m     \u001b[32m5843.4214\u001b[0m     \u001b[35m3698.2827\u001b[0m  0.0217\n",
      "      8                       \u001b[36m-59.6117\u001b[0m     \u001b[32m5747.6492\u001b[0m     \u001b[35m3553.5491\u001b[0m  0.0201\n",
      "      9                       \u001b[36m-58.0181\u001b[0m     \u001b[32m5622.2638\u001b[0m     \u001b[35m3366.1021\u001b[0m  0.1588\n",
      "     10                       \u001b[36m-55.9346\u001b[0m     \u001b[32m5460.5613\u001b[0m     \u001b[35m3128.6792\u001b[0m  0.0203\n",
      "     11                       \u001b[36m-53.2682\u001b[0m     \u001b[32m5255.5975\u001b[0m     \u001b[35m2837.4988\u001b[0m  0.0204\n",
      "     12                       \u001b[36m-49.9510\u001b[0m     \u001b[32m5001.5002\u001b[0m     \u001b[35m2495.1055\u001b[0m  0.0210\n",
      "     13                       \u001b[36m-45.9619\u001b[0m     \u001b[32m4694.8922\u001b[0m     \u001b[35m2112.4976\u001b[0m  0.0205\n",
      "     14                       \u001b[36m-41.3866\u001b[0m     \u001b[32m4335.9770\u001b[0m     \u001b[35m1712.8505\u001b[0m  0.0689\n",
      "     15                       \u001b[36m-36.5326\u001b[0m     \u001b[32m3930.2507\u001b[0m     \u001b[35m1334.6337\u001b[0m  0.0203\n",
      "     16                       \u001b[36m-32.1408\u001b[0m     \u001b[32m3490.6809\u001b[0m     \u001b[35m1033.0281\u001b[0m  0.0726\n",
      "     17                       \u001b[36m-29.5752\u001b[0m     \u001b[32m3039.3737\u001b[0m      \u001b[35m874.6898\u001b[0m  0.0204\n",
      "     18                       -30.3163     \u001b[32m2607.4859\u001b[0m      919.0778  0.0691\n",
      "     19                       -34.3095     \u001b[32m2230.7789\u001b[0m     1177.1448  0.0246\n",
      "     20                       -39.8025     \u001b[32m1936.8560\u001b[0m     1584.2405  0.0681\n",
      "[CV 4/5] END module__n_hidden_neurons_1=10, module__n_hidden_neurons_2=10, module__n_in_neurons=28, module__n_out_neurons=1; total time=   1.0s\n",
      "  epoch    neg_root_mean_squared_error    train_loss    valid_loss     dur\n",
      "-------  -----------------------------  ------------  ------------  ------\n",
      "      1                       \u001b[36m-64.1354\u001b[0m     \u001b[32m7055.1497\u001b[0m     \u001b[35m4113.3530\u001b[0m  0.0250\n",
      "      2                       \u001b[36m-63.9100\u001b[0m     \u001b[32m7023.0029\u001b[0m     \u001b[35m4084.4856\u001b[0m  0.0780\n",
      "      3                       \u001b[36m-63.6089\u001b[0m     \u001b[32m6978.0573\u001b[0m     \u001b[35m4046.0911\u001b[0m  0.0274\n",
      "      4                       \u001b[36m-63.1951\u001b[0m     \u001b[32m6917.5346\u001b[0m     \u001b[35m3993.6172\u001b[0m  0.0271\n",
      "      5                       \u001b[36m-62.6272\u001b[0m     \u001b[32m6834.1831\u001b[0m     \u001b[35m3922.1638\u001b[0m  0.0757\n",
      "      6                       \u001b[36m-61.8700\u001b[0m     \u001b[32m6719.4149\u001b[0m     \u001b[35m3827.8987\u001b[0m  0.0275\n",
      "      7                       \u001b[36m-60.8844\u001b[0m     \u001b[32m6564.3188\u001b[0m     \u001b[35m3706.9116\u001b[0m  0.0827\n",
      "      8                       \u001b[36m-59.6270\u001b[0m     \u001b[32m6360.6190\u001b[0m     \u001b[35m3555.3796\u001b[0m  0.0235\n",
      "      9                       \u001b[36m-58.0525\u001b[0m     \u001b[32m6101.1696\u001b[0m     \u001b[35m3370.0986\u001b[0m  0.0721\n",
      "     10                       \u001b[36m-56.1165\u001b[0m     \u001b[32m5779.8349\u001b[0m     \u001b[35m3149.0654\u001b[0m  0.0230\n",
      "     11                       \u001b[36m-53.7781\u001b[0m     \u001b[32m5392.3743\u001b[0m     \u001b[35m2892.0876\u001b[0m  0.0777\n",
      "     12                       \u001b[36m-50.9989\u001b[0m     \u001b[32m4938.4281\u001b[0m     \u001b[35m2600.8882\u001b[0m  0.0740\n",
      "     13                       \u001b[36m-47.7602\u001b[0m     \u001b[32m4423.8075\u001b[0m     \u001b[35m2281.0322\u001b[0m  0.0258\n",
      "     14                       \u001b[36m-44.0761\u001b[0m     \u001b[32m3862.9079\u001b[0m     \u001b[35m1942.7034\u001b[0m  0.0777\n",
      "     15                       \u001b[36m-40.0232\u001b[0m     \u001b[32m3281.1178\u001b[0m     \u001b[35m1601.8566\u001b[0m  0.0251\n",
      "     16                       \u001b[36m-35.8130\u001b[0m     \u001b[32m2715.9764\u001b[0m     \u001b[35m1282.5703\u001b[0m  0.0782\n",
      "     17                       \u001b[36m-31.8949\u001b[0m     \u001b[32m2214.8457\u001b[0m     \u001b[35m1017.2851\u001b[0m  0.1416\n",
      "     18                       \u001b[36m-29.0719\u001b[0m     \u001b[32m1823.7423\u001b[0m      \u001b[35m845.1729\u001b[0m  0.0539\n",
      "     19                       \u001b[36m-28.3447\u001b[0m     \u001b[32m1563.8346\u001b[0m      \u001b[35m803.4236\u001b[0m  0.0259\n",
      "     20                       -30.1201     \u001b[32m1410.3692\u001b[0m      907.2213  0.0710\n",
      "[CV 5/5] END module__n_hidden_neurons_1=10, module__n_hidden_neurons_2=10, module__n_in_neurons=28, module__n_out_neurons=1; total time=   1.2s\n",
      "  epoch    neg_root_mean_squared_error    train_loss    valid_loss     dur\n",
      "-------  -----------------------------  ------------  ------------  ------\n",
      "      1                       \u001b[36m-59.8078\u001b[0m     \u001b[32m4271.3828\u001b[0m     \u001b[35m3576.9756\u001b[0m  0.0064\n",
      "      2                       \u001b[36m-59.6313\u001b[0m     \u001b[32m4250.0151\u001b[0m     \u001b[35m3555.8967\u001b[0m  0.0065\n",
      "      3                       \u001b[36m-59.4122\u001b[0m     \u001b[32m4225.7979\u001b[0m     \u001b[35m3529.8042\u001b[0m  0.0074\n",
      "      4                       \u001b[36m-59.1053\u001b[0m     \u001b[32m4195.0068\u001b[0m     \u001b[35m3493.4370\u001b[0m  0.0064\n",
      "      5                       \u001b[36m-58.6790\u001b[0m     \u001b[32m4153.3770\u001b[0m     \u001b[35m3443.2234\u001b[0m  0.0068\n",
      "      6                       \u001b[36m-58.1006\u001b[0m     \u001b[32m4097.3154\u001b[0m     \u001b[35m3375.6794\u001b[0m  0.0067\n",
      "      7                       \u001b[36m-57.3400\u001b[0m     \u001b[32m4023.7842\u001b[0m     \u001b[35m3287.8708\u001b[0m  0.0064\n",
      "      8                       \u001b[36m-56.3662\u001b[0m     \u001b[32m3930.1750\u001b[0m     \u001b[35m3177.1497\u001b[0m  0.0587\n",
      "      9                       \u001b[36m-55.1602\u001b[0m     \u001b[32m3814.0916\u001b[0m     \u001b[35m3042.6467\u001b[0m  0.0068\n",
      "     10                       \u001b[36m-53.6894\u001b[0m     \u001b[32m3673.5464\u001b[0m     \u001b[35m2882.5520\u001b[0m  0.0061\n",
      "     11                       \u001b[36m-51.9195\u001b[0m     \u001b[32m3506.4937\u001b[0m     \u001b[35m2695.6343\u001b[0m  0.0064\n",
      "     12                       \u001b[36m-49.8312\u001b[0m     \u001b[32m3311.8000\u001b[0m     \u001b[35m2483.1462\u001b[0m  0.0064\n",
      "     13                       \u001b[36m-47.4316\u001b[0m     \u001b[32m3089.1890\u001b[0m     \u001b[35m2249.7605\u001b[0m  0.0063\n",
      "     14                       \u001b[36m-44.7424\u001b[0m     \u001b[32m2840.6548\u001b[0m     \u001b[35m2001.8826\u001b[0m  0.0583\n",
      "     15                       \u001b[36m-41.8347\u001b[0m     \u001b[32m2570.8811\u001b[0m     \u001b[35m1750.1381\u001b[0m  0.0068\n",
      "     16                       \u001b[36m-38.8713\u001b[0m     \u001b[32m2288.1582\u001b[0m     \u001b[35m1510.9773\u001b[0m  0.0066\n",
      "     17                       \u001b[36m-36.1403\u001b[0m     \u001b[32m2004.9385\u001b[0m     \u001b[35m1306.1232\u001b[0m  0.0062\n",
      "     18                       \u001b[36m-34.1097\u001b[0m     \u001b[32m1738.8585\u001b[0m     \u001b[35m1163.4703\u001b[0m  0.0058\n",
      "     19                       \u001b[36m-33.3789\u001b[0m     \u001b[32m1513.2689\u001b[0m     \u001b[35m1114.1533\u001b[0m  0.0062\n",
      "     20                       -34.3868     \u001b[32m1355.4172\u001b[0m     1182.4491  0.0058\n",
      "[CV 1/5] END module__n_hidden_neurons_1=25, module__n_hidden_neurons_2=20, module__n_in_neurons=28, module__n_out_neurons=1; total time=   0.4s\n",
      "  epoch    neg_root_mean_squared_error    train_loss    valid_loss     dur\n",
      "-------  -----------------------------  ------------  ------------  ------\n",
      "      1                       \u001b[36m-63.7840\u001b[0m     \u001b[32m4511.3329\u001b[0m     \u001b[35m4068.4001\u001b[0m  0.0109\n",
      "      2                       \u001b[36m-63.4858\u001b[0m     \u001b[32m4478.7312\u001b[0m     \u001b[35m4030.4485\u001b[0m  0.0110\n",
      "      3                       \u001b[36m-63.0505\u001b[0m     \u001b[32m4440.7829\u001b[0m     \u001b[35m3975.3674\u001b[0m  0.0650\n",
      "      4                       \u001b[36m-62.4056\u001b[0m     \u001b[32m4385.5185\u001b[0m     \u001b[35m3894.4612\u001b[0m  0.0125\n",
      "      5                       \u001b[36m-61.4283\u001b[0m     \u001b[32m4303.0542\u001b[0m     \u001b[35m3773.4365\u001b[0m  0.0112\n",
      "      6                       \u001b[36m-59.9401\u001b[0m     \u001b[32m4178.4281\u001b[0m     \u001b[35m3592.8164\u001b[0m  0.0108\n",
      "      7                       \u001b[36m-57.8589\u001b[0m     \u001b[32m3996.4294\u001b[0m     \u001b[35m3347.6506\u001b[0m  0.0678\n",
      "      8                       \u001b[36m-55.0826\u001b[0m     \u001b[32m3750.3575\u001b[0m     \u001b[35m3034.0950\u001b[0m  0.0108\n",
      "      9                       \u001b[36m-51.5298\u001b[0m     \u001b[32m3433.5958\u001b[0m     \u001b[35m2655.3201\u001b[0m  0.0108\n",
      "     10                       \u001b[36m-47.2149\u001b[0m     \u001b[32m3045.7116\u001b[0m     \u001b[35m2229.2512\u001b[0m  0.0110\n",
      "     11                       \u001b[36m-42.4164\u001b[0m     \u001b[32m2597.3588\u001b[0m     \u001b[35m1799.1526\u001b[0m  0.0596\n",
      "     12                       \u001b[36m-38.0277\u001b[0m     \u001b[32m2120.8388\u001b[0m     \u001b[35m1446.1042\u001b[0m  0.0115\n",
      "     13                       \u001b[36m-35.9741\u001b[0m     \u001b[32m1680.3026\u001b[0m     \u001b[35m1294.1323\u001b[0m  0.0109\n",
      "     14                       -38.3929     \u001b[32m1376.8372\u001b[0m     1474.0116  0.0617\n",
      "     15                       -44.3197     \u001b[32m1326.9936\u001b[0m     1964.2363  0.0122\n",
      "     16                       -49.0693     1550.0130     2407.7952  0.0113\n",
      "     17                       -49.5752     1811.7426     2457.6982  0.0120\n",
      "Stopping since neg_root_mean_squared_error has not improved in the last 5 epochs.\n",
      "[CV 2/5] END module__n_hidden_neurons_1=25, module__n_hidden_neurons_2=20, module__n_in_neurons=28, module__n_out_neurons=1; total time=   0.5s\n",
      "  epoch    neg_root_mean_squared_error    train_loss    valid_loss     dur\n",
      "-------  -----------------------------  ------------  ------------  ------\n",
      "      1                       \u001b[36m-63.1303\u001b[0m     \u001b[32m5268.9498\u001b[0m     \u001b[35m3985.4397\u001b[0m  0.0155\n",
      "      2                       \u001b[36m-62.4387\u001b[0m     \u001b[32m5219.1694\u001b[0m     \u001b[35m3898.5864\u001b[0m  0.0699\n",
      "      3                       \u001b[36m-61.3590\u001b[0m     \u001b[32m5144.2684\u001b[0m     \u001b[35m3764.9258\u001b[0m  0.0158\n",
      "      4                       \u001b[36m-59.7701\u001b[0m     \u001b[32m5031.5780\u001b[0m     \u001b[35m3572.4641\u001b[0m  0.0732\n",
      "      5                       \u001b[36m-57.5458\u001b[0m     \u001b[32m4870.9000\u001b[0m     \u001b[35m3311.5215\u001b[0m  0.0197\n",
      "      6                       \u001b[36m-54.5630\u001b[0m     \u001b[32m4652.9241\u001b[0m     \u001b[35m2977.1252\u001b[0m  0.0808\n",
      "      7                       \u001b[36m-50.7357\u001b[0m     \u001b[32m4370.1117\u001b[0m     \u001b[35m2574.1118\u001b[0m  0.0180\n",
      "      8                       \u001b[36m-46.0938\u001b[0m     \u001b[32m4019.8311\u001b[0m     \u001b[35m2124.6409\u001b[0m  0.0158\n",
      "      9                       \u001b[36m-40.9535\u001b[0m     \u001b[32m3608.2900\u001b[0m     \u001b[35m1677.1865\u001b[0m  0.0679\n",
      "     10                       \u001b[36m-36.3227\u001b[0m     \u001b[32m3156.1971\u001b[0m     \u001b[35m1319.3392\u001b[0m  0.0149\n",
      "     11                       \u001b[36m-34.4118\u001b[0m     \u001b[32m2706.1612\u001b[0m     \u001b[35m1184.1721\u001b[0m  0.0697\n",
      "     12                       -37.7344     \u001b[32m2329.9969\u001b[0m     1423.8843  0.0162\n",
      "     13                       -45.5551     \u001b[32m2122.4770\u001b[0m     2075.2683  0.0203\n",
      "     14                       -53.0743     2141.7760     2816.8789  0.0687\n",
      "     15                       -56.2693     2285.2105     3166.2393  0.0157\n",
      "Stopping since neg_root_mean_squared_error has not improved in the last 5 epochs.\n",
      "[CV 3/5] END module__n_hidden_neurons_1=25, module__n_hidden_neurons_2=20, module__n_in_neurons=28, module__n_out_neurons=1; total time=   0.7s\n",
      "  epoch    neg_root_mean_squared_error    train_loss    valid_loss     dur\n",
      "-------  -----------------------------  ------------  ------------  ------\n",
      "      1                       \u001b[36m-63.3577\u001b[0m     \u001b[32m6088.0894\u001b[0m     \u001b[35m4014.1973\u001b[0m  0.0200\n",
      "      2                       \u001b[36m-62.7227\u001b[0m     \u001b[32m6022.5304\u001b[0m     \u001b[35m3934.1411\u001b[0m  0.0729\n",
      "      3                       \u001b[36m-61.6859\u001b[0m     \u001b[32m5931.0064\u001b[0m     \u001b[35m3805.1545\u001b[0m  0.0199\n",
      "      4                       \u001b[36m-60.0565\u001b[0m     \u001b[32m5790.1731\u001b[0m     \u001b[35m3606.7861\u001b[0m  0.0723\n",
      "      5                       \u001b[36m-57.6143\u001b[0m     \u001b[32m5579.4939\u001b[0m     \u001b[35m3319.4026\u001b[0m  0.0200\n",
      "      6                       \u001b[36m-54.1186\u001b[0m     \u001b[32m5277.7955\u001b[0m     \u001b[35m2928.8279\u001b[0m  0.1450\n",
      "      7                       \u001b[36m-49.3498\u001b[0m     \u001b[32m4865.6781\u001b[0m     \u001b[35m2435.4067\u001b[0m  0.0377\n",
      "      8                       \u001b[36m-43.2267\u001b[0m     \u001b[32m4330.6857\u001b[0m     \u001b[35m1868.5498\u001b[0m  0.0206\n",
      "      9                       \u001b[36m-36.1712\u001b[0m     \u001b[32m3675.6282\u001b[0m     \u001b[35m1308.3584\u001b[0m  0.0720\n",
      "     10                       \u001b[36m-30.0884\u001b[0m     \u001b[32m2933.2563\u001b[0m      \u001b[35m905.3145\u001b[0m  0.0204\n",
      "     11                       \u001b[36m-29.4683\u001b[0m     \u001b[32m2181.9114\u001b[0m      \u001b[35m868.3803\u001b[0m  0.0726\n",
      "     12                       -36.3847     \u001b[32m1555.4703\u001b[0m     1323.8490  0.0214\n",
      "     13                       -44.4057     \u001b[32m1201.1906\u001b[0m     1971.8667  0.0730\n",
      "     14                       -46.8926     \u001b[32m1131.6438\u001b[0m     2198.9167  0.0209\n",
      "     15                       -43.2515     1165.5867     1870.6936  0.0204\n",
      "Stopping since neg_root_mean_squared_error has not improved in the last 5 epochs.\n",
      "[CV 4/5] END module__n_hidden_neurons_1=25, module__n_hidden_neurons_2=20, module__n_in_neurons=28, module__n_out_neurons=1; total time=   0.8s\n",
      "  epoch    neg_root_mean_squared_error    train_loss    valid_loss     dur\n",
      "-------  -----------------------------  ------------  ------------  ------\n",
      "      1                       \u001b[36m-63.7932\u001b[0m     \u001b[32m7034.3769\u001b[0m     \u001b[35m4069.5698\u001b[0m  0.0737\n",
      "      2                       \u001b[36m-63.1992\u001b[0m     \u001b[32m6960.3670\u001b[0m     \u001b[35m3994.1396\u001b[0m  0.0242\n",
      "      3                       \u001b[36m-62.2905\u001b[0m     \u001b[32m6850.9281\u001b[0m     \u001b[35m3880.1108\u001b[0m  0.0792\n",
      "      4                       \u001b[36m-60.9691\u001b[0m     \u001b[32m6681.3496\u001b[0m     \u001b[35m3717.2351\u001b[0m  0.0789\n",
      "      5                       \u001b[36m-59.1206\u001b[0m     \u001b[32m6432.2191\u001b[0m     \u001b[35m3495.2402\u001b[0m  0.0246\n",
      "      6                       \u001b[36m-56.6167\u001b[0m     \u001b[32m6083.6886\u001b[0m     \u001b[35m3205.4495\u001b[0m  0.0778\n",
      "      7                       \u001b[36m-53.3200\u001b[0m     \u001b[32m5617.7083\u001b[0m     \u001b[35m2843.0176\u001b[0m  0.0240\n",
      "      8                       \u001b[36m-49.1080\u001b[0m     \u001b[32m5023.1940\u001b[0m     \u001b[35m2411.5952\u001b[0m  0.0769\n",
      "      9                       \u001b[36m-43.9269\u001b[0m     \u001b[32m4303.5791\u001b[0m     \u001b[35m1929.5751\u001b[0m  0.0240\n",
      "     10                       \u001b[36m-37.9076\u001b[0m     \u001b[32m3489.6151\u001b[0m     \u001b[35m1436.9884\u001b[0m  0.1768\n",
      "     11                       \u001b[36m-31.7181\u001b[0m     \u001b[32m2652.4329\u001b[0m     \u001b[35m1006.0394\u001b[0m  0.0245\n",
      "     12                       \u001b[36m-27.3644\u001b[0m     \u001b[32m1914.7516\u001b[0m      \u001b[35m748.8104\u001b[0m  0.0729\n",
      "     13                       -28.2736     \u001b[32m1427.5279\u001b[0m      799.3940  0.0231\n",
      "     14                       -34.6173     \u001b[32m1253.0924\u001b[0m     1198.3582  0.0783\n",
      "     15                       -41.1561     \u001b[32m1244.5465\u001b[0m     1693.8276  0.0767\n",
      "     16                       -43.6535     \u001b[32m1213.0020\u001b[0m     1905.6260  0.0248\n",
      "Stopping since neg_root_mean_squared_error has not improved in the last 5 epochs.\n",
      "[CV 5/5] END module__n_hidden_neurons_1=25, module__n_hidden_neurons_2=20, module__n_in_neurons=28, module__n_out_neurons=1; total time=   1.1s\n",
      "  epoch    neg_root_mean_squared_error    train_loss    valid_loss     dur\n",
      "-------  -----------------------------  ------------  ------------  ------\n",
      "      1                       \u001b[36m-59.8304\u001b[0m     \u001b[32m4268.4565\u001b[0m     \u001b[35m3579.6770\u001b[0m  0.0076\n",
      "      2                       \u001b[36m-59.6826\u001b[0m     \u001b[32m4250.4771\u001b[0m     \u001b[35m3562.0076\u001b[0m  0.0059\n",
      "      3                       \u001b[36m-59.4860\u001b[0m     \u001b[32m4228.5703\u001b[0m     \u001b[35m3538.5789\u001b[0m  0.0059\n",
      "      4                       \u001b[36m-59.2149\u001b[0m     \u001b[32m4200.6479\u001b[0m     \u001b[35m3506.4077\u001b[0m  0.0057\n",
      "      5                       \u001b[36m-58.8484\u001b[0m     \u001b[32m4163.7671\u001b[0m     \u001b[35m3463.1392\u001b[0m  0.0547\n",
      "      6                       \u001b[36m-58.3650\u001b[0m     \u001b[32m4115.5747\u001b[0m     \u001b[35m3406.4766\u001b[0m  0.0063\n",
      "      7                       \u001b[36m-57.7397\u001b[0m     \u001b[32m4054.0771\u001b[0m     \u001b[35m3333.8708\u001b[0m  0.0063\n",
      "      8                       \u001b[36m-56.9494\u001b[0m     \u001b[32m3976.7424\u001b[0m     \u001b[35m3243.2288\u001b[0m  0.0063\n",
      "      9                       \u001b[36m-55.9791\u001b[0m     \u001b[32m3881.1863\u001b[0m     \u001b[35m3133.6558\u001b[0m  0.0061\n",
      "     10                       \u001b[36m-54.8084\u001b[0m     \u001b[32m3765.6260\u001b[0m     \u001b[35m3003.9558\u001b[0m  0.0061\n",
      "     11                       \u001b[36m-53.4160\u001b[0m     \u001b[32m3628.9558\u001b[0m     \u001b[35m2853.2688\u001b[0m  0.0075\n",
      "     12                       \u001b[36m-51.7861\u001b[0m     \u001b[32m3470.2678\u001b[0m     \u001b[35m2681.8042\u001b[0m  0.0064\n",
      "     13                       \u001b[36m-49.9093\u001b[0m     \u001b[32m3289.1685\u001b[0m     \u001b[35m2490.9368\u001b[0m  0.0070\n",
      "     14                       \u001b[36m-47.7841\u001b[0m     \u001b[32m3086.4346\u001b[0m     \u001b[35m2283.3242\u001b[0m  0.0069\n",
      "     15                       \u001b[36m-45.4244\u001b[0m     \u001b[32m2863.6604\u001b[0m     \u001b[35m2063.3792\u001b[0m  0.0063\n",
      "     16                       \u001b[36m-42.8711\u001b[0m     \u001b[32m2623.9558\u001b[0m     \u001b[35m1837.9323\u001b[0m  0.0061\n",
      "     17                       \u001b[36m-40.2047\u001b[0m     \u001b[32m2372.6299\u001b[0m     \u001b[35m1616.4187\u001b[0m  0.0073\n",
      "     18                       \u001b[36m-37.5790\u001b[0m     \u001b[32m2117.3425\u001b[0m     \u001b[35m1412.1821\u001b[0m  0.0073\n",
      "     19                       \u001b[36m-35.2454\u001b[0m     \u001b[32m1869.1117\u001b[0m     \u001b[35m1242.2382\u001b[0m  0.0063\n",
      "     20                       \u001b[36m-33.5665\u001b[0m     \u001b[32m1642.4233\u001b[0m     \u001b[35m1126.7129\u001b[0m  0.0061\n",
      "[CV 1/5] END module__n_hidden_neurons_1=15, module__n_hidden_neurons_2=25, module__n_in_neurons=28, module__n_out_neurons=1; total time=   0.3s\n",
      "  epoch    neg_root_mean_squared_error    train_loss    valid_loss     dur\n",
      "-------  -----------------------------  ------------  ------------  ------\n",
      "      1                       \u001b[36m-63.8917\u001b[0m     \u001b[32m4517.4437\u001b[0m     \u001b[35m4082.1448\u001b[0m  0.0676\n",
      "      2                       \u001b[36m-63.6583\u001b[0m     \u001b[32m4493.0462\u001b[0m     \u001b[35m4052.3770\u001b[0m  0.0122\n",
      "      3                       \u001b[36m-63.3026\u001b[0m     \u001b[32m4463.3974\u001b[0m     \u001b[35m4007.2183\u001b[0m  0.0117\n",
      "      4                       \u001b[36m-62.7294\u001b[0m     \u001b[32m4416.9888\u001b[0m     \u001b[35m3934.9800\u001b[0m  0.0116\n",
      "      5                       \u001b[36m-61.8450\u001b[0m     \u001b[32m4343.3039\u001b[0m     \u001b[35m3824.8096\u001b[0m  0.0523\n",
      "      6                       \u001b[36m-60.5580\u001b[0m     \u001b[32m4232.3319\u001b[0m     \u001b[35m3667.2712\u001b[0m  0.0125\n",
      "      7                       \u001b[36m-58.7656\u001b[0m     \u001b[32m4074.0719\u001b[0m     \u001b[35m3453.4014\u001b[0m  0.0121\n",
      "      8                       \u001b[36m-56.3607\u001b[0m     \u001b[32m3858.5491\u001b[0m     \u001b[35m3176.5327\u001b[0m  0.0125\n",
      "      9                       \u001b[36m-53.2424\u001b[0m     \u001b[32m3577.5766\u001b[0m     \u001b[35m2834.7546\u001b[0m  0.0522\n",
      "     10                       \u001b[36m-49.3831\u001b[0m     \u001b[32m3226.7144\u001b[0m     \u001b[35m2438.6902\u001b[0m  0.0129\n",
      "     11                       \u001b[36m-44.9253\u001b[0m     \u001b[32m2810.7597\u001b[0m     \u001b[35m2018.2858\u001b[0m  0.0120\n",
      "     12                       \u001b[36m-40.4094\u001b[0m     \u001b[32m2350.9106\u001b[0m     \u001b[35m1632.9163\u001b[0m  0.0109\n",
      "     13                       \u001b[36m-37.1431\u001b[0m     \u001b[32m1893.1783\u001b[0m     \u001b[35m1379.6086\u001b[0m  0.0109\n",
      "     14                       -37.2078     \u001b[32m1515.6570\u001b[0m     1384.4224  0.0120\n",
      "     15                       -41.4883     \u001b[32m1326.6069\u001b[0m     1721.2750  0.0111\n",
      "     16                       -47.1213     1408.7601     2220.4180  0.0110\n",
      "     17                       -49.9002     1672.9361     2490.0281  0.0114\n",
      "Stopping since neg_root_mean_squared_error has not improved in the last 5 epochs.\n",
      "[CV 2/5] END module__n_hidden_neurons_1=15, module__n_hidden_neurons_2=25, module__n_in_neurons=28, module__n_out_neurons=1; total time=   0.5s\n",
      "  epoch    neg_root_mean_squared_error    train_loss    valid_loss     dur\n",
      "-------  -----------------------------  ------------  ------------  ------\n",
      "      1                       \u001b[36m-63.5975\u001b[0m     \u001b[32m5285.3325\u001b[0m     \u001b[35m4044.6409\u001b[0m  0.0187\n",
      "      2                       \u001b[36m-63.3489\u001b[0m     \u001b[32m5267.2490\u001b[0m     \u001b[35m4013.0869\u001b[0m  0.0709\n",
      "      3                       \u001b[36m-62.8999\u001b[0m     \u001b[32m5231.6339\u001b[0m     \u001b[35m3956.3926\u001b[0m  0.0167\n",
      "      4                       \u001b[36m-62.1456\u001b[0m     \u001b[32m5172.9045\u001b[0m     \u001b[35m3862.0740\u001b[0m  0.0714\n",
      "      5                       \u001b[36m-60.9521\u001b[0m     \u001b[32m5080.7451\u001b[0m     \u001b[35m3715.1628\u001b[0m  0.0172\n",
      "      6                       \u001b[36m-59.1677\u001b[0m     \u001b[32m4943.1361\u001b[0m     \u001b[35m3500.8154\u001b[0m  0.0163\n",
      "      7                       \u001b[36m-56.6307\u001b[0m     \u001b[32m4748.2251\u001b[0m     \u001b[35m3207.0337\u001b[0m  0.1801\n",
      "      8                       \u001b[36m-53.1979\u001b[0m     \u001b[32m4485.7362\u001b[0m     \u001b[35m2830.0205\u001b[0m  0.0200\n",
      "      9                       \u001b[36m-48.7903\u001b[0m     \u001b[32m4148.8168\u001b[0m     \u001b[35m2380.4976\u001b[0m  0.0642\n",
      "     10                       \u001b[36m-43.5223\u001b[0m     \u001b[32m3737.8999\u001b[0m     \u001b[35m1894.1908\u001b[0m  0.0219\n",
      "     11                       \u001b[36m-38.0212\u001b[0m     \u001b[32m3267.9512\u001b[0m     \u001b[35m1445.6079\u001b[0m  0.0734\n",
      "     12                       \u001b[36m-34.0795\u001b[0m     \u001b[32m2776.1401\u001b[0m     \u001b[35m1161.4114\u001b[0m  0.0179\n",
      "     13                       -34.8210     \u001b[32m2332.1059\u001b[0m     1212.5000  0.0751\n",
      "     14                       -41.4248     \u001b[32m2039.6271\u001b[0m     1716.0104  0.0177\n",
      "     15                       -49.6233     \u001b[32m1994.0835\u001b[0m     2462.4712  0.0703\n",
      "     16                       -54.0294     2142.0561     2919.1733  0.0186\n",
      "Stopping since neg_root_mean_squared_error has not improved in the last 5 epochs.\n",
      "[CV 3/5] END module__n_hidden_neurons_1=15, module__n_hidden_neurons_2=25, module__n_in_neurons=28, module__n_out_neurons=1; total time=   0.9s\n",
      "  epoch    neg_root_mean_squared_error    train_loss    valid_loss     dur\n",
      "-------  -----------------------------  ------------  ------------  ------\n",
      "      1                       \u001b[36m-63.7866\u001b[0m     \u001b[32m6110.7845\u001b[0m     \u001b[35m4068.7358\u001b[0m  0.0213\n",
      "      2                       \u001b[36m-63.4429\u001b[0m     \u001b[32m6098.7518\u001b[0m     \u001b[35m4025.0024\u001b[0m  0.0694\n",
      "      3                       \u001b[36m-62.9029\u001b[0m     \u001b[32m6060.9219\u001b[0m     \u001b[35m3956.7737\u001b[0m  0.0328\n",
      "      4                       \u001b[36m-62.0653\u001b[0m     \u001b[32m6001.0725\u001b[0m     \u001b[35m3852.0962\u001b[0m  0.0726\n",
      "      5                       \u001b[36m-60.8024\u001b[0m     \u001b[32m5911.8630\u001b[0m     \u001b[35m3696.9348\u001b[0m  0.0230\n",
      "      6                       \u001b[36m-58.9708\u001b[0m     \u001b[32m5781.6858\u001b[0m     \u001b[35m3477.5579\u001b[0m  0.0731\n",
      "      7                       \u001b[36m-56.3970\u001b[0m     \u001b[32m5597.1816\u001b[0m     \u001b[35m3180.6265\u001b[0m  0.0233\n",
      "      8                       \u001b[36m-52.8939\u001b[0m     \u001b[32m5343.0360\u001b[0m     \u001b[35m2797.7646\u001b[0m  0.0795\n",
      "      9                       \u001b[36m-48.3228\u001b[0m     \u001b[32m5003.8884\u001b[0m     \u001b[35m2335.0889\u001b[0m  0.0301\n",
      "     10                       \u001b[36m-42.6576\u001b[0m     \u001b[32m4568.6771\u001b[0m     \u001b[35m1819.6715\u001b[0m  0.0707\n",
      "     11                       \u001b[36m-36.4186\u001b[0m     \u001b[32m4036.5340\u001b[0m     \u001b[35m1326.3131\u001b[0m  0.0201\n",
      "     12                       \u001b[36m-31.6178\u001b[0m     \u001b[32m3431.5363\u001b[0m      \u001b[35m999.6876\u001b[0m  0.0647\n",
      "     13                       -32.0547     \u001b[32m2812.2691\u001b[0m     1027.5068  0.0200\n",
      "     14                       -39.0209     \u001b[32m2274.6961\u001b[0m     1522.6290  0.0729\n",
      "     15                       -47.3222     \u001b[32m1921.5896\u001b[0m     2239.3921  0.0228\n",
      "     16                       -50.9280     \u001b[32m1755.6878\u001b[0m     2593.6655  0.0742\n",
      "Stopping since neg_root_mean_squared_error has not improved in the last 5 epochs.\n",
      "[CV 4/5] END module__n_hidden_neurons_1=15, module__n_hidden_neurons_2=25, module__n_in_neurons=28, module__n_out_neurons=1; total time=   0.8s\n",
      "  epoch    neg_root_mean_squared_error    train_loss    valid_loss     dur\n",
      "-------  -----------------------------  ------------  ------------  ------\n",
      "      1                       \u001b[36m-63.9411\u001b[0m     \u001b[32m7042.1572\u001b[0m     \u001b[35m4088.4644\u001b[0m  0.0759\n",
      "      2                       \u001b[36m-63.5826\u001b[0m     \u001b[32m6994.7285\u001b[0m     \u001b[35m4042.7493\u001b[0m  0.0813\n",
      "      3                       \u001b[36m-63.0575\u001b[0m     \u001b[32m6937.1968\u001b[0m     \u001b[35m3976.2507\u001b[0m  0.0257\n",
      "      4                       \u001b[36m-62.2837\u001b[0m     \u001b[32m6852.2260\u001b[0m     \u001b[35m3879.2639\u001b[0m  0.0733\n",
      "      5                       \u001b[36m-61.1722\u001b[0m     \u001b[32m6724.0314\u001b[0m     \u001b[35m3742.0383\u001b[0m  0.0299\n",
      "      6                       \u001b[36m-59.6209\u001b[0m     \u001b[32m6535.6419\u001b[0m     \u001b[35m3554.6519\u001b[0m  0.1776\n",
      "      7                       \u001b[36m-57.5240\u001b[0m     \u001b[32m6267.9026\u001b[0m     \u001b[35m3309.0144\u001b[0m  0.0808\n",
      "      8                       \u001b[36m-54.7561\u001b[0m     \u001b[32m5901.8194\u001b[0m     \u001b[35m2998.2307\u001b[0m  0.0284\n",
      "      9                       \u001b[36m-51.2131\u001b[0m     \u001b[32m5421.0164\u001b[0m     \u001b[35m2622.7859\u001b[0m  0.0795\n",
      "     10                       \u001b[36m-46.8403\u001b[0m     \u001b[32m4817.0426\u001b[0m     \u001b[35m2194.0164\u001b[0m  0.0349\n",
      "     11                       \u001b[36m-41.6898\u001b[0m     \u001b[32m4099.0378\u001b[0m     \u001b[35m1738.0408\u001b[0m  0.0730\n",
      "     12                       \u001b[36m-36.0975\u001b[0m     \u001b[32m3305.9840\u001b[0m     \u001b[35m1303.0281\u001b[0m  0.0798\n",
      "     13                       \u001b[36m-31.0652\u001b[0m     \u001b[32m2518.7006\u001b[0m      \u001b[35m965.0450\u001b[0m  0.0264\n",
      "     14                       \u001b[36m-28.7766\u001b[0m     \u001b[32m1863.4644\u001b[0m      \u001b[35m828.0898\u001b[0m  0.0786\n",
      "     15                       -31.4271     \u001b[32m1474.3742\u001b[0m      987.6656  0.0257\n",
      "     16                       -37.5558     \u001b[32m1356.5762\u001b[0m     1410.4386  0.0796\n",
      "     17                       -42.7499     \u001b[32m1327.5367\u001b[0m     1827.5544  0.0784\n",
      "     18                       -44.3639     \u001b[32m1252.4868\u001b[0m     1968.1561  0.0254\n",
      "Stopping since neg_root_mean_squared_error has not improved in the last 5 epochs.\n",
      "[CV 5/5] END module__n_hidden_neurons_1=15, module__n_hidden_neurons_2=25, module__n_in_neurons=28, module__n_out_neurons=1; total time=   1.3s\n",
      "  epoch    neg_root_mean_squared_error    train_loss    valid_loss     dur\n",
      "-------  -----------------------------  ------------  ------------  ------\n",
      "      1                       \u001b[36m-59.9944\u001b[0m     \u001b[32m4277.7710\u001b[0m     \u001b[35m3599.3257\u001b[0m  0.0067\n",
      "      2                       -59.9944     4277.7710     3599.3257  0.0070\n",
      "      3                       -59.9944     4277.7710     3599.3257  0.0637\n",
      "      4                       -59.9944     4277.7710     3599.3257  0.0076\n",
      "      5                       -59.9944     4277.7710     3599.3257  0.0076\n",
      "      6                       -59.9944     4277.7710     3599.3257  0.0098\n",
      "      7                       -59.9944     4277.7710     3599.3257  0.0064\n",
      "      8                       -59.9944     4277.7710     3599.3257  0.0070\n",
      "      9                       -59.9944     4277.7710     3599.3257  0.0074\n",
      "     10                       -59.9944     4277.7710     3599.3257  0.0067\n",
      "     11                       -59.9944     4277.7710     3599.3257  0.0065\n",
      "     12                       -59.9944     4277.7710     3599.3257  0.0070\n",
      "     13                       -59.9944     4277.7710     3599.3257  0.0065\n",
      "     14                       -59.9944     4277.7710     3599.3257  0.0640\n",
      "     15                       -59.9944     4277.7710     3599.3257  0.0067\n",
      "     16                       -59.9944     4277.7710     3599.3257  0.0067\n",
      "     17                       -59.9944     4277.7710     3599.3257  0.0067\n",
      "     18                       -59.9944     4277.7710     3599.3257  0.0066\n",
      "     19                       -59.9944     4277.7710     3599.3257  0.0066\n",
      "     20                       -59.9944     4277.7710     3599.3257  0.0569\n",
      "[CV 1/5] END module__n_hidden_neurons_1=10, module__n_hidden_neurons_2=25, module__n_in_neurons=28, module__n_out_neurons=1; total time=   0.4s\n",
      "  epoch    neg_root_mean_squared_error    train_loss    valid_loss     dur\n",
      "-------  -----------------------------  ------------  ------------  ------\n",
      "      1                       \u001b[36m-64.1027\u001b[0m     \u001b[32m4522.2465\u001b[0m     \u001b[35m4109.1592\u001b[0m  0.0124\n",
      "      2                       -64.1027     4522.2465     4109.1592  0.0121\n",
      "      3                       -64.1027     4522.2465     4109.1592  0.1476\n",
      "      4                       -64.1027     4522.2465     4109.1592  0.0124\n",
      "      5                       -64.1027     4522.2465     4109.1592  0.0115\n",
      "      6                       -64.1027     4522.2465     4109.1592  0.0138\n",
      "      7                       -64.1027     4522.2465     4109.1592  0.0215\n",
      "      8                       -64.1027     4522.2465     4109.1592  0.0116\n",
      "      9                       -64.1027     4522.2465     4109.1592  0.0106\n",
      "     10                       -64.1027     4522.2465     4109.1592  0.0109\n",
      "     11                       -64.1027     4522.2465     4109.1592  0.0105\n",
      "     12                       -64.1027     4522.2465     4109.1592  0.0522\n",
      "     13                       -64.1027     4522.2465     4109.1592  0.0152\n",
      "     14                       -64.1027     4522.2465     4109.1592  0.0121\n",
      "     15                       -64.1027     4522.2465     4109.1592  0.0108\n",
      "     16                       -64.1027     4522.2465     4109.1592  0.0109\n",
      "     17                       -64.1027     4522.2465     4109.1592  0.0120\n",
      "     18                       -64.1027     4522.2465     4109.1592  0.0108\n",
      "     19                       -64.1027     4522.2465     4109.1592  0.0114\n",
      "     20                       -64.1027     4522.2465     4109.1592  0.0113\n",
      "[CV 2/5] END module__n_hidden_neurons_1=10, module__n_hidden_neurons_2=25, module__n_in_neurons=28, module__n_out_neurons=1; total time=   0.5s\n",
      "  epoch    neg_root_mean_squared_error    train_loss    valid_loss     dur\n",
      "-------  -----------------------------  ------------  ------------  ------\n",
      "      1                       \u001b[36m-63.6565\u001b[0m     \u001b[32m5287.5524\u001b[0m     \u001b[35m4052.1528\u001b[0m  0.0160\n",
      "      2                       \u001b[36m-63.4543\u001b[0m     \u001b[32m5280.8161\u001b[0m     \u001b[35m4026.4419\u001b[0m  0.0148\n",
      "      3                       \u001b[36m-63.1033\u001b[0m     \u001b[32m5256.4045\u001b[0m     \u001b[35m3982.0247\u001b[0m  0.0694\n",
      "      4                       \u001b[36m-62.5505\u001b[0m     \u001b[32m5214.9401\u001b[0m     \u001b[35m3912.5625\u001b[0m  0.0166\n",
      "      5                       \u001b[36m-61.6944\u001b[0m     \u001b[32m5152.6038\u001b[0m     \u001b[35m3806.1963\u001b[0m  0.0171\n",
      "      6                       \u001b[36m-60.4256\u001b[0m     \u001b[32m5060.5059\u001b[0m     \u001b[35m3651.2529\u001b[0m  0.0691\n",
      "      7                       \u001b[36m-58.6383\u001b[0m     \u001b[32m4928.9280\u001b[0m     \u001b[35m3438.4473\u001b[0m  0.0159\n",
      "      8                       \u001b[36m-56.2146\u001b[0m     \u001b[32m4749.3421\u001b[0m     \u001b[35m3160.0784\u001b[0m  0.0161\n",
      "      9                       \u001b[36m-53.0430\u001b[0m     \u001b[32m4513.5442\u001b[0m     \u001b[35m2813.5559\u001b[0m  0.0166\n",
      "     10                       \u001b[36m-49.0750\u001b[0m     \u001b[32m4215.9188\u001b[0m     \u001b[35m2408.3528\u001b[0m  0.0162\n",
      "     11                       \u001b[36m-44.4153\u001b[0m     \u001b[32m3856.8337\u001b[0m     \u001b[35m1972.7164\u001b[0m  0.0154\n",
      "     12                       \u001b[36m-39.5494\u001b[0m     \u001b[32m3446.0409\u001b[0m     \u001b[35m1564.1537\u001b[0m  0.0170\n",
      "     13                       \u001b[36m-35.8370\u001b[0m     \u001b[32m3009.5832\u001b[0m     \u001b[35m1284.2911\u001b[0m  0.0154\n",
      "     14                       \u001b[36m-35.7209\u001b[0m     \u001b[32m2599.4595\u001b[0m     \u001b[35m1275.9839\u001b[0m  0.0638\n",
      "     15                       -40.8826     \u001b[32m2297.1112\u001b[0m     1671.3851  0.0159\n",
      "     16                       -48.6934     \u001b[32m2193.1952\u001b[0m     2371.0452  0.0152\n",
      "     17                       -54.0970     2285.3003     2926.4873  0.0685\n",
      "     18                       -54.9852     2398.8444     3023.3770  0.0213\n",
      "Stopping since neg_root_mean_squared_error has not improved in the last 5 epochs.\n",
      "[CV 3/5] END module__n_hidden_neurons_1=10, module__n_hidden_neurons_2=25, module__n_in_neurons=28, module__n_out_neurons=1; total time=   0.8s\n",
      "  epoch    neg_root_mean_squared_error    train_loss    valid_loss     dur\n",
      "-------  -----------------------------  ------------  ------------  ------\n",
      "      1                       \u001b[36m-63.5559\u001b[0m     \u001b[32m6100.7833\u001b[0m     \u001b[35m4039.3501\u001b[0m  0.0250\n",
      "      2                       \u001b[36m-63.1370\u001b[0m     \u001b[32m6061.0457\u001b[0m     \u001b[35m3986.2756\u001b[0m  0.0723\n",
      "      3                       \u001b[36m-62.4560\u001b[0m     \u001b[32m6007.2233\u001b[0m     \u001b[35m3900.7495\u001b[0m  0.0236\n",
      "      4                       \u001b[36m-61.3682\u001b[0m     \u001b[32m5924.6434\u001b[0m     \u001b[35m3766.0583\u001b[0m  0.0707\n",
      "      5                       \u001b[36m-59.7024\u001b[0m     \u001b[32m5798.8761\u001b[0m     \u001b[35m3564.3799\u001b[0m  0.0250\n",
      "      6                       \u001b[36m-57.2299\u001b[0m     \u001b[32m5614.8269\u001b[0m     \u001b[35m3275.2666\u001b[0m  0.0697\n",
      "      7                       \u001b[36m-53.7673\u001b[0m     \u001b[32m5355.8035\u001b[0m     \u001b[35m2890.9246\u001b[0m  0.0245\n",
      "      8                       \u001b[36m-49.1610\u001b[0m     \u001b[32m5009.2028\u001b[0m     \u001b[35m2416.8081\u001b[0m  0.0768\n",
      "      9                       \u001b[36m-43.4098\u001b[0m     \u001b[32m4567.0176\u001b[0m     \u001b[35m1884.4072\u001b[0m  0.1526\n",
      "     10                       \u001b[36m-36.9842\u001b[0m     \u001b[32m4031.6271\u001b[0m     \u001b[35m1367.8301\u001b[0m  0.0400\n",
      "     11                       \u001b[36m-31.6508\u001b[0m     \u001b[32m3424.4746\u001b[0m     \u001b[35m1001.7726\u001b[0m  0.0228\n",
      "     12                       \u001b[36m-31.3693\u001b[0m     \u001b[32m2798.9199\u001b[0m      \u001b[35m984.0359\u001b[0m  0.0711\n",
      "     13                       -38.3389     \u001b[32m2249.0868\u001b[0m     1469.8683  0.0225\n",
      "     14                       -47.4451     \u001b[32m1885.9587\u001b[0m     2251.0405  0.0747\n",
      "     15                       -52.1466     \u001b[32m1727.3020\u001b[0m     2719.2639  0.0228\n",
      "     16                       -50.7005     \u001b[32m1634.9896\u001b[0m     2570.5371  0.0737\n",
      "Stopping since neg_root_mean_squared_error has not improved in the last 5 epochs.\n",
      "[CV 4/5] END module__n_hidden_neurons_1=10, module__n_hidden_neurons_2=25, module__n_in_neurons=28, module__n_out_neurons=1; total time=   0.9s\n",
      "  epoch    neg_root_mean_squared_error    train_loss    valid_loss     dur\n",
      "-------  -----------------------------  ------------  ------------  ------\n",
      "      1                       \u001b[36m-64.0728\u001b[0m     \u001b[32m7052.3201\u001b[0m     \u001b[35m4105.3193\u001b[0m  0.0261\n",
      "      2                       \u001b[36m-63.6915\u001b[0m     \u001b[32m7012.1187\u001b[0m     \u001b[35m4056.6123\u001b[0m  0.0786\n",
      "      3                       \u001b[36m-63.0921\u001b[0m     \u001b[32m6957.0228\u001b[0m     \u001b[35m3980.6145\u001b[0m  0.0256\n",
      "      4                       \u001b[36m-62.1823\u001b[0m     \u001b[32m6875.7336\u001b[0m     \u001b[35m3866.6433\u001b[0m  0.0827\n",
      "      5                       \u001b[36m-60.8403\u001b[0m     \u001b[32m6755.6164\u001b[0m     \u001b[35m3701.5376\u001b[0m  0.0818\n",
      "      6                       \u001b[36m-58.9183\u001b[0m     \u001b[32m6582.6055\u001b[0m     \u001b[35m3471.3706\u001b[0m  0.0276\n",
      "      7                       \u001b[36m-56.2498\u001b[0m     \u001b[32m6341.2385\u001b[0m     \u001b[35m3164.0349\u001b[0m  0.0818\n",
      "      8                       \u001b[36m-52.6764\u001b[0m     \u001b[32m6016.7260\u001b[0m     \u001b[35m2774.8040\u001b[0m  0.0816\n",
      "      9                       \u001b[36m-48.1187\u001b[0m     \u001b[32m5597.1307\u001b[0m     \u001b[35m2315.4080\u001b[0m  0.0260\n",
      "     10                       \u001b[36m-42.6361\u001b[0m     \u001b[32m5076.1208\u001b[0m     \u001b[35m1817.8407\u001b[0m  0.0748\n",
      "     11                       \u001b[36m-36.6633\u001b[0m     \u001b[32m4457.3297\u001b[0m     \u001b[35m1344.1958\u001b[0m  0.0265\n",
      "     12                       \u001b[36m-31.5098\u001b[0m     \u001b[32m3761.1562\u001b[0m      \u001b[35m992.8699\u001b[0m  0.0777\n",
      "     13                       \u001b[36m-29.7612\u001b[0m     \u001b[32m3032.1602\u001b[0m      \u001b[35m885.7314\u001b[0m  0.0830\n",
      "     14                       -33.3557     \u001b[32m2342.8186\u001b[0m     1112.6011  0.0331\n",
      "     15                       -40.0389     \u001b[32m1786.7902\u001b[0m     1603.1116  0.0789\n",
      "     16                       -44.9106     \u001b[32m1442.4183\u001b[0m     2016.9615  0.0253\n",
      "     17                       -45.3038     \u001b[32m1305.1459\u001b[0m     2052.4312  0.0782\n",
      "Stopping since neg_root_mean_squared_error has not improved in the last 5 epochs.\n",
      "[CV 5/5] END module__n_hidden_neurons_1=10, module__n_hidden_neurons_2=25, module__n_in_neurons=28, module__n_out_neurons=1; total time=   1.2s\n",
      "  epoch    neg_root_mean_squared_error    train_loss    valid_loss     dur\n",
      "-------  -----------------------------  ------------  ------------  ------\n",
      "      1                       \u001b[36m-59.8826\u001b[0m     \u001b[32m4273.8555\u001b[0m     \u001b[35m3585.9243\u001b[0m  0.0081\n",
      "      2                       \u001b[36m-59.7505\u001b[0m     \u001b[32m4260.2534\u001b[0m     \u001b[35m3570.1177\u001b[0m  0.0063\n",
      "      3                       \u001b[36m-59.6049\u001b[0m     \u001b[32m4244.7612\u001b[0m     \u001b[35m3552.7456\u001b[0m  0.0634\n",
      "      4                       \u001b[36m-59.4384\u001b[0m     \u001b[32m4227.8496\u001b[0m     \u001b[35m3532.9236\u001b[0m  0.0067\n",
      "      5                       \u001b[36m-59.2366\u001b[0m     \u001b[32m4208.3687\u001b[0m     \u001b[35m3508.9753\u001b[0m  0.0065\n",
      "      6                       \u001b[36m-58.9870\u001b[0m     \u001b[32m4184.7017\u001b[0m     \u001b[35m3479.4712\u001b[0m  0.0076\n",
      "      7                       \u001b[36m-58.6790\u001b[0m     \u001b[32m4155.6011\u001b[0m     \u001b[35m3443.2263\u001b[0m  0.0061\n",
      "      8                       \u001b[36m-58.3015\u001b[0m     \u001b[32m4119.7832\u001b[0m     \u001b[35m3399.0703\u001b[0m  0.0059\n",
      "      9                       \u001b[36m-57.8424\u001b[0m     \u001b[32m4075.9536\u001b[0m     \u001b[35m3345.7458\u001b[0m  0.0583\n",
      "     10                       \u001b[36m-57.2893\u001b[0m     \u001b[32m4022.8618\u001b[0m     \u001b[35m3282.0669\u001b[0m  0.0058\n",
      "     11                       \u001b[36m-56.6262\u001b[0m     \u001b[32m3959.1980\u001b[0m     \u001b[35m3206.5281\u001b[0m  0.0059\n",
      "     12                       \u001b[36m-55.8360\u001b[0m     \u001b[32m3883.5471\u001b[0m     \u001b[35m3117.6592\u001b[0m  0.1239\n",
      "     13                       \u001b[36m-54.9035\u001b[0m     \u001b[32m3794.3948\u001b[0m     \u001b[35m3014.3928\u001b[0m  0.0548\n",
      "     14                       \u001b[36m-53.8108\u001b[0m     \u001b[32m3690.4316\u001b[0m     \u001b[35m2895.5977\u001b[0m  0.0073\n",
      "     15                       \u001b[36m-52.5445\u001b[0m     \u001b[32m3570.4094\u001b[0m     \u001b[35m2760.9272\u001b[0m  0.0070\n",
      "     16                       \u001b[36m-51.0962\u001b[0m     \u001b[32m3433.3850\u001b[0m     \u001b[35m2610.8250\u001b[0m  0.0070\n",
      "     17                       \u001b[36m-49.4524\u001b[0m     \u001b[32m3278.9402\u001b[0m     \u001b[35m2445.5439\u001b[0m  0.0066\n",
      "     18                       \u001b[36m-47.6150\u001b[0m     \u001b[32m3107.3650\u001b[0m     \u001b[35m2267.1855\u001b[0m  0.0068\n",
      "     19                       \u001b[36m-45.5889\u001b[0m     \u001b[32m2919.4968\u001b[0m     \u001b[35m2078.3445\u001b[0m  0.0592\n",
      "     20                       \u001b[36m-43.3941\u001b[0m     \u001b[32m2717.0374\u001b[0m     \u001b[35m1883.0516\u001b[0m  0.0069\n",
      "[CV 1/5] END module__n_hidden_neurons_1=20, module__n_hidden_neurons_2=15, module__n_in_neurons=28, module__n_out_neurons=1; total time=   0.5s\n",
      "  epoch    neg_root_mean_squared_error    train_loss    valid_loss     dur\n",
      "-------  -----------------------------  ------------  ------------  ------\n",
      "      1                       \u001b[36m-63.9810\u001b[0m     \u001b[32m4522.0704\u001b[0m     \u001b[35m4093.5701\u001b[0m  0.0118\n",
      "      2                       \u001b[36m-63.7331\u001b[0m     \u001b[32m4508.9099\u001b[0m     \u001b[35m4061.9023\u001b[0m  0.0601\n",
      "      3                       \u001b[36m-63.3048\u001b[0m     \u001b[32m4478.6896\u001b[0m     \u001b[35m4007.4949\u001b[0m  0.0168\n",
      "      4                       \u001b[36m-62.6072\u001b[0m     \u001b[32m4427.1426\u001b[0m     \u001b[35m3919.6567\u001b[0m  0.0168\n",
      "      5                       \u001b[36m-61.5339\u001b[0m     \u001b[32m4342.9815\u001b[0m     \u001b[35m3786.4238\u001b[0m  0.0602\n",
      "      6                       \u001b[36m-59.9539\u001b[0m     \u001b[32m4213.3315\u001b[0m     \u001b[35m3594.4758\u001b[0m  0.0123\n",
      "      7                       \u001b[36m-57.7455\u001b[0m     \u001b[32m4024.0465\u001b[0m     \u001b[35m3334.5398\u001b[0m  0.0115\n",
      "      8                       \u001b[36m-54.7795\u001b[0m     \u001b[32m3764.1688\u001b[0m     \u001b[35m3000.7991\u001b[0m  0.0117\n",
      "      9                       \u001b[36m-50.9784\u001b[0m     \u001b[32m3425.9764\u001b[0m     \u001b[35m2598.8015\u001b[0m  0.0644\n",
      "     10                       \u001b[36m-46.4117\u001b[0m     \u001b[32m3010.0370\u001b[0m     \u001b[35m2154.0432\u001b[0m  0.0118\n",
      "     11                       \u001b[36m-41.5283\u001b[0m     \u001b[32m2533.0310\u001b[0m     \u001b[35m1724.6021\u001b[0m  0.0113\n",
      "     12                       \u001b[36m-37.7014\u001b[0m     \u001b[32m2037.6328\u001b[0m     \u001b[35m1421.3992\u001b[0m  0.0648\n",
      "     13                       \u001b[36m-37.4184\u001b[0m     \u001b[32m1610.5826\u001b[0m     \u001b[35m1400.1338\u001b[0m  0.0126\n",
      "     14                       -42.1188     \u001b[32m1382.0287\u001b[0m     1773.9932  0.0115\n",
      "     15                       -48.5589     1465.8106     2357.9680  0.0116\n",
      "     16                       -51.5239     1771.5804     2654.7090  0.0658\n",
      "     17                       -49.8346     1953.6484     2483.4839  0.0122\n",
      "Stopping since neg_root_mean_squared_error has not improved in the last 5 epochs.\n",
      "[CV 2/5] END module__n_hidden_neurons_1=20, module__n_hidden_neurons_2=15, module__n_in_neurons=28, module__n_out_neurons=1; total time=   0.5s\n",
      "  epoch    neg_root_mean_squared_error    train_loss    valid_loss     dur\n",
      "-------  -----------------------------  ------------  ------------  ------\n",
      "      1                       \u001b[36m-63.6736\u001b[0m     \u001b[32m5287.5083\u001b[0m     \u001b[35m4054.3286\u001b[0m  0.0177\n",
      "      2                       \u001b[36m-63.4900\u001b[0m     \u001b[32m5279.5743\u001b[0m     \u001b[35m4030.9802\u001b[0m  0.0170\n",
      "      3                       \u001b[36m-63.1310\u001b[0m     \u001b[32m5253.1102\u001b[0m     \u001b[35m3985.5168\u001b[0m  0.0726\n",
      "      4                       \u001b[36m-62.5389\u001b[0m     \u001b[32m5208.3388\u001b[0m     \u001b[35m3911.1194\u001b[0m  0.0152\n",
      "      5                       \u001b[36m-61.5932\u001b[0m     \u001b[32m5138.4399\u001b[0m     \u001b[35m3793.7261\u001b[0m  0.0699\n",
      "      6                       \u001b[36m-60.1534\u001b[0m     \u001b[32m5032.4866\u001b[0m     \u001b[35m3618.4351\u001b[0m  0.0188\n",
      "      7                       \u001b[36m-58.0873\u001b[0m     \u001b[32m4879.3063\u001b[0m     \u001b[35m3374.1394\u001b[0m  0.0770\n",
      "      8                       \u001b[36m-55.2690\u001b[0m     \u001b[32m4668.7987\u001b[0m     \u001b[35m3054.6658\u001b[0m  0.0181\n",
      "      9                       \u001b[36m-51.6075\u001b[0m     \u001b[32m4392.9067\u001b[0m     \u001b[35m2663.3298\u001b[0m  0.0171\n",
      "     10                       \u001b[36m-47.1088\u001b[0m     \u001b[32m4048.0542\u001b[0m     \u001b[35m2219.2415\u001b[0m  0.0699\n",
      "     11                       \u001b[36m-42.0459\u001b[0m     \u001b[32m3638.5322\u001b[0m     \u001b[35m1767.8573\u001b[0m  0.0169\n",
      "     12                       \u001b[36m-37.4227\u001b[0m     \u001b[32m3183.2221\u001b[0m     \u001b[35m1400.4584\u001b[0m  0.0691\n",
      "     13                       \u001b[36m-35.4646\u001b[0m     \u001b[32m2727.1371\u001b[0m     \u001b[35m1257.7389\u001b[0m  0.0176\n",
      "     14                       -38.7556     \u001b[32m2347.3526\u001b[0m     1502.0000  0.0165\n",
      "     15                       -46.5390     \u001b[32m2146.6139\u001b[0m     2165.8779  0.0181\n",
      "     16                       -53.7497     2184.6078     2889.0342  0.0165\n",
      "     17                       -56.4426     2339.2568     3185.7629  0.0719\n",
      "Stopping since neg_root_mean_squared_error has not improved in the last 5 epochs.\n",
      "[CV 3/5] END module__n_hidden_neurons_1=20, module__n_hidden_neurons_2=15, module__n_in_neurons=28, module__n_out_neurons=1; total time=   0.8s\n",
      "  epoch    neg_root_mean_squared_error    train_loss    valid_loss     dur\n",
      "-------  -----------------------------  ------------  ------------  ------\n",
      "      1                       \u001b[36m-63.5912\u001b[0m     \u001b[32m6092.1822\u001b[0m     \u001b[35m4043.8459\u001b[0m  0.0759\n",
      "      2                       \u001b[36m-63.3460\u001b[0m     \u001b[32m6054.3406\u001b[0m     \u001b[35m4012.7188\u001b[0m  0.0266\n",
      "      3                       \u001b[36m-62.9861\u001b[0m     \u001b[32m6013.5450\u001b[0m     \u001b[35m3967.2437\u001b[0m  0.0656\n",
      "      4                       \u001b[36m-62.4288\u001b[0m     \u001b[32m5954.1615\u001b[0m     \u001b[35m3897.3562\u001b[0m  0.0218\n",
      "      5                       \u001b[36m-61.5940\u001b[0m     \u001b[32m5864.4158\u001b[0m     \u001b[35m3793.8184\u001b[0m  0.0724\n",
      "      6                       \u001b[36m-60.3820\u001b[0m     \u001b[32m5733.0941\u001b[0m     \u001b[35m3645.9858\u001b[0m  0.0201\n",
      "      7                       \u001b[36m-58.6659\u001b[0m     \u001b[32m5547.7485\u001b[0m     \u001b[35m3441.6853\u001b[0m  0.0694\n",
      "      8                       \u001b[36m-56.3110\u001b[0m     \u001b[32m5294.6938\u001b[0m     \u001b[35m3170.9277\u001b[0m  0.0206\n",
      "      9                       \u001b[36m-53.1798\u001b[0m     \u001b[32m4960.9241\u001b[0m     \u001b[35m2828.0916\u001b[0m  0.0205\n",
      "     10                       \u001b[36m-49.1627\u001b[0m     \u001b[32m4536.6668\u001b[0m     \u001b[35m2416.9709\u001b[0m  0.0215\n",
      "     11                       \u001b[36m-44.2414\u001b[0m     \u001b[32m4019.9903\u001b[0m     \u001b[35m1957.3029\u001b[0m  0.0221\n",
      "     12                       \u001b[36m-38.6248\u001b[0m     \u001b[32m3421.2859\u001b[0m     \u001b[35m1491.8740\u001b[0m  0.1752\n",
      "     13                       \u001b[36m-33.0913\u001b[0m     \u001b[32m2769.5034\u001b[0m     \u001b[35m1095.0370\u001b[0m  0.0216\n",
      "     14                       \u001b[36m-29.5219\u001b[0m     \u001b[32m2120.4646\u001b[0m      \u001b[35m871.5449\u001b[0m  0.0575\n",
      "     15                       -30.3238     \u001b[32m1559.7404\u001b[0m      919.5336  0.0215\n",
      "     16                       -35.0397     \u001b[32m1187.0841\u001b[0m     1227.7827  0.0692\n",
      "     17                       -39.6872     \u001b[32m1060.2687\u001b[0m     1575.0737  0.0226\n",
      "     18                       -41.0353     1112.6792     1683.8920  0.0742\n",
      "Stopping since neg_root_mean_squared_error has not improved in the last 5 epochs.\n",
      "[CV 4/5] END module__n_hidden_neurons_1=20, module__n_hidden_neurons_2=15, module__n_in_neurons=28, module__n_out_neurons=1; total time=   1.0s\n",
      "  epoch    neg_root_mean_squared_error    train_loss    valid_loss     dur\n",
      "-------  -----------------------------  ------------  ------------  ------\n",
      "      1                       \u001b[36m-64.1042\u001b[0m     \u001b[32m7061.8438\u001b[0m     \u001b[35m4109.3540\u001b[0m  0.0805\n",
      "      2                       \u001b[36m-63.7622\u001b[0m     \u001b[32m7038.2974\u001b[0m     \u001b[35m4065.6177\u001b[0m  0.0810\n",
      "      3                       \u001b[36m-63.2399\u001b[0m     \u001b[32m6993.1511\u001b[0m     \u001b[35m3999.2800\u001b[0m  0.0274\n",
      "      4                       \u001b[36m-62.4681\u001b[0m     \u001b[32m6924.6363\u001b[0m     \u001b[35m3902.2666\u001b[0m  0.0798\n",
      "      5                       \u001b[36m-61.3700\u001b[0m     \u001b[32m6821.2812\u001b[0m     \u001b[35m3766.2739\u001b[0m  0.0272\n",
      "      6                       \u001b[36m-59.8549\u001b[0m     \u001b[32m6670.1145\u001b[0m     \u001b[35m3582.6040\u001b[0m  0.0270\n",
      "      7                       \u001b[36m-57.8227\u001b[0m     \u001b[32m6457.0085\u001b[0m     \u001b[35m3343.4595\u001b[0m  0.0715\n",
      "      8                       \u001b[36m-55.1689\u001b[0m     \u001b[32m6167.3840\u001b[0m     \u001b[35m3043.6042\u001b[0m  0.0254\n",
      "      9                       \u001b[36m-51.7943\u001b[0m     \u001b[32m5787.1304\u001b[0m     \u001b[35m2682.6541\u001b[0m  0.0787\n",
      "     10                       \u001b[36m-47.6265\u001b[0m     \u001b[32m5305.5960\u001b[0m     \u001b[35m2268.2817\u001b[0m  0.0250\n",
      "     11                       \u001b[36m-42.6679\u001b[0m     \u001b[32m4719.1209\u001b[0m     \u001b[35m1820.5504\u001b[0m  0.0779\n",
      "     12                       \u001b[36m-37.1046\u001b[0m     \u001b[32m4037.1985\u001b[0m     \u001b[35m1376.7548\u001b[0m  0.0250\n",
      "     13                       \u001b[36m-31.5431\u001b[0m     \u001b[32m3290.2082\u001b[0m      \u001b[35m994.9687\u001b[0m  0.0977\n",
      "     14                       \u001b[36m-27.5237\u001b[0m     \u001b[32m2536.9316\u001b[0m      \u001b[35m757.5550\u001b[0m  0.0849\n",
      "     15                       -27.6703     \u001b[32m1871.1239\u001b[0m      765.6434  0.1032\n",
      "     16                       -32.8720     \u001b[32m1412.2565\u001b[0m     1080.5663  0.0746\n",
      "     17                       -40.1066     \u001b[32m1235.8499\u001b[0m     1608.5411  0.0245\n",
      "     18                       -45.1818     1258.9082     2041.3986  0.0766\n",
      "Stopping since neg_root_mean_squared_error has not improved in the last 5 epochs.\n",
      "[CV 5/5] END module__n_hidden_neurons_1=20, module__n_hidden_neurons_2=15, module__n_in_neurons=28, module__n_out_neurons=1; total time=   1.3s\n",
      "  epoch    neg_root_mean_squared_error    train_loss    valid_loss     dur\n",
      "-------  -----------------------------  ------------  ------------  ------\n",
      "      1                       \u001b[36m-59.8339\u001b[0m     \u001b[32m4275.4053\u001b[0m     \u001b[35m3580.0964\u001b[0m  0.0062\n",
      "      2                       \u001b[36m-59.6516\u001b[0m     \u001b[32m4257.2583\u001b[0m     \u001b[35m3558.3132\u001b[0m  0.0059\n",
      "      3                       \u001b[36m-59.4258\u001b[0m     \u001b[32m4234.0596\u001b[0m     \u001b[35m3531.4294\u001b[0m  0.0059\n",
      "      4                       \u001b[36m-59.1432\u001b[0m     \u001b[32m4205.7310\u001b[0m     \u001b[35m3497.9180\u001b[0m  0.0057\n",
      "      5                       \u001b[36m-58.7958\u001b[0m     \u001b[32m4170.9771\u001b[0m     \u001b[35m3456.9460\u001b[0m  0.0058\n",
      "      6                       \u001b[36m-58.3728\u001b[0m     \u001b[32m4128.5718\u001b[0m     \u001b[35m3407.3850\u001b[0m  0.0055\n",
      "      7                       \u001b[36m-57.8670\u001b[0m     \u001b[32m4077.6506\u001b[0m     \u001b[35m3348.5886\u001b[0m  0.0064\n",
      "      8                       \u001b[36m-57.2684\u001b[0m     \u001b[32m4017.3442\u001b[0m     \u001b[35m3279.6711\u001b[0m  0.0058\n",
      "      9                       \u001b[36m-56.5663\u001b[0m     \u001b[32m3946.7534\u001b[0m     \u001b[35m3199.7498\u001b[0m  0.0059\n",
      "     10                       \u001b[36m-55.7490\u001b[0m     \u001b[32m3864.7854\u001b[0m     \u001b[35m3107.9529\u001b[0m  0.0059\n",
      "     11                       \u001b[36m-54.8062\u001b[0m     \u001b[32m3770.6121\u001b[0m     \u001b[35m3003.7185\u001b[0m  0.0057\n",
      "     12                       \u001b[36m-53.7273\u001b[0m     \u001b[32m3663.4150\u001b[0m     \u001b[35m2886.6238\u001b[0m  0.0058\n",
      "     13                       \u001b[36m-52.5031\u001b[0m     \u001b[32m3542.5422\u001b[0m     \u001b[35m2756.5786\u001b[0m  0.0071\n",
      "     14                       \u001b[36m-51.1262\u001b[0m     \u001b[32m3407.5820\u001b[0m     \u001b[35m2613.8901\u001b[0m  0.0062\n",
      "     15                       \u001b[36m-49.5918\u001b[0m     \u001b[32m3258.4817\u001b[0m     \u001b[35m2459.3467\u001b[0m  0.0061\n",
      "     16                       \u001b[36m-47.8985\u001b[0m     \u001b[32m3095.5437\u001b[0m     \u001b[35m2294.2695\u001b[0m  0.0076\n",
      "     17                       \u001b[36m-46.0526\u001b[0m     \u001b[32m2919.5408\u001b[0m     \u001b[35m2120.8396\u001b[0m  0.0067\n",
      "     18                       \u001b[36m-44.0704\u001b[0m     \u001b[32m2731.9949\u001b[0m     \u001b[35m1942.2028\u001b[0m  0.0063\n",
      "     19                       \u001b[36m-41.9825\u001b[0m     \u001b[32m2535.1917\u001b[0m     \u001b[35m1762.5265\u001b[0m  0.0078\n",
      "     20                       \u001b[36m-39.8412\u001b[0m     \u001b[32m2332.4043\u001b[0m     \u001b[35m1587.3174\u001b[0m  0.0061\n",
      "[CV 1/5] END module__n_hidden_neurons_1=15, module__n_hidden_neurons_2=15, module__n_in_neurons=28, module__n_out_neurons=1; total time=   0.3s\n",
      "  epoch    neg_root_mean_squared_error    train_loss    valid_loss     dur\n",
      "-------  -----------------------------  ------------  ------------  ------\n",
      "      1                       \u001b[36m-64.0552\u001b[0m     \u001b[32m4522.1635\u001b[0m     \u001b[35m4103.0693\u001b[0m  0.0129\n",
      "      2                       \u001b[36m-63.8414\u001b[0m     \u001b[32m4515.8422\u001b[0m     \u001b[35m4075.7227\u001b[0m  0.0604\n",
      "      3                       \u001b[36m-63.5586\u001b[0m     \u001b[32m4490.1822\u001b[0m     \u001b[35m4039.6951\u001b[0m  0.0128\n",
      "      4                       \u001b[36m-63.1741\u001b[0m     \u001b[32m4454.5477\u001b[0m     \u001b[35m3990.9729\u001b[0m  0.0111\n",
      "      5                       \u001b[36m-62.6325\u001b[0m     \u001b[32m4406.4410\u001b[0m     \u001b[35m3922.8281\u001b[0m  0.0110\n",
      "      6                       \u001b[36m-61.8926\u001b[0m     \u001b[32m4339.6269\u001b[0m     \u001b[35m3830.6960\u001b[0m  0.0107\n",
      "      7                       \u001b[36m-60.9049\u001b[0m     \u001b[32m4249.0574\u001b[0m     \u001b[35m3709.4038\u001b[0m  0.0519\n",
      "      8                       \u001b[36m-59.5987\u001b[0m     \u001b[32m4129.0944\u001b[0m     \u001b[35m3552.0068\u001b[0m  0.0112\n",
      "      9                       \u001b[36m-57.9220\u001b[0m     \u001b[32m3973.4390\u001b[0m     \u001b[35m3354.9602\u001b[0m  0.0110\n",
      "     10                       \u001b[36m-55.8174\u001b[0m     \u001b[32m3777.5197\u001b[0m     \u001b[35m3115.5793\u001b[0m  0.0109\n",
      "     11                       \u001b[36m-53.2363\u001b[0m     \u001b[32m3537.3073\u001b[0m     \u001b[35m2834.1040\u001b[0m  0.0113\n",
      "     12                       \u001b[36m-50.1604\u001b[0m     \u001b[32m3251.0535\u001b[0m     \u001b[35m2516.0676\u001b[0m  0.0115\n",
      "     13                       \u001b[36m-46.6413\u001b[0m     \u001b[32m2921.5313\u001b[0m     \u001b[35m2175.4075\u001b[0m  0.0110\n",
      "     14                       \u001b[36m-42.8764\u001b[0m     \u001b[32m2558.0064\u001b[0m     \u001b[35m1838.3838\u001b[0m  0.0105\n",
      "     15                       \u001b[36m-39.3313\u001b[0m     \u001b[32m2179.6143\u001b[0m     \u001b[35m1546.9531\u001b[0m  0.0109\n",
      "     16                       \u001b[36m-36.8656\u001b[0m     \u001b[32m1818.6997\u001b[0m     \u001b[35m1359.0750\u001b[0m  0.0510\n",
      "     17                       \u001b[36m-36.6242\u001b[0m     \u001b[32m1522.5145\u001b[0m     \u001b[35m1341.3285\u001b[0m  0.0119\n",
      "     18                       -39.1982     \u001b[32m1349.1621\u001b[0m     1536.4967  0.0112\n",
      "     19                       -43.5469     \u001b[32m1345.1849\u001b[0m     1896.3342  0.0135\n",
      "     20                       -47.3186     1494.4500     2239.0498  0.0558\n",
      "[CV 2/5] END module__n_hidden_neurons_1=15, module__n_hidden_neurons_2=15, module__n_in_neurons=28, module__n_out_neurons=1; total time=   0.5s\n",
      "  epoch    neg_root_mean_squared_error    train_loss    valid_loss     dur\n",
      "-------  -----------------------------  ------------  ------------  ------\n",
      "      1                       \u001b[36m-63.6119\u001b[0m     \u001b[32m5284.0483\u001b[0m     \u001b[35m4046.4744\u001b[0m  0.0165\n",
      "      2                       \u001b[36m-63.4414\u001b[0m     \u001b[32m5267.5698\u001b[0m     \u001b[35m4024.8137\u001b[0m  0.1370\n",
      "      3                       \u001b[36m-63.1689\u001b[0m     \u001b[32m5241.7048\u001b[0m     \u001b[35m3990.3137\u001b[0m  0.0403\n",
      "      4                       \u001b[36m-62.7609\u001b[0m     \u001b[32m5204.1734\u001b[0m     \u001b[35m3938.9351\u001b[0m  0.0153\n",
      "      5                       \u001b[36m-62.1415\u001b[0m     \u001b[32m5151.3569\u001b[0m     \u001b[35m3861.5667\u001b[0m  0.0707\n",
      "      6                       \u001b[36m-61.2233\u001b[0m     \u001b[32m5076.2721\u001b[0m     \u001b[35m3748.2939\u001b[0m  0.0150\n",
      "      7                       \u001b[36m-59.9067\u001b[0m     \u001b[32m4970.7264\u001b[0m     \u001b[35m3588.8171\u001b[0m  0.0149\n",
      "      8                       \u001b[36m-58.0875\u001b[0m     \u001b[32m4826.7465\u001b[0m     \u001b[35m3374.1555\u001b[0m  0.0688\n",
      "      9                       \u001b[36m-55.6588\u001b[0m     \u001b[32m4636.4783\u001b[0m     \u001b[35m3097.9001\u001b[0m  0.0159\n",
      "     10                       \u001b[36m-52.5312\u001b[0m     \u001b[32m4393.3065\u001b[0m     \u001b[35m2759.5239\u001b[0m  0.0149\n",
      "     11                       \u001b[36m-48.6553\u001b[0m     \u001b[32m4093.3919\u001b[0m     \u001b[35m2367.3406\u001b[0m  0.0724\n",
      "     12                       \u001b[36m-44.1282\u001b[0m     \u001b[32m3738.2975\u001b[0m     \u001b[35m1947.2937\u001b[0m  0.0156\n",
      "     13                       \u001b[36m-39.3555\u001b[0m     \u001b[32m3338.1133\u001b[0m     \u001b[35m1548.8584\u001b[0m  0.0685\n",
      "     14                       \u001b[36m-35.4550\u001b[0m     \u001b[32m2916.5401\u001b[0m     \u001b[35m1257.0554\u001b[0m  0.0165\n",
      "     15                       \u001b[36m-34.4734\u001b[0m     \u001b[32m2519.1996\u001b[0m     \u001b[35m1188.4139\u001b[0m  0.0160\n",
      "     16                       -38.0987     \u001b[32m2213.9457\u001b[0m     1451.5076  0.0684\n",
      "     17                       -44.9075     \u001b[32m2075.0333\u001b[0m     2016.6818  0.0157\n",
      "     18                       -50.8450     2121.2768     2585.2163  0.0738\n",
      "     19                       -53.2197     2240.0708     2832.3318  0.0166\n",
      "Stopping since neg_root_mean_squared_error has not improved in the last 5 epochs.\n",
      "[CV 3/5] END module__n_hidden_neurons_1=15, module__n_hidden_neurons_2=15, module__n_in_neurons=28, module__n_out_neurons=1; total time=   0.8s\n",
      "  epoch    neg_root_mean_squared_error    train_loss    valid_loss     dur\n",
      "-------  -----------------------------  ------------  ------------  ------\n",
      "      1                       \u001b[36m-63.4199\u001b[0m     \u001b[32m6076.2001\u001b[0m     \u001b[35m4022.0820\u001b[0m  0.0214\n",
      "      2                       \u001b[36m-63.0218\u001b[0m     \u001b[32m6033.9508\u001b[0m     \u001b[35m3971.7417\u001b[0m  0.0213\n",
      "      3                       \u001b[36m-62.4263\u001b[0m     \u001b[32m5979.1122\u001b[0m     \u001b[35m3897.0447\u001b[0m  0.0215\n",
      "      4                       \u001b[36m-61.5490\u001b[0m     \u001b[32m5898.6696\u001b[0m     \u001b[35m3788.2742\u001b[0m  0.0206\n",
      "      5                       \u001b[36m-60.2786\u001b[0m     \u001b[32m5781.4185\u001b[0m     \u001b[35m3633.5054\u001b[0m  0.0693\n",
      "      6                       \u001b[36m-58.4920\u001b[0m     \u001b[32m5615.3460\u001b[0m     \u001b[35m3421.3167\u001b[0m  0.0209\n",
      "      7                       \u001b[36m-56.0455\u001b[0m     \u001b[32m5388.1436\u001b[0m     \u001b[35m3141.0952\u001b[0m  0.0687\n",
      "      8                       \u001b[36m-52.7910\u001b[0m     \u001b[32m5087.7665\u001b[0m     \u001b[35m2786.8921\u001b[0m  0.0203\n",
      "      9                       \u001b[36m-48.6277\u001b[0m     \u001b[32m4704.8218\u001b[0m     \u001b[35m2364.6536\u001b[0m  0.0687\n",
      "     10                       \u001b[36m-43.5410\u001b[0m     \u001b[32m4235.2913\u001b[0m     \u001b[35m1895.8202\u001b[0m  0.0207\n",
      "     11                       \u001b[36m-37.7772\u001b[0m     \u001b[32m3684.1871\u001b[0m     \u001b[35m1427.1152\u001b[0m  0.0208\n",
      "     12                       \u001b[36m-32.2271\u001b[0m     \u001b[32m3072.4645\u001b[0m     \u001b[35m1038.5878\u001b[0m  0.0209\n",
      "     13                       \u001b[36m-29.0396\u001b[0m     \u001b[32m2443.0261\u001b[0m      \u001b[35m843.2962\u001b[0m  0.0201\n",
      "     14                       -30.8559     \u001b[32m1867.2889\u001b[0m      952.0858  0.0648\n",
      "     15                       -36.8960     \u001b[32m1437.1453\u001b[0m     1361.3119  0.0207\n",
      "     16                       -42.7464     \u001b[32m1221.0009\u001b[0m     1827.2521  0.1516\n",
      "     17                       -44.8956     \u001b[32m1190.0108\u001b[0m     2015.6112  0.0197\n",
      "Stopping since neg_root_mean_squared_error has not improved in the last 5 epochs.\n",
      "[CV 4/5] END module__n_hidden_neurons_1=15, module__n_hidden_neurons_2=15, module__n_in_neurons=28, module__n_out_neurons=1; total time=   0.9s\n",
      "  epoch    neg_root_mean_squared_error    train_loss    valid_loss     dur\n",
      "-------  -----------------------------  ------------  ------------  ------\n",
      "      1                       \u001b[36m-63.9384\u001b[0m     \u001b[32m7036.7782\u001b[0m     \u001b[35m4088.1150\u001b[0m  0.0254\n",
      "      2                       \u001b[36m-63.5443\u001b[0m     \u001b[32m6989.1856\u001b[0m     \u001b[35m4037.8718\u001b[0m  0.0779\n",
      "      3                       \u001b[36m-62.9727\u001b[0m     \u001b[32m6919.5501\u001b[0m     \u001b[35m3965.5632\u001b[0m  0.0245\n",
      "      4                       \u001b[36m-62.1573\u001b[0m     \u001b[32m6816.5595\u001b[0m     \u001b[35m3863.5334\u001b[0m  0.0806\n",
      "      5                       \u001b[36m-61.0228\u001b[0m     \u001b[32m6668.7790\u001b[0m     \u001b[35m3723.7822\u001b[0m  0.0242\n",
      "      6                       \u001b[36m-59.4707\u001b[0m     \u001b[32m6463.7315\u001b[0m     \u001b[35m3536.7639\u001b[0m  0.0244\n",
      "      7                       \u001b[36m-57.3902\u001b[0m     \u001b[32m6188.0276\u001b[0m     \u001b[35m3293.6306\u001b[0m  0.0789\n",
      "      8                       \u001b[36m-54.6868\u001b[0m     \u001b[32m5829.0922\u001b[0m     \u001b[35m2990.6440\u001b[0m  0.0247\n",
      "      9                       \u001b[36m-51.2862\u001b[0m     \u001b[32m5378.2277\u001b[0m     \u001b[35m2630.2698\u001b[0m  0.0800\n",
      "     10                       \u001b[36m-47.1363\u001b[0m     \u001b[32m4832.8904\u001b[0m     \u001b[35m2221.8328\u001b[0m  0.0240\n",
      "     11                       \u001b[36m-42.2598\u001b[0m     \u001b[32m4199.9661\u001b[0m     \u001b[35m1785.8894\u001b[0m  0.0816\n",
      "     12                       \u001b[36m-36.8621\u001b[0m     \u001b[32m3502.2606\u001b[0m     \u001b[35m1358.8132\u001b[0m  0.0751\n",
      "     13                       \u001b[36m-31.5709\u001b[0m     \u001b[32m2783.9522\u001b[0m      \u001b[35m996.7193\u001b[0m  0.0259\n",
      "     14                       \u001b[36m-27.7807\u001b[0m     \u001b[32m2114.7204\u001b[0m      \u001b[35m771.7695\u001b[0m  0.0772\n",
      "     15                       \u001b[36m-27.4485\u001b[0m     \u001b[32m1585.2305\u001b[0m      \u001b[35m753.4202\u001b[0m  0.0252\n",
      "     16                       -30.9482     \u001b[32m1278.3842\u001b[0m      957.7918  0.0771\n",
      "     17                       -35.7103     \u001b[32m1200.2610\u001b[0m     1275.2219  0.0235\n",
      "     18                       -38.7146     1228.9786     1498.8187  0.0766\n",
      "     19                       -38.8536     1213.9205     1509.5986  0.0239\n",
      "Stopping since neg_root_mean_squared_error has not improved in the last 5 epochs.\n",
      "[CV 5/5] END module__n_hidden_neurons_1=15, module__n_hidden_neurons_2=15, module__n_in_neurons=28, module__n_out_neurons=1; total time=   1.2s\n",
      "  epoch    neg_root_mean_squared_error    train_loss    valid_loss     dur\n",
      "-------  -----------------------------  ------------  ------------  ------\n",
      "      1                       \u001b[36m-59.7411\u001b[0m     \u001b[32m4255.5825\u001b[0m     \u001b[35m3568.9985\u001b[0m  0.0066\n",
      "      2                       \u001b[36m-59.6018\u001b[0m     \u001b[32m4239.5938\u001b[0m     \u001b[35m3552.3782\u001b[0m  0.0059\n",
      "      3                       \u001b[36m-59.4271\u001b[0m     \u001b[32m4220.7241\u001b[0m     \u001b[35m3531.5818\u001b[0m  0.0062\n",
      "      4                       \u001b[36m-59.2065\u001b[0m     \u001b[32m4197.9492\u001b[0m     \u001b[35m3505.4148\u001b[0m  0.0058\n",
      "      5                       \u001b[36m-58.9338\u001b[0m     \u001b[32m4170.2183\u001b[0m     \u001b[35m3473.1895\u001b[0m  0.0061\n",
      "      6                       \u001b[36m-58.6020\u001b[0m     \u001b[32m4136.5308\u001b[0m     \u001b[35m3434.1938\u001b[0m  0.0057\n",
      "      7                       \u001b[36m-58.2075\u001b[0m     \u001b[32m4096.3027\u001b[0m     \u001b[35m3388.1084\u001b[0m  0.0058\n",
      "      8                       \u001b[36m-57.7462\u001b[0m     \u001b[32m4048.9275\u001b[0m     \u001b[35m3334.6235\u001b[0m  0.0055\n",
      "      9                       \u001b[36m-57.2115\u001b[0m     \u001b[32m3993.8337\u001b[0m     \u001b[35m3273.1567\u001b[0m  0.0585\n",
      "     10                       \u001b[36m-56.5963\u001b[0m     \u001b[32m3930.5203\u001b[0m     \u001b[35m3203.1399\u001b[0m  0.0057\n",
      "     11                       \u001b[36m-55.8939\u001b[0m     \u001b[32m3858.3813\u001b[0m     \u001b[35m3124.1255\u001b[0m  0.0059\n",
      "     12                       \u001b[36m-55.0981\u001b[0m     \u001b[32m3776.8845\u001b[0m     \u001b[35m3035.8057\u001b[0m  0.0064\n",
      "     13                       \u001b[36m-54.2038\u001b[0m     \u001b[32m3685.6084\u001b[0m     \u001b[35m2938.0562\u001b[0m  0.0057\n",
      "     14                       \u001b[36m-53.2055\u001b[0m     \u001b[32m3584.3438\u001b[0m     \u001b[35m2830.8303\u001b[0m  0.0060\n",
      "     15                       \u001b[36m-52.0981\u001b[0m     \u001b[32m3472.9067\u001b[0m     \u001b[35m2714.2151\u001b[0m  0.0628\n",
      "     16                       \u001b[36m-50.8790\u001b[0m     \u001b[32m3351.2690\u001b[0m     \u001b[35m2588.6736\u001b[0m  0.0061\n",
      "     17                       \u001b[36m-49.5466\u001b[0m     \u001b[32m3219.5664\u001b[0m     \u001b[35m2454.8647\u001b[0m  0.0057\n",
      "     18                       \u001b[36m-48.1028\u001b[0m     \u001b[32m3078.2178\u001b[0m     \u001b[35m2313.8762\u001b[0m  0.0055\n",
      "     19                       \u001b[36m-46.5532\u001b[0m     \u001b[32m2927.9565\u001b[0m     \u001b[35m2167.1982\u001b[0m  0.0061\n",
      "     20                       \u001b[36m-44.9088\u001b[0m     \u001b[32m2769.8560\u001b[0m     \u001b[35m2016.8019\u001b[0m  0.0062\n",
      "[CV 1/5] END module__n_hidden_neurons_1=15, module__n_hidden_neurons_2=10, module__n_in_neurons=28, module__n_out_neurons=1; total time=   0.3s\n",
      "  epoch    neg_root_mean_squared_error    train_loss    valid_loss     dur\n",
      "-------  -----------------------------  ------------  ------------  ------\n",
      "      1                       \u001b[36m-63.7522\u001b[0m     \u001b[32m4487.1378\u001b[0m     \u001b[35m4064.3386\u001b[0m  0.0112\n",
      "      2                       \u001b[36m-63.6504\u001b[0m     \u001b[32m4474.3841\u001b[0m     \u001b[35m4051.3708\u001b[0m  0.0109\n",
      "      3                       \u001b[36m-63.5043\u001b[0m     \u001b[32m4460.8184\u001b[0m     \u001b[35m4032.7983\u001b[0m  0.0123\n",
      "      4                       \u001b[36m-63.2746\u001b[0m     \u001b[32m4441.4500\u001b[0m     \u001b[35m4003.6780\u001b[0m  0.0105\n",
      "      5                       \u001b[36m-62.9135\u001b[0m     \u001b[32m4411.3768\u001b[0m     \u001b[35m3958.1133\u001b[0m  0.0547\n",
      "      6                       \u001b[36m-62.3652\u001b[0m     \u001b[32m4364.6044\u001b[0m     \u001b[35m3889.4146\u001b[0m  0.0107\n",
      "      7                       \u001b[36m-61.5739\u001b[0m     \u001b[32m4295.0250\u001b[0m     \u001b[35m3791.3477\u001b[0m  0.0108\n",
      "      8                       \u001b[36m-60.4847\u001b[0m     \u001b[32m4196.7557\u001b[0m     \u001b[35m3658.3972\u001b[0m  0.0123\n",
      "      9                       \u001b[36m-59.0356\u001b[0m     \u001b[32m4063.9056\u001b[0m     \u001b[35m3485.2036\u001b[0m  0.0576\n",
      "     10                       \u001b[36m-57.1707\u001b[0m     \u001b[32m3891.0713\u001b[0m     \u001b[35m3268.4844\u001b[0m  0.0148\n",
      "     11                       \u001b[36m-54.8499\u001b[0m     \u001b[32m3673.7605\u001b[0m     \u001b[35m3008.5154\u001b[0m  0.0111\n",
      "     12                       \u001b[36m-52.0510\u001b[0m     \u001b[32m3409.8315\u001b[0m     \u001b[35m2709.3057\u001b[0m  0.0115\n",
      "     13                       \u001b[36m-48.7997\u001b[0m     \u001b[32m3101.2158\u001b[0m     \u001b[35m2381.4114\u001b[0m  0.0111\n",
      "     14                       \u001b[36m-45.2296\u001b[0m     \u001b[32m2754.9504\u001b[0m     \u001b[35m2045.7130\u001b[0m  0.0492\n",
      "     15                       \u001b[36m-41.6726\u001b[0m     \u001b[32m2386.3369\u001b[0m     \u001b[35m1736.6036\u001b[0m  0.0117\n",
      "     16                       \u001b[36m-38.7785\u001b[0m     \u001b[32m2021.5062\u001b[0m     \u001b[35m1503.7754\u001b[0m  0.0109\n",
      "     17                       \u001b[36m-37.5584\u001b[0m     \u001b[32m1700.7010\u001b[0m     \u001b[35m1410.6300\u001b[0m  0.0105\n",
      "     18                       -38.9253     \u001b[32m1476.1247\u001b[0m     1515.1807  0.0107\n",
      "     19                       -42.5594     \u001b[32m1401.0929\u001b[0m     1811.3020  0.0115\n",
      "     20                       -46.4866     1490.7176     2161.0029  0.0108\n",
      "[CV 2/5] END module__n_hidden_neurons_1=15, module__n_hidden_neurons_2=10, module__n_in_neurons=28, module__n_out_neurons=1; total time=   0.5s\n",
      "  epoch    neg_root_mean_squared_error    train_loss    valid_loss     dur\n",
      "-------  -----------------------------  ------------  ------------  ------\n",
      "      1                       \u001b[36m-63.3005\u001b[0m     \u001b[32m5252.1839\u001b[0m     \u001b[35m4006.9519\u001b[0m  0.0665\n",
      "      2                       \u001b[36m-63.1276\u001b[0m     \u001b[32m5230.8719\u001b[0m     \u001b[35m3985.0989\u001b[0m  0.0161\n",
      "      3                       \u001b[36m-62.9191\u001b[0m     \u001b[32m5209.9712\u001b[0m     \u001b[35m3958.8093\u001b[0m  0.0147\n",
      "      4                       \u001b[36m-62.6360\u001b[0m     \u001b[32m5185.3538\u001b[0m     \u001b[35m3923.2695\u001b[0m  0.0721\n",
      "      5                       \u001b[36m-62.2470\u001b[0m     \u001b[32m5153.3742\u001b[0m     \u001b[35m3874.6919\u001b[0m  0.0148\n",
      "      6                       \u001b[36m-61.7212\u001b[0m     \u001b[32m5110.8688\u001b[0m     \u001b[35m3809.5044\u001b[0m  0.0753\n",
      "      7                       \u001b[36m-61.0139\u001b[0m     \u001b[32m5054.5127\u001b[0m     \u001b[35m3722.6926\u001b[0m  0.0154\n",
      "      8                       \u001b[36m-60.0796\u001b[0m     \u001b[32m4979.8386\u001b[0m     \u001b[35m3609.5579\u001b[0m  0.0145\n",
      "      9                       \u001b[36m-58.8704\u001b[0m     \u001b[32m4882.7702\u001b[0m     \u001b[35m3465.7219\u001b[0m  0.0676\n",
      "     10                       \u001b[36m-57.3254\u001b[0m     \u001b[32m4759.1334\u001b[0m     \u001b[35m3286.1985\u001b[0m  0.1440\n",
      "     11                       \u001b[36m-55.3758\u001b[0m     \u001b[32m4604.4278\u001b[0m     \u001b[35m3066.4773\u001b[0m  0.0160\n",
      "     12                       \u001b[36m-52.9686\u001b[0m     \u001b[32m4414.4949\u001b[0m     \u001b[35m2805.6777\u001b[0m  0.0410\n",
      "     13                       \u001b[36m-50.0686\u001b[0m     \u001b[32m4186.3658\u001b[0m     \u001b[35m2506.8694\u001b[0m  0.0159\n",
      "     14                       \u001b[36m-46.6831\u001b[0m     \u001b[32m3919.4141\u001b[0m     \u001b[35m2179.3140\u001b[0m  0.0724\n",
      "     15                       \u001b[36m-42.9169\u001b[0m     \u001b[32m3616.2305\u001b[0m     \u001b[35m1841.8566\u001b[0m  0.0164\n",
      "     16                       \u001b[36m-39.0645\u001b[0m     \u001b[32m3285.0153\u001b[0m     \u001b[35m1526.0344\u001b[0m  0.0759\n",
      "     17                       \u001b[36m-35.7365\u001b[0m     \u001b[32m2940.5492\u001b[0m     \u001b[35m1277.1001\u001b[0m  0.0167\n",
      "     18                       \u001b[36m-33.9438\u001b[0m     \u001b[32m2606.4971\u001b[0m     \u001b[35m1152.1829\u001b[0m  0.0159\n",
      "     19                       -34.7887     \u001b[32m2315.2523\u001b[0m     1210.2526  0.0652\n",
      "     20                       -38.6488     \u001b[32m2104.9932\u001b[0m     1493.7322  0.0159\n",
      "[CV 3/5] END module__n_hidden_neurons_1=15, module__n_hidden_neurons_2=10, module__n_in_neurons=28, module__n_out_neurons=1; total time=   0.9s\n",
      "  epoch    neg_root_mean_squared_error    train_loss    valid_loss     dur\n",
      "-------  -----------------------------  ------------  ------------  ------\n",
      "      1                       \u001b[36m-63.4022\u001b[0m     \u001b[32m6065.3222\u001b[0m     \u001b[35m4019.8396\u001b[0m  0.0790\n",
      "      2                       \u001b[36m-63.0545\u001b[0m     \u001b[32m6035.2767\u001b[0m     \u001b[35m3975.8704\u001b[0m  0.0275\n",
      "      3                       \u001b[36m-62.4859\u001b[0m     \u001b[32m5991.5234\u001b[0m     \u001b[35m3904.4934\u001b[0m  0.0723\n",
      "      4                       \u001b[36m-61.6144\u001b[0m     \u001b[32m5926.4988\u001b[0m     \u001b[35m3796.3293\u001b[0m  0.0245\n",
      "      5                       \u001b[36m-60.3392\u001b[0m     \u001b[32m5832.2520\u001b[0m     \u001b[35m3640.8145\u001b[0m  0.0684\n",
      "      6                       \u001b[36m-58.5106\u001b[0m     \u001b[32m5699.0778\u001b[0m     \u001b[35m3423.4883\u001b[0m  0.0282\n",
      "      7                       \u001b[36m-56.0110\u001b[0m     \u001b[32m5515.7906\u001b[0m     \u001b[35m3137.2351\u001b[0m  0.0209\n",
      "      8                       \u001b[36m-52.7154\u001b[0m     \u001b[32m5271.9480\u001b[0m     \u001b[35m2778.9133\u001b[0m  0.0221\n",
      "      9                       \u001b[36m-48.5334\u001b[0m     \u001b[32m4959.0638\u001b[0m     \u001b[35m2355.4941\u001b[0m  0.0711\n",
      "     10                       \u001b[36m-43.4711\u001b[0m     \u001b[32m4572.6437\u001b[0m     \u001b[35m1889.7339\u001b[0m  0.0252\n",
      "     11                       \u001b[36m-37.8488\u001b[0m     \u001b[32m4113.4900\u001b[0m     \u001b[35m1432.5284\u001b[0m  0.0724\n",
      "     12                       \u001b[36m-32.7774\u001b[0m     \u001b[32m3594.7083\u001b[0m     \u001b[35m1074.3582\u001b[0m  0.0198\n",
      "     13                       \u001b[36m-30.6180\u001b[0m     \u001b[32m3049.3859\u001b[0m      \u001b[35m937.4611\u001b[0m  0.0652\n",
      "     14                       -33.6016     \u001b[32m2533.0073\u001b[0m     1129.0698  0.0198\n",
      "     15                       -40.1533     \u001b[32m2113.5493\u001b[0m     1612.2849  0.0726\n",
      "     16                       -45.7191     \u001b[32m1831.3074\u001b[0m     2090.2361  0.0234\n",
      "     17                       -47.3433     \u001b[32m1644.4245\u001b[0m     2241.3865  0.0714\n",
      "Stopping since neg_root_mean_squared_error has not improved in the last 5 epochs.\n",
      "[CV 4/5] END module__n_hidden_neurons_1=15, module__n_hidden_neurons_2=10, module__n_in_neurons=28, module__n_out_neurons=1; total time=   0.9s\n",
      "  epoch    neg_root_mean_squared_error    train_loss    valid_loss     dur\n",
      "-------  -----------------------------  ------------  ------------  ------\n",
      "      1                       \u001b[36m-63.9686\u001b[0m     \u001b[32m7018.9575\u001b[0m     \u001b[35m4091.9871\u001b[0m  0.0777\n",
      "      2                       \u001b[36m-63.7832\u001b[0m     \u001b[32m6996.9814\u001b[0m     \u001b[35m4068.3032\u001b[0m  0.0257\n",
      "      3                       \u001b[36m-63.5231\u001b[0m     \u001b[32m6970.8042\u001b[0m     \u001b[35m4035.1863\u001b[0m  0.0265\n",
      "      4                       \u001b[36m-63.1729\u001b[0m     \u001b[32m6935.2988\u001b[0m     \u001b[35m3990.8125\u001b[0m  0.0783\n",
      "      5                       \u001b[36m-62.6960\u001b[0m     \u001b[32m6886.4082\u001b[0m     \u001b[35m3930.7837\u001b[0m  0.0281\n",
      "      6                       \u001b[36m-62.0403\u001b[0m     \u001b[32m6818.6457\u001b[0m     \u001b[35m3848.9946\u001b[0m  0.0759\n",
      "      7                       \u001b[36m-61.1431\u001b[0m     \u001b[32m6724.4437\u001b[0m     \u001b[35m3738.4829\u001b[0m  0.0268\n",
      "      8                       \u001b[36m-59.9385\u001b[0m     \u001b[32m6594.0506\u001b[0m     \u001b[35m3592.6199\u001b[0m  0.0743\n",
      "      9                       \u001b[36m-58.3501\u001b[0m     \u001b[32m6416.0582\u001b[0m     \u001b[35m3404.7363\u001b[0m  0.0816\n",
      "     10                       \u001b[36m-56.2898\u001b[0m     \u001b[32m6177.6620\u001b[0m     \u001b[35m3168.5408\u001b[0m  0.0260\n",
      "     11                       \u001b[36m-53.6609\u001b[0m     \u001b[32m5865.2312\u001b[0m     \u001b[35m2879.4958\u001b[0m  0.0712\n",
      "     12                       \u001b[36m-50.3892\u001b[0m     \u001b[32m5466.9341\u001b[0m     \u001b[35m2539.0671\u001b[0m  0.0278\n",
      "     13                       \u001b[36m-46.4567\u001b[0m     \u001b[32m4976.0618\u001b[0m     \u001b[35m2158.2227\u001b[0m  0.0784\n",
      "     14                       \u001b[36m-41.9562\u001b[0m     \u001b[32m4395.5860\u001b[0m     \u001b[35m1760.3236\u001b[0m  0.0317\n",
      "     15                       \u001b[36m-37.1960\u001b[0m     \u001b[32m3743.9431\u001b[0m     \u001b[35m1383.5411\u001b[0m  0.0272\n",
      "     16                       \u001b[36m-32.8850\u001b[0m     \u001b[32m3059.4137\u001b[0m     \u001b[35m1081.4216\u001b[0m  0.1672\n",
      "     17                       \u001b[36m-30.3100\u001b[0m     \u001b[32m2405.2118\u001b[0m      \u001b[35m918.6948\u001b[0m  0.0255\n",
      "     18                       -30.8416     \u001b[32m1868.0470\u001b[0m      951.2057  0.0732\n",
      "     19                       -34.3117     \u001b[32m1533.4980\u001b[0m     1177.2948  0.0259\n",
      "     20                       -38.4848     \u001b[32m1418.5728\u001b[0m     1481.0796  0.0786\n",
      "[CV 5/5] END module__n_hidden_neurons_1=15, module__n_hidden_neurons_2=10, module__n_in_neurons=28, module__n_out_neurons=1; total time=   1.3s\n",
      "  epoch    neg_root_mean_squared_error    train_loss    valid_loss     dur\n",
      "-------  -----------------------------  ------------  ------------  ------\n",
      "      1                       \u001b[36m-59.6216\u001b[0m     \u001b[32m4238.4038\u001b[0m     \u001b[35m3554.7332\u001b[0m  0.0063\n",
      "      2                       \u001b[36m-59.4770\u001b[0m     \u001b[32m4224.1265\u001b[0m     \u001b[35m3537.5071\u001b[0m  0.0064\n",
      "      3                       \u001b[36m-59.2757\u001b[0m     \u001b[32m4205.4629\u001b[0m     \u001b[35m3513.6118\u001b[0m  0.0062\n",
      "      4                       \u001b[36m-58.9996\u001b[0m     \u001b[32m4180.3696\u001b[0m     \u001b[35m3480.9485\u001b[0m  0.0592\n",
      "      5                       \u001b[36m-58.6329\u001b[0m     \u001b[32m4147.0078\u001b[0m     \u001b[35m3437.8210\u001b[0m  0.0068\n",
      "      6                       \u001b[36m-58.1609\u001b[0m     \u001b[32m4103.6240\u001b[0m     \u001b[35m3382.6860\u001b[0m  0.0068\n",
      "      7                       \u001b[36m-57.5667\u001b[0m     \u001b[32m4048.5312\u001b[0m     \u001b[35m3313.9250\u001b[0m  0.0066\n",
      "      8                       \u001b[36m-56.8325\u001b[0m     \u001b[32m3979.9355\u001b[0m     \u001b[35m3229.9272\u001b[0m  0.0066\n",
      "      9                       \u001b[36m-55.9393\u001b[0m     \u001b[32m3895.7209\u001b[0m     \u001b[35m3129.2000\u001b[0m  0.0065\n",
      "     10                       \u001b[36m-54.8663\u001b[0m     \u001b[32m3794.1667\u001b[0m     \u001b[35m3010.3096\u001b[0m  0.0081\n",
      "     11                       \u001b[36m-53.5971\u001b[0m     \u001b[32m3674.0945\u001b[0m     \u001b[35m2872.6543\u001b[0m  0.0067\n",
      "     12                       \u001b[36m-52.1175\u001b[0m     \u001b[32m3534.2102\u001b[0m     \u001b[35m2716.2288\u001b[0m  0.0063\n",
      "     13                       \u001b[36m-50.4145\u001b[0m     \u001b[32m3373.9207\u001b[0m     \u001b[35m2541.6260\u001b[0m  0.0063\n",
      "     14                       \u001b[36m-48.4832\u001b[0m     \u001b[32m3193.1736\u001b[0m     \u001b[35m2350.6206\u001b[0m  0.0063\n",
      "     15                       \u001b[36m-46.3255\u001b[0m     \u001b[32m2992.7708\u001b[0m     \u001b[35m2146.0559\u001b[0m  0.0064\n",
      "     16                       \u001b[36m-43.9595\u001b[0m     \u001b[32m2774.4575\u001b[0m     \u001b[35m1932.4359\u001b[0m  0.0071\n",
      "     17                       \u001b[36m-41.4338\u001b[0m     \u001b[32m2541.6135\u001b[0m     \u001b[35m1716.7625\u001b[0m  0.0064\n",
      "     18                       \u001b[36m-38.8381\u001b[0m     \u001b[32m2299.1575\u001b[0m     \u001b[35m1508.3969\u001b[0m  0.0066\n",
      "     19                       \u001b[36m-36.3290\u001b[0m     \u001b[32m2054.1824\u001b[0m     \u001b[35m1319.7964\u001b[0m  0.0062\n",
      "     20                       \u001b[36m-34.1537\u001b[0m     \u001b[32m1816.3796\u001b[0m     \u001b[35m1166.4775\u001b[0m  0.0062\n",
      "[CV 1/5] END module__n_hidden_neurons_1=15, module__n_hidden_neurons_2=20, module__n_in_neurons=28, module__n_out_neurons=1; total time=   0.3s\n",
      "  epoch    neg_root_mean_squared_error    train_loss    valid_loss     dur\n",
      "-------  -----------------------------  ------------  ------------  ------\n",
      "      1                       \u001b[36m-63.5228\u001b[0m     \u001b[32m4488.7111\u001b[0m     \u001b[35m4035.1453\u001b[0m  0.0116\n",
      "      2                       \u001b[36m-63.0396\u001b[0m     \u001b[32m4446.7408\u001b[0m     \u001b[35m3973.9895\u001b[0m  0.0125\n",
      "      3                       \u001b[36m-62.3107\u001b[0m     \u001b[32m4387.2966\u001b[0m     \u001b[35m3882.6235\u001b[0m  0.0139\n",
      "      4                       \u001b[36m-61.2468\u001b[0m     \u001b[32m4298.4309\u001b[0m     \u001b[35m3751.1682\u001b[0m  0.0559\n",
      "      5                       \u001b[36m-59.7557\u001b[0m     \u001b[32m4170.6910\u001b[0m     \u001b[35m3570.7395\u001b[0m  0.0111\n",
      "      6                       \u001b[36m-57.7498\u001b[0m     \u001b[32m3995.4801\u001b[0m     \u001b[35m3335.0422\u001b[0m  0.0105\n",
      "      7                       \u001b[36m-55.1568\u001b[0m     \u001b[32m3765.0894\u001b[0m     \u001b[35m3042.2737\u001b[0m  0.0106\n",
      "      8                       \u001b[36m-51.9324\u001b[0m     \u001b[32m3475.2823\u001b[0m     \u001b[35m2696.9719\u001b[0m  0.0117\n",
      "      9                       \u001b[36m-48.1019\u001b[0m     \u001b[32m3127.3428\u001b[0m     \u001b[35m2313.7891\u001b[0m  0.0506\n",
      "     10                       \u001b[36m-43.8515\u001b[0m     \u001b[32m2730.1944\u001b[0m     \u001b[35m1922.9548\u001b[0m  0.0113\n",
      "     11                       \u001b[36m-39.7120\u001b[0m     \u001b[32m2305.3762\u001b[0m     \u001b[35m1577.0402\u001b[0m  0.0124\n",
      "     12                       \u001b[36m-36.8115\u001b[0m     \u001b[32m1892.8085\u001b[0m     \u001b[35m1355.0831\u001b[0m  0.0148\n",
      "     13                       \u001b[36m-36.7831\u001b[0m     \u001b[32m1556.0590\u001b[0m     \u001b[35m1352.9938\u001b[0m  0.0465\n",
      "     14                       -40.3658     \u001b[32m1376.5491\u001b[0m     1629.3975  0.0108\n",
      "     15                       -45.6658     1416.5921     2085.3613  0.0106\n",
      "     16                       -49.3582     1631.4826     2436.2310  0.0104\n",
      "     17                       -49.7418     1830.2805     2474.2449  0.0107\n",
      "Stopping since neg_root_mean_squared_error has not improved in the last 5 epochs.\n",
      "[CV 2/5] END module__n_hidden_neurons_1=15, module__n_hidden_neurons_2=20, module__n_in_neurons=28, module__n_out_neurons=1; total time=   0.5s\n",
      "  epoch    neg_root_mean_squared_error    train_loss    valid_loss     dur\n",
      "-------  -----------------------------  ------------  ------------  ------\n",
      "      1                       \u001b[36m-63.2133\u001b[0m     \u001b[32m5260.3867\u001b[0m     \u001b[35m3995.9248\u001b[0m  0.0147\n",
      "      2                       \u001b[36m-62.8031\u001b[0m     \u001b[32m5222.9363\u001b[0m     \u001b[35m3944.2329\u001b[0m  0.0709\n",
      "      3                       \u001b[36m-62.2173\u001b[0m     \u001b[32m5176.9327\u001b[0m     \u001b[35m3870.9890\u001b[0m  0.0154\n",
      "      4                       \u001b[36m-61.3680\u001b[0m     \u001b[32m5112.4662\u001b[0m     \u001b[35m3766.0378\u001b[0m  0.0143\n",
      "      5                       \u001b[36m-60.1636\u001b[0m     \u001b[32m5021.8010\u001b[0m     \u001b[35m3619.6562\u001b[0m  0.0681\n",
      "      6                       \u001b[36m-58.5088\u001b[0m     \u001b[32m4897.2761\u001b[0m     \u001b[35m3423.2844\u001b[0m  0.0162\n",
      "      7                       \u001b[36m-56.2998\u001b[0m     \u001b[32m4731.1089\u001b[0m     \u001b[35m3169.6658\u001b[0m  0.0739\n",
      "      8                       \u001b[36m-53.4230\u001b[0m     \u001b[32m4515.7057\u001b[0m     \u001b[35m2854.0161\u001b[0m  0.0176\n",
      "      9                       \u001b[36m-49.7861\u001b[0m     \u001b[32m4243.9206\u001b[0m     \u001b[35m2478.6577\u001b[0m  0.0157\n",
      "     10                       \u001b[36m-45.3845\u001b[0m     \u001b[32m3911.6851\u001b[0m     \u001b[35m2059.7561\u001b[0m  0.0685\n",
      "     11                       \u001b[36m-40.4490\u001b[0m     \u001b[32m3522.9160\u001b[0m     \u001b[35m1636.1206\u001b[0m  0.0160\n",
      "     12                       \u001b[36m-35.8075\u001b[0m     \u001b[32m3093.1554\u001b[0m     \u001b[35m1282.1748\u001b[0m  0.0712\n",
      "     13                       \u001b[36m-33.3026\u001b[0m     \u001b[32m2658.5773\u001b[0m     \u001b[35m1109.0632\u001b[0m  0.0168\n",
      "     14                       -35.3641     \u001b[32m2279.8866\u001b[0m     1250.6199  0.0154\n",
      "     15                       -42.0808     \u001b[32m2039.0200\u001b[0m     1770.7946  0.0741\n",
      "     16                       -49.6526     \u001b[32m1999.9476\u001b[0m     2465.3840  0.0165\n",
      "     17                       -53.9011     2108.6775     2905.3269  0.0733\n",
      "Stopping since neg_root_mean_squared_error has not improved in the last 5 epochs.\n",
      "[CV 3/5] END module__n_hidden_neurons_1=15, module__n_hidden_neurons_2=20, module__n_in_neurons=28, module__n_out_neurons=1; total time=   0.7s\n",
      "  epoch    neg_root_mean_squared_error    train_loss    valid_loss     dur\n",
      "-------  -----------------------------  ------------  ------------  ------\n",
      "      1                       \u001b[36m-63.7410\u001b[0m     \u001b[32m6106.7541\u001b[0m     \u001b[35m4062.9126\u001b[0m  0.0733\n",
      "      2                       \u001b[36m-63.3746\u001b[0m     \u001b[32m6070.4964\u001b[0m     \u001b[35m4016.3445\u001b[0m  0.1176\n",
      "      3                       \u001b[36m-62.7736\u001b[0m     \u001b[32m6003.0058\u001b[0m     \u001b[35m3940.5271\u001b[0m  0.0210\n",
      "      4                       \u001b[36m-61.7955\u001b[0m     \u001b[32m5898.9192\u001b[0m     \u001b[35m3818.6812\u001b[0m  0.0628\n",
      "      5                       \u001b[36m-60.2757\u001b[0m     \u001b[32m5741.4864\u001b[0m     \u001b[35m3633.1614\u001b[0m  0.0212\n",
      "      6                       \u001b[36m-58.0176\u001b[0m     \u001b[32m5512.0928\u001b[0m     \u001b[35m3366.0449\u001b[0m  0.0771\n",
      "      7                       \u001b[36m-54.8006\u001b[0m     \u001b[32m5193.2928\u001b[0m     \u001b[35m3003.1040\u001b[0m  0.0287\n",
      "      8                       \u001b[36m-50.4082\u001b[0m     \u001b[32m4770.5413\u001b[0m     \u001b[35m2540.9897\u001b[0m  0.0253\n",
      "      9                       \u001b[36m-44.6917\u001b[0m     \u001b[32m4236.6584\u001b[0m     \u001b[35m1997.3516\u001b[0m  0.0273\n",
      "     10                       \u001b[36m-37.7725\u001b[0m     \u001b[32m3598.1017\u001b[0m     \u001b[35m1426.7611\u001b[0m  0.0208\n",
      "     11                       \u001b[36m-30.5453\u001b[0m     \u001b[32m2884.6925\u001b[0m      \u001b[35m933.0123\u001b[0m  0.0191\n",
      "     12                       \u001b[36m-25.9073\u001b[0m     \u001b[32m2161.4672\u001b[0m      \u001b[35m671.1891\u001b[0m  0.0654\n",
      "     13                       -27.8311     \u001b[32m1536.7585\u001b[0m      774.5707  0.0197\n",
      "     14                       -33.8475     \u001b[32m1139.2450\u001b[0m     1145.6562  0.0683\n",
      "     15                       -36.9872     \u001b[32m1017.4315\u001b[0m     1368.0529  0.0198\n",
      "     16                       -34.9710     1039.0762     1222.9695  0.0695\n",
      "Stopping since neg_root_mean_squared_error has not improved in the last 5 epochs.\n",
      "[CV 4/5] END module__n_hidden_neurons_1=15, module__n_hidden_neurons_2=20, module__n_in_neurons=28, module__n_out_neurons=1; total time=   0.9s\n",
      "  epoch    neg_root_mean_squared_error    train_loss    valid_loss     dur\n",
      "-------  -----------------------------  ------------  ------------  ------\n",
      "      1                       \u001b[36m-63.7937\u001b[0m     \u001b[32m7023.8070\u001b[0m     \u001b[35m4069.6306\u001b[0m  0.0794\n",
      "      2                       \u001b[36m-63.2649\u001b[0m     \u001b[32m6974.9096\u001b[0m     \u001b[35m4002.4451\u001b[0m  0.0243\n",
      "      3                       \u001b[36m-62.4515\u001b[0m     \u001b[32m6902.7516\u001b[0m     \u001b[35m3900.1836\u001b[0m  0.0817\n",
      "      4                       \u001b[36m-61.2499\u001b[0m     \u001b[32m6793.5269\u001b[0m     \u001b[35m3751.5454\u001b[0m  0.0804\n",
      "      5                       \u001b[36m-59.5438\u001b[0m     \u001b[32m6634.0922\u001b[0m     \u001b[35m3545.4639\u001b[0m  0.0265\n",
      "      6                       \u001b[36m-57.1922\u001b[0m     \u001b[32m6410.1563\u001b[0m     \u001b[35m3270.9434\u001b[0m  0.0819\n",
      "      7                       \u001b[36m-54.0346\u001b[0m     \u001b[32m6106.5463\u001b[0m     \u001b[35m2919.7366\u001b[0m  0.0241\n",
      "      8                       \u001b[36m-49.9460\u001b[0m     \u001b[32m5707.2394\u001b[0m     \u001b[35m2494.6050\u001b[0m  0.0765\n",
      "      9                       \u001b[36m-44.8796\u001b[0m     \u001b[32m5200.6627\u001b[0m     \u001b[35m2014.1757\u001b[0m  0.0234\n",
      "     10                       \u001b[36m-38.9983\u001b[0m     \u001b[32m4583.7120\u001b[0m     \u001b[35m1520.8677\u001b[0m  0.0242\n",
      "     11                       \u001b[36m-33.0187\u001b[0m     \u001b[32m3868.8337\u001b[0m     \u001b[35m1090.2319\u001b[0m  0.1522\n",
      "     12                       \u001b[36m-28.9196\u001b[0m     \u001b[32m3092.9524\u001b[0m      \u001b[35m836.3436\u001b[0m  0.0402\n",
      "     13                       -29.9444     \u001b[32m2327.9164\u001b[0m      896.6660  0.0788\n",
      "     14                       -36.5616     \u001b[32m1685.8660\u001b[0m     1336.7485  0.0307\n",
      "     15                       -44.2262     \u001b[32m1293.8113\u001b[0m     1955.9600  0.0782\n",
      "     16                       -48.0767     \u001b[32m1197.1770\u001b[0m     2311.3738  0.0264\n",
      "Stopping since neg_root_mean_squared_error has not improved in the last 5 epochs.\n",
      "[CV 5/5] END module__n_hidden_neurons_1=15, module__n_hidden_neurons_2=20, module__n_in_neurons=28, module__n_out_neurons=1; total time=   1.1s\n",
      "  epoch    neg_root_mean_squared_error    train_loss    valid_loss     dur\n",
      "-------  -----------------------------  ------------  ------------  ------\n",
      "      1                       \u001b[36m-64.0903\u001b[0m     \u001b[32m8522.3792\u001b[0m     \u001b[35m4107.5615\u001b[0m  0.0825\n",
      "      2                       \u001b[36m-63.8139\u001b[0m     \u001b[32m8467.0329\u001b[0m     \u001b[35m4072.2114\u001b[0m  0.0329\n",
      "      3                       \u001b[36m-63.4324\u001b[0m     \u001b[32m8330.3347\u001b[0m     \u001b[35m4023.6738\u001b[0m  0.0814\n",
      "      4                       \u001b[36m-62.9120\u001b[0m     \u001b[32m8064.7357\u001b[0m     \u001b[35m3957.9216\u001b[0m  0.0812\n",
      "      5                       \u001b[36m-62.2172\u001b[0m     \u001b[32m7607.5727\u001b[0m     \u001b[35m3870.9741\u001b[0m  0.0316\n",
      "      6                       \u001b[36m-61.2416\u001b[0m     \u001b[32m6895.7654\u001b[0m     \u001b[35m3750.5342\u001b[0m  0.0326\n",
      "      7                       \u001b[36m-59.8571\u001b[0m     \u001b[32m5907.5753\u001b[0m     \u001b[35m3582.8738\u001b[0m  0.0806\n",
      "      8                       \u001b[36m-57.8866\u001b[0m     \u001b[32m4755.3907\u001b[0m     \u001b[35m3350.8630\u001b[0m  0.0835\n",
      "      9                       \u001b[36m-55.0628\u001b[0m     \u001b[32m3816.7400\u001b[0m     \u001b[35m3031.9158\u001b[0m  0.0332\n",
      "     10                       \u001b[36m-51.3960\u001b[0m     \u001b[32m3455.7738\u001b[0m     \u001b[35m2641.5457\u001b[0m  0.0850\n",
      "     11                       \u001b[36m-47.2207\u001b[0m     \u001b[32m3147.2398\u001b[0m     \u001b[35m2229.7981\u001b[0m  0.0802\n",
      "     12                       \u001b[36m-42.6378\u001b[0m     \u001b[32m2816.5480\u001b[0m     \u001b[35m1817.9780\u001b[0m  0.0325\n",
      "     13                       \u001b[36m-37.8860\u001b[0m     \u001b[32m2623.5205\u001b[0m     \u001b[35m1435.3524\u001b[0m  0.0798\n",
      "     14                       \u001b[36m-33.4111\u001b[0m     \u001b[32m2468.0287\u001b[0m     \u001b[35m1116.3048\u001b[0m  0.1812\n",
      "     15                       \u001b[36m-30.0596\u001b[0m     \u001b[32m2245.5383\u001b[0m      \u001b[35m903.5790\u001b[0m  0.0351\n",
      "     16                       \u001b[36m-29.1065\u001b[0m     \u001b[32m1967.7594\u001b[0m      \u001b[35m847.1863\u001b[0m  0.0758\n",
      "     17                       -31.1160     \u001b[32m1713.5967\u001b[0m      968.2062  0.0824\n",
      "     18                       -34.9067     \u001b[32m1542.0097\u001b[0m     1218.4803  0.0315\n",
      "     19                       -38.4788     \u001b[32m1450.6983\u001b[0m     1480.6218  0.0767\n",
      "     20                       -40.4675     \u001b[32m1406.9856\u001b[0m     1637.6187  0.0866\n"
     ]
    },
    {
     "data": {
      "text/plain": [
       "RandomizedSearchCV(cv=TimeSeriesSplit(gap=0, max_train_size=None, n_splits=5, test_size=None),\n",
       "                   estimator=<class 'skorch.regressor.NeuralNetRegressor'>[uninitialized](\n",
       "  module=Basic_Net(\n",
       "    (layer1): Linear(in_features=28, out_features=20, bias=True)\n",
       "    (layer2): Linear(in_features=20, out_features=10, bias=True)\n",
       "    (layer3): Linear(in_features=10, out_features=1, bias=True)\n",
       "  ),\n",
       "),\n",
       "                   param_distributions={'module__n_hidden_neurons_1': range(10, 30, 5),\n",
       "                                        'module__n_hidden_neurons_2': range(10, 30, 5),\n",
       "                                        'module__n_in_neurons': [28],\n",
       "                                        'module__n_out_neurons': [1]},\n",
       "                   scoring='neg_root_mean_squared_error', verbose=3)"
      ]
     },
     "execution_count": 34,
     "metadata": {},
     "output_type": "execute_result"
    }
   ],
   "source": [
    "grid = RandomizedSearchCV(skorch_regressor, params, cv=tss, scoring=\"neg_root_mean_squared_error\", verbose=3) \n",
    "grid.fit(X_train_tensor, y_train_tensor.reshape(-1,1)) "
   ]
  },
  {
   "cell_type": "code",
   "execution_count": 35,
   "metadata": {},
   "outputs": [
    {
     "data": {
      "text/plain": [
       "{'module__n_out_neurons': 1,\n",
       " 'module__n_in_neurons': 28,\n",
       " 'module__n_hidden_neurons_2': 20,\n",
       " 'module__n_hidden_neurons_1': 20}"
      ]
     },
     "execution_count": 35,
     "metadata": {},
     "output_type": "execute_result"
    }
   ],
   "source": [
    "grid.best_params_ "
   ]
  },
  {
   "cell_type": "code",
   "execution_count": 36,
   "metadata": {},
   "outputs": [
    {
     "data": {
      "text/plain": [
       "-49.2733757019043"
      ]
     },
     "execution_count": 36,
     "metadata": {},
     "output_type": "execute_result"
    }
   ],
   "source": [
    "grid.best_score_"
   ]
  },
  {
   "cell_type": "markdown",
   "metadata": {},
   "source": [
    "Нейросеть работает значительно хуже, чем линейная регрессия и catboost. Возможно, это связано с тем, что для задач временных рядов используют рекуррентные нейросети."
   ]
  },
  {
   "cell_type": "markdown",
   "metadata": {},
   "source": [
    "## Тестирование"
   ]
  },
  {
   "cell_type": "markdown",
   "metadata": {},
   "source": [
    "На кросс-валидации лучше всего себя показала модель catboost, поэтому её и будем тестировать."
   ]
  },
  {
   "cell_type": "code",
   "execution_count": 42,
   "metadata": {},
   "outputs": [],
   "source": [
    "catb = CatBoostRegressor(random_state=42,  \n",
    "                         iterations=100,\n",
    "                         early_stopping_rounds=10,\n",
    "                         learning_rate=0.1,\n",
    "                         depth=8,\n",
    "                         min_data_in_leaf=1)"
   ]
  },
  {
   "cell_type": "code",
   "execution_count": 43,
   "metadata": {
    "scrolled": true
   },
   "outputs": [
    {
     "name": "stdout",
     "output_type": "stream",
     "text": [
      "0:\tlearn: 36.9051167\ttotal: 28.8ms\tremaining: 2.85s\n",
      "3:\tlearn: 32.6891135\ttotal: 76.8ms\tremaining: 1.84s\n",
      "6:\tlearn: 29.8065571\ttotal: 124ms\tremaining: 1.64s\n",
      "9:\tlearn: 27.7296584\ttotal: 173ms\tremaining: 1.55s\n",
      "12:\tlearn: 26.2032926\ttotal: 222ms\tremaining: 1.49s\n",
      "15:\tlearn: 25.0438543\ttotal: 273ms\tremaining: 1.43s\n",
      "18:\tlearn: 24.2192070\ttotal: 320ms\tremaining: 1.36s\n",
      "21:\tlearn: 23.4924888\ttotal: 368ms\tremaining: 1.3s\n",
      "24:\tlearn: 22.8789816\ttotal: 413ms\tremaining: 1.24s\n",
      "27:\tlearn: 22.4582083\ttotal: 459ms\tremaining: 1.18s\n",
      "30:\tlearn: 22.1292464\ttotal: 507ms\tremaining: 1.13s\n",
      "33:\tlearn: 21.8187675\ttotal: 562ms\tremaining: 1.09s\n",
      "36:\tlearn: 21.5444012\ttotal: 609ms\tremaining: 1.04s\n",
      "39:\tlearn: 21.3509513\ttotal: 656ms\tremaining: 984ms\n",
      "42:\tlearn: 21.1002415\ttotal: 704ms\tremaining: 934ms\n",
      "45:\tlearn: 20.9567196\ttotal: 754ms\tremaining: 885ms\n",
      "48:\tlearn: 20.7847778\ttotal: 804ms\tremaining: 837ms\n",
      "51:\tlearn: 20.4858901\ttotal: 851ms\tremaining: 785ms\n",
      "54:\tlearn: 20.3130706\ttotal: 898ms\tremaining: 734ms\n",
      "57:\tlearn: 20.1169856\ttotal: 947ms\tremaining: 686ms\n",
      "60:\tlearn: 19.8988698\ttotal: 1s\tremaining: 642ms\n",
      "63:\tlearn: 19.7170614\ttotal: 1.06s\tremaining: 597ms\n",
      "66:\tlearn: 19.4938853\ttotal: 1.12s\tremaining: 553ms\n",
      "69:\tlearn: 19.3226873\ttotal: 1.18s\tremaining: 506ms\n",
      "72:\tlearn: 19.2505399\ttotal: 1.25s\tremaining: 461ms\n",
      "75:\tlearn: 19.1462393\ttotal: 1.29s\tremaining: 407ms\n",
      "78:\tlearn: 18.9522358\ttotal: 1.34s\tremaining: 356ms\n",
      "81:\tlearn: 18.7593779\ttotal: 1.4s\tremaining: 306ms\n",
      "84:\tlearn: 18.6683301\ttotal: 1.45s\tremaining: 256ms\n",
      "87:\tlearn: 18.5518659\ttotal: 1.5s\tremaining: 204ms\n",
      "90:\tlearn: 18.3893419\ttotal: 1.54s\tremaining: 153ms\n",
      "93:\tlearn: 18.2428041\ttotal: 1.59s\tremaining: 102ms\n",
      "96:\tlearn: 18.0211485\ttotal: 1.64s\tremaining: 50.7ms\n",
      "99:\tlearn: 17.7972979\ttotal: 1.69s\tremaining: 0us\n"
     ]
    },
    {
     "data": {
      "text/plain": [
       "<catboost.core.CatBoostRegressor at 0x7f0a280d2fa0>"
      ]
     },
     "execution_count": 43,
     "metadata": {},
     "output_type": "execute_result"
    }
   ],
   "source": [
    "catb.fit(train_features, train_target, verbose=3)"
   ]
  },
  {
   "cell_type": "code",
   "execution_count": 44,
   "metadata": {},
   "outputs": [],
   "source": [
    "preds = catb.predict(test_features)"
   ]
  },
  {
   "cell_type": "code",
   "execution_count": 45,
   "metadata": {},
   "outputs": [
    {
     "data": {
      "text/plain": [
       "43.41670645760493"
      ]
     },
     "execution_count": 45,
     "metadata": {},
     "output_type": "execute_result"
    }
   ],
   "source": [
    "np.sqrt(mean_squared_error(test_target, preds))"
   ]
  },
  {
   "cell_type": "code",
   "execution_count": 46,
   "metadata": {},
   "outputs": [
    {
     "data": {
      "image/png": "[encoded data removed]",
      "text/plain": [
       "<Figure size 1080x360 with 1 Axes>"
      ]
     },
     "metadata": {
      "needs_background": "light"
     },
     "output_type": "display_data"
    }
   ],
   "source": [
    "# визаулизируем результаты предсказаний в сравнении с действительными значениями\n",
    "plt.figure(figsize=(15,5))\n",
    "\n",
    "plt.plot(test_target.values, label=\"Actual values\")\n",
    "\n",
    "plt.plot(preds, \"r\", label=\"Predictions\")\n",
    "\n",
    "plt.legend(loc=\"upper left\")\n",
    "plt.grid(True)\n",
    "plt.show()"
   ]
  },
  {
   "cell_type": "markdown",
   "metadata": {},
   "source": [
    "## Общий вывод"
   ]
  },
  {
   "cell_type": "markdown",
   "metadata": {},
   "source": [
    "В целом, модель CatBoost неплохо прогнозирует количество заказов такси, но не справляется с выбросными значениями."
   ]
  }
 ],
 "metadata": {
  "ExecuteTimeLog": [
   {
    "duration": 446,
    "start_time": "2023-04-12T08:47:31.589Z"
   },
   {
    "duration": 135,
    "start_time": "2023-04-12T08:47:56.402Z"
   },
   {
    "duration": 13,
    "start_time": "2023-04-12T08:48:14.784Z"
   },
   {
    "duration": 91,
    "start_time": "2023-04-12T08:49:29.315Z"
   },
   {
    "duration": 46,
    "start_time": "2023-04-12T08:50:24.717Z"
   },
   {
    "duration": 7,
    "start_time": "2023-04-12T08:50:25.437Z"
   },
   {
    "duration": 5,
    "start_time": "2023-04-12T08:50:38.682Z"
   },
   {
    "duration": 13,
    "start_time": "2023-04-12T08:51:10.477Z"
   },
   {
    "duration": 3,
    "start_time": "2023-04-12T08:54:31.756Z"
   },
   {
    "duration": 3,
    "start_time": "2023-04-12T08:54:58.559Z"
   },
   {
    "duration": 11,
    "start_time": "2023-04-12T08:55:14.292Z"
   },
   {
    "duration": 1219,
    "start_time": "2023-04-12T08:55:59.472Z"
   },
   {
    "duration": 267,
    "start_time": "2023-04-12T08:57:21.579Z"
   },
   {
    "duration": 278,
    "start_time": "2023-04-12T08:59:37.207Z"
   },
   {
    "duration": 257,
    "start_time": "2023-04-12T08:59:46.823Z"
   },
   {
    "duration": 36,
    "start_time": "2023-04-12T09:02:22.512Z"
   },
   {
    "duration": 19,
    "start_time": "2023-04-12T09:02:36.807Z"
   },
   {
    "duration": 10,
    "start_time": "2023-04-12T09:03:07.851Z"
   },
   {
    "duration": 267,
    "start_time": "2023-04-12T09:03:13.690Z"
   },
   {
    "duration": 11,
    "start_time": "2023-04-12T09:03:47.785Z"
   },
   {
    "duration": 508,
    "start_time": "2023-04-12T09:06:47.856Z"
   },
   {
    "duration": 9,
    "start_time": "2023-04-12T09:07:47.806Z"
   },
   {
    "duration": 769,
    "start_time": "2023-04-12T09:08:07.895Z"
   },
   {
    "duration": 196,
    "start_time": "2023-04-12T09:11:26.271Z"
   },
   {
    "duration": 177,
    "start_time": "2023-04-12T09:12:01.788Z"
   },
   {
    "duration": 221,
    "start_time": "2023-04-12T09:12:41.184Z"
   },
   {
    "duration": 259,
    "start_time": "2023-04-12T09:12:50.096Z"
   },
   {
    "duration": 2713,
    "start_time": "2023-04-12T09:17:57.868Z"
   },
   {
    "duration": 453,
    "start_time": "2023-04-12T09:18:38.085Z"
   },
   {
    "duration": 9,
    "start_time": "2023-04-12T09:21:14.768Z"
   },
   {
    "duration": 486,
    "start_time": "2023-04-12T09:22:05.216Z"
   },
   {
    "duration": 1605,
    "start_time": "2023-04-12T09:31:54.655Z"
   },
   {
    "duration": 187,
    "start_time": "2023-04-12T09:31:57.015Z"
   },
   {
    "duration": 32,
    "start_time": "2023-04-12T09:31:58.460Z"
   },
   {
    "duration": 7,
    "start_time": "2023-04-12T09:32:10.276Z"
   },
   {
    "duration": 6,
    "start_time": "2023-04-12T09:32:11.851Z"
   },
   {
    "duration": 24,
    "start_time": "2023-04-12T09:32:12.950Z"
   },
   {
    "duration": 26,
    "start_time": "2023-04-12T09:32:21.619Z"
   },
   {
    "duration": 324,
    "start_time": "2023-04-12T09:32:22.562Z"
   },
   {
    "duration": 13,
    "start_time": "2023-04-12T09:32:26.493Z"
   },
   {
    "duration": 9,
    "start_time": "2023-04-12T09:32:44.190Z"
   },
   {
    "duration": 925,
    "start_time": "2023-04-12T09:32:45.011Z"
   },
   {
    "duration": 227,
    "start_time": "2023-04-12T09:32:50.338Z"
   },
   {
    "duration": 438,
    "start_time": "2023-04-12T09:35:37.196Z"
   },
   {
    "duration": 661,
    "start_time": "2023-04-12T09:35:43.803Z"
   },
   {
    "duration": 408,
    "start_time": "2023-04-12T09:36:26.493Z"
   },
   {
    "duration": 26,
    "start_time": "2023-04-12T09:36:51.344Z"
   },
   {
    "duration": 21,
    "start_time": "2023-04-12T09:50:56.117Z"
   },
   {
    "duration": 143,
    "start_time": "2023-04-12T09:51:23.149Z"
   },
   {
    "duration": 427,
    "start_time": "2023-04-12T09:51:27.313Z"
   },
   {
    "duration": 8,
    "start_time": "2023-04-12T09:51:35.966Z"
   },
   {
    "duration": 491,
    "start_time": "2023-04-12T09:52:08.666Z"
   },
   {
    "duration": 12,
    "start_time": "2023-04-12T09:52:18.292Z"
   },
   {
    "duration": 1607,
    "start_time": "2023-04-12T09:52:29.347Z"
   },
   {
    "duration": 94,
    "start_time": "2023-04-12T09:52:30.956Z"
   },
   {
    "duration": 21,
    "start_time": "2023-04-12T09:52:31.062Z"
   },
   {
    "duration": 44,
    "start_time": "2023-04-12T09:52:31.087Z"
   },
   {
    "duration": 30,
    "start_time": "2023-04-12T09:52:31.134Z"
   },
   {
    "duration": 42,
    "start_time": "2023-04-12T09:52:31.170Z"
   },
   {
    "duration": 40,
    "start_time": "2023-04-12T09:52:31.214Z"
   },
   {
    "duration": 373,
    "start_time": "2023-04-12T09:52:31.258Z"
   },
   {
    "duration": 19,
    "start_time": "2023-04-12T09:52:31.639Z"
   },
   {
    "duration": 745,
    "start_time": "2023-04-12T09:52:31.660Z"
   },
   {
    "duration": 184,
    "start_time": "2023-04-12T09:52:32.407Z"
   },
   {
    "duration": 361,
    "start_time": "2023-04-12T09:52:32.593Z"
   },
   {
    "duration": 332,
    "start_time": "2023-04-12T09:52:32.956Z"
   },
   {
    "duration": 10,
    "start_time": "2023-04-12T09:52:33.291Z"
   },
   {
    "duration": 27,
    "start_time": "2023-04-12T09:52:33.303Z"
   },
   {
    "duration": 1524,
    "start_time": "2023-04-12T10:03:21.485Z"
   },
   {
    "duration": 1560,
    "start_time": "2023-04-12T10:04:20.638Z"
   },
   {
    "duration": 79,
    "start_time": "2023-04-12T10:04:22.200Z"
   },
   {
    "duration": 10,
    "start_time": "2023-04-12T10:04:22.281Z"
   },
   {
    "duration": 4,
    "start_time": "2023-04-12T10:04:22.292Z"
   },
   {
    "duration": 3,
    "start_time": "2023-04-12T10:04:22.298Z"
   },
   {
    "duration": 12,
    "start_time": "2023-04-12T10:04:22.302Z"
   },
   {
    "duration": 34,
    "start_time": "2023-04-12T10:04:22.315Z"
   },
   {
    "duration": 290,
    "start_time": "2023-04-12T10:04:22.351Z"
   },
   {
    "duration": 15,
    "start_time": "2023-04-12T10:04:22.643Z"
   },
   {
    "duration": 730,
    "start_time": "2023-04-12T10:04:22.664Z"
   },
   {
    "duration": 183,
    "start_time": "2023-04-12T10:04:23.395Z"
   },
   {
    "duration": 3,
    "start_time": "2023-04-12T10:04:23.580Z"
   },
   {
    "duration": 16,
    "start_time": "2023-04-12T10:04:23.585Z"
   },
   {
    "duration": 1293,
    "start_time": "2023-04-12T10:04:23.609Z"
   },
   {
    "duration": 0,
    "start_time": "2023-04-12T10:04:24.903Z"
   },
   {
    "duration": 24,
    "start_time": "2023-04-12T10:04:46.647Z"
   },
   {
    "duration": 11,
    "start_time": "2023-04-12T10:06:06.559Z"
   },
   {
    "duration": 114,
    "start_time": "2023-04-12T10:10:32.963Z"
   },
   {
    "duration": 33,
    "start_time": "2023-04-12T10:12:08.344Z"
   },
   {
    "duration": 83,
    "start_time": "2023-04-12T10:12:17.443Z"
   },
   {
    "duration": 3,
    "start_time": "2023-04-12T10:12:32.488Z"
   },
   {
    "duration": 4586,
    "start_time": "2023-04-12T10:13:30.472Z"
   },
   {
    "duration": 4898,
    "start_time": "2023-04-12T10:13:45.468Z"
   },
   {
    "duration": 1592,
    "start_time": "2023-04-12T10:14:25.662Z"
   },
   {
    "duration": 63,
    "start_time": "2023-04-12T10:14:27.264Z"
   },
   {
    "duration": 12,
    "start_time": "2023-04-12T10:14:27.329Z"
   },
   {
    "duration": 15,
    "start_time": "2023-04-12T10:14:27.343Z"
   },
   {
    "duration": 15,
    "start_time": "2023-04-12T10:14:27.368Z"
   },
   {
    "duration": 24,
    "start_time": "2023-04-12T10:14:27.385Z"
   },
   {
    "duration": 20,
    "start_time": "2023-04-12T10:14:27.410Z"
   },
   {
    "duration": 262,
    "start_time": "2023-04-12T10:14:27.432Z"
   },
   {
    "duration": 8,
    "start_time": "2023-04-12T10:14:27.696Z"
   },
   {
    "duration": 720,
    "start_time": "2023-04-12T10:14:27.705Z"
   },
   {
    "duration": 171,
    "start_time": "2023-04-12T10:14:28.426Z"
   },
   {
    "duration": 2,
    "start_time": "2023-04-12T10:14:28.599Z"
   },
   {
    "duration": 5,
    "start_time": "2023-04-12T10:14:28.603Z"
   },
   {
    "duration": 52,
    "start_time": "2023-04-12T10:14:28.610Z"
   },
   {
    "duration": 10,
    "start_time": "2023-04-12T10:14:28.671Z"
   },
   {
    "duration": 4677,
    "start_time": "2023-04-12T10:14:28.682Z"
   },
   {
    "duration": 31,
    "start_time": "2023-04-12T10:16:10.642Z"
   },
   {
    "duration": 6,
    "start_time": "2023-04-12T10:19:49.472Z"
   },
   {
    "duration": 33,
    "start_time": "2023-04-12T10:19:53.836Z"
   },
   {
    "duration": 1578,
    "start_time": "2023-04-12T10:20:09.576Z"
   },
   {
    "duration": 58,
    "start_time": "2023-04-12T10:20:11.156Z"
   },
   {
    "duration": 44,
    "start_time": "2023-04-12T10:20:11.216Z"
   },
   {
    "duration": 13,
    "start_time": "2023-04-12T10:20:11.265Z"
   },
   {
    "duration": 13,
    "start_time": "2023-04-12T10:20:11.283Z"
   },
   {
    "duration": 10,
    "start_time": "2023-04-12T10:20:11.297Z"
   },
   {
    "duration": 18,
    "start_time": "2023-04-12T10:20:11.308Z"
   },
   {
    "duration": 274,
    "start_time": "2023-04-12T10:20:11.328Z"
   },
   {
    "duration": 33,
    "start_time": "2023-04-12T10:20:11.604Z"
   },
   {
    "duration": 768,
    "start_time": "2023-04-12T10:20:11.655Z"
   },
   {
    "duration": 161,
    "start_time": "2023-04-12T10:20:12.424Z"
   },
   {
    "duration": 2,
    "start_time": "2023-04-12T10:20:12.587Z"
   },
   {
    "duration": 4,
    "start_time": "2023-04-12T10:20:12.591Z"
   },
   {
    "duration": 45,
    "start_time": "2023-04-12T10:20:12.597Z"
   },
   {
    "duration": 13,
    "start_time": "2023-04-12T10:20:52.054Z"
   },
   {
    "duration": 4372,
    "start_time": "2023-04-12T10:20:54.315Z"
   },
   {
    "duration": 12368,
    "start_time": "2023-04-12T10:21:20.170Z"
   },
   {
    "duration": 53,
    "start_time": "2023-04-19T06:11:54.090Z"
   },
   {
    "duration": 1516,
    "start_time": "2023-04-19T06:21:02.688Z"
   },
   {
    "duration": 122,
    "start_time": "2023-04-19T06:21:04.207Z"
   },
   {
    "duration": 11,
    "start_time": "2023-04-19T06:21:04.330Z"
   },
   {
    "duration": 87,
    "start_time": "2023-04-19T06:21:04.342Z"
   },
   {
    "duration": 8,
    "start_time": "2023-04-19T06:21:04.431Z"
   },
   {
    "duration": 17,
    "start_time": "2023-04-19T06:21:04.440Z"
   },
   {
    "duration": 7,
    "start_time": "2023-04-19T06:21:04.458Z"
   },
   {
    "duration": 216,
    "start_time": "2023-04-19T06:21:04.467Z"
   },
   {
    "duration": 8,
    "start_time": "2023-04-19T06:21:04.684Z"
   },
   {
    "duration": 728,
    "start_time": "2023-04-19T06:21:04.693Z"
   },
   {
    "duration": 127,
    "start_time": "2023-04-19T06:21:05.422Z"
   },
   {
    "duration": 287,
    "start_time": "2023-04-19T06:21:05.551Z"
   },
   {
    "duration": 12,
    "start_time": "2023-04-19T06:21:05.840Z"
   },
   {
    "duration": 27,
    "start_time": "2023-04-19T06:21:05.854Z"
   },
   {
    "duration": 10009,
    "start_time": "2023-04-19T06:21:05.885Z"
   },
   {
    "duration": 21,
    "start_time": "2023-04-19T06:22:02.912Z"
   },
   {
    "duration": 3,
    "start_time": "2023-04-19T06:23:57.420Z"
   },
   {
    "duration": 79,
    "start_time": "2023-04-19T06:23:57.424Z"
   },
   {
    "duration": 7,
    "start_time": "2023-04-19T06:23:57.505Z"
   },
   {
    "duration": 11,
    "start_time": "2023-04-19T06:23:57.513Z"
   },
   {
    "duration": 18,
    "start_time": "2023-04-19T06:23:57.525Z"
   },
   {
    "duration": 25,
    "start_time": "2023-04-19T06:23:57.544Z"
   },
   {
    "duration": 6,
    "start_time": "2023-04-19T06:23:57.570Z"
   },
   {
    "duration": 210,
    "start_time": "2023-04-19T06:23:57.578Z"
   },
   {
    "duration": 7,
    "start_time": "2023-04-19T06:23:57.789Z"
   },
   {
    "duration": 714,
    "start_time": "2023-04-19T06:23:57.797Z"
   },
   {
    "duration": 136,
    "start_time": "2023-04-19T06:23:58.513Z"
   },
   {
    "duration": 279,
    "start_time": "2023-04-19T06:23:58.651Z"
   },
   {
    "duration": 4,
    "start_time": "2023-04-19T06:23:58.933Z"
   },
   {
    "duration": 50,
    "start_time": "2023-04-19T06:23:58.939Z"
   },
   {
    "duration": 9681,
    "start_time": "2023-04-19T06:23:58.991Z"
   },
   {
    "duration": 117,
    "start_time": "2023-04-19T06:24:08.674Z"
   },
   {
    "duration": 20,
    "start_time": "2023-04-19T06:24:35.384Z"
   },
   {
    "duration": 22,
    "start_time": "2023-04-19T06:28:40.270Z"
   },
   {
    "duration": 1387,
    "start_time": "2023-04-19T06:34:13.357Z"
   },
   {
    "duration": 59,
    "start_time": "2023-04-19T06:34:14.746Z"
   },
   {
    "duration": 11,
    "start_time": "2023-04-19T06:34:14.806Z"
   },
   {
    "duration": 2,
    "start_time": "2023-04-19T06:34:14.819Z"
   },
   {
    "duration": 7,
    "start_time": "2023-04-19T06:34:14.823Z"
   },
   {
    "duration": 13,
    "start_time": "2023-04-19T06:34:14.831Z"
   },
   {
    "duration": 35,
    "start_time": "2023-04-19T06:34:14.846Z"
   },
   {
    "duration": 261,
    "start_time": "2023-04-19T06:34:14.883Z"
   },
   {
    "duration": 7,
    "start_time": "2023-04-19T06:34:15.146Z"
   },
   {
    "duration": 696,
    "start_time": "2023-04-19T06:34:15.155Z"
   },
   {
    "duration": 187,
    "start_time": "2023-04-19T06:34:15.852Z"
   },
   {
    "duration": 397,
    "start_time": "2023-04-19T06:34:16.041Z"
   },
   {
    "duration": 4,
    "start_time": "2023-04-19T06:34:16.439Z"
   },
   {
    "duration": 8,
    "start_time": "2023-04-19T06:34:16.446Z"
   },
   {
    "duration": 9520,
    "start_time": "2023-04-19T06:34:16.456Z"
   },
   {
    "duration": 34,
    "start_time": "2023-04-19T06:34:33.359Z"
   },
   {
    "duration": 44,
    "start_time": "2023-04-19T06:34:52.968Z"
   },
   {
    "duration": 7,
    "start_time": "2023-04-19T06:40:14.990Z"
   },
   {
    "duration": 51,
    "start_time": "2023-04-19T06:40:14.999Z"
   },
   {
    "duration": 7,
    "start_time": "2023-04-19T06:40:15.051Z"
   },
   {
    "duration": 52,
    "start_time": "2023-04-19T06:40:15.060Z"
   },
   {
    "duration": 4,
    "start_time": "2023-04-19T06:40:15.115Z"
   },
   {
    "duration": 13,
    "start_time": "2023-04-19T06:40:15.120Z"
   },
   {
    "duration": 7,
    "start_time": "2023-04-19T06:40:15.135Z"
   },
   {
    "duration": 214,
    "start_time": "2023-04-19T06:40:15.144Z"
   },
   {
    "duration": 18,
    "start_time": "2023-04-19T06:40:15.359Z"
   },
   {
    "duration": 713,
    "start_time": "2023-04-19T06:40:15.378Z"
   },
   {
    "duration": 160,
    "start_time": "2023-04-19T06:40:16.102Z"
   },
   {
    "duration": 424,
    "start_time": "2023-04-19T06:40:16.264Z"
   },
   {
    "duration": 6,
    "start_time": "2023-04-19T06:40:16.693Z"
   },
   {
    "duration": 24,
    "start_time": "2023-04-19T06:40:16.708Z"
   },
   {
    "duration": 69,
    "start_time": "2023-04-19T06:40:16.733Z"
   },
   {
    "duration": 58,
    "start_time": "2023-04-19T06:43:09.358Z"
   },
   {
    "duration": 1373,
    "start_time": "2023-04-19T06:43:25.912Z"
   },
   {
    "duration": 46,
    "start_time": "2023-04-19T06:43:27.295Z"
   },
   {
    "duration": 10,
    "start_time": "2023-04-19T06:43:27.342Z"
   },
   {
    "duration": 3,
    "start_time": "2023-04-19T06:43:27.353Z"
   },
   {
    "duration": 6,
    "start_time": "2023-04-19T06:43:27.358Z"
   },
   {
    "duration": 20,
    "start_time": "2023-04-19T06:43:27.365Z"
   },
   {
    "duration": 22,
    "start_time": "2023-04-19T06:43:27.386Z"
   },
   {
    "duration": 206,
    "start_time": "2023-04-19T06:43:27.410Z"
   },
   {
    "duration": 6,
    "start_time": "2023-04-19T06:43:27.618Z"
   },
   {
    "duration": 638,
    "start_time": "2023-04-19T06:43:27.626Z"
   },
   {
    "duration": 195,
    "start_time": "2023-04-19T06:43:28.266Z"
   },
   {
    "duration": 323,
    "start_time": "2023-04-19T06:43:28.462Z"
   },
   {
    "duration": 7,
    "start_time": "2023-04-19T06:43:28.797Z"
   },
   {
    "duration": 19,
    "start_time": "2023-04-19T06:43:28.807Z"
   },
   {
    "duration": 54,
    "start_time": "2023-04-19T06:43:28.828Z"
   },
   {
    "duration": 123,
    "start_time": "2023-04-19T06:43:28.884Z"
   },
   {
    "duration": 21,
    "start_time": "2023-04-19T06:43:29.008Z"
   },
   {
    "duration": 624232,
    "start_time": "2023-04-19T06:43:29.031Z"
   },
   {
    "duration": 28,
    "start_time": "2023-04-19T06:53:53.264Z"
   },
   {
    "duration": 0,
    "start_time": "2023-04-19T06:53:53.296Z"
   },
   {
    "duration": 0,
    "start_time": "2023-04-19T06:53:53.302Z"
   },
   {
    "duration": 1057964,
    "start_time": "2023-04-19T06:53:59.596Z"
   },
   {
    "duration": 4,
    "start_time": "2023-04-19T07:17:39.197Z"
   },
   {
    "duration": 5,
    "start_time": "2023-04-19T07:18:05.395Z"
   },
   {
    "duration": 2,
    "start_time": "2023-04-19T07:18:20.407Z"
   },
   {
    "duration": 15489,
    "start_time": "2023-04-19T07:18:21.138Z"
   },
   {
    "duration": 4,
    "start_time": "2023-04-19T07:18:41.718Z"
   },
   {
    "duration": 5,
    "start_time": "2023-04-19T07:18:45.614Z"
   },
   {
    "duration": 12576,
    "start_time": "2023-04-19T07:18:58.756Z"
   },
   {
    "duration": 5,
    "start_time": "2023-04-19T07:19:11.334Z"
   },
   {
    "duration": 4,
    "start_time": "2023-04-19T07:19:16.310Z"
   },
   {
    "duration": 12347,
    "start_time": "2023-04-19T07:19:34.699Z"
   },
   {
    "duration": 5,
    "start_time": "2023-04-19T07:19:49.125Z"
   },
   {
    "duration": 4,
    "start_time": "2023-04-19T07:19:52.100Z"
   },
   {
    "duration": 3,
    "start_time": "2023-04-19T07:20:08.034Z"
   },
   {
    "duration": 9659,
    "start_time": "2023-04-19T07:20:08.798Z"
   },
   {
    "duration": 12,
    "start_time": "2023-04-19T07:20:24.069Z"
   },
   {
    "duration": 4,
    "start_time": "2023-04-19T07:23:57.835Z"
   },
   {
    "duration": 24,
    "start_time": "2023-04-19T07:24:03.871Z"
   },
   {
    "duration": 485,
    "start_time": "2023-04-19T07:24:32.671Z"
   },
   {
    "duration": 3,
    "start_time": "2023-04-19T07:24:38.523Z"
   },
   {
    "duration": 53,
    "start_time": "2023-04-19T07:27:25.456Z"
   },
   {
    "duration": 6,
    "start_time": "2023-04-19T07:27:49.605Z"
   },
   {
    "duration": 15,
    "start_time": "2023-04-19T07:27:57.699Z"
   },
   {
    "duration": 4,
    "start_time": "2023-04-19T07:28:13.754Z"
   },
   {
    "duration": 13,
    "start_time": "2023-04-19T07:28:18.953Z"
   },
   {
    "duration": 19,
    "start_time": "2023-04-19T07:29:39.594Z"
   },
   {
    "duration": 17,
    "start_time": "2023-04-19T07:32:17.691Z"
   },
   {
    "duration": 13,
    "start_time": "2023-04-19T07:32:23.981Z"
   },
   {
    "duration": 7,
    "start_time": "2023-04-19T07:32:58.951Z"
   },
   {
    "duration": 16,
    "start_time": "2023-04-19T07:34:18.700Z"
   },
   {
    "duration": 3,
    "start_time": "2023-04-19T07:34:38.018Z"
   },
   {
    "duration": 6,
    "start_time": "2023-04-19T07:34:44.929Z"
   },
   {
    "duration": 4,
    "start_time": "2023-04-19T07:34:52.648Z"
   },
   {
    "duration": 3,
    "start_time": "2023-04-19T07:34:56.466Z"
   },
   {
    "duration": 3,
    "start_time": "2023-04-19T07:35:10.638Z"
   },
   {
    "duration": 5,
    "start_time": "2023-04-19T07:35:17.003Z"
   },
   {
    "duration": 15,
    "start_time": "2023-04-19T07:38:47.009Z"
   },
   {
    "duration": 29,
    "start_time": "2023-04-19T07:39:16.172Z"
   },
   {
    "duration": 4409,
    "start_time": "2023-04-19T07:39:28.301Z"
   },
   {
    "duration": 358,
    "start_time": "2023-04-19T07:39:34.895Z"
   },
   {
    "duration": 16,
    "start_time": "2023-04-19T07:39:42.701Z"
   },
   {
    "duration": 5,
    "start_time": "2023-04-19T07:39:59.709Z"
   },
   {
    "duration": 8,
    "start_time": "2023-04-19T07:40:05.597Z"
   },
   {
    "duration": 4,
    "start_time": "2023-04-19T07:40:10.947Z"
   },
   {
    "duration": 10,
    "start_time": "2023-04-19T07:40:33.034Z"
   },
   {
    "duration": 6,
    "start_time": "2023-04-19T07:40:57.264Z"
   },
   {
    "duration": 328748,
    "start_time": "2023-04-19T07:41:04.150Z"
   },
   {
    "duration": 0,
    "start_time": "2023-04-19T07:46:32.916Z"
   },
   {
    "duration": 6,
    "start_time": "2023-04-19T07:46:48.604Z"
   },
   {
    "duration": 8,
    "start_time": "2023-04-19T07:46:49.369Z"
   },
   {
    "duration": 3,
    "start_time": "2023-04-19T07:46:51.221Z"
   },
   {
    "duration": 4,
    "start_time": "2023-04-19T07:46:55.126Z"
   },
   {
    "duration": 3,
    "start_time": "2023-04-19T07:47:14.719Z"
   },
   {
    "duration": 3,
    "start_time": "2023-04-19T07:47:22.519Z"
   },
   {
    "duration": 106873,
    "start_time": "2023-04-19T07:47:42.250Z"
   },
   {
    "duration": 4,
    "start_time": "2023-04-19T07:52:49.765Z"
   },
   {
    "duration": 3,
    "start_time": "2023-04-19T07:53:42.622Z"
   },
   {
    "duration": 3,
    "start_time": "2023-04-19T07:53:58.749Z"
   },
   {
    "duration": 6,
    "start_time": "2023-04-19T07:54:49.582Z"
   },
   {
    "duration": 94,
    "start_time": "2023-04-19T07:55:42.299Z"
   },
   {
    "duration": 36322,
    "start_time": "2023-04-19T07:56:48.672Z"
   },
   {
    "duration": 11,
    "start_time": "2023-04-19T08:00:01.990Z"
   },
   {
    "duration": 3,
    "start_time": "2023-04-19T08:00:47.248Z"
   },
   {
    "duration": 2008,
    "start_time": "2023-04-19T08:01:12.596Z"
   },
   {
    "duration": 6,
    "start_time": "2023-04-19T08:01:38.494Z"
   },
   {
    "duration": 10,
    "start_time": "2023-04-19T08:02:09.767Z"
   },
   {
    "duration": 2,
    "start_time": "2023-04-19T08:03:39.025Z"
   },
   {
    "duration": 4,
    "start_time": "2023-04-19T08:03:51.250Z"
   },
   {
    "duration": 2919,
    "start_time": "2023-04-20T10:55:34.101Z"
   },
   {
    "duration": 4570,
    "start_time": "2023-04-20T10:55:42.511Z"
   },
   {
    "duration": 246,
    "start_time": "2023-04-20T10:55:47.085Z"
   },
   {
    "duration": 2940,
    "start_time": "2023-04-20T10:56:01.682Z"
   },
   {
    "duration": 8,
    "start_time": "2023-04-20T10:56:04.625Z"
   },
   {
    "duration": 684,
    "start_time": "2023-04-20T10:56:04.636Z"
   },
   {
    "duration": 19,
    "start_time": "2023-04-20T10:56:05.323Z"
   },
   {
    "duration": 62,
    "start_time": "2023-04-20T10:56:05.344Z"
   },
   {
    "duration": 9,
    "start_time": "2023-04-20T10:56:05.408Z"
   },
   {
    "duration": 19,
    "start_time": "2023-04-20T10:56:05.419Z"
   },
   {
    "duration": 31,
    "start_time": "2023-04-20T10:56:05.439Z"
   },
   {
    "duration": 343,
    "start_time": "2023-04-20T10:56:05.472Z"
   },
   {
    "duration": 15,
    "start_time": "2023-04-20T10:56:05.819Z"
   },
   {
    "duration": 1199,
    "start_time": "2023-04-20T10:56:05.838Z"
   },
   {
    "duration": 216,
    "start_time": "2023-04-20T10:56:07.043Z"
   },
   {
    "duration": 363,
    "start_time": "2023-04-20T10:56:07.262Z"
   },
   {
    "duration": 5,
    "start_time": "2023-04-20T10:56:07.627Z"
   },
   {
    "duration": 77,
    "start_time": "2023-04-20T10:56:07.636Z"
   },
   {
    "duration": 10,
    "start_time": "2023-04-20T10:56:07.715Z"
   },
   {
    "duration": 3,
    "start_time": "2023-04-20T10:58:10.865Z"
   },
   {
    "duration": 4,
    "start_time": "2023-04-20T10:58:55.305Z"
   },
   {
    "duration": 8,
    "start_time": "2023-04-20T11:00:25.253Z"
   },
   {
    "duration": 92,
    "start_time": "2023-04-20T11:01:02.350Z"
   },
   {
    "duration": 56,
    "start_time": "2023-04-20T11:02:15.130Z"
   },
   {
    "duration": 3454,
    "start_time": "2023-04-20T13:46:19.718Z"
   },
   {
    "duration": 2333,
    "start_time": "2023-04-20T13:46:23.176Z"
   },
   {
    "duration": 145,
    "start_time": "2023-04-20T13:46:25.511Z"
   },
   {
    "duration": 14,
    "start_time": "2023-04-20T13:46:25.657Z"
   },
   {
    "duration": 4,
    "start_time": "2023-04-20T13:46:25.673Z"
   },
   {
    "duration": 11,
    "start_time": "2023-04-20T13:46:25.678Z"
   },
   {
    "duration": 12,
    "start_time": "2023-04-20T13:46:25.691Z"
   },
   {
    "duration": 9,
    "start_time": "2023-04-20T13:46:25.705Z"
   },
   {
    "duration": 278,
    "start_time": "2023-04-20T13:46:25.716Z"
   },
   {
    "duration": 9,
    "start_time": "2023-04-20T13:46:25.996Z"
   },
   {
    "duration": 810,
    "start_time": "2023-04-20T13:46:26.008Z"
   },
   {
    "duration": 172,
    "start_time": "2023-04-20T13:46:26.820Z"
   },
   {
    "duration": 430,
    "start_time": "2023-04-20T13:46:26.994Z"
   },
   {
    "duration": 5,
    "start_time": "2023-04-20T13:46:27.427Z"
   },
   {
    "duration": 22,
    "start_time": "2023-04-20T13:46:27.434Z"
   },
   {
    "duration": 31,
    "start_time": "2023-04-20T13:46:27.458Z"
   },
   {
    "duration": 11,
    "start_time": "2023-04-20T13:46:27.492Z"
   },
   {
    "duration": 185,
    "start_time": "2023-04-20T13:46:27.506Z"
   },
   {
    "duration": 7,
    "start_time": "2023-04-20T13:57:00.447Z"
   },
   {
    "duration": 932,
    "start_time": "2023-04-20T13:58:29.377Z"
   },
   {
    "duration": 2123,
    "start_time": "2023-04-20T14:03:54.975Z"
   },
   {
    "duration": 2098,
    "start_time": "2023-04-20T14:03:57.101Z"
   },
   {
    "duration": 54,
    "start_time": "2023-04-20T14:03:59.201Z"
   },
   {
    "duration": 13,
    "start_time": "2023-04-20T14:03:59.257Z"
   },
   {
    "duration": 3,
    "start_time": "2023-04-20T14:03:59.273Z"
   },
   {
    "duration": 9,
    "start_time": "2023-04-20T14:03:59.277Z"
   },
   {
    "duration": 13,
    "start_time": "2023-04-20T14:03:59.288Z"
   },
   {
    "duration": 10,
    "start_time": "2023-04-20T14:03:59.303Z"
   },
   {
    "duration": 269,
    "start_time": "2023-04-20T14:03:59.315Z"
   },
   {
    "duration": 8,
    "start_time": "2023-04-20T14:03:59.589Z"
   },
   {
    "duration": 749,
    "start_time": "2023-04-20T14:03:59.599Z"
   },
   {
    "duration": 172,
    "start_time": "2023-04-20T14:04:00.350Z"
   },
   {
    "duration": 458,
    "start_time": "2023-04-20T14:04:00.524Z"
   },
   {
    "duration": 5,
    "start_time": "2023-04-20T14:04:00.988Z"
   },
   {
    "duration": 604,
    "start_time": "2023-04-20T14:04:00.995Z"
   },
   {
    "duration": 4,
    "start_time": "2023-04-20T14:05:29.121Z"
   },
   {
    "duration": 473,
    "start_time": "2023-04-20T14:05:30.125Z"
   },
   {
    "duration": 5,
    "start_time": "2023-04-20T14:06:17.400Z"
   },
   {
    "duration": 466,
    "start_time": "2023-04-20T14:06:18.178Z"
   },
   {
    "duration": 475,
    "start_time": "2023-04-20T14:07:37.550Z"
   },
   {
    "duration": 432,
    "start_time": "2023-04-20T14:08:43.423Z"
   },
   {
    "duration": 447,
    "start_time": "2023-04-20T14:10:44.969Z"
   },
   {
    "duration": 516,
    "start_time": "2023-04-20T14:11:10.193Z"
   },
   {
    "duration": 10,
    "start_time": "2023-04-20T14:32:07.456Z"
   },
   {
    "duration": 4,
    "start_time": "2023-04-20T14:34:49.080Z"
   },
   {
    "duration": 8,
    "start_time": "2023-04-20T14:36:28.118Z"
   },
   {
    "duration": 47,
    "start_time": "2023-04-20T14:38:49.998Z"
   },
   {
    "duration": 161,
    "start_time": "2023-04-20T14:39:30.442Z"
   },
   {
    "duration": 3,
    "start_time": "2023-04-20T14:39:34.684Z"
   },
   {
    "duration": 54,
    "start_time": "2023-04-20T14:39:37.378Z"
   },
   {
    "duration": 37,
    "start_time": "2023-04-20T14:40:47.374Z"
   },
   {
    "duration": 8,
    "start_time": "2023-04-20T14:41:34.936Z"
   },
   {
    "duration": 50,
    "start_time": "2023-04-20T14:41:43.360Z"
   },
   {
    "duration": 35,
    "start_time": "2023-04-20T14:41:44.124Z"
   },
   {
    "duration": 1035,
    "start_time": "2023-04-20T14:41:52.558Z"
   },
   {
    "duration": 6,
    "start_time": "2023-04-20T14:44:21.580Z"
   },
   {
    "duration": 16,
    "start_time": "2023-04-20T14:44:38.882Z"
   },
   {
    "duration": 30,
    "start_time": "2023-04-20T14:45:04.705Z"
   },
   {
    "duration": 18,
    "start_time": "2023-04-20T14:45:10.160Z"
   },
   {
    "duration": 13,
    "start_time": "2023-04-20T14:45:50.737Z"
   },
   {
    "duration": 2183,
    "start_time": "2023-04-20T14:47:01.908Z"
   },
   {
    "duration": 2006,
    "start_time": "2023-04-20T14:47:04.093Z"
   },
   {
    "duration": 51,
    "start_time": "2023-04-20T14:47:06.101Z"
   },
   {
    "duration": 13,
    "start_time": "2023-04-20T14:47:06.154Z"
   },
   {
    "duration": 22,
    "start_time": "2023-04-20T14:47:06.169Z"
   },
   {
    "duration": 22,
    "start_time": "2023-04-20T14:47:06.193Z"
   },
   {
    "duration": 15,
    "start_time": "2023-04-20T14:47:06.217Z"
   },
   {
    "duration": 10,
    "start_time": "2023-04-20T14:47:06.235Z"
   },
   {
    "duration": 271,
    "start_time": "2023-04-20T14:47:06.247Z"
   },
   {
    "duration": 8,
    "start_time": "2023-04-20T14:47:06.521Z"
   },
   {
    "duration": 774,
    "start_time": "2023-04-20T14:47:06.531Z"
   },
   {
    "duration": 172,
    "start_time": "2023-04-20T14:47:07.307Z"
   },
   {
    "duration": 435,
    "start_time": "2023-04-20T14:47:07.481Z"
   },
   {
    "duration": 7,
    "start_time": "2023-04-20T14:47:07.918Z"
   },
   {
    "duration": 600,
    "start_time": "2023-04-20T14:47:07.928Z"
   },
   {
    "duration": 4,
    "start_time": "2023-04-20T14:47:08.530Z"
   },
   {
    "duration": 25,
    "start_time": "2023-04-20T14:47:08.535Z"
   },
   {
    "duration": 21,
    "start_time": "2023-04-20T14:47:08.561Z"
   },
   {
    "duration": 41,
    "start_time": "2023-04-20T14:47:08.584Z"
   },
   {
    "duration": 214,
    "start_time": "2023-04-20T14:47:08.627Z"
   },
   {
    "duration": 0,
    "start_time": "2023-04-20T14:47:08.842Z"
   },
   {
    "duration": 10,
    "start_time": "2023-04-20T14:48:02.732Z"
   },
   {
    "duration": 35,
    "start_time": "2023-04-20T14:48:34.085Z"
   },
   {
    "duration": 36,
    "start_time": "2023-04-20T14:48:38.199Z"
   },
   {
    "duration": 37,
    "start_time": "2023-04-20T14:48:52.835Z"
   },
   {
    "duration": 18,
    "start_time": "2023-04-20T14:49:02.954Z"
   },
   {
    "duration": 4,
    "start_time": "2023-04-20T14:49:05.754Z"
   },
   {
    "duration": 824,
    "start_time": "2023-04-20T14:49:06.977Z"
   },
   {
    "duration": 204,
    "start_time": "2023-04-20T14:49:14.611Z"
   },
   {
    "duration": 2230,
    "start_time": "2023-04-20T14:50:27.396Z"
   },
   {
    "duration": 2208,
    "start_time": "2023-04-20T14:50:29.629Z"
   },
   {
    "duration": 50,
    "start_time": "2023-04-20T14:50:31.839Z"
   },
   {
    "duration": 16,
    "start_time": "2023-04-20T14:50:31.891Z"
   },
   {
    "duration": 21,
    "start_time": "2023-04-20T14:50:31.909Z"
   },
   {
    "duration": 22,
    "start_time": "2023-04-20T14:50:31.932Z"
   },
   {
    "duration": 36,
    "start_time": "2023-04-20T14:50:31.956Z"
   },
   {
    "duration": 29,
    "start_time": "2023-04-20T14:50:31.994Z"
   },
   {
    "duration": 264,
    "start_time": "2023-04-20T14:50:32.025Z"
   },
   {
    "duration": 8,
    "start_time": "2023-04-20T14:50:32.291Z"
   },
   {
    "duration": 729,
    "start_time": "2023-04-20T14:50:32.301Z"
   },
   {
    "duration": 174,
    "start_time": "2023-04-20T14:50:33.032Z"
   },
   {
    "duration": 446,
    "start_time": "2023-04-20T14:50:33.208Z"
   },
   {
    "duration": 5,
    "start_time": "2023-04-20T14:50:33.657Z"
   },
   {
    "duration": 575,
    "start_time": "2023-04-20T14:50:33.664Z"
   },
   {
    "duration": 5,
    "start_time": "2023-04-20T14:50:34.241Z"
   },
   {
    "duration": 49,
    "start_time": "2023-04-20T14:50:34.247Z"
   },
   {
    "duration": 12,
    "start_time": "2023-04-20T14:50:34.298Z"
   },
   {
    "duration": 17,
    "start_time": "2023-04-20T14:50:34.312Z"
   },
   {
    "duration": 467,
    "start_time": "2023-04-20T14:50:34.330Z"
   },
   {
    "duration": 3,
    "start_time": "2023-04-20T14:52:44.525Z"
   },
   {
    "duration": 23067,
    "start_time": "2023-04-20T14:52:45.622Z"
   },
   {
    "duration": 4,
    "start_time": "2023-04-20T14:54:24.166Z"
   },
   {
    "duration": 4,
    "start_time": "2023-04-20T14:54:27.375Z"
   },
   {
    "duration": 5,
    "start_time": "2023-04-20T14:55:10.860Z"
   },
   {
    "duration": 3,
    "start_time": "2023-04-20T14:55:15.973Z"
   },
   {
    "duration": 6,
    "start_time": "2023-04-20T14:55:16.956Z"
   },
   {
    "duration": 7,
    "start_time": "2023-04-20T14:55:21.660Z"
   },
   {
    "duration": 4,
    "start_time": "2023-04-20T14:55:22.849Z"
   },
   {
    "duration": 4,
    "start_time": "2023-04-20T14:55:25.819Z"
   },
   {
    "duration": 7,
    "start_time": "2023-04-20T14:55:28.736Z"
   },
   {
    "duration": 5,
    "start_time": "2023-04-20T14:55:30.612Z"
   },
   {
    "duration": 6,
    "start_time": "2023-04-20T14:57:47.400Z"
   },
   {
    "duration": 3,
    "start_time": "2023-04-20T14:57:48.728Z"
   },
   {
    "duration": 49079,
    "start_time": "2023-04-20T14:58:05.918Z"
   },
   {
    "duration": 4,
    "start_time": "2023-04-20T15:01:40.456Z"
   },
   {
    "duration": 4,
    "start_time": "2023-04-20T15:01:43.359Z"
   },
   {
    "duration": 21174,
    "start_time": "2023-04-20T15:05:48.927Z"
   },
   {
    "duration": 4,
    "start_time": "2023-04-20T15:06:23.784Z"
   },
   {
    "duration": 4,
    "start_time": "2023-04-20T15:06:25.627Z"
   },
   {
    "duration": 158445,
    "start_time": "2023-04-20T15:06:44.023Z"
   },
   {
    "duration": 5,
    "start_time": "2023-04-20T15:09:55.619Z"
   },
   {
    "duration": 4,
    "start_time": "2023-04-20T15:09:58.248Z"
   },
   {
    "duration": 89035,
    "start_time": "2023-04-20T15:10:18.998Z"
   },
   {
    "duration": 6,
    "start_time": "2023-04-20T15:16:31.651Z"
   },
   {
    "duration": 4,
    "start_time": "2023-04-20T15:16:33.798Z"
   },
   {
    "duration": 3,
    "start_time": "2023-04-20T15:17:21.071Z"
   },
   {
    "duration": 2560,
    "start_time": "2023-04-20T15:17:22.197Z"
   },
   {
    "duration": 5,
    "start_time": "2023-04-20T15:17:27.946Z"
   },
   {
    "duration": 5,
    "start_time": "2023-04-20T15:17:29.473Z"
   },
   {
    "duration": 162,
    "start_time": "2023-04-20T15:33:20.931Z"
   },
   {
    "duration": 16,
    "start_time": "2023-04-20T15:33:27.991Z"
   },
   {
    "duration": 7,
    "start_time": "2023-04-20T15:35:35.110Z"
   },
   {
    "duration": 167,
    "start_time": "2023-04-20T15:37:26.376Z"
   },
   {
    "duration": 170,
    "start_time": "2023-04-20T15:37:47.756Z"
   },
   {
    "duration": 10,
    "start_time": "2023-04-20T15:38:01.291Z"
   },
   {
    "duration": 5,
    "start_time": "2023-04-20T15:38:42.129Z"
   },
   {
    "duration": 182,
    "start_time": "2023-04-20T15:38:51.267Z"
   },
   {
    "duration": 12,
    "start_time": "2023-04-20T15:59:00.189Z"
   },
   {
    "duration": 5,
    "start_time": "2023-04-20T15:59:38.154Z"
   },
   {
    "duration": 201,
    "start_time": "2023-04-20T16:00:05.640Z"
   },
   {
    "duration": 2612,
    "start_time": "2023-04-20T16:03:28.926Z"
   },
   {
    "duration": 4,
    "start_time": "2023-04-20T16:03:37.449Z"
   },
   {
    "duration": 5,
    "start_time": "2023-04-20T16:03:38.099Z"
   },
   {
    "duration": 174,
    "start_time": "2023-04-20T16:04:11.028Z"
   },
   {
    "duration": 33,
    "start_time": "2023-04-20T16:14:09.544Z"
   },
   {
    "duration": 14,
    "start_time": "2023-04-20T16:14:24.893Z"
   },
   {
    "duration": 3,
    "start_time": "2023-04-20T16:14:26.633Z"
   },
   {
    "duration": 562,
    "start_time": "2023-04-20T16:14:29.026Z"
   },
   {
    "duration": 5,
    "start_time": "2023-04-20T16:17:06.479Z"
   },
   {
    "duration": 983,
    "start_time": "2023-04-20T16:17:17.316Z"
   },
   {
    "duration": 4,
    "start_time": "2023-04-20T16:17:24.819Z"
   },
   {
    "duration": 99016,
    "start_time": "2023-04-20T16:17:25.800Z"
   },
   {
    "duration": 4,
    "start_time": "2023-04-20T16:19:52.395Z"
   },
   {
    "duration": 4,
    "start_time": "2023-04-20T16:19:56.011Z"
   },
   {
    "duration": 5,
    "start_time": "2023-04-20T16:20:07.508Z"
   },
   {
    "duration": 3,
    "start_time": "2023-04-20T16:20:08.587Z"
   },
   {
    "duration": 6,
    "start_time": "2023-04-20T16:20:09.118Z"
   },
   {
    "duration": 5,
    "start_time": "2023-04-20T16:20:09.894Z"
   },
   {
    "duration": 3,
    "start_time": "2023-04-20T16:20:10.514Z"
   },
   {
    "duration": 4,
    "start_time": "2023-04-20T16:20:11.138Z"
   },
   {
    "duration": 6,
    "start_time": "2023-04-20T16:20:11.800Z"
   },
   {
    "duration": 5,
    "start_time": "2023-04-20T16:20:12.505Z"
   },
   {
    "duration": 4,
    "start_time": "2023-04-20T16:20:13.288Z"
   },
   {
    "duration": 52813,
    "start_time": "2023-04-20T16:20:14.782Z"
   },
   {
    "duration": 6,
    "start_time": "2023-04-20T16:21:11.651Z"
   },
   {
    "duration": 4,
    "start_time": "2023-04-20T16:21:15.099Z"
   },
   {
    "duration": 3,
    "start_time": "2023-04-20T16:21:33.487Z"
   },
   {
    "duration": 1673,
    "start_time": "2023-04-20T16:21:34.435Z"
   },
   {
    "duration": 6,
    "start_time": "2023-04-20T16:21:40.323Z"
   },
   {
    "duration": 6,
    "start_time": "2023-04-20T16:21:41.440Z"
   },
   {
    "duration": 180,
    "start_time": "2023-04-20T16:21:44.744Z"
   },
   {
    "duration": 4,
    "start_time": "2023-04-20T16:22:33.538Z"
   },
   {
    "duration": 11,
    "start_time": "2023-04-20T16:23:45.483Z"
   },
   {
    "duration": 14,
    "start_time": "2023-04-20T16:24:01.391Z"
   },
   {
    "duration": 6,
    "start_time": "2023-04-20T16:24:35.391Z"
   },
   {
    "duration": 6,
    "start_time": "2023-04-20T16:24:56.454Z"
   },
   {
    "duration": 6,
    "start_time": "2023-04-20T16:25:49.997Z"
   },
   {
    "duration": 175,
    "start_time": "2023-04-20T16:26:22.106Z"
   },
   {
    "duration": 788,
    "start_time": "2023-04-20T16:27:08.010Z"
   },
   {
    "duration": 1871,
    "start_time": "2023-04-20T16:28:06.907Z"
   },
   {
    "duration": 784,
    "start_time": "2023-04-20T16:28:46.191Z"
   },
   {
    "duration": 1799,
    "start_time": "2023-04-20T16:29:21.710Z"
   },
   {
    "duration": 1802,
    "start_time": "2023-04-20T16:29:42.645Z"
   },
   {
    "duration": 1937,
    "start_time": "2023-04-20T16:29:49.391Z"
   },
   {
    "duration": 2285,
    "start_time": "2023-04-20T16:30:29.328Z"
   },
   {
    "duration": 2077,
    "start_time": "2023-04-20T16:30:31.616Z"
   },
   {
    "duration": 63,
    "start_time": "2023-04-20T16:30:33.696Z"
   },
   {
    "duration": 14,
    "start_time": "2023-04-20T16:30:33.761Z"
   },
   {
    "duration": 5,
    "start_time": "2023-04-20T16:30:33.778Z"
   },
   {
    "duration": 7,
    "start_time": "2023-04-20T16:30:33.785Z"
   },
   {
    "duration": 13,
    "start_time": "2023-04-20T16:30:33.794Z"
   },
   {
    "duration": 9,
    "start_time": "2023-04-20T16:30:33.809Z"
   },
   {
    "duration": 276,
    "start_time": "2023-04-20T16:30:33.820Z"
   },
   {
    "duration": 10,
    "start_time": "2023-04-20T16:30:34.098Z"
   },
   {
    "duration": 772,
    "start_time": "2023-04-20T16:30:34.111Z"
   },
   {
    "duration": 170,
    "start_time": "2023-04-20T16:30:34.890Z"
   },
   {
    "duration": 5,
    "start_time": "2023-04-20T16:30:35.062Z"
   },
   {
    "duration": 696,
    "start_time": "2023-04-20T16:30:35.072Z"
   },
   {
    "duration": 339,
    "start_time": "2023-04-20T16:30:35.769Z"
   },
   {
    "duration": 4,
    "start_time": "2023-04-20T16:30:36.110Z"
   },
   {
    "duration": 21,
    "start_time": "2023-04-20T16:30:36.116Z"
   },
   {
    "duration": 46,
    "start_time": "2023-04-20T16:30:36.138Z"
   },
   {
    "duration": 12,
    "start_time": "2023-04-20T16:30:36.186Z"
   },
   {
    "duration": 6,
    "start_time": "2023-04-20T16:30:36.200Z"
   },
   {
    "duration": 391,
    "start_time": "2023-04-20T16:30:36.208Z"
   },
   {
    "duration": 5,
    "start_time": "2023-04-20T16:30:36.691Z"
   },
   {
    "duration": 98693,
    "start_time": "2023-04-20T16:30:36.698Z"
   },
   {
    "duration": 4,
    "start_time": "2023-04-20T16:32:15.393Z"
   },
   {
    "duration": 6,
    "start_time": "2023-04-20T16:32:15.399Z"
   },
   {
    "duration": 5,
    "start_time": "2023-04-20T16:32:15.407Z"
   },
   {
    "duration": 16,
    "start_time": "2023-04-20T16:32:15.414Z"
   },
   {
    "duration": 8,
    "start_time": "2023-04-20T16:32:15.432Z"
   },
   {
    "duration": 6,
    "start_time": "2023-04-20T16:32:15.442Z"
   },
   {
    "duration": 8,
    "start_time": "2023-04-20T16:32:15.450Z"
   },
   {
    "duration": 12,
    "start_time": "2023-04-20T16:32:15.488Z"
   },
   {
    "duration": 17,
    "start_time": "2023-04-20T16:32:15.502Z"
   },
   {
    "duration": 23,
    "start_time": "2023-04-20T16:32:15.521Z"
   },
   {
    "duration": 14,
    "start_time": "2023-04-20T16:32:15.546Z"
   },
   {
    "duration": 53728,
    "start_time": "2023-04-20T16:32:15.562Z"
   },
   {
    "duration": 4,
    "start_time": "2023-04-20T16:33:09.292Z"
   },
   {
    "duration": 5,
    "start_time": "2023-04-20T16:33:09.298Z"
   },
   {
    "duration": 4,
    "start_time": "2023-04-20T16:33:09.305Z"
   },
   {
    "duration": 1781,
    "start_time": "2023-04-20T16:33:09.311Z"
   },
   {
    "duration": 5,
    "start_time": "2023-04-20T16:33:11.093Z"
   },
   {
    "duration": 7,
    "start_time": "2023-04-20T16:33:11.102Z"
   },
   {
    "duration": 201,
    "start_time": "2023-04-20T16:33:11.111Z"
   },
   {
    "duration": 81,
    "start_time": "2023-04-20T16:33:11.313Z"
   },
   {
    "duration": 194,
    "start_time": "2023-04-20T16:33:11.395Z"
   },
   {
    "duration": 8,
    "start_time": "2023-04-20T16:33:11.591Z"
   },
   {
    "duration": 268,
    "start_time": "2023-04-20T16:33:11.602Z"
   },
   {
    "duration": 9,
    "start_time": "2023-04-20T16:36:31.687Z"
   },
   {
    "duration": 3219,
    "start_time": "2023-04-22T03:39:53.189Z"
   },
   {
    "duration": 2197,
    "start_time": "2023-04-22T03:39:56.410Z"
   },
   {
    "duration": 108,
    "start_time": "2023-04-22T03:39:58.609Z"
   },
   {
    "duration": 10,
    "start_time": "2023-04-22T03:39:58.718Z"
   },
   {
    "duration": 3,
    "start_time": "2023-04-22T03:39:58.731Z"
   },
   {
    "duration": 20,
    "start_time": "2023-04-22T03:39:58.735Z"
   },
   {
    "duration": 24,
    "start_time": "2023-04-22T03:39:58.757Z"
   },
   {
    "duration": 7,
    "start_time": "2023-04-22T03:39:58.782Z"
   },
   {
    "duration": 201,
    "start_time": "2023-04-22T03:39:58.791Z"
   },
   {
    "duration": 13,
    "start_time": "2023-04-22T03:39:58.994Z"
   },
   {
    "duration": 684,
    "start_time": "2023-04-22T03:39:59.009Z"
   },
   {
    "duration": 133,
    "start_time": "2023-04-22T03:39:59.695Z"
   },
   {
    "duration": 3,
    "start_time": "2023-04-22T03:39:59.834Z"
   },
   {
    "duration": 553,
    "start_time": "2023-04-22T03:39:59.839Z"
   },
   {
    "duration": 335,
    "start_time": "2023-04-22T03:40:00.394Z"
   },
   {
    "duration": 4,
    "start_time": "2023-04-22T03:40:00.734Z"
   },
   {
    "duration": 52,
    "start_time": "2023-04-22T03:40:00.740Z"
   },
   {
    "duration": 11,
    "start_time": "2023-04-22T03:40:00.794Z"
   },
   {
    "duration": 28,
    "start_time": "2023-04-22T03:40:00.806Z"
   },
   {
    "duration": 1001,
    "start_time": "2023-04-22T03:40:00.836Z"
   },
   {
    "duration": 3,
    "start_time": "2023-04-22T03:40:01.839Z"
   },
   {
    "duration": 87731,
    "start_time": "2023-04-22T03:40:01.843Z"
   },
   {
    "duration": 4,
    "start_time": "2023-04-22T03:41:29.576Z"
   },
   {
    "duration": 7,
    "start_time": "2023-04-22T03:41:29.581Z"
   },
   {
    "duration": 9,
    "start_time": "2023-04-22T03:41:29.589Z"
   },
   {
    "duration": 7,
    "start_time": "2023-04-22T03:41:29.600Z"
   },
   {
    "duration": 28,
    "start_time": "2023-04-22T03:41:29.609Z"
   },
   {
    "duration": 4,
    "start_time": "2023-04-22T03:41:29.638Z"
   },
   {
    "duration": 19,
    "start_time": "2023-04-22T03:41:29.644Z"
   },
   {
    "duration": 8,
    "start_time": "2023-04-22T03:41:29.664Z"
   },
   {
    "duration": 28,
    "start_time": "2023-04-22T03:41:29.673Z"
   },
   {
    "duration": 3,
    "start_time": "2023-04-22T03:41:29.703Z"
   },
   {
    "duration": 5,
    "start_time": "2023-04-22T03:41:29.708Z"
   },
   {
    "duration": 40255,
    "start_time": "2023-04-22T03:41:29.714Z"
   },
   {
    "duration": 3,
    "start_time": "2023-04-22T03:42:09.970Z"
   },
   {
    "duration": 6,
    "start_time": "2023-04-22T03:42:09.975Z"
   },
   {
    "duration": 52,
    "start_time": "2023-04-22T03:42:09.983Z"
   },
   {
    "duration": 1561,
    "start_time": "2023-04-22T03:42:10.036Z"
   },
   {
    "duration": 4,
    "start_time": "2023-04-22T03:42:11.599Z"
   },
   {
    "duration": 7,
    "start_time": "2023-04-22T03:42:11.604Z"
   },
   {
    "duration": 156,
    "start_time": "2023-04-22T03:42:11.615Z"
   },
   {
    "duration": 3280,
    "start_time": "2023-04-23T02:50:55.579Z"
   },
   {
    "duration": 2003,
    "start_time": "2023-04-23T02:50:58.861Z"
   },
   {
    "duration": 112,
    "start_time": "2023-04-23T02:51:00.865Z"
   },
   {
    "duration": 9,
    "start_time": "2023-04-23T02:51:00.979Z"
   },
   {
    "duration": 31,
    "start_time": "2023-04-23T02:51:00.990Z"
   },
   {
    "duration": 29,
    "start_time": "2023-04-23T02:51:01.023Z"
   },
   {
    "duration": 33,
    "start_time": "2023-04-23T02:51:01.053Z"
   },
   {
    "duration": 26,
    "start_time": "2023-04-23T02:51:01.087Z"
   },
   {
    "duration": 241,
    "start_time": "2023-04-23T02:51:01.115Z"
   },
   {
    "duration": 8,
    "start_time": "2023-04-23T02:51:01.358Z"
   },
   {
    "duration": 669,
    "start_time": "2023-04-23T02:51:01.368Z"
   },
   {
    "duration": 130,
    "start_time": "2023-04-23T02:51:02.038Z"
   },
   {
    "duration": 3,
    "start_time": "2023-04-23T02:51:02.170Z"
   },
   {
    "duration": 541,
    "start_time": "2023-04-23T02:51:02.176Z"
   },
   {
    "duration": 276,
    "start_time": "2023-04-23T02:51:02.718Z"
   },
   {
    "duration": 4,
    "start_time": "2023-04-23T02:51:02.995Z"
   },
   {
    "duration": 39,
    "start_time": "2023-04-23T02:51:03.000Z"
   },
   {
    "duration": 11,
    "start_time": "2023-04-23T02:51:03.040Z"
   },
   {
    "duration": 8,
    "start_time": "2023-04-23T02:51:03.052Z"
   },
   {
    "duration": 382,
    "start_time": "2023-04-23T02:51:03.061Z"
   },
   {
    "duration": 4,
    "start_time": "2023-04-23T02:51:03.538Z"
   },
   {
    "duration": 84812,
    "start_time": "2023-04-23T02:51:03.544Z"
   },
   {
    "duration": 4,
    "start_time": "2023-04-23T02:52:28.357Z"
   },
   {
    "duration": 12,
    "start_time": "2023-04-23T02:52:28.362Z"
   },
   {
    "duration": 8,
    "start_time": "2023-04-23T02:52:28.376Z"
   },
   {
    "duration": 24,
    "start_time": "2023-04-23T02:52:28.385Z"
   },
   {
    "duration": 13,
    "start_time": "2023-04-23T02:52:28.410Z"
   },
   {
    "duration": 7,
    "start_time": "2023-04-23T02:52:28.424Z"
   },
   {
    "duration": 12,
    "start_time": "2023-04-23T02:52:28.432Z"
   },
   {
    "duration": 9,
    "start_time": "2023-04-23T02:52:28.445Z"
   },
   {
    "duration": 7,
    "start_time": "2023-04-23T02:52:28.455Z"
   },
   {
    "duration": 5,
    "start_time": "2023-04-23T02:52:28.463Z"
   },
   {
    "duration": 5,
    "start_time": "2023-04-23T02:52:28.469Z"
   },
   {
    "duration": 39170,
    "start_time": "2023-04-23T02:52:28.475Z"
   },
   {
    "duration": 3,
    "start_time": "2023-04-23T02:53:07.646Z"
   },
   {
    "duration": 14,
    "start_time": "2023-04-23T02:53:07.651Z"
   },
   {
    "duration": 10,
    "start_time": "2023-04-23T02:53:07.666Z"
   },
   {
    "duration": 1418,
    "start_time": "2023-04-23T02:53:07.677Z"
   },
   {
    "duration": 4,
    "start_time": "2023-04-23T02:53:09.096Z"
   },
   {
    "duration": 8,
    "start_time": "2023-04-23T02:53:09.101Z"
   },
   {
    "duration": 145,
    "start_time": "2023-04-23T02:53:09.112Z"
   },
   {
    "duration": 3,
    "start_time": "2023-04-23T02:55:41.045Z"
   },
   {
    "duration": 2280,
    "start_time": "2023-04-23T02:55:42.456Z"
   },
   {
    "duration": 3,
    "start_time": "2023-04-23T02:55:52.290Z"
   },
   {
    "duration": 4,
    "start_time": "2023-04-23T02:55:53.069Z"
   },
   {
    "duration": 145,
    "start_time": "2023-04-23T02:55:56.983Z"
   }
  ],
  "kernelspec": {
   "display_name": "Python 3 (ipykernel)",
   "language": "python",
   "name": "python3"
  },
  "language_info": {
   "codemirror_mode": {
    "name": "ipython",
    "version": 3
   },
   "file_extension": ".py",
   "mimetype": "text/x-python",
   "name": "python",
   "nbconvert_exporter": "python",
   "pygments_lexer": "ipython3",
   "version": "3.9.12"
  },
  "toc": {
   "base_numbering": 1,
   "nav_menu": {},
   "number_sections": true,
   "sideBar": true,
   "skip_h1_title": true,
   "title_cell": "Содержание",
   "title_sidebar": "Contents",
   "toc_cell": true,
   "toc_position": {
    "height": "calc(100% - 180px)",
    "left": "10px",
    "top": "150px",
    "width": "165px"
   },
   "toc_section_display": true,
   "toc_window_display": true
  }
 },
 "nbformat": 4,
 "nbformat_minor": 2
}
